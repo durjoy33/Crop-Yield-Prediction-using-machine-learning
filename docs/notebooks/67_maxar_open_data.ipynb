{
  "cells": [
    {
      "cell_type": "markdown",
      "id": "0",
      "metadata": {
        "id": "0"
      },
      "source": [
        "[![image](https://jupyterlite.rtfd.io/en/latest/_static/badge.svg)](https://demo.leafmap.org/lab/index.html?path=notebooks/67_maxar_open_data.ipynb)\n",
        "[![image](https://colab.research.google.com/assets/colab-badge.svg)](https://colab.research.google.com/github/opengeos/leafmap/blob/master/docs/notebooks/67_maxar_open_data.ipynb)\n",
        "[![image](https://mybinder.org/badge_logo.svg)](https://mybinder.org/v2/gh/opengeos/leafmap/HEAD)\n",
        "\n",
        "**Visualizing Maxar Open Data with Leafmap**\n",
        "\n",
        "\n",
        "The [Maxar Open Data Program](https://www.maxar.com/open-data) provides pre- and post-event high-resolution satellite imagery in support of emergency planning, risk assessment, monitoring of staging areas and emergency response, damage assessment, and recovery. Check out the links below for more information.\n",
        "- [Maxar Open Data Program](https://www.maxar.com/open-data)\n",
        "- [Maxar Open Data on AWS](https://registry.opendata.aws/maxar-open-data/)\n",
        "- [Maxar Open Data on STAC Index](https://stacindex.org/catalogs/maxar-open-data-catalog-ard-format#/)\n",
        "- [Maxar Open Data on STAC Browser](https://radiantearth.github.io/stac-browser/#/external/maxar-opendata.s3.amazonaws.com/events/catalog.json?.language=en)\n",
        "\n",
        "The Maxar Open Data STAC catalog URL is: https://maxar-opendata.s3.amazonaws.com/events/catalog.json"
      ]
    },
    {
      "cell_type": "code",
      "execution_count": 1,
      "id": "1",
      "metadata": {
        "colab": {
          "base_uri": "https://localhost:8080/"
        },
        "id": "1",
        "outputId": "0c61bbba-2cc9-42f4-aed2-e59fdade33e4"
      },
      "outputs": [
        {
          "output_type": "stream",
          "name": "stdout",
          "text": [
            "Collecting leafmap\n",
            "  Downloading leafmap-0.42.7-py2.py3-none-any.whl.metadata (16 kB)\n",
            "Collecting anywidget (from leafmap)\n",
            "  Downloading anywidget-0.9.13-py3-none-any.whl.metadata (7.2 kB)\n",
            "Requirement already satisfied: bqplot in /usr/local/lib/python3.11/dist-packages (from leafmap) (0.12.44)\n",
            "Requirement already satisfied: colour in /usr/local/lib/python3.11/dist-packages (from leafmap) (0.1.5)\n",
            "Requirement already satisfied: duckdb in /usr/local/lib/python3.11/dist-packages (from leafmap) (1.1.3)\n",
            "Requirement already satisfied: folium in /usr/local/lib/python3.11/dist-packages (from leafmap) (0.19.4)\n",
            "Requirement already satisfied: gdown in /usr/local/lib/python3.11/dist-packages (from leafmap) (5.2.0)\n",
            "Collecting geojson (from leafmap)\n",
            "  Downloading geojson-3.2.0-py3-none-any.whl.metadata (16 kB)\n",
            "Requirement already satisfied: ipyevents in /usr/local/lib/python3.11/dist-packages (from leafmap) (2.0.2)\n",
            "Requirement already satisfied: ipyfilechooser in /usr/local/lib/python3.11/dist-packages (from leafmap) (0.6.0)\n",
            "Requirement already satisfied: ipyleaflet in /usr/local/lib/python3.11/dist-packages (from leafmap) (0.19.2)\n",
            "Collecting ipyvuetify (from leafmap)\n",
            "  Downloading ipyvuetify-1.10.0-py2.py3-none-any.whl.metadata (7.5 kB)\n",
            "Requirement already satisfied: ipywidgets in /usr/local/lib/python3.11/dist-packages (from leafmap) (7.7.1)\n",
            "Requirement already satisfied: matplotlib in /usr/local/lib/python3.11/dist-packages (from leafmap) (3.10.0)\n",
            "Requirement already satisfied: numpy in /usr/local/lib/python3.11/dist-packages (from leafmap) (1.26.4)\n",
            "Requirement already satisfied: pandas in /usr/local/lib/python3.11/dist-packages (from leafmap) (2.2.2)\n",
            "Requirement already satisfied: plotly in /usr/local/lib/python3.11/dist-packages (from leafmap) (5.24.1)\n",
            "Requirement already satisfied: psutil in /usr/local/lib/python3.11/dist-packages (from leafmap) (5.9.5)\n",
            "Requirement already satisfied: pyshp in /usr/local/lib/python3.11/dist-packages (from leafmap) (2.3.1)\n",
            "Collecting pystac-client (from leafmap)\n",
            "  Downloading pystac_client-0.8.5-py3-none-any.whl.metadata (5.1 kB)\n",
            "Requirement already satisfied: python-box in /usr/local/lib/python3.11/dist-packages (from leafmap) (7.3.0)\n",
            "Requirement already satisfied: scooby in /usr/local/lib/python3.11/dist-packages (from leafmap) (0.10.0)\n",
            "Collecting whiteboxgui (from leafmap)\n",
            "  Downloading whiteboxgui-2.3.0-py2.py3-none-any.whl.metadata (5.7 kB)\n",
            "Requirement already satisfied: xyzservices in /usr/local/lib/python3.11/dist-packages (from leafmap) (2024.9.0)\n",
            "Collecting psygnal>=0.8.1 (from anywidget->leafmap)\n",
            "  Downloading psygnal-0.11.1-cp311-cp311-manylinux_2_17_x86_64.manylinux2014_x86_64.whl.metadata (7.2 kB)\n",
            "Requirement already satisfied: typing-extensions>=4.2.0 in /usr/local/lib/python3.11/dist-packages (from anywidget->leafmap) (4.12.2)\n",
            "Requirement already satisfied: ipykernel>=4.5.1 in /usr/local/lib/python3.11/dist-packages (from ipywidgets->leafmap) (5.5.6)\n",
            "Requirement already satisfied: ipython-genutils~=0.2.0 in /usr/local/lib/python3.11/dist-packages (from ipywidgets->leafmap) (0.2.0)\n",
            "Requirement already satisfied: traitlets>=4.3.1 in /usr/local/lib/python3.11/dist-packages (from ipywidgets->leafmap) (5.7.1)\n",
            "Requirement already satisfied: widgetsnbextension~=3.6.0 in /usr/local/lib/python3.11/dist-packages (from ipywidgets->leafmap) (3.6.10)\n",
            "Requirement already satisfied: ipython>=4.0.0 in /usr/local/lib/python3.11/dist-packages (from ipywidgets->leafmap) (7.34.0)\n",
            "Requirement already satisfied: jupyterlab-widgets>=1.0.0 in /usr/local/lib/python3.11/dist-packages (from ipywidgets->leafmap) (3.0.13)\n",
            "Requirement already satisfied: traittypes>=0.0.6 in /usr/local/lib/python3.11/dist-packages (from bqplot->leafmap) (0.2.1)\n",
            "Requirement already satisfied: python-dateutil>=2.8.2 in /usr/local/lib/python3.11/dist-packages (from pandas->leafmap) (2.8.2)\n",
            "Requirement already satisfied: pytz>=2020.1 in /usr/local/lib/python3.11/dist-packages (from pandas->leafmap) (2024.2)\n",
            "Requirement already satisfied: tzdata>=2022.7 in /usr/local/lib/python3.11/dist-packages (from pandas->leafmap) (2024.2)\n",
            "Requirement already satisfied: branca>=0.6.0 in /usr/local/lib/python3.11/dist-packages (from folium->leafmap) (0.8.1)\n",
            "Requirement already satisfied: jinja2>=2.9 in /usr/local/lib/python3.11/dist-packages (from folium->leafmap) (3.1.5)\n",
            "Requirement already satisfied: requests in /usr/local/lib/python3.11/dist-packages (from folium->leafmap) (2.32.3)\n",
            "Requirement already satisfied: beautifulsoup4 in /usr/local/lib/python3.11/dist-packages (from gdown->leafmap) (4.12.3)\n",
            "Requirement already satisfied: filelock in /usr/local/lib/python3.11/dist-packages (from gdown->leafmap) (3.16.1)\n",
            "Requirement already satisfied: tqdm in /usr/local/lib/python3.11/dist-packages (from gdown->leafmap) (4.67.1)\n",
            "Requirement already satisfied: jupyter-leaflet<0.20,>=0.19 in /usr/local/lib/python3.11/dist-packages (from ipyleaflet->leafmap) (0.19.2)\n",
            "Collecting ipyvue<2,>=1.7 (from ipyvuetify->leafmap)\n",
            "  Downloading ipyvue-1.11.2-py2.py3-none-any.whl.metadata (1.1 kB)\n",
            "Requirement already satisfied: contourpy>=1.0.1 in /usr/local/lib/python3.11/dist-packages (from matplotlib->leafmap) (1.3.1)\n",
            "Requirement already satisfied: cycler>=0.10 in /usr/local/lib/python3.11/dist-packages (from matplotlib->leafmap) (0.12.1)\n",
            "Requirement already satisfied: fonttools>=4.22.0 in /usr/local/lib/python3.11/dist-packages (from matplotlib->leafmap) (4.55.3)\n",
            "Requirement already satisfied: kiwisolver>=1.3.1 in /usr/local/lib/python3.11/dist-packages (from matplotlib->leafmap) (1.4.8)\n",
            "Requirement already satisfied: packaging>=20.0 in /usr/local/lib/python3.11/dist-packages (from matplotlib->leafmap) (24.2)\n",
            "Requirement already satisfied: pillow>=8 in /usr/local/lib/python3.11/dist-packages (from matplotlib->leafmap) (11.1.0)\n",
            "Requirement already satisfied: pyparsing>=2.3.1 in /usr/local/lib/python3.11/dist-packages (from matplotlib->leafmap) (3.2.1)\n",
            "Requirement already satisfied: tenacity>=6.2.0 in /usr/local/lib/python3.11/dist-packages (from plotly->leafmap) (9.0.0)\n",
            "Collecting pystac>=1.10.0 (from pystac[validation]>=1.10.0->pystac-client->leafmap)\n",
            "  Downloading pystac-1.11.0-py3-none-any.whl.metadata (4.5 kB)\n",
            "Requirement already satisfied: ipytree in /usr/local/lib/python3.11/dist-packages (from whiteboxgui->leafmap) (0.2.2)\n",
            "Collecting whitebox (from whiteboxgui->leafmap)\n",
            "  Downloading whitebox-2.3.5-py2.py3-none-any.whl.metadata (10 kB)\n",
            "Requirement already satisfied: jupyter-client in /usr/local/lib/python3.11/dist-packages (from ipykernel>=4.5.1->ipywidgets->leafmap) (6.1.12)\n",
            "Requirement already satisfied: tornado>=4.2 in /usr/local/lib/python3.11/dist-packages (from ipykernel>=4.5.1->ipywidgets->leafmap) (6.3.3)\n",
            "Requirement already satisfied: setuptools>=18.5 in /usr/local/lib/python3.11/dist-packages (from ipython>=4.0.0->ipywidgets->leafmap) (75.1.0)\n",
            "Collecting jedi>=0.16 (from ipython>=4.0.0->ipywidgets->leafmap)\n",
            "  Downloading jedi-0.19.2-py2.py3-none-any.whl.metadata (22 kB)\n",
            "Requirement already satisfied: decorator in /usr/local/lib/python3.11/dist-packages (from ipython>=4.0.0->ipywidgets->leafmap) (4.4.2)\n",
            "Requirement already satisfied: pickleshare in /usr/local/lib/python3.11/dist-packages (from ipython>=4.0.0->ipywidgets->leafmap) (0.7.5)\n",
            "Requirement already satisfied: prompt-toolkit!=3.0.0,!=3.0.1,<3.1.0,>=2.0.0 in /usr/local/lib/python3.11/dist-packages (from ipython>=4.0.0->ipywidgets->leafmap) (3.0.48)\n",
            "Requirement already satisfied: pygments in /usr/local/lib/python3.11/dist-packages (from ipython>=4.0.0->ipywidgets->leafmap) (2.18.0)\n",
            "Requirement already satisfied: backcall in /usr/local/lib/python3.11/dist-packages (from ipython>=4.0.0->ipywidgets->leafmap) (0.2.0)\n",
            "Requirement already satisfied: matplotlib-inline in /usr/local/lib/python3.11/dist-packages (from ipython>=4.0.0->ipywidgets->leafmap) (0.1.7)\n",
            "Requirement already satisfied: pexpect>4.3 in /usr/local/lib/python3.11/dist-packages (from ipython>=4.0.0->ipywidgets->leafmap) (4.9.0)\n",
            "Requirement already satisfied: MarkupSafe>=2.0 in /usr/local/lib/python3.11/dist-packages (from jinja2>=2.9->folium->leafmap) (3.0.2)\n",
            "Requirement already satisfied: jsonschema~=4.18 in /usr/local/lib/python3.11/dist-packages (from pystac[validation]>=1.10.0->pystac-client->leafmap) (4.23.0)\n",
            "Requirement already satisfied: six>=1.5 in /usr/local/lib/python3.11/dist-packages (from python-dateutil>=2.8.2->pandas->leafmap) (1.17.0)\n",
            "Requirement already satisfied: charset-normalizer<4,>=2 in /usr/local/lib/python3.11/dist-packages (from requests->folium->leafmap) (3.4.1)\n",
            "Requirement already satisfied: idna<4,>=2.5 in /usr/local/lib/python3.11/dist-packages (from requests->folium->leafmap) (3.10)\n",
            "Requirement already satisfied: urllib3<3,>=1.21.1 in /usr/local/lib/python3.11/dist-packages (from requests->folium->leafmap) (2.3.0)\n",
            "Requirement already satisfied: certifi>=2017.4.17 in /usr/local/lib/python3.11/dist-packages (from requests->folium->leafmap) (2024.12.14)\n",
            "Requirement already satisfied: notebook>=4.4.1 in /usr/local/lib/python3.11/dist-packages (from widgetsnbextension~=3.6.0->ipywidgets->leafmap) (6.5.5)\n",
            "Requirement already satisfied: soupsieve>1.2 in /usr/local/lib/python3.11/dist-packages (from beautifulsoup4->gdown->leafmap) (2.6)\n",
            "Requirement already satisfied: PySocks!=1.5.7,>=1.5.6 in /usr/local/lib/python3.11/dist-packages (from requests[socks]->gdown->leafmap) (1.7.1)\n",
            "Requirement already satisfied: Click>=6.0 in /usr/local/lib/python3.11/dist-packages (from whitebox->whiteboxgui->leafmap) (8.1.8)\n",
            "Requirement already satisfied: parso<0.9.0,>=0.8.4 in /usr/local/lib/python3.11/dist-packages (from jedi>=0.16->ipython>=4.0.0->ipywidgets->leafmap) (0.8.4)\n",
            "Requirement already satisfied: attrs>=22.2.0 in /usr/local/lib/python3.11/dist-packages (from jsonschema~=4.18->pystac[validation]>=1.10.0->pystac-client->leafmap) (24.3.0)\n",
            "Requirement already satisfied: jsonschema-specifications>=2023.03.6 in /usr/local/lib/python3.11/dist-packages (from jsonschema~=4.18->pystac[validation]>=1.10.0->pystac-client->leafmap) (2024.10.1)\n",
            "Requirement already satisfied: referencing>=0.28.4 in /usr/local/lib/python3.11/dist-packages (from jsonschema~=4.18->pystac[validation]>=1.10.0->pystac-client->leafmap) (0.35.1)\n",
            "Requirement already satisfied: rpds-py>=0.7.1 in /usr/local/lib/python3.11/dist-packages (from jsonschema~=4.18->pystac[validation]>=1.10.0->pystac-client->leafmap) (0.22.3)\n",
            "Requirement already satisfied: pyzmq<25,>=17 in /usr/local/lib/python3.11/dist-packages (from notebook>=4.4.1->widgetsnbextension~=3.6.0->ipywidgets->leafmap) (24.0.1)\n",
            "Requirement already satisfied: argon2-cffi in /usr/local/lib/python3.11/dist-packages (from notebook>=4.4.1->widgetsnbextension~=3.6.0->ipywidgets->leafmap) (23.1.0)\n",
            "Requirement already satisfied: jupyter-core>=4.6.1 in /usr/local/lib/python3.11/dist-packages (from notebook>=4.4.1->widgetsnbextension~=3.6.0->ipywidgets->leafmap) (5.7.2)\n",
            "Requirement already satisfied: nbformat in /usr/local/lib/python3.11/dist-packages (from notebook>=4.4.1->widgetsnbextension~=3.6.0->ipywidgets->leafmap) (5.10.4)\n",
            "Requirement already satisfied: nbconvert>=5 in /usr/local/lib/python3.11/dist-packages (from notebook>=4.4.1->widgetsnbextension~=3.6.0->ipywidgets->leafmap) (7.16.5)\n",
            "Requirement already satisfied: nest-asyncio>=1.5 in /usr/local/lib/python3.11/dist-packages (from notebook>=4.4.1->widgetsnbextension~=3.6.0->ipywidgets->leafmap) (1.6.0)\n",
            "Requirement already satisfied: Send2Trash>=1.8.0 in /usr/local/lib/python3.11/dist-packages (from notebook>=4.4.1->widgetsnbextension~=3.6.0->ipywidgets->leafmap) (1.8.3)\n",
            "Requirement already satisfied: terminado>=0.8.3 in /usr/local/lib/python3.11/dist-packages (from notebook>=4.4.1->widgetsnbextension~=3.6.0->ipywidgets->leafmap) (0.18.1)\n",
            "Requirement already satisfied: prometheus-client in /usr/local/lib/python3.11/dist-packages (from notebook>=4.4.1->widgetsnbextension~=3.6.0->ipywidgets->leafmap) (0.21.1)\n",
            "Requirement already satisfied: nbclassic>=0.4.7 in /usr/local/lib/python3.11/dist-packages (from notebook>=4.4.1->widgetsnbextension~=3.6.0->ipywidgets->leafmap) (1.1.0)\n",
            "Requirement already satisfied: ptyprocess>=0.5 in /usr/local/lib/python3.11/dist-packages (from pexpect>4.3->ipython>=4.0.0->ipywidgets->leafmap) (0.7.0)\n",
            "Requirement already satisfied: wcwidth in /usr/local/lib/python3.11/dist-packages (from prompt-toolkit!=3.0.0,!=3.0.1,<3.1.0,>=2.0.0->ipython>=4.0.0->ipywidgets->leafmap) (0.2.13)\n",
            "Requirement already satisfied: platformdirs>=2.5 in /usr/local/lib/python3.11/dist-packages (from jupyter-core>=4.6.1->notebook>=4.4.1->widgetsnbextension~=3.6.0->ipywidgets->leafmap) (4.3.6)\n",
            "Requirement already satisfied: notebook-shim>=0.2.3 in /usr/local/lib/python3.11/dist-packages (from nbclassic>=0.4.7->notebook>=4.4.1->widgetsnbextension~=3.6.0->ipywidgets->leafmap) (0.2.4)\n",
            "Requirement already satisfied: bleach!=5.0.0 in /usr/local/lib/python3.11/dist-packages (from bleach[css]!=5.0.0->nbconvert>=5->notebook>=4.4.1->widgetsnbextension~=3.6.0->ipywidgets->leafmap) (6.2.0)\n",
            "Requirement already satisfied: defusedxml in /usr/local/lib/python3.11/dist-packages (from nbconvert>=5->notebook>=4.4.1->widgetsnbextension~=3.6.0->ipywidgets->leafmap) (0.7.1)\n",
            "Requirement already satisfied: jupyterlab-pygments in /usr/local/lib/python3.11/dist-packages (from nbconvert>=5->notebook>=4.4.1->widgetsnbextension~=3.6.0->ipywidgets->leafmap) (0.3.0)\n",
            "Requirement already satisfied: mistune<4,>=2.0.3 in /usr/local/lib/python3.11/dist-packages (from nbconvert>=5->notebook>=4.4.1->widgetsnbextension~=3.6.0->ipywidgets->leafmap) (3.1.0)\n",
            "Requirement already satisfied: nbclient>=0.5.0 in /usr/local/lib/python3.11/dist-packages (from nbconvert>=5->notebook>=4.4.1->widgetsnbextension~=3.6.0->ipywidgets->leafmap) (0.10.2)\n",
            "Requirement already satisfied: pandocfilters>=1.4.1 in /usr/local/lib/python3.11/dist-packages (from nbconvert>=5->notebook>=4.4.1->widgetsnbextension~=3.6.0->ipywidgets->leafmap) (1.5.1)\n",
            "Requirement already satisfied: fastjsonschema>=2.15 in /usr/local/lib/python3.11/dist-packages (from nbformat->notebook>=4.4.1->widgetsnbextension~=3.6.0->ipywidgets->leafmap) (2.21.1)\n",
            "Requirement already satisfied: argon2-cffi-bindings in /usr/local/lib/python3.11/dist-packages (from argon2-cffi->notebook>=4.4.1->widgetsnbextension~=3.6.0->ipywidgets->leafmap) (21.2.0)\n",
            "Requirement already satisfied: webencodings in /usr/local/lib/python3.11/dist-packages (from bleach!=5.0.0->bleach[css]!=5.0.0->nbconvert>=5->notebook>=4.4.1->widgetsnbextension~=3.6.0->ipywidgets->leafmap) (0.5.1)\n",
            "Requirement already satisfied: tinycss2<1.5,>=1.1.0 in /usr/local/lib/python3.11/dist-packages (from bleach[css]!=5.0.0->nbconvert>=5->notebook>=4.4.1->widgetsnbextension~=3.6.0->ipywidgets->leafmap) (1.4.0)\n",
            "Requirement already satisfied: jupyter-server<3,>=1.8 in /usr/local/lib/python3.11/dist-packages (from notebook-shim>=0.2.3->nbclassic>=0.4.7->notebook>=4.4.1->widgetsnbextension~=3.6.0->ipywidgets->leafmap) (1.24.0)\n",
            "Requirement already satisfied: cffi>=1.0.1 in /usr/local/lib/python3.11/dist-packages (from argon2-cffi-bindings->argon2-cffi->notebook>=4.4.1->widgetsnbextension~=3.6.0->ipywidgets->leafmap) (1.17.1)\n",
            "Requirement already satisfied: pycparser in /usr/local/lib/python3.11/dist-packages (from cffi>=1.0.1->argon2-cffi-bindings->argon2-cffi->notebook>=4.4.1->widgetsnbextension~=3.6.0->ipywidgets->leafmap) (2.22)\n",
            "Requirement already satisfied: anyio<4,>=3.1.0 in /usr/local/lib/python3.11/dist-packages (from jupyter-server<3,>=1.8->notebook-shim>=0.2.3->nbclassic>=0.4.7->notebook>=4.4.1->widgetsnbextension~=3.6.0->ipywidgets->leafmap) (3.7.1)\n",
            "Requirement already satisfied: websocket-client in /usr/local/lib/python3.11/dist-packages (from jupyter-server<3,>=1.8->notebook-shim>=0.2.3->nbclassic>=0.4.7->notebook>=4.4.1->widgetsnbextension~=3.6.0->ipywidgets->leafmap) (1.8.0)\n",
            "Requirement already satisfied: sniffio>=1.1 in /usr/local/lib/python3.11/dist-packages (from anyio<4,>=3.1.0->jupyter-server<3,>=1.8->notebook-shim>=0.2.3->nbclassic>=0.4.7->notebook>=4.4.1->widgetsnbextension~=3.6.0->ipywidgets->leafmap) (1.3.1)\n",
            "Downloading leafmap-0.42.7-py2.py3-none-any.whl (513 kB)\n",
            "\u001b[2K   \u001b[90m━━━━━━━━━━━━━━━━━━━━━━━━━━━━━━━━━━━━━━━━\u001b[0m \u001b[32m513.3/513.3 kB\u001b[0m \u001b[31m11.5 MB/s\u001b[0m eta \u001b[36m0:00:00\u001b[0m\n",
            "\u001b[?25hDownloading anywidget-0.9.13-py3-none-any.whl (213 kB)\n",
            "\u001b[2K   \u001b[90m━━━━━━━━━━━━━━━━━━━━━━━━━━━━━━━━━━━━━━━━\u001b[0m \u001b[32m213.7/213.7 kB\u001b[0m \u001b[31m16.0 MB/s\u001b[0m eta \u001b[36m0:00:00\u001b[0m\n",
            "\u001b[?25hDownloading geojson-3.2.0-py3-none-any.whl (15 kB)\n",
            "Downloading ipyvuetify-1.10.0-py2.py3-none-any.whl (6.1 MB)\n",
            "\u001b[2K   \u001b[90m━━━━━━━━━━━━━━━━━━━━━━━━━━━━━━━━━━━━━━━━\u001b[0m \u001b[32m6.1/6.1 MB\u001b[0m \u001b[31m64.2 MB/s\u001b[0m eta \u001b[36m0:00:00\u001b[0m\n",
            "\u001b[?25hDownloading pystac_client-0.8.5-py3-none-any.whl (41 kB)\n",
            "\u001b[2K   \u001b[90m━━━━━━━━━━━━━━━━━━━━━━━━━━━━━━━━━━━━━━━━\u001b[0m \u001b[32m41.9/41.9 kB\u001b[0m \u001b[31m2.3 MB/s\u001b[0m eta \u001b[36m0:00:00\u001b[0m\n",
            "\u001b[?25hDownloading whiteboxgui-2.3.0-py2.py3-none-any.whl (108 kB)\n",
            "\u001b[2K   \u001b[90m━━━━━━━━━━━━━━━━━━━━━━━━━━━━━━━━━━━━━━━━\u001b[0m \u001b[32m108.6/108.6 kB\u001b[0m \u001b[31m8.4 MB/s\u001b[0m eta \u001b[36m0:00:00\u001b[0m\n",
            "\u001b[?25hDownloading ipyvue-1.11.2-py2.py3-none-any.whl (2.7 MB)\n",
            "\u001b[2K   \u001b[90m━━━━━━━━━━━━━━━━━━━━━━━━━━━━━━━━━━━━━━━━\u001b[0m \u001b[32m2.7/2.7 MB\u001b[0m \u001b[31m64.8 MB/s\u001b[0m eta \u001b[36m0:00:00\u001b[0m\n",
            "\u001b[?25hDownloading psygnal-0.11.1-cp311-cp311-manylinux_2_17_x86_64.manylinux2014_x86_64.whl (717 kB)\n",
            "\u001b[2K   \u001b[90m━━━━━━━━━━━━━━━━━━━━━━━━━━━━━━━━━━━━━━━━\u001b[0m \u001b[32m717.6/717.6 kB\u001b[0m \u001b[31m36.0 MB/s\u001b[0m eta \u001b[36m0:00:00\u001b[0m\n",
            "\u001b[?25hDownloading pystac-1.11.0-py3-none-any.whl (183 kB)\n",
            "\u001b[2K   \u001b[90m━━━━━━━━━━━━━━━━━━━━━━━━━━━━━━━━━━━━━━━━\u001b[0m \u001b[32m183.9/183.9 kB\u001b[0m \u001b[31m13.7 MB/s\u001b[0m eta \u001b[36m0:00:00\u001b[0m\n",
            "\u001b[?25hDownloading whitebox-2.3.5-py2.py3-none-any.whl (72 kB)\n",
            "\u001b[2K   \u001b[90m━━━━━━━━━━━━━━━━━━━━━━━━━━━━━━━━━━━━━━━━\u001b[0m \u001b[32m72.4/72.4 kB\u001b[0m \u001b[31m4.5 MB/s\u001b[0m eta \u001b[36m0:00:00\u001b[0m\n",
            "\u001b[?25hDownloading jedi-0.19.2-py2.py3-none-any.whl (1.6 MB)\n",
            "\u001b[2K   \u001b[90m━━━━━━━━━━━━━━━━━━━━━━━━━━━━━━━━━━━━━━━━\u001b[0m \u001b[32m1.6/1.6 MB\u001b[0m \u001b[31m43.3 MB/s\u001b[0m eta \u001b[36m0:00:00\u001b[0m\n",
            "\u001b[?25hInstalling collected packages: whitebox, psygnal, jedi, geojson, pystac, pystac-client, ipyvue, anywidget, whiteboxgui, ipyvuetify, leafmap\n",
            "Successfully installed anywidget-0.9.13 geojson-3.2.0 ipyvue-1.11.2 ipyvuetify-1.10.0 jedi-0.19.2 leafmap-0.42.7 psygnal-0.11.1 pystac-1.11.0 pystac-client-0.8.5 whitebox-2.3.5 whiteboxgui-2.3.0\n"
          ]
        }
      ],
      "source": [
        "!pip install -U leafmap"
      ]
    },
    {
      "cell_type": "code",
      "execution_count": 2,
      "id": "2",
      "metadata": {
        "id": "2"
      },
      "outputs": [],
      "source": [
        "import leafmap"
      ]
    },
    {
      "cell_type": "markdown",
      "id": "3",
      "metadata": {
        "id": "3"
      },
      "source": [
        "Retrieve all collections from the Maxar Open Data STAC catalog. Each collection represents a single event."
      ]
    },
    {
      "cell_type": "code",
      "execution_count": 3,
      "id": "4",
      "metadata": {
        "colab": {
          "base_uri": "https://localhost:8080/"
        },
        "id": "4",
        "outputId": "0f7ff0d6-1a73-4bfb-c876-b7613cf0ab95"
      },
      "outputs": [
        {
          "output_type": "execute_result",
          "data": {
            "text/plain": [
              "['BayofBengal-Cyclone-Mocha-May-23',\n",
              " 'Belize-Wildfires-June24',\n",
              " 'Brazil-Flooding-May24',\n",
              " 'Cyclone-Chido-Dec15',\n",
              " 'Emilia-Romagna-Italy-flooding-may23',\n",
              " 'Floods-Spain-Oct24',\n",
              " 'Gambia-flooding-8-11-2022',\n",
              " 'Hurricane-Fiona-9-19-2022',\n",
              " 'Hurricane-Ian-9-26-2022',\n",
              " 'Hurricane-Idalia-Florida-Aug23',\n",
              " 'HurricaneHelene-Oct24',\n",
              " 'HurricaneMilton-Oct24',\n",
              " 'Iceland-Volcano_Eruption-Dec-2023',\n",
              " 'India-Floods-Oct-2023',\n",
              " 'Indonesia-Earthquake22',\n",
              " 'Japan-Earthquake-Jan-2024',\n",
              " 'Kahramanmaras-turkey-earthquake-23',\n",
              " 'Kalehe-DRC-Flooding-5-8-23',\n",
              " 'Kenya-Flooding-May24',\n",
              " 'Libya-Floods-Sept-2023',\n",
              " 'Marshall-Fire-21-Update',\n",
              " 'Maui-Hawaii-fires-Aug-23',\n",
              " 'McDougallCreekWildfire-BC-Canada-Aug-23',\n",
              " 'Morocco-Earthquake-Sept-2023',\n",
              " 'NWT-Canada-Aug-23',\n",
              " 'Nepal-Earthquake-Apr-2015',\n",
              " 'Nepal-Earthquake-Nov-2023',\n",
              " 'Nepal-Floods-Sept-2024',\n",
              " 'New-Zealand-Flooding23',\n",
              " 'Nigeria-Floods-Sept-2024',\n",
              " 'PNG-Landslide-June24',\n",
              " 'SmokeHouseCreek-Wildfires-Texas-Mar24',\n",
              " 'Sudan-flooding-8-22-2022',\n",
              " 'Vanuatu-Earthquake-Dec17',\n",
              " 'WildFires-LosAngeles-Jan-2025',\n",
              " 'afghanistan-earthquake22',\n",
              " 'cyclone-emnati22',\n",
              " 'ghana-explosion22',\n",
              " 'kentucky-flooding-7-29-2022',\n",
              " 'pakistan-flooding22',\n",
              " 'shovi-georgia-landslide-8Aug23',\n",
              " 'southafrica-flooding22',\n",
              " 'tonga-volcano21',\n",
              " 'volcano-indonesia21',\n",
              " 'yellowstone-flooding22']"
            ]
          },
          "metadata": {},
          "execution_count": 3
        }
      ],
      "source": [
        "leafmap.maxar_collections()"
      ]
    },
    {
      "cell_type": "markdown",
      "id": "5",
      "metadata": {
        "id": "5"
      },
      "source": [
        "Retrieve all collections for a specific event:"
      ]
    },
    {
      "cell_type": "code",
      "execution_count": 4,
      "id": "6",
      "metadata": {
        "colab": {
          "base_uri": "https://localhost:8080/"
        },
        "id": "6",
        "outputId": "face1560-88bb-44c3-b5ee-dd62012f6b73"
      },
      "outputs": [
        {
          "output_type": "stream",
          "name": "stdout",
          "text": [
            "The number of collections: 30\n"
          ]
        }
      ],
      "source": [
        "collections = leafmap.maxar_child_collections(\"WildFires-LosAngeles-Jan-2025\")\n",
        "print(f\"The number of collections: {len(collections)}\")"
      ]
    },
    {
      "cell_type": "code",
      "execution_count": 5,
      "id": "7",
      "metadata": {
        "colab": {
          "base_uri": "https://localhost:8080/"
        },
        "id": "7",
        "outputId": "eb421bcc-17a4-4fe0-be83-dd9788dc8a5d"
      },
      "outputs": [
        {
          "output_type": "execute_result",
          "data": {
            "text/plain": [
              "['103001010A705C00',\n",
              " '103001010B9A1B00',\n",
              " '103001010C360000',\n",
              " '103001010C7D2D00',\n",
              " '104001009C64B300']"
            ]
          },
          "metadata": {},
          "execution_count": 5
        }
      ],
      "source": [
        "collections[:5]"
      ]
    },
    {
      "cell_type": "markdown",
      "id": "8",
      "metadata": {
        "id": "8"
      },
      "source": [
        "Retrieve all items (tiles) for a specific collection and generate the footprints:"
      ]
    },
    {
      "cell_type": "code",
      "execution_count": 6,
      "id": "9",
      "metadata": {
        "colab": {
          "base_uri": "https://localhost:8080/",
          "height": 602
        },
        "id": "9",
        "outputId": "bb35c86e-6a1a-4750-fed2-367c7e5cd6b0"
      },
      "outputs": [
        {
          "output_type": "execute_result",
          "data": {
            "text/plain": [
              "                                            geometry              datetime  \\\n",
              "0  POLYGON ((-118.64728 34.18468, -118.626 34.182...  2025-01-14T18:30:58Z   \n",
              "1  POLYGON ((-118.6294 34.1826, -118.62875 34.148...  2025-01-14T18:30:58Z   \n",
              "2  POLYGON ((-118.57503 34.17626, -118.57453 34.1...  2025-01-14T18:30:58Z   \n",
              "3  POLYGON ((-118.52067 34.17, -118.52031 34.1501...  2025-01-14T18:30:58Z   \n",
              "4  POLYGON ((-118.62541 34.15158, -118.6245 34.10...  2025-01-14T18:30:58Z   \n",
              "\n",
              "  platform   gsd ard_metadata_version        catalog_id  utm_zone  \\\n",
              "0     WV02  0.59                0.0.1  103001010C7D2D00        11   \n",
              "1     WV02  0.59                0.0.1  103001010C7D2D00        11   \n",
              "2     WV02  0.58                0.0.1  103001010C7D2D00        11   \n",
              "3     WV02  0.58                0.0.1  103001010C7D2D00        11   \n",
              "4     WV02  0.58                0.0.1  103001010C7D2D00        11   \n",
              "\n",
              "        quadkey  view:off_nadir  view:azimuth  ...  view:sun_azimuth  \\\n",
              "0  031311102023            28.0         152.7  ...             154.8   \n",
              "1  031311102032            27.9         153.2  ...             154.8   \n",
              "2  031311102033            27.8         153.8  ...             154.8   \n",
              "3  031311102122            27.6         154.4  ...             154.8   \n",
              "4  031311102201            27.7         152.2  ...             154.8   \n",
              "\n",
              "   view:sun_elevation  proj:epsg  \\\n",
              "0                30.7      32611   \n",
              "1                30.7      32611   \n",
              "2                30.7      32611   \n",
              "3                30.7      32611   \n",
              "4                30.7      32611   \n",
              "\n",
              "                                       proj:geometry              grid:code  \\\n",
              "0  {'type': 'Polygon', 'coordinates': [[[350156.2...  MXRA-Z11-031311102023   \n",
              "1  {'type': 'Polygon', 'coordinates': [[[349843.7...  MXRA-Z11-031311102032   \n",
              "2  {'type': 'Polygon', 'coordinates': [[[354843.7...  MXRA-Z11-031311102033   \n",
              "3  {'type': 'Polygon', 'coordinates': [[[359843.7...  MXRA-Z11-031311102122   \n",
              "4  {'type': 'Polygon', 'coordinates': [[[350156.2...  MXRA-Z11-031311102201   \n",
              "\n",
              "                                           proj:bbox tile:data_area  \\\n",
              "0  348187.91462223046,3779843.75,350156.25,378385...            7.5   \n",
              "1   349843.75,3779843.75,355156.25,3783602.294921875           17.7   \n",
              "2  354843.75,3779843.75,360156.25,3782820.1293945312           13.6   \n",
              "3       359843.75,3779843.75,365156.25,3782050.78125            9.5   \n",
              "4  348193.71228735516,3774843.75,350156.25,378015...           10.4   \n",
              "\n",
              "   tile:clouds_area  tile:clouds_percent  \\\n",
              "0               0.0                    0   \n",
              "1               0.0                    0   \n",
              "2               0.0                    0   \n",
              "3               0.0                    0   \n",
              "4               0.0                    0   \n",
              "\n",
              "                                              visual  \n",
              "0  https://maxar-opendata.s3.amazonaws.com/events...  \n",
              "1  https://maxar-opendata.s3.amazonaws.com/events...  \n",
              "2  https://maxar-opendata.s3.amazonaws.com/events...  \n",
              "3  https://maxar-opendata.s3.amazonaws.com/events...  \n",
              "4  https://maxar-opendata.s3.amazonaws.com/events...  \n",
              "\n",
              "[5 rows x 21 columns]"
            ],
            "text/html": [
              "\n",
              "  <div id=\"df-e83e2b36-ad82-4f42-a58d-56faae76fc23\" class=\"colab-df-container\">\n",
              "    <div>\n",
              "<style scoped>\n",
              "    .dataframe tbody tr th:only-of-type {\n",
              "        vertical-align: middle;\n",
              "    }\n",
              "\n",
              "    .dataframe tbody tr th {\n",
              "        vertical-align: top;\n",
              "    }\n",
              "\n",
              "    .dataframe thead th {\n",
              "        text-align: right;\n",
              "    }\n",
              "</style>\n",
              "<table border=\"1\" class=\"dataframe\">\n",
              "  <thead>\n",
              "    <tr style=\"text-align: right;\">\n",
              "      <th></th>\n",
              "      <th>geometry</th>\n",
              "      <th>datetime</th>\n",
              "      <th>platform</th>\n",
              "      <th>gsd</th>\n",
              "      <th>ard_metadata_version</th>\n",
              "      <th>catalog_id</th>\n",
              "      <th>utm_zone</th>\n",
              "      <th>quadkey</th>\n",
              "      <th>view:off_nadir</th>\n",
              "      <th>view:azimuth</th>\n",
              "      <th>...</th>\n",
              "      <th>view:sun_azimuth</th>\n",
              "      <th>view:sun_elevation</th>\n",
              "      <th>proj:epsg</th>\n",
              "      <th>proj:geometry</th>\n",
              "      <th>grid:code</th>\n",
              "      <th>proj:bbox</th>\n",
              "      <th>tile:data_area</th>\n",
              "      <th>tile:clouds_area</th>\n",
              "      <th>tile:clouds_percent</th>\n",
              "      <th>visual</th>\n",
              "    </tr>\n",
              "  </thead>\n",
              "  <tbody>\n",
              "    <tr>\n",
              "      <th>0</th>\n",
              "      <td>POLYGON ((-118.64728 34.18468, -118.626 34.182...</td>\n",
              "      <td>2025-01-14T18:30:58Z</td>\n",
              "      <td>WV02</td>\n",
              "      <td>0.59</td>\n",
              "      <td>0.0.1</td>\n",
              "      <td>103001010C7D2D00</td>\n",
              "      <td>11</td>\n",
              "      <td>031311102023</td>\n",
              "      <td>28.0</td>\n",
              "      <td>152.7</td>\n",
              "      <td>...</td>\n",
              "      <td>154.8</td>\n",
              "      <td>30.7</td>\n",
              "      <td>32611</td>\n",
              "      <td>{'type': 'Polygon', 'coordinates': [[[350156.2...</td>\n",
              "      <td>MXRA-Z11-031311102023</td>\n",
              "      <td>348187.91462223046,3779843.75,350156.25,378385...</td>\n",
              "      <td>7.5</td>\n",
              "      <td>0.0</td>\n",
              "      <td>0</td>\n",
              "      <td>https://maxar-opendata.s3.amazonaws.com/events...</td>\n",
              "    </tr>\n",
              "    <tr>\n",
              "      <th>1</th>\n",
              "      <td>POLYGON ((-118.6294 34.1826, -118.62875 34.148...</td>\n",
              "      <td>2025-01-14T18:30:58Z</td>\n",
              "      <td>WV02</td>\n",
              "      <td>0.59</td>\n",
              "      <td>0.0.1</td>\n",
              "      <td>103001010C7D2D00</td>\n",
              "      <td>11</td>\n",
              "      <td>031311102032</td>\n",
              "      <td>27.9</td>\n",
              "      <td>153.2</td>\n",
              "      <td>...</td>\n",
              "      <td>154.8</td>\n",
              "      <td>30.7</td>\n",
              "      <td>32611</td>\n",
              "      <td>{'type': 'Polygon', 'coordinates': [[[349843.7...</td>\n",
              "      <td>MXRA-Z11-031311102032</td>\n",
              "      <td>349843.75,3779843.75,355156.25,3783602.294921875</td>\n",
              "      <td>17.7</td>\n",
              "      <td>0.0</td>\n",
              "      <td>0</td>\n",
              "      <td>https://maxar-opendata.s3.amazonaws.com/events...</td>\n",
              "    </tr>\n",
              "    <tr>\n",
              "      <th>2</th>\n",
              "      <td>POLYGON ((-118.57503 34.17626, -118.57453 34.1...</td>\n",
              "      <td>2025-01-14T18:30:58Z</td>\n",
              "      <td>WV02</td>\n",
              "      <td>0.58</td>\n",
              "      <td>0.0.1</td>\n",
              "      <td>103001010C7D2D00</td>\n",
              "      <td>11</td>\n",
              "      <td>031311102033</td>\n",
              "      <td>27.8</td>\n",
              "      <td>153.8</td>\n",
              "      <td>...</td>\n",
              "      <td>154.8</td>\n",
              "      <td>30.7</td>\n",
              "      <td>32611</td>\n",
              "      <td>{'type': 'Polygon', 'coordinates': [[[354843.7...</td>\n",
              "      <td>MXRA-Z11-031311102033</td>\n",
              "      <td>354843.75,3779843.75,360156.25,3782820.1293945312</td>\n",
              "      <td>13.6</td>\n",
              "      <td>0.0</td>\n",
              "      <td>0</td>\n",
              "      <td>https://maxar-opendata.s3.amazonaws.com/events...</td>\n",
              "    </tr>\n",
              "    <tr>\n",
              "      <th>3</th>\n",
              "      <td>POLYGON ((-118.52067 34.17, -118.52031 34.1501...</td>\n",
              "      <td>2025-01-14T18:30:58Z</td>\n",
              "      <td>WV02</td>\n",
              "      <td>0.58</td>\n",
              "      <td>0.0.1</td>\n",
              "      <td>103001010C7D2D00</td>\n",
              "      <td>11</td>\n",
              "      <td>031311102122</td>\n",
              "      <td>27.6</td>\n",
              "      <td>154.4</td>\n",
              "      <td>...</td>\n",
              "      <td>154.8</td>\n",
              "      <td>30.7</td>\n",
              "      <td>32611</td>\n",
              "      <td>{'type': 'Polygon', 'coordinates': [[[359843.7...</td>\n",
              "      <td>MXRA-Z11-031311102122</td>\n",
              "      <td>359843.75,3779843.75,365156.25,3782050.78125</td>\n",
              "      <td>9.5</td>\n",
              "      <td>0.0</td>\n",
              "      <td>0</td>\n",
              "      <td>https://maxar-opendata.s3.amazonaws.com/events...</td>\n",
              "    </tr>\n",
              "    <tr>\n",
              "      <th>4</th>\n",
              "      <td>POLYGON ((-118.62541 34.15158, -118.6245 34.10...</td>\n",
              "      <td>2025-01-14T18:30:58Z</td>\n",
              "      <td>WV02</td>\n",
              "      <td>0.58</td>\n",
              "      <td>0.0.1</td>\n",
              "      <td>103001010C7D2D00</td>\n",
              "      <td>11</td>\n",
              "      <td>031311102201</td>\n",
              "      <td>27.7</td>\n",
              "      <td>152.2</td>\n",
              "      <td>...</td>\n",
              "      <td>154.8</td>\n",
              "      <td>30.7</td>\n",
              "      <td>32611</td>\n",
              "      <td>{'type': 'Polygon', 'coordinates': [[[350156.2...</td>\n",
              "      <td>MXRA-Z11-031311102201</td>\n",
              "      <td>348193.71228735516,3774843.75,350156.25,378015...</td>\n",
              "      <td>10.4</td>\n",
              "      <td>0.0</td>\n",
              "      <td>0</td>\n",
              "      <td>https://maxar-opendata.s3.amazonaws.com/events...</td>\n",
              "    </tr>\n",
              "  </tbody>\n",
              "</table>\n",
              "<p>5 rows × 21 columns</p>\n",
              "</div>\n",
              "    <div class=\"colab-df-buttons\">\n",
              "\n",
              "  <div class=\"colab-df-container\">\n",
              "    <button class=\"colab-df-convert\" onclick=\"convertToInteractive('df-e83e2b36-ad82-4f42-a58d-56faae76fc23')\"\n",
              "            title=\"Convert this dataframe to an interactive table.\"\n",
              "            style=\"display:none;\">\n",
              "\n",
              "  <svg xmlns=\"http://www.w3.org/2000/svg\" height=\"24px\" viewBox=\"0 -960 960 960\">\n",
              "    <path d=\"M120-120v-720h720v720H120Zm60-500h600v-160H180v160Zm220 220h160v-160H400v160Zm0 220h160v-160H400v160ZM180-400h160v-160H180v160Zm440 0h160v-160H620v160ZM180-180h160v-160H180v160Zm440 0h160v-160H620v160Z\"/>\n",
              "  </svg>\n",
              "    </button>\n",
              "\n",
              "  <style>\n",
              "    .colab-df-container {\n",
              "      display:flex;\n",
              "      gap: 12px;\n",
              "    }\n",
              "\n",
              "    .colab-df-convert {\n",
              "      background-color: #E8F0FE;\n",
              "      border: none;\n",
              "      border-radius: 50%;\n",
              "      cursor: pointer;\n",
              "      display: none;\n",
              "      fill: #1967D2;\n",
              "      height: 32px;\n",
              "      padding: 0 0 0 0;\n",
              "      width: 32px;\n",
              "    }\n",
              "\n",
              "    .colab-df-convert:hover {\n",
              "      background-color: #E2EBFA;\n",
              "      box-shadow: 0px 1px 2px rgba(60, 64, 67, 0.3), 0px 1px 3px 1px rgba(60, 64, 67, 0.15);\n",
              "      fill: #174EA6;\n",
              "    }\n",
              "\n",
              "    .colab-df-buttons div {\n",
              "      margin-bottom: 4px;\n",
              "    }\n",
              "\n",
              "    [theme=dark] .colab-df-convert {\n",
              "      background-color: #3B4455;\n",
              "      fill: #D2E3FC;\n",
              "    }\n",
              "\n",
              "    [theme=dark] .colab-df-convert:hover {\n",
              "      background-color: #434B5C;\n",
              "      box-shadow: 0px 1px 3px 1px rgba(0, 0, 0, 0.15);\n",
              "      filter: drop-shadow(0px 1px 2px rgba(0, 0, 0, 0.3));\n",
              "      fill: #FFFFFF;\n",
              "    }\n",
              "  </style>\n",
              "\n",
              "    <script>\n",
              "      const buttonEl =\n",
              "        document.querySelector('#df-e83e2b36-ad82-4f42-a58d-56faae76fc23 button.colab-df-convert');\n",
              "      buttonEl.style.display =\n",
              "        google.colab.kernel.accessAllowed ? 'block' : 'none';\n",
              "\n",
              "      async function convertToInteractive(key) {\n",
              "        const element = document.querySelector('#df-e83e2b36-ad82-4f42-a58d-56faae76fc23');\n",
              "        const dataTable =\n",
              "          await google.colab.kernel.invokeFunction('convertToInteractive',\n",
              "                                                    [key], {});\n",
              "        if (!dataTable) return;\n",
              "\n",
              "        const docLinkHtml = 'Like what you see? Visit the ' +\n",
              "          '<a target=\"_blank\" href=https://colab.research.google.com/notebooks/data_table.ipynb>data table notebook</a>'\n",
              "          + ' to learn more about interactive tables.';\n",
              "        element.innerHTML = '';\n",
              "        dataTable['output_type'] = 'display_data';\n",
              "        await google.colab.output.renderOutput(dataTable, element);\n",
              "        const docLink = document.createElement('div');\n",
              "        docLink.innerHTML = docLinkHtml;\n",
              "        element.appendChild(docLink);\n",
              "      }\n",
              "    </script>\n",
              "  </div>\n",
              "\n",
              "\n",
              "<div id=\"df-fd56aa2d-31a0-4d3e-80b7-864a7ae01ae6\">\n",
              "  <button class=\"colab-df-quickchart\" onclick=\"quickchart('df-fd56aa2d-31a0-4d3e-80b7-864a7ae01ae6')\"\n",
              "            title=\"Suggest charts\"\n",
              "            style=\"display:none;\">\n",
              "\n",
              "<svg xmlns=\"http://www.w3.org/2000/svg\" height=\"24px\"viewBox=\"0 0 24 24\"\n",
              "     width=\"24px\">\n",
              "    <g>\n",
              "        <path d=\"M19 3H5c-1.1 0-2 .9-2 2v14c0 1.1.9 2 2 2h14c1.1 0 2-.9 2-2V5c0-1.1-.9-2-2-2zM9 17H7v-7h2v7zm4 0h-2V7h2v10zm4 0h-2v-4h2v4z\"/>\n",
              "    </g>\n",
              "</svg>\n",
              "  </button>\n",
              "\n",
              "<style>\n",
              "  .colab-df-quickchart {\n",
              "      --bg-color: #E8F0FE;\n",
              "      --fill-color: #1967D2;\n",
              "      --hover-bg-color: #E2EBFA;\n",
              "      --hover-fill-color: #174EA6;\n",
              "      --disabled-fill-color: #AAA;\n",
              "      --disabled-bg-color: #DDD;\n",
              "  }\n",
              "\n",
              "  [theme=dark] .colab-df-quickchart {\n",
              "      --bg-color: #3B4455;\n",
              "      --fill-color: #D2E3FC;\n",
              "      --hover-bg-color: #434B5C;\n",
              "      --hover-fill-color: #FFFFFF;\n",
              "      --disabled-bg-color: #3B4455;\n",
              "      --disabled-fill-color: #666;\n",
              "  }\n",
              "\n",
              "  .colab-df-quickchart {\n",
              "    background-color: var(--bg-color);\n",
              "    border: none;\n",
              "    border-radius: 50%;\n",
              "    cursor: pointer;\n",
              "    display: none;\n",
              "    fill: var(--fill-color);\n",
              "    height: 32px;\n",
              "    padding: 0;\n",
              "    width: 32px;\n",
              "  }\n",
              "\n",
              "  .colab-df-quickchart:hover {\n",
              "    background-color: var(--hover-bg-color);\n",
              "    box-shadow: 0 1px 2px rgba(60, 64, 67, 0.3), 0 1px 3px 1px rgba(60, 64, 67, 0.15);\n",
              "    fill: var(--button-hover-fill-color);\n",
              "  }\n",
              "\n",
              "  .colab-df-quickchart-complete:disabled,\n",
              "  .colab-df-quickchart-complete:disabled:hover {\n",
              "    background-color: var(--disabled-bg-color);\n",
              "    fill: var(--disabled-fill-color);\n",
              "    box-shadow: none;\n",
              "  }\n",
              "\n",
              "  .colab-df-spinner {\n",
              "    border: 2px solid var(--fill-color);\n",
              "    border-color: transparent;\n",
              "    border-bottom-color: var(--fill-color);\n",
              "    animation:\n",
              "      spin 1s steps(1) infinite;\n",
              "  }\n",
              "\n",
              "  @keyframes spin {\n",
              "    0% {\n",
              "      border-color: transparent;\n",
              "      border-bottom-color: var(--fill-color);\n",
              "      border-left-color: var(--fill-color);\n",
              "    }\n",
              "    20% {\n",
              "      border-color: transparent;\n",
              "      border-left-color: var(--fill-color);\n",
              "      border-top-color: var(--fill-color);\n",
              "    }\n",
              "    30% {\n",
              "      border-color: transparent;\n",
              "      border-left-color: var(--fill-color);\n",
              "      border-top-color: var(--fill-color);\n",
              "      border-right-color: var(--fill-color);\n",
              "    }\n",
              "    40% {\n",
              "      border-color: transparent;\n",
              "      border-right-color: var(--fill-color);\n",
              "      border-top-color: var(--fill-color);\n",
              "    }\n",
              "    60% {\n",
              "      border-color: transparent;\n",
              "      border-right-color: var(--fill-color);\n",
              "    }\n",
              "    80% {\n",
              "      border-color: transparent;\n",
              "      border-right-color: var(--fill-color);\n",
              "      border-bottom-color: var(--fill-color);\n",
              "    }\n",
              "    90% {\n",
              "      border-color: transparent;\n",
              "      border-bottom-color: var(--fill-color);\n",
              "    }\n",
              "  }\n",
              "</style>\n",
              "\n",
              "  <script>\n",
              "    async function quickchart(key) {\n",
              "      const quickchartButtonEl =\n",
              "        document.querySelector('#' + key + ' button');\n",
              "      quickchartButtonEl.disabled = true;  // To prevent multiple clicks.\n",
              "      quickchartButtonEl.classList.add('colab-df-spinner');\n",
              "      try {\n",
              "        const charts = await google.colab.kernel.invokeFunction(\n",
              "            'suggestCharts', [key], {});\n",
              "      } catch (error) {\n",
              "        console.error('Error during call to suggestCharts:', error);\n",
              "      }\n",
              "      quickchartButtonEl.classList.remove('colab-df-spinner');\n",
              "      quickchartButtonEl.classList.add('colab-df-quickchart-complete');\n",
              "    }\n",
              "    (() => {\n",
              "      let quickchartButtonEl =\n",
              "        document.querySelector('#df-fd56aa2d-31a0-4d3e-80b7-864a7ae01ae6 button');\n",
              "      quickchartButtonEl.style.display =\n",
              "        google.colab.kernel.accessAllowed ? 'block' : 'none';\n",
              "    })();\n",
              "  </script>\n",
              "</div>\n",
              "\n",
              "    </div>\n",
              "  </div>\n"
            ],
            "application/vnd.google.colaboratory.intrinsic+json": {
              "type": "dataframe",
              "variable_name": "gdf"
            }
          },
          "metadata": {},
          "execution_count": 6
        }
      ],
      "source": [
        "gdf = leafmap.maxar_items(\n",
        "    collection_id=\"WildFires-LosAngeles-Jan-2025\",\n",
        "    child_id=\"103001010C7D2D00\",\n",
        "    return_gdf=True,\n",
        "    assets=[\"visual\"],\n",
        ")\n",
        "gdf.head()"
      ]
    },
    {
      "cell_type": "markdown",
      "id": "10",
      "metadata": {
        "id": "10"
      },
      "source": [
        "Add the footprints to the map:"
      ]
    },
    {
      "cell_type": "code",
      "execution_count": 7,
      "id": "11",
      "metadata": {
        "colab": {
          "base_uri": "https://localhost:8080/",
          "height": 621,
          "referenced_widgets": [
            "9a23dfa33f1b403cb9fd6dca466d5754",
            "b9e8a2c56e994ea28441843beed27e26",
            "a5851f2d59c3427ba5356e96e536226d",
            "b70d628e9bc845a69134470c9144e61a",
            "760145efab4d4b179737242a740ed208",
            "e21985442564419d87138d907203db8a",
            "0b7a63d5fd64414ebf840c52f3f3d8ee",
            "2e66186e345f48ce83c3aded65768f28",
            "4705a0df5cf449ccb1eb662aa430d5a1",
            "f3092d4b630042b29b4310050323c05d",
            "3d735a60707e4dcd8d978df77f92ee44",
            "73d5b86b0d1c456ea09442c3f5bc2524",
            "a070c93945544a5bba9ee863041aaf8a",
            "4d701bd67c2c45fa9b7f65af4c0e007b",
            "af731385ff6e4a69826fc648e0b649a2",
            "74c39a19005145e9805cb9c8d90903db",
            "20d7011dbe4f432d9aeeb67a64e3175b",
            "072a6a69e6aa4d508addd4a36376fcf5",
            "59480228e84243599b4f14b5aaa3b9f1",
            "a1aa0c07dc6349f0ad04d3a6284527d9",
            "ab47577eb5ae4948b9cb63d357bae530",
            "746fb49456234b7b892726d7401ad58d",
            "dcc751d7d3834dd5890e060f264d70fe",
            "ad8a25602abe4d5b9cf7dc359d593430",
            "e3e7a72767894ab29a644fd430d3eb39",
            "98a04519364f4952a63bdd65f11f5fe9",
            "78c0e0a22c004a91b4642782fc929272",
            "e18f9ca1eefd4e63bf16bcac90b94bf8",
            "7c4ff0c1291a44d4949f1a424172151f",
            "c979db1b6f834e43a153b1b8baa48312",
            "b9683d808af54b1996bf28105aaa82f1",
            "2a544da12ce54632b3fa9261e508f9e8",
            "da15240614c84ead8a8e613ef5073391",
            "b712fcc0271e412494e47938e28cf5f1",
            "4f8f2f95e1204c6f870443aef93720a1",
            "1713ea5d1aa14776a2b8ab0d37f17b7d",
            "dc3f8414867149e185b01e0f2bc9cc0d",
            "d62824e5723742d5b9f0fb1f83e2090c",
            "15319f929fc040e984a12bc12d8dd02f",
            "b1e30bc24ba24cf1a293b70c0301b75a",
            "20f610e719d048a680304620241e2946",
            "44f24f00311d48bd81f62b9091805b59",
            "77df3993ec6d4d6a92a7a16a54a6604a",
            "59cd2f33a11d43e7a8d923ec6511da78",
            "13bfdfc5013e46758c4650df1036dd53",
            "a4e4ae03f8874a0abb9680c35037c964",
            "66285d52920b459ab76e0411d72201be",
            "9983b0c9d75a4f93959fa235cdb9d194",
            "2f40bf7a01dc44578b86ede73e57590c",
            "4e74b899871147fc8c4b71e8bde3a9e0",
            "ff6bdc184797496b8f6aed86bbf226f2",
            "adaaafa6c4c4475882754b933446c4c7",
            "741ff8ebe7294a9eb949351d7dfc3f34",
            "3f2a9c000a7740ee96279296640dd84a",
            "c0f515ed4b7246f68f1bb3530dc6e950",
            "1855406424ac40fda6a5fd376484cef3",
            "6f63940771b34dfd81ff275708bbc4f5",
            "48eb693999bd4d3985cdca93f1e2ed66",
            "b053784dcc2241b18f721e39a3a48b52",
            "14b8ccdec9364c28bba7f45c3ee37589",
            "05593233bcfa4f2cb75308862db69e73",
            "a6aa941ffbd646dea569b9173fa81774",
            "cb46a77bceb846b897f5f5f0ececa9ef",
            "daf8994d0a364e9297facf86cf2376f9",
            "31c0a54692a64faa947a1a93d7c9ed14",
            "b8ca94cb8e59485e9b5fb1795b302687",
            "ba3146858fab4504bea22138e8daf9f7",
            "f0b3f6202adb4afeb03ec99013cf4b31",
            "710f7fad090241eb8d2577d62be2b6a2",
            "7949743405174b42ac340132885d56d8",
            "1ce62c26b7b449bea30515dd4c0639d4",
            "b17c7547cdb844a8b8df2738388dc47d",
            "b9415efa48f6441b854b167bd8aca502",
            "cfd5ef936e314af59162069891498f48",
            "d891c8fbf29c4720b87d113d2b66716f",
            "1c6a0755852246edbe3683d96c1c58d4",
            "dd17f444793f4cb28464ab01cceda076",
            "d6b3cbb85b284dedb2057aeef73b77d9",
            "8dd0e62c766e4e20880ce5a5a0faa704",
            "97b5220027934a4e9a09ffa862da35d0",
            "d31b3893bf64492abe8ed74b6526805f",
            "a462527d487a4ac78848e9603526d37c",
            "b31a3e1529e149b2a110fa0b60b66ecb",
            "934d2b8fb1a645459a986d105c50a5de",
            "2bc676b68ea9454da5a2156fc6ab81a6",
            "a0b8855fe3ac4e40ac54a19b94d78fc7",
            "65e42d5ab66d4a5e92fef0afddd65a2d",
            "2812a7d976d747a5b5a5ead655678e3e",
            "7fc3106a86294b898d474bbce101bb33",
            "6a013ca600cb4ed993680b00ac1bac01",
            "f7b8f6430e0f4697a12f36d3469341e7",
            "f0be7276ca314440b83eb77584781a5f",
            "d8cba0f5f4354aee9031dbd7b1319016",
            "305cc77771dc404a975211a625dc523c",
            "799c92b95cfe42d18229bf0033278229",
            "8c0d4e75c2af43ecb381a818b4408dcf",
            "67f7095da74d4b8d897d5699dcfcd347",
            "027b36a766b846fdb7f342bebc6343f1",
            "330532c3ba6944889fbf1daa5dc2f81b",
            "8df2a4ab1e2a4ef28f44fc44e3357340",
            "84fce7e7d5b9440e99728e1947901e31",
            "b222571be5da48ae8d94d1bfc21c7da8",
            "9d7d3bc06ae840ac9c75fdcd8697da13",
            "c3ff7bf343f143f2bcb59e903f431a0d",
            "fd15571a440a4013bb6df7f0d5a07673",
            "db13ab16f6c042feba5f73a2e4ac3118",
            "a583908a964b45439c62297a5909964f",
            "e152405d890840b686cfb1e08850d949",
            "dc62cf6260a44f97ba4f8677730c61d7",
            "fcf22a58228f4384af0aadd5a98fd063",
            "99650b89c632410c9453de7c4289ddef",
            "378a7aeb3b1146668fbde1b294d985e9",
            "5a4b173fa1094ea0a8cd30fc565ffe26",
            "914bb695c80740eab0b61a7fea3f94eb",
            "1d63e20e860f44dfbe4877c93e0b8546",
            "0b9398ee9dec46c8a0d582da6ec89bc1",
            "6273fa92acbc47d4be61906e1947a044",
            "6a84e6e08a3c4bfc8721f17a2642e108",
            "2ee6a1821c5140639005346e1ceb16d6",
            "ffc9a8c78e344c3e9b2adef9a8a64252",
            "d31a4baec9d8446f8c94199dd9ab11d0",
            "2495567883a044659b598dbbdbfe4aaa",
            "2ab5da94a7b74f0ab7f9a7960cde08ca",
            "03a6b7635a5d412ca4e466775b3e7684",
            "6152a4cb1c074045abdb0074e6250429",
            "520b73896f8a4cf9af558fb9e2949fa6",
            "f185b2d886704a65aa0880263a0312a2",
            "845dab4c410f438e938a076da44d853e",
            "0a907c6fdc694541a52cedda6e052823",
            "55c4f45e9ee64107b42d7b972cfcabb2",
            "37a99deb11d1443d9de80b7aca58a075",
            "d9bc9f3120944540b9655105e9406d81",
            "30f165daa88149469fb4e87212b51e8c",
            "6ca3e1a1486e460e9705faedaad1210a",
            "638bdb05cb1a426fb2c255b1f64c5ca1",
            "1133c3fda9b14e0d9a8b876ca2c6249b",
            "d629724a35ab44fc83b43c8679fea904",
            "2aa1c731af9e423ea858c09eb16fd171",
            "6b30e12db41148148c3b481f5afd1c8c",
            "b411fe26ccee480582afbbb908858352",
            "a04955d4552b431da31865efd93610e1",
            "6272c895251744959e229a7a0164ac02",
            "6a9dba54e60c49479db33129bc02fb63",
            "ca7f79be66a44a009407287e1ef6dece",
            "161a170201d042728b5d3c7e27b341d4",
            "ebd18ac9e857494f92ac3242e3859e29",
            "a3e0c00eeb704308a284c009983985fa",
            "72076bf73e04403d99ea07a9311694f8",
            "e294fb39451343aeaee9ef740676d4c6",
            "b532e10251b14d1ab0b9133afe9b3397",
            "c5377c4e9dcf4a4b980ed3eb7c4eefc7",
            "4528afb032d8420aa3c5bc3a49058ba0"
          ]
        },
        "id": "11",
        "outputId": "1a01c01f-ed66-4cce-c811-b67f2f007a30"
      },
      "outputs": [
        {
          "output_type": "display_data",
          "data": {
            "text/plain": [
              "Map(center=[20, 0], controls=(ZoomControl(options=['position', 'zoom_in_text', 'zoom_in_title', 'zoom_out_text…"
            ],
            "application/vnd.jupyter.widget-view+json": {
              "version_major": 2,
              "version_minor": 0,
              "model_id": "ad8a25602abe4d5b9cf7dc359d593430"
            }
          },
          "metadata": {
            "application/vnd.jupyter.widget-view+json": {
              "colab": {
                "custom_widget_manager": {
                  "url": "https://ssl.gstatic.com/colaboratory-static/widgets/colab-cdn-widget-manager/2b70e893a8ba7c0f/manager.min.js"
                }
              }
            }
          }
        }
      ],
      "source": [
        "m = leafmap.Map()\n",
        "m.add_gdf(gdf, layer_name=\"Footprints\")\n",
        "m"
      ]
    },
    {
      "cell_type": "code",
      "source": [],
      "metadata": {
        "id": "NTrDzhmg3d7I"
      },
      "id": "NTrDzhmg3d7I",
      "execution_count": null,
      "outputs": []
    },
    {
      "cell_type": "markdown",
      "id": "12",
      "metadata": {
        "id": "12"
      },
      "source": [
        "Retrieve the COG URLs for all tiles in a collection:"
      ]
    },
    {
      "cell_type": "code",
      "execution_count": 8,
      "id": "13",
      "metadata": {
        "colab": {
          "base_uri": "https://localhost:8080/"
        },
        "id": "13",
        "outputId": "2a6d143f-c63d-402c-bbc5-c8564d3019e6"
      },
      "outputs": [
        {
          "output_type": "execute_result",
          "data": {
            "text/plain": [
              "['https://maxar-opendata.s3.amazonaws.com/events/WildFires-LosAngeles-Jan-2025/ard/11/031311102023/2025-01-14/103001010C7D2D00-visual.tif',\n",
              " 'https://maxar-opendata.s3.amazonaws.com/events/WildFires-LosAngeles-Jan-2025/ard/11/031311102032/2025-01-14/103001010C7D2D00-visual.tif',\n",
              " 'https://maxar-opendata.s3.amazonaws.com/events/WildFires-LosAngeles-Jan-2025/ard/11/031311102033/2025-01-14/103001010C7D2D00-visual.tif',\n",
              " 'https://maxar-opendata.s3.amazonaws.com/events/WildFires-LosAngeles-Jan-2025/ard/11/031311102122/2025-01-14/103001010C7D2D00-visual.tif',\n",
              " 'https://maxar-opendata.s3.amazonaws.com/events/WildFires-LosAngeles-Jan-2025/ard/11/031311102201/2025-01-14/103001010C7D2D00-visual.tif']"
            ]
          },
          "metadata": {},
          "execution_count": 8
        }
      ],
      "source": [
        "images = gdf[\"visual\"].tolist()\n",
        "images[:5]"
      ]
    },
    {
      "cell_type": "markdown",
      "id": "14",
      "metadata": {
        "id": "14"
      },
      "source": [
        "Create a mosaic json file for the collection. You need to install `cogeo-mosaic` first using `pip install cogeo-mosaic`. Creating a mosaic json file might take a few minutes. Please be patient."
      ]
    },
    {
      "cell_type": "code",
      "execution_count": null,
      "id": "15",
      "metadata": {
        "id": "15"
      },
      "outputs": [],
      "source": [
        "# leafmap.create_mosaicjson(images, output='1050050044DE7E00.json')"
      ]
    },
    {
      "cell_type": "markdown",
      "id": "16",
      "metadata": {
        "id": "16"
      },
      "source": [
        "Make the mosaic json file available on the web, then you can add the mosaic to the map:"
      ]
    },
    {
      "cell_type": "code",
      "execution_count": null,
      "id": "17",
      "metadata": {
        "id": "17"
      },
      "outputs": [],
      "source": [
        "m = leafmap.Map()\n",
        "url = \"https://geospatial.glitch.me/1050050044DE7E00.json\"\n",
        "m.add_stac_layer(url, name=\"Mosaic\")\n",
        "m.add_gdf(gdf, layer_name=\"Footprints\")\n",
        "m"
      ]
    },
    {
      "cell_type": "markdown",
      "id": "18",
      "metadata": {
        "id": "18"
      },
      "source": [
        "Retrieve the footprint of all tiles for a specific event. This might take 15+ minutes. Please be patient."
      ]
    },
    {
      "cell_type": "code",
      "execution_count": 23,
      "id": "19",
      "metadata": {
        "colab": {
          "base_uri": "https://localhost:8080/",
          "height": 1000
        },
        "id": "19",
        "outputId": "1e77d057-e4b9-43db-dd40-4829fe907021"
      },
      "outputs": [
        {
          "output_type": "stream",
          "name": "stdout",
          "text": [
            "Processing (01 out of 30): 103001010A705C00 ...\n",
            "Processing (02 out of 30): 103001010B9A1B00 ...\n",
            "Processing (03 out of 30): 103001010C360000 ...\n",
            "Processing (04 out of 30): 103001010C7D2D00 ...\n",
            "Processing (05 out of 30): 104001009C64B300 ...\n",
            "Processing (06 out of 30): 104001009F2ED400 ...\n",
            "Processing (07 out of 30): 104001009F982A00 ...\n",
            "Processing (08 out of 30): 10400100A069A700 ...\n",
            "Processing (09 out of 30): 10400100A06B8000 ...\n",
            "Processing (10 out of 30): 10400100A07CE400 ...\n",
            "Processing (11 out of 30): 10400100A0AEFE00 ...\n",
            "Processing (12 out of 30): 10400100A0B73800 ...\n",
            "Processing (13 out of 30): 10400100A0BAD600 ...\n",
            "Processing (14 out of 30): 10400100A0BD9A00 ...\n",
            "Processing (15 out of 30): 10400100A1028F00 ...\n",
            "Processing (16 out of 30): 10400100A1349500 ...\n",
            "Processing (17 out of 30): 10400100A14A8300 ...\n",
            "Processing (18 out of 30): 10400100A17B5900 ...\n",
            "Processing (19 out of 30): 10400100A17E8600 ...\n",
            "Processing (20 out of 30): 10400100A194FA00 ...\n",
            "Processing (21 out of 30): 10400100A1989500 ...\n",
            "Processing (22 out of 30): 10400100A1AFE700 ...\n",
            "Processing (23 out of 30): 10400100A20D9300 ...\n",
            "Processing (24 out of 30): 10400100A24E1900 ...\n",
            "Processing (25 out of 30): 10400100A26E9900 ...\n",
            "Processing (26 out of 30): 105001003FC45900 ...\n",
            "Processing (27 out of 30): 1050010040277300 ...\n",
            "Processing (28 out of 30): 1050010040277400 ...\n",
            "Processing (29 out of 30): 1050010040277500 ...\n",
            "Processing (30 out of 30): 105001004042BF00 ...\n"
          ]
        },
        {
          "output_type": "stream",
          "name": "stderr",
          "text": [
            "\r 36%|███▌      | 33.0M/91.2M [25:36<45:07, 21.5kB/s]\n"
          ]
        },
        {
          "output_type": "execute_result",
          "data": {
            "text/plain": [
              "                                              geometry              datetime  \\\n",
              "0    POLYGON ((-118.62796 34.28399, -118.64954 34.2...  2024-12-14T18:53:50Z   \n",
              "1    POLYGON ((-118.62801 34.2868, -118.62709 34.23...  2024-12-14T18:53:50Z   \n",
              "2    POLYGON ((-118.62593 34.33192, -118.57455 34.3...  2024-12-14T18:53:50Z   \n",
              "3    POLYGON ((-118.57795 34.33254, -118.57705 34.2...  2024-12-14T18:53:50Z   \n",
              "4    POLYGON ((-118.63141 34.28676, -118.63048 34.2...  2024-12-14T18:53:50Z   \n",
              "..                                                 ...                   ...   \n",
              "395  POLYGON ((-118.19248 33.97619, -118.19211 33.9...  2025-01-16T18:53:43Z   \n",
              "396  POLYGON ((-118.13836 33.9767, -118.13799 33.94...  2025-01-16T18:53:42Z   \n",
              "397  POLYGON ((-118.08424 33.97719, -118.08388 33.9...  2025-01-16T18:53:41Z   \n",
              "398  POLYGON ((-118.03012 33.97765, -118.02977 33.9...  2025-01-16T18:53:40Z   \n",
              "399  POLYGON ((-117.976 33.97809, -117.97566 33.948...  2025-01-16T18:53:40Z   \n",
              "\n",
              "    platform   gsd ard_metadata_version        catalog_id  utm_zone  \\\n",
              "0       WV02  0.58                0.0.1  103001010A705C00        11   \n",
              "1       WV02  0.58                0.0.1  103001010A705C00        11   \n",
              "2       WV02  0.58                0.0.1  103001010A705C00        11   \n",
              "3       WV02  0.58                0.0.1  103001010A705C00        11   \n",
              "4       WV02  0.58                0.0.1  103001010A705C00        11   \n",
              "..       ...   ...                  ...               ...       ...   \n",
              "395     GE01  0.51                0.0.1  105001004042BF00        11   \n",
              "396     GE01  0.51                0.0.1  105001004042BF00        11   \n",
              "397     GE01  0.51                0.0.1  105001004042BF00        11   \n",
              "398     GE01  0.51                0.0.1  105001004042BF00        11   \n",
              "399     GE01  0.51                0.0.1  105001004042BF00        11   \n",
              "\n",
              "          quadkey  view:off_nadir  view:azimuth  ...  view:sun_azimuth  \\\n",
              "0    031311102001            27.5         233.2  ...             165.1   \n",
              "1    031311102003            27.4         233.5  ...             165.1   \n",
              "2    031311102010            27.7         233.6  ...             165.1   \n",
              "3    031311102011            27.9         234.0  ...             165.1   \n",
              "4    031311102012            27.7         233.9  ...             165.1   \n",
              "..            ...             ...           ...  ...               ...   \n",
              "395  031311121010            27.0         280.6  ...             160.7   \n",
              "396  031311121011            27.3         281.5  ...             160.8   \n",
              "397  031311121100            27.6         282.3  ...             160.8   \n",
              "398  031311121101            27.8         283.2  ...             160.8   \n",
              "399  031311121110            27.9         283.2  ...             160.8   \n",
              "\n",
              "     view:sun_elevation  proj:epsg  \\\n",
              "0                  31.1      32611   \n",
              "1                  31.1      32611   \n",
              "2                  31.1      32611   \n",
              "3                  31.1      32611   \n",
              "4                  31.1      32611   \n",
              "..                  ...        ...   \n",
              "395                33.0      32611   \n",
              "396                33.0      32611   \n",
              "397                33.0      32611   \n",
              "398                33.0      32611   \n",
              "399                33.0      32611   \n",
              "\n",
              "                                         proj:geometry              grid:code  \\\n",
              "0    {'type': 'Polygon', 'coordinates': [[[350156.2...  MXRA-Z11-031311102001   \n",
              "1    {'type': 'Polygon', 'coordinates': [[[350156.2...  MXRA-Z11-031311102003   \n",
              "2    {'type': 'Polygon', 'coordinates': [[[350428.1...  MXRA-Z11-031311102010   \n",
              "3    {'type': 'Polygon', 'coordinates': [[[354843.7...  MXRA-Z11-031311102011   \n",
              "4    {'type': 'Polygon', 'coordinates': [[[349843.7...  MXRA-Z11-031311102012   \n",
              "..                                                 ...                    ...   \n",
              "395  {'type': 'Polygon', 'coordinates': [[[389843.7...  MXRA-Z11-031311121010   \n",
              "396  {'type': 'Polygon', 'coordinates': [[[394843.7...  MXRA-Z11-031311121011   \n",
              "397  {'type': 'Polygon', 'coordinates': [[[399843.7...  MXRA-Z11-031311121100   \n",
              "398  {'type': 'Polygon', 'coordinates': [[[404843.7...  MXRA-Z11-031311121101   \n",
              "399  {'type': 'Polygon', 'coordinates': [[[409843.7...  MXRA-Z11-031311121110   \n",
              "\n",
              "                                             proj:bbox tile:data_area  \\\n",
              "0    348162.7630737268,3794843.75,350156.25,3800135...           10.3   \n",
              "1    348170.20262592233,3789843.75,350156.25,379515...           10.5   \n",
              "2            349843.75,3794843.75,355156.25,3800156.25           28.2   \n",
              "3            354843.75,3794843.75,360156.25,3800156.25           28.2   \n",
              "4            349843.75,3789843.75,355156.25,3795156.25           28.2   \n",
              "..                                                 ...            ...   \n",
              "395  389843.75,3757120.9716796875,395156.25,3760156.25           15.8   \n",
              "396  394843.75,3757027.2827148438,400156.25,3760156.25           16.3   \n",
              "397   399843.75,3756937.255859375,405156.25,3760156.25           16.8   \n",
              "398   404843.75,3756859.130859375,410156.25,3760156.25           17.2   \n",
              "399  409843.75,3756850.8911132812,410550.2319335937...            1.8   \n",
              "\n",
              "     tile:clouds_area  tile:clouds_percent  \\\n",
              "0                 0.0                    0   \n",
              "1                 1.2                   11   \n",
              "2                 0.0                    0   \n",
              "3                 1.9                    6   \n",
              "4                 0.1                    0   \n",
              "..                ...                  ...   \n",
              "395               0.0                    0   \n",
              "396               0.0                    0   \n",
              "397               0.0                    0   \n",
              "398               0.0                    0   \n",
              "399               0.0                    0   \n",
              "\n",
              "                                                visual  \n",
              "0    https://maxar-opendata.s3.amazonaws.com/events...  \n",
              "1    https://maxar-opendata.s3.amazonaws.com/events...  \n",
              "2    https://maxar-opendata.s3.amazonaws.com/events...  \n",
              "3    https://maxar-opendata.s3.amazonaws.com/events...  \n",
              "4    https://maxar-opendata.s3.amazonaws.com/events...  \n",
              "..                                                 ...  \n",
              "395  https://maxar-opendata.s3.amazonaws.com/events...  \n",
              "396  https://maxar-opendata.s3.amazonaws.com/events...  \n",
              "397  https://maxar-opendata.s3.amazonaws.com/events...  \n",
              "398  https://maxar-opendata.s3.amazonaws.com/events...  \n",
              "399  https://maxar-opendata.s3.amazonaws.com/events...  \n",
              "\n",
              "[400 rows x 21 columns]"
            ],
            "text/html": [
              "\n",
              "  <div id=\"df-f3d27eaa-ce1d-49c1-9a25-a1baa89a42dc\" class=\"colab-df-container\">\n",
              "    <div>\n",
              "<style scoped>\n",
              "    .dataframe tbody tr th:only-of-type {\n",
              "        vertical-align: middle;\n",
              "    }\n",
              "\n",
              "    .dataframe tbody tr th {\n",
              "        vertical-align: top;\n",
              "    }\n",
              "\n",
              "    .dataframe thead th {\n",
              "        text-align: right;\n",
              "    }\n",
              "</style>\n",
              "<table border=\"1\" class=\"dataframe\">\n",
              "  <thead>\n",
              "    <tr style=\"text-align: right;\">\n",
              "      <th></th>\n",
              "      <th>geometry</th>\n",
              "      <th>datetime</th>\n",
              "      <th>platform</th>\n",
              "      <th>gsd</th>\n",
              "      <th>ard_metadata_version</th>\n",
              "      <th>catalog_id</th>\n",
              "      <th>utm_zone</th>\n",
              "      <th>quadkey</th>\n",
              "      <th>view:off_nadir</th>\n",
              "      <th>view:azimuth</th>\n",
              "      <th>...</th>\n",
              "      <th>view:sun_azimuth</th>\n",
              "      <th>view:sun_elevation</th>\n",
              "      <th>proj:epsg</th>\n",
              "      <th>proj:geometry</th>\n",
              "      <th>grid:code</th>\n",
              "      <th>proj:bbox</th>\n",
              "      <th>tile:data_area</th>\n",
              "      <th>tile:clouds_area</th>\n",
              "      <th>tile:clouds_percent</th>\n",
              "      <th>visual</th>\n",
              "    </tr>\n",
              "  </thead>\n",
              "  <tbody>\n",
              "    <tr>\n",
              "      <th>0</th>\n",
              "      <td>POLYGON ((-118.62796 34.28399, -118.64954 34.2...</td>\n",
              "      <td>2024-12-14T18:53:50Z</td>\n",
              "      <td>WV02</td>\n",
              "      <td>0.58</td>\n",
              "      <td>0.0.1</td>\n",
              "      <td>103001010A705C00</td>\n",
              "      <td>11</td>\n",
              "      <td>031311102001</td>\n",
              "      <td>27.5</td>\n",
              "      <td>233.2</td>\n",
              "      <td>...</td>\n",
              "      <td>165.1</td>\n",
              "      <td>31.1</td>\n",
              "      <td>32611</td>\n",
              "      <td>{'type': 'Polygon', 'coordinates': [[[350156.2...</td>\n",
              "      <td>MXRA-Z11-031311102001</td>\n",
              "      <td>348162.7630737268,3794843.75,350156.25,3800135...</td>\n",
              "      <td>10.3</td>\n",
              "      <td>0.0</td>\n",
              "      <td>0</td>\n",
              "      <td>https://maxar-opendata.s3.amazonaws.com/events...</td>\n",
              "    </tr>\n",
              "    <tr>\n",
              "      <th>1</th>\n",
              "      <td>POLYGON ((-118.62801 34.2868, -118.62709 34.23...</td>\n",
              "      <td>2024-12-14T18:53:50Z</td>\n",
              "      <td>WV02</td>\n",
              "      <td>0.58</td>\n",
              "      <td>0.0.1</td>\n",
              "      <td>103001010A705C00</td>\n",
              "      <td>11</td>\n",
              "      <td>031311102003</td>\n",
              "      <td>27.4</td>\n",
              "      <td>233.5</td>\n",
              "      <td>...</td>\n",
              "      <td>165.1</td>\n",
              "      <td>31.1</td>\n",
              "      <td>32611</td>\n",
              "      <td>{'type': 'Polygon', 'coordinates': [[[350156.2...</td>\n",
              "      <td>MXRA-Z11-031311102003</td>\n",
              "      <td>348170.20262592233,3789843.75,350156.25,379515...</td>\n",
              "      <td>10.5</td>\n",
              "      <td>1.2</td>\n",
              "      <td>11</td>\n",
              "      <td>https://maxar-opendata.s3.amazonaws.com/events...</td>\n",
              "    </tr>\n",
              "    <tr>\n",
              "      <th>2</th>\n",
              "      <td>POLYGON ((-118.62593 34.33192, -118.57455 34.3...</td>\n",
              "      <td>2024-12-14T18:53:50Z</td>\n",
              "      <td>WV02</td>\n",
              "      <td>0.58</td>\n",
              "      <td>0.0.1</td>\n",
              "      <td>103001010A705C00</td>\n",
              "      <td>11</td>\n",
              "      <td>031311102010</td>\n",
              "      <td>27.7</td>\n",
              "      <td>233.6</td>\n",
              "      <td>...</td>\n",
              "      <td>165.1</td>\n",
              "      <td>31.1</td>\n",
              "      <td>32611</td>\n",
              "      <td>{'type': 'Polygon', 'coordinates': [[[350428.1...</td>\n",
              "      <td>MXRA-Z11-031311102010</td>\n",
              "      <td>349843.75,3794843.75,355156.25,3800156.25</td>\n",
              "      <td>28.2</td>\n",
              "      <td>0.0</td>\n",
              "      <td>0</td>\n",
              "      <td>https://maxar-opendata.s3.amazonaws.com/events...</td>\n",
              "    </tr>\n",
              "    <tr>\n",
              "      <th>3</th>\n",
              "      <td>POLYGON ((-118.57795 34.33254, -118.57705 34.2...</td>\n",
              "      <td>2024-12-14T18:53:50Z</td>\n",
              "      <td>WV02</td>\n",
              "      <td>0.58</td>\n",
              "      <td>0.0.1</td>\n",
              "      <td>103001010A705C00</td>\n",
              "      <td>11</td>\n",
              "      <td>031311102011</td>\n",
              "      <td>27.9</td>\n",
              "      <td>234.0</td>\n",
              "      <td>...</td>\n",
              "      <td>165.1</td>\n",
              "      <td>31.1</td>\n",
              "      <td>32611</td>\n",
              "      <td>{'type': 'Polygon', 'coordinates': [[[354843.7...</td>\n",
              "      <td>MXRA-Z11-031311102011</td>\n",
              "      <td>354843.75,3794843.75,360156.25,3800156.25</td>\n",
              "      <td>28.2</td>\n",
              "      <td>1.9</td>\n",
              "      <td>6</td>\n",
              "      <td>https://maxar-opendata.s3.amazonaws.com/events...</td>\n",
              "    </tr>\n",
              "    <tr>\n",
              "      <th>4</th>\n",
              "      <td>POLYGON ((-118.63141 34.28676, -118.63048 34.2...</td>\n",
              "      <td>2024-12-14T18:53:50Z</td>\n",
              "      <td>WV02</td>\n",
              "      <td>0.58</td>\n",
              "      <td>0.0.1</td>\n",
              "      <td>103001010A705C00</td>\n",
              "      <td>11</td>\n",
              "      <td>031311102012</td>\n",
              "      <td>27.7</td>\n",
              "      <td>233.9</td>\n",
              "      <td>...</td>\n",
              "      <td>165.1</td>\n",
              "      <td>31.1</td>\n",
              "      <td>32611</td>\n",
              "      <td>{'type': 'Polygon', 'coordinates': [[[349843.7...</td>\n",
              "      <td>MXRA-Z11-031311102012</td>\n",
              "      <td>349843.75,3789843.75,355156.25,3795156.25</td>\n",
              "      <td>28.2</td>\n",
              "      <td>0.1</td>\n",
              "      <td>0</td>\n",
              "      <td>https://maxar-opendata.s3.amazonaws.com/events...</td>\n",
              "    </tr>\n",
              "    <tr>\n",
              "      <th>...</th>\n",
              "      <td>...</td>\n",
              "      <td>...</td>\n",
              "      <td>...</td>\n",
              "      <td>...</td>\n",
              "      <td>...</td>\n",
              "      <td>...</td>\n",
              "      <td>...</td>\n",
              "      <td>...</td>\n",
              "      <td>...</td>\n",
              "      <td>...</td>\n",
              "      <td>...</td>\n",
              "      <td>...</td>\n",
              "      <td>...</td>\n",
              "      <td>...</td>\n",
              "      <td>...</td>\n",
              "      <td>...</td>\n",
              "      <td>...</td>\n",
              "      <td>...</td>\n",
              "      <td>...</td>\n",
              "      <td>...</td>\n",
              "      <td>...</td>\n",
              "    </tr>\n",
              "    <tr>\n",
              "      <th>395</th>\n",
              "      <td>POLYGON ((-118.19248 33.97619, -118.19211 33.9...</td>\n",
              "      <td>2025-01-16T18:53:43Z</td>\n",
              "      <td>GE01</td>\n",
              "      <td>0.51</td>\n",
              "      <td>0.0.1</td>\n",
              "      <td>105001004042BF00</td>\n",
              "      <td>11</td>\n",
              "      <td>031311121010</td>\n",
              "      <td>27.0</td>\n",
              "      <td>280.6</td>\n",
              "      <td>...</td>\n",
              "      <td>160.7</td>\n",
              "      <td>33.0</td>\n",
              "      <td>32611</td>\n",
              "      <td>{'type': 'Polygon', 'coordinates': [[[389843.7...</td>\n",
              "      <td>MXRA-Z11-031311121010</td>\n",
              "      <td>389843.75,3757120.9716796875,395156.25,3760156.25</td>\n",
              "      <td>15.8</td>\n",
              "      <td>0.0</td>\n",
              "      <td>0</td>\n",
              "      <td>https://maxar-opendata.s3.amazonaws.com/events...</td>\n",
              "    </tr>\n",
              "    <tr>\n",
              "      <th>396</th>\n",
              "      <td>POLYGON ((-118.13836 33.9767, -118.13799 33.94...</td>\n",
              "      <td>2025-01-16T18:53:42Z</td>\n",
              "      <td>GE01</td>\n",
              "      <td>0.51</td>\n",
              "      <td>0.0.1</td>\n",
              "      <td>105001004042BF00</td>\n",
              "      <td>11</td>\n",
              "      <td>031311121011</td>\n",
              "      <td>27.3</td>\n",
              "      <td>281.5</td>\n",
              "      <td>...</td>\n",
              "      <td>160.8</td>\n",
              "      <td>33.0</td>\n",
              "      <td>32611</td>\n",
              "      <td>{'type': 'Polygon', 'coordinates': [[[394843.7...</td>\n",
              "      <td>MXRA-Z11-031311121011</td>\n",
              "      <td>394843.75,3757027.2827148438,400156.25,3760156.25</td>\n",
              "      <td>16.3</td>\n",
              "      <td>0.0</td>\n",
              "      <td>0</td>\n",
              "      <td>https://maxar-opendata.s3.amazonaws.com/events...</td>\n",
              "    </tr>\n",
              "    <tr>\n",
              "      <th>397</th>\n",
              "      <td>POLYGON ((-118.08424 33.97719, -118.08388 33.9...</td>\n",
              "      <td>2025-01-16T18:53:41Z</td>\n",
              "      <td>GE01</td>\n",
              "      <td>0.51</td>\n",
              "      <td>0.0.1</td>\n",
              "      <td>105001004042BF00</td>\n",
              "      <td>11</td>\n",
              "      <td>031311121100</td>\n",
              "      <td>27.6</td>\n",
              "      <td>282.3</td>\n",
              "      <td>...</td>\n",
              "      <td>160.8</td>\n",
              "      <td>33.0</td>\n",
              "      <td>32611</td>\n",
              "      <td>{'type': 'Polygon', 'coordinates': [[[399843.7...</td>\n",
              "      <td>MXRA-Z11-031311121100</td>\n",
              "      <td>399843.75,3756937.255859375,405156.25,3760156.25</td>\n",
              "      <td>16.8</td>\n",
              "      <td>0.0</td>\n",
              "      <td>0</td>\n",
              "      <td>https://maxar-opendata.s3.amazonaws.com/events...</td>\n",
              "    </tr>\n",
              "    <tr>\n",
              "      <th>398</th>\n",
              "      <td>POLYGON ((-118.03012 33.97765, -118.02977 33.9...</td>\n",
              "      <td>2025-01-16T18:53:40Z</td>\n",
              "      <td>GE01</td>\n",
              "      <td>0.51</td>\n",
              "      <td>0.0.1</td>\n",
              "      <td>105001004042BF00</td>\n",
              "      <td>11</td>\n",
              "      <td>031311121101</td>\n",
              "      <td>27.8</td>\n",
              "      <td>283.2</td>\n",
              "      <td>...</td>\n",
              "      <td>160.8</td>\n",
              "      <td>33.0</td>\n",
              "      <td>32611</td>\n",
              "      <td>{'type': 'Polygon', 'coordinates': [[[404843.7...</td>\n",
              "      <td>MXRA-Z11-031311121101</td>\n",
              "      <td>404843.75,3756859.130859375,410156.25,3760156.25</td>\n",
              "      <td>17.2</td>\n",
              "      <td>0.0</td>\n",
              "      <td>0</td>\n",
              "      <td>https://maxar-opendata.s3.amazonaws.com/events...</td>\n",
              "    </tr>\n",
              "    <tr>\n",
              "      <th>399</th>\n",
              "      <td>POLYGON ((-117.976 33.97809, -117.97566 33.948...</td>\n",
              "      <td>2025-01-16T18:53:40Z</td>\n",
              "      <td>GE01</td>\n",
              "      <td>0.51</td>\n",
              "      <td>0.0.1</td>\n",
              "      <td>105001004042BF00</td>\n",
              "      <td>11</td>\n",
              "      <td>031311121110</td>\n",
              "      <td>27.9</td>\n",
              "      <td>283.2</td>\n",
              "      <td>...</td>\n",
              "      <td>160.8</td>\n",
              "      <td>33.0</td>\n",
              "      <td>32611</td>\n",
              "      <td>{'type': 'Polygon', 'coordinates': [[[409843.7...</td>\n",
              "      <td>MXRA-Z11-031311121110</td>\n",
              "      <td>409843.75,3756850.8911132812,410550.2319335937...</td>\n",
              "      <td>1.8</td>\n",
              "      <td>0.0</td>\n",
              "      <td>0</td>\n",
              "      <td>https://maxar-opendata.s3.amazonaws.com/events...</td>\n",
              "    </tr>\n",
              "  </tbody>\n",
              "</table>\n",
              "<p>400 rows × 21 columns</p>\n",
              "</div>\n",
              "    <div class=\"colab-df-buttons\">\n",
              "\n",
              "  <div class=\"colab-df-container\">\n",
              "    <button class=\"colab-df-convert\" onclick=\"convertToInteractive('df-f3d27eaa-ce1d-49c1-9a25-a1baa89a42dc')\"\n",
              "            title=\"Convert this dataframe to an interactive table.\"\n",
              "            style=\"display:none;\">\n",
              "\n",
              "  <svg xmlns=\"http://www.w3.org/2000/svg\" height=\"24px\" viewBox=\"0 -960 960 960\">\n",
              "    <path d=\"M120-120v-720h720v720H120Zm60-500h600v-160H180v160Zm220 220h160v-160H400v160Zm0 220h160v-160H400v160ZM180-400h160v-160H180v160Zm440 0h160v-160H620v160ZM180-180h160v-160H180v160Zm440 0h160v-160H620v160Z\"/>\n",
              "  </svg>\n",
              "    </button>\n",
              "\n",
              "  <style>\n",
              "    .colab-df-container {\n",
              "      display:flex;\n",
              "      gap: 12px;\n",
              "    }\n",
              "\n",
              "    .colab-df-convert {\n",
              "      background-color: #E8F0FE;\n",
              "      border: none;\n",
              "      border-radius: 50%;\n",
              "      cursor: pointer;\n",
              "      display: none;\n",
              "      fill: #1967D2;\n",
              "      height: 32px;\n",
              "      padding: 0 0 0 0;\n",
              "      width: 32px;\n",
              "    }\n",
              "\n",
              "    .colab-df-convert:hover {\n",
              "      background-color: #E2EBFA;\n",
              "      box-shadow: 0px 1px 2px rgba(60, 64, 67, 0.3), 0px 1px 3px 1px rgba(60, 64, 67, 0.15);\n",
              "      fill: #174EA6;\n",
              "    }\n",
              "\n",
              "    .colab-df-buttons div {\n",
              "      margin-bottom: 4px;\n",
              "    }\n",
              "\n",
              "    [theme=dark] .colab-df-convert {\n",
              "      background-color: #3B4455;\n",
              "      fill: #D2E3FC;\n",
              "    }\n",
              "\n",
              "    [theme=dark] .colab-df-convert:hover {\n",
              "      background-color: #434B5C;\n",
              "      box-shadow: 0px 1px 3px 1px rgba(0, 0, 0, 0.15);\n",
              "      filter: drop-shadow(0px 1px 2px rgba(0, 0, 0, 0.3));\n",
              "      fill: #FFFFFF;\n",
              "    }\n",
              "  </style>\n",
              "\n",
              "    <script>\n",
              "      const buttonEl =\n",
              "        document.querySelector('#df-f3d27eaa-ce1d-49c1-9a25-a1baa89a42dc button.colab-df-convert');\n",
              "      buttonEl.style.display =\n",
              "        google.colab.kernel.accessAllowed ? 'block' : 'none';\n",
              "\n",
              "      async function convertToInteractive(key) {\n",
              "        const element = document.querySelector('#df-f3d27eaa-ce1d-49c1-9a25-a1baa89a42dc');\n",
              "        const dataTable =\n",
              "          await google.colab.kernel.invokeFunction('convertToInteractive',\n",
              "                                                    [key], {});\n",
              "        if (!dataTable) return;\n",
              "\n",
              "        const docLinkHtml = 'Like what you see? Visit the ' +\n",
              "          '<a target=\"_blank\" href=https://colab.research.google.com/notebooks/data_table.ipynb>data table notebook</a>'\n",
              "          + ' to learn more about interactive tables.';\n",
              "        element.innerHTML = '';\n",
              "        dataTable['output_type'] = 'display_data';\n",
              "        await google.colab.output.renderOutput(dataTable, element);\n",
              "        const docLink = document.createElement('div');\n",
              "        docLink.innerHTML = docLinkHtml;\n",
              "        element.appendChild(docLink);\n",
              "      }\n",
              "    </script>\n",
              "  </div>\n",
              "\n",
              "\n",
              "<div id=\"df-4acbe344-91b1-47e8-967e-037b6eeef1db\">\n",
              "  <button class=\"colab-df-quickchart\" onclick=\"quickchart('df-4acbe344-91b1-47e8-967e-037b6eeef1db')\"\n",
              "            title=\"Suggest charts\"\n",
              "            style=\"display:none;\">\n",
              "\n",
              "<svg xmlns=\"http://www.w3.org/2000/svg\" height=\"24px\"viewBox=\"0 0 24 24\"\n",
              "     width=\"24px\">\n",
              "    <g>\n",
              "        <path d=\"M19 3H5c-1.1 0-2 .9-2 2v14c0 1.1.9 2 2 2h14c1.1 0 2-.9 2-2V5c0-1.1-.9-2-2-2zM9 17H7v-7h2v7zm4 0h-2V7h2v10zm4 0h-2v-4h2v4z\"/>\n",
              "    </g>\n",
              "</svg>\n",
              "  </button>\n",
              "\n",
              "<style>\n",
              "  .colab-df-quickchart {\n",
              "      --bg-color: #E8F0FE;\n",
              "      --fill-color: #1967D2;\n",
              "      --hover-bg-color: #E2EBFA;\n",
              "      --hover-fill-color: #174EA6;\n",
              "      --disabled-fill-color: #AAA;\n",
              "      --disabled-bg-color: #DDD;\n",
              "  }\n",
              "\n",
              "  [theme=dark] .colab-df-quickchart {\n",
              "      --bg-color: #3B4455;\n",
              "      --fill-color: #D2E3FC;\n",
              "      --hover-bg-color: #434B5C;\n",
              "      --hover-fill-color: #FFFFFF;\n",
              "      --disabled-bg-color: #3B4455;\n",
              "      --disabled-fill-color: #666;\n",
              "  }\n",
              "\n",
              "  .colab-df-quickchart {\n",
              "    background-color: var(--bg-color);\n",
              "    border: none;\n",
              "    border-radius: 50%;\n",
              "    cursor: pointer;\n",
              "    display: none;\n",
              "    fill: var(--fill-color);\n",
              "    height: 32px;\n",
              "    padding: 0;\n",
              "    width: 32px;\n",
              "  }\n",
              "\n",
              "  .colab-df-quickchart:hover {\n",
              "    background-color: var(--hover-bg-color);\n",
              "    box-shadow: 0 1px 2px rgba(60, 64, 67, 0.3), 0 1px 3px 1px rgba(60, 64, 67, 0.15);\n",
              "    fill: var(--button-hover-fill-color);\n",
              "  }\n",
              "\n",
              "  .colab-df-quickchart-complete:disabled,\n",
              "  .colab-df-quickchart-complete:disabled:hover {\n",
              "    background-color: var(--disabled-bg-color);\n",
              "    fill: var(--disabled-fill-color);\n",
              "    box-shadow: none;\n",
              "  }\n",
              "\n",
              "  .colab-df-spinner {\n",
              "    border: 2px solid var(--fill-color);\n",
              "    border-color: transparent;\n",
              "    border-bottom-color: var(--fill-color);\n",
              "    animation:\n",
              "      spin 1s steps(1) infinite;\n",
              "  }\n",
              "\n",
              "  @keyframes spin {\n",
              "    0% {\n",
              "      border-color: transparent;\n",
              "      border-bottom-color: var(--fill-color);\n",
              "      border-left-color: var(--fill-color);\n",
              "    }\n",
              "    20% {\n",
              "      border-color: transparent;\n",
              "      border-left-color: var(--fill-color);\n",
              "      border-top-color: var(--fill-color);\n",
              "    }\n",
              "    30% {\n",
              "      border-color: transparent;\n",
              "      border-left-color: var(--fill-color);\n",
              "      border-top-color: var(--fill-color);\n",
              "      border-right-color: var(--fill-color);\n",
              "    }\n",
              "    40% {\n",
              "      border-color: transparent;\n",
              "      border-right-color: var(--fill-color);\n",
              "      border-top-color: var(--fill-color);\n",
              "    }\n",
              "    60% {\n",
              "      border-color: transparent;\n",
              "      border-right-color: var(--fill-color);\n",
              "    }\n",
              "    80% {\n",
              "      border-color: transparent;\n",
              "      border-right-color: var(--fill-color);\n",
              "      border-bottom-color: var(--fill-color);\n",
              "    }\n",
              "    90% {\n",
              "      border-color: transparent;\n",
              "      border-bottom-color: var(--fill-color);\n",
              "    }\n",
              "  }\n",
              "</style>\n",
              "\n",
              "  <script>\n",
              "    async function quickchart(key) {\n",
              "      const quickchartButtonEl =\n",
              "        document.querySelector('#' + key + ' button');\n",
              "      quickchartButtonEl.disabled = true;  // To prevent multiple clicks.\n",
              "      quickchartButtonEl.classList.add('colab-df-spinner');\n",
              "      try {\n",
              "        const charts = await google.colab.kernel.invokeFunction(\n",
              "            'suggestCharts', [key], {});\n",
              "      } catch (error) {\n",
              "        console.error('Error during call to suggestCharts:', error);\n",
              "      }\n",
              "      quickchartButtonEl.classList.remove('colab-df-spinner');\n",
              "      quickchartButtonEl.classList.add('colab-df-quickchart-complete');\n",
              "    }\n",
              "    (() => {\n",
              "      let quickchartButtonEl =\n",
              "        document.querySelector('#df-4acbe344-91b1-47e8-967e-037b6eeef1db button');\n",
              "      quickchartButtonEl.style.display =\n",
              "        google.colab.kernel.accessAllowed ? 'block' : 'none';\n",
              "    })();\n",
              "  </script>\n",
              "</div>\n",
              "\n",
              "  <div id=\"id_1d8e94ae-9251-42ab-aa9d-a501b8386b42\">\n",
              "    <style>\n",
              "      .colab-df-generate {\n",
              "        background-color: #E8F0FE;\n",
              "        border: none;\n",
              "        border-radius: 50%;\n",
              "        cursor: pointer;\n",
              "        display: none;\n",
              "        fill: #1967D2;\n",
              "        height: 32px;\n",
              "        padding: 0 0 0 0;\n",
              "        width: 32px;\n",
              "      }\n",
              "\n",
              "      .colab-df-generate:hover {\n",
              "        background-color: #E2EBFA;\n",
              "        box-shadow: 0px 1px 2px rgba(60, 64, 67, 0.3), 0px 1px 3px 1px rgba(60, 64, 67, 0.15);\n",
              "        fill: #174EA6;\n",
              "      }\n",
              "\n",
              "      [theme=dark] .colab-df-generate {\n",
              "        background-color: #3B4455;\n",
              "        fill: #D2E3FC;\n",
              "      }\n",
              "\n",
              "      [theme=dark] .colab-df-generate:hover {\n",
              "        background-color: #434B5C;\n",
              "        box-shadow: 0px 1px 3px 1px rgba(0, 0, 0, 0.15);\n",
              "        filter: drop-shadow(0px 1px 2px rgba(0, 0, 0, 0.3));\n",
              "        fill: #FFFFFF;\n",
              "      }\n",
              "    </style>\n",
              "    <button class=\"colab-df-generate\" onclick=\"generateWithVariable('gdf')\"\n",
              "            title=\"Generate code using this dataframe.\"\n",
              "            style=\"display:none;\">\n",
              "\n",
              "  <svg xmlns=\"http://www.w3.org/2000/svg\" height=\"24px\"viewBox=\"0 0 24 24\"\n",
              "       width=\"24px\">\n",
              "    <path d=\"M7,19H8.4L18.45,9,17,7.55,7,17.6ZM5,21V16.75L18.45,3.32a2,2,0,0,1,2.83,0l1.4,1.43a1.91,1.91,0,0,1,.58,1.4,1.91,1.91,0,0,1-.58,1.4L9.25,21ZM18.45,9,17,7.55Zm-12,3A5.31,5.31,0,0,0,4.9,8.1,5.31,5.31,0,0,0,1,6.5,5.31,5.31,0,0,0,4.9,4.9,5.31,5.31,0,0,0,6.5,1,5.31,5.31,0,0,0,8.1,4.9,5.31,5.31,0,0,0,12,6.5,5.46,5.46,0,0,0,6.5,12Z\"/>\n",
              "  </svg>\n",
              "    </button>\n",
              "    <script>\n",
              "      (() => {\n",
              "      const buttonEl =\n",
              "        document.querySelector('#id_1d8e94ae-9251-42ab-aa9d-a501b8386b42 button.colab-df-generate');\n",
              "      buttonEl.style.display =\n",
              "        google.colab.kernel.accessAllowed ? 'block' : 'none';\n",
              "\n",
              "      buttonEl.onclick = () => {\n",
              "        google.colab.notebook.generateWithVariable('gdf');\n",
              "      }\n",
              "      })();\n",
              "    </script>\n",
              "  </div>\n",
              "\n",
              "    </div>\n",
              "  </div>\n"
            ],
            "application/vnd.google.colaboratory.intrinsic+json": {
              "type": "dataframe",
              "variable_name": "gdf"
            }
          },
          "metadata": {},
          "execution_count": 23
        }
      ],
      "source": [
        "gdf = leafmap.maxar_all_items(\n",
        "    collection_id='WildFires-LosAngeles-Jan-2025',\n",
        "    return_gdf=True,\n",
        "    verbose=True\n",
        "    )\n",
        "gdf.to_file('maxar_footprints.geojson', driver='GeoJSON')\n",
        "gdf"
      ]
    },
    {
      "cell_type": "markdown",
      "id": "20",
      "metadata": {
        "id": "20"
      },
      "source": [
        "Add the footprints to the map:"
      ]
    },
    {
      "cell_type": "code",
      "execution_count": null,
      "id": "21",
      "metadata": {
        "id": "21"
      },
      "outputs": [],
      "source": [
        "m = leafmap.Map(center=[36.844461, 37.386475], zoom=8)\n",
        "# m.add_gdf(gdf, layer_name=\"Footprints\")\n",
        "url = \"https://cdn.glitch.global/cc5b7737-d8d0-4b07-bf2f-867b9009e986/maxar_footprints.geojson?v=1676583955698\"\n",
        "m.add_geojson(url, layer_name=\"Footprints\")\n",
        "m"
      ]
    },
    {
      "cell_type": "code",
      "source": [
        "images = gdf[\"visual\"].tolist()\n",
        "images[:5]"
      ],
      "metadata": {
        "colab": {
          "base_uri": "https://localhost:8080/",
          "height": 158
        },
        "id": "QgzdW9BS3hi0",
        "outputId": "57614287-4e2e-4121-b540-0000f42c6fa4"
      },
      "id": "QgzdW9BS3hi0",
      "execution_count": 22,
      "outputs": [
        {
          "output_type": "error",
          "ename": "AttributeError",
          "evalue": "'list' object has no attribute 'tolist'",
          "traceback": [
            "\u001b[0;31m---------------------------------------------------------------------------\u001b[0m",
            "\u001b[0;31mAttributeError\u001b[0m                            Traceback (most recent call last)",
            "\u001b[0;32m<ipython-input-22-5091744df759>\u001b[0m in \u001b[0;36m<cell line: 0>\u001b[0;34m()\u001b[0m\n\u001b[0;32m----> 1\u001b[0;31m \u001b[0mimages\u001b[0m \u001b[0;34m=\u001b[0m \u001b[0mgdf\u001b[0m\u001b[0;34m[\u001b[0m\u001b[0;34m\"visual\"\u001b[0m\u001b[0;34m]\u001b[0m\u001b[0;34m.\u001b[0m\u001b[0mtolist\u001b[0m\u001b[0;34m(\u001b[0m\u001b[0;34m)\u001b[0m\u001b[0;34m\u001b[0m\u001b[0;34m\u001b[0m\u001b[0m\n\u001b[0m\u001b[1;32m      2\u001b[0m \u001b[0mimages\u001b[0m\u001b[0;34m[\u001b[0m\u001b[0;34m:\u001b[0m\u001b[0;36m5\u001b[0m\u001b[0;34m]\u001b[0m\u001b[0;34m\u001b[0m\u001b[0;34m\u001b[0m\u001b[0m\n",
            "\u001b[0;31mAttributeError\u001b[0m: 'list' object has no attribute 'tolist'"
          ]
        }
      ]
    },
    {
      "cell_type": "code",
      "source": [
        "leafmap.maxar_download(images)"
      ],
      "metadata": {
        "colab": {
          "base_uri": "https://localhost:8080/",
          "height": 1000
        },
        "id": "M3DQEswk33rK",
        "outputId": "fbf10788-6f85-4a5a-be5e-985fc787faa5"
      },
      "id": "M3DQEswk33rK",
      "execution_count": 14,
      "outputs": [
        {
          "output_type": "stream",
          "name": "stdout",
          "text": [
            "/content/103001010A705C00/031311102001.tif already exists. Skipping...\n",
            "/content/103001010A705C00/031311102003.tif already exists. Skipping...\n",
            "Downloading 003 out of 400: 103001010A705C00/031311102010.tif\n"
          ]
        },
        {
          "output_type": "stream",
          "name": "stderr",
          "text": [
            "Downloading...\n",
            "From: https://maxar-opendata.s3.amazonaws.com/events/WildFires-LosAngeles-Jan-2025/ard/11/031311102010/2024-12-14/103001010A705C00-visual.tif\n",
            "To: /content/103001010A705C00/031311102010.tif\n",
            "100%|██████████| 66.0M/66.0M [00:02<00:00, 23.9MB/s]\n",
            "Downloading...\n",
            "From: https://maxar-opendata.s3.amazonaws.com/events/WildFires-LosAngeles-Jan-2025/ard/11/031311102011/2024-12-14/103001010A705C00-visual.tif\n",
            "To: /content/103001010A705C00/031311102011.tif\n"
          ]
        },
        {
          "output_type": "stream",
          "name": "stdout",
          "text": [
            "Downloading 004 out of 400: 103001010A705C00/031311102011.tif\n"
          ]
        },
        {
          "output_type": "stream",
          "name": "stderr",
          "text": [
            "100%|██████████| 58.6M/58.6M [00:02<00:00, 28.8MB/s]\n"
          ]
        },
        {
          "output_type": "stream",
          "name": "stdout",
          "text": [
            "Downloading 005 out of 400: 103001010A705C00/031311102012.tif\n"
          ]
        },
        {
          "output_type": "stream",
          "name": "stderr",
          "text": [
            "Downloading...\n",
            "From: https://maxar-opendata.s3.amazonaws.com/events/WildFires-LosAngeles-Jan-2025/ard/11/031311102012/2024-12-14/103001010A705C00-visual.tif\n",
            "To: /content/103001010A705C00/031311102012.tif\n",
            "100%|██████████| 69.9M/69.9M [00:02<00:00, 25.6MB/s]\n"
          ]
        },
        {
          "output_type": "stream",
          "name": "stdout",
          "text": [
            "Downloading 006 out of 400: 103001010A705C00/031311102013.tif\n"
          ]
        },
        {
          "output_type": "stream",
          "name": "stderr",
          "text": [
            "Downloading...\n",
            "From: https://maxar-opendata.s3.amazonaws.com/events/WildFires-LosAngeles-Jan-2025/ard/11/031311102013/2024-12-14/103001010A705C00-visual.tif\n",
            "To: /content/103001010A705C00/031311102013.tif\n",
            "100%|██████████| 67.5M/67.5M [00:02<00:00, 24.3MB/s]\n"
          ]
        },
        {
          "output_type": "stream",
          "name": "stdout",
          "text": [
            "Downloading 007 out of 400: 103001010A705C00/031311102021.tif\n"
          ]
        },
        {
          "output_type": "stream",
          "name": "stderr",
          "text": [
            "Downloading...\n",
            "From: https://maxar-opendata.s3.amazonaws.com/events/WildFires-LosAngeles-Jan-2025/ard/11/031311102021/2024-12-14/103001010A705C00-visual.tif\n",
            "To: /content/103001010A705C00/031311102021.tif\n",
            "100%|██████████| 31.4M/31.4M [00:00<00:00, 40.7MB/s]\n"
          ]
        },
        {
          "output_type": "stream",
          "name": "stdout",
          "text": [
            "Downloading 008 out of 400: 103001010A705C00/031311102030.tif\n"
          ]
        },
        {
          "output_type": "stream",
          "name": "stderr",
          "text": [
            "Downloading...\n",
            "From: https://maxar-opendata.s3.amazonaws.com/events/WildFires-LosAngeles-Jan-2025/ard/11/031311102030/2024-12-14/103001010A705C00-visual.tif\n",
            "To: /content/103001010A705C00/031311102030.tif\n",
            "100%|██████████| 71.5M/71.5M [00:02<00:00, 26.9MB/s]\n",
            "Downloading...\n",
            "From: https://maxar-opendata.s3.amazonaws.com/events/WildFires-LosAngeles-Jan-2025/ard/11/031311102031/2024-12-14/103001010A705C00-visual.tif\n",
            "To: /content/103001010A705C00/031311102031.tif\n"
          ]
        },
        {
          "output_type": "stream",
          "name": "stdout",
          "text": [
            "Downloading 009 out of 400: 103001010A705C00/031311102031.tif\n"
          ]
        },
        {
          "output_type": "stream",
          "name": "stderr",
          "text": [
            "100%|██████████| 71.4M/71.4M [00:02<00:00, 34.8MB/s]\n"
          ]
        },
        {
          "output_type": "stream",
          "name": "stdout",
          "text": [
            "Downloading 010 out of 400: 103001010A705C00/031311102100.tif\n"
          ]
        },
        {
          "output_type": "stream",
          "name": "stderr",
          "text": [
            "Downloading...\n",
            "From: https://maxar-opendata.s3.amazonaws.com/events/WildFires-LosAngeles-Jan-2025/ard/11/031311102100/2024-12-14/103001010A705C00-visual.tif\n",
            "To: /content/103001010A705C00/031311102100.tif\n",
            "100%|██████████| 66.9M/66.9M [00:01<00:00, 34.1MB/s]\n"
          ]
        },
        {
          "output_type": "stream",
          "name": "stdout",
          "text": [
            "Downloading 011 out of 400: 103001010A705C00/031311102102.tif\n"
          ]
        },
        {
          "output_type": "stream",
          "name": "stderr",
          "text": [
            "Downloading...\n",
            "From: https://maxar-opendata.s3.amazonaws.com/events/WildFires-LosAngeles-Jan-2025/ard/11/031311102102/2024-12-14/103001010A705C00-visual.tif\n",
            "To: /content/103001010A705C00/031311102102.tif\n",
            "100%|██████████| 71.1M/71.1M [00:02<00:00, 31.2MB/s]\n"
          ]
        },
        {
          "output_type": "stream",
          "name": "stdout",
          "text": [
            "Downloading 012 out of 400: 103001010A705C00/031311102120.tif\n"
          ]
        },
        {
          "output_type": "stream",
          "name": "stderr",
          "text": [
            "Downloading...\n",
            "From: https://maxar-opendata.s3.amazonaws.com/events/WildFires-LosAngeles-Jan-2025/ard/11/031311102120/2024-12-14/103001010A705C00-visual.tif\n",
            "To: /content/103001010A705C00/031311102120.tif\n",
            "100%|██████████| 66.9M/66.9M [00:01<00:00, 35.8MB/s]\n",
            "Downloading...\n",
            "From: https://maxar-opendata.s3.amazonaws.com/events/WildFires-LosAngeles-Jan-2025/ard/11/031311100221/2025-01-13/103001010B9A1B00-visual.tif\n",
            "To: /content/103001010B9A1B00/031311100221.tif\n"
          ]
        },
        {
          "output_type": "stream",
          "name": "stdout",
          "text": [
            "Downloading 013 out of 400: 103001010B9A1B00/031311100221.tif\n"
          ]
        },
        {
          "output_type": "stream",
          "name": "stderr",
          "text": [
            "100%|██████████| 7.30M/7.30M [00:00<00:00, 62.9MB/s]\n",
            "Downloading...\n",
            "From: https://maxar-opendata.s3.amazonaws.com/events/WildFires-LosAngeles-Jan-2025/ard/11/031311100223/2025-01-13/103001010B9A1B00-visual.tif\n",
            "To: /content/103001010B9A1B00/031311100223.tif\n"
          ]
        },
        {
          "output_type": "stream",
          "name": "stdout",
          "text": [
            "Downloading 014 out of 400: 103001010B9A1B00/031311100223.tif\n"
          ]
        },
        {
          "output_type": "stream",
          "name": "stderr",
          "text": [
            "100%|██████████| 28.4M/28.4M [00:00<00:00, 39.1MB/s]\n",
            "Downloading...\n",
            "From: https://maxar-opendata.s3.amazonaws.com/events/WildFires-LosAngeles-Jan-2025/ard/11/031311100230/2025-01-13/103001010B9A1B00-visual.tif\n",
            "To: /content/103001010B9A1B00/031311100230.tif\n"
          ]
        },
        {
          "output_type": "stream",
          "name": "stdout",
          "text": [
            "Downloading 015 out of 400: 103001010B9A1B00/031311100230.tif\n"
          ]
        },
        {
          "output_type": "stream",
          "name": "stderr",
          "text": [
            "100%|██████████| 12.5M/12.5M [00:00<00:00, 58.2MB/s]\n",
            "Downloading...\n",
            "From: https://maxar-opendata.s3.amazonaws.com/events/WildFires-LosAngeles-Jan-2025/ard/11/031311100231/2025-01-13/103001010B9A1B00-visual.tif\n",
            "To: /content/103001010B9A1B00/031311100231.tif\n"
          ]
        },
        {
          "output_type": "stream",
          "name": "stdout",
          "text": [
            "Downloading 016 out of 400: 103001010B9A1B00/031311100231.tif\n"
          ]
        },
        {
          "output_type": "stream",
          "name": "stderr",
          "text": [
            "100%|██████████| 9.07M/9.07M [00:00<00:00, 70.0MB/s]\n",
            "Downloading...\n",
            "From: https://maxar-opendata.s3.amazonaws.com/events/WildFires-LosAngeles-Jan-2025/ard/11/031311100232/2025-01-13/103001010B9A1B00-visual.tif\n",
            "To: /content/103001010B9A1B00/031311100232.tif\n"
          ]
        },
        {
          "output_type": "stream",
          "name": "stdout",
          "text": [
            "Downloading 017 out of 400: 103001010B9A1B00/031311100232.tif\n"
          ]
        },
        {
          "output_type": "stream",
          "name": "stderr",
          "text": [
            "100%|██████████| 66.5M/66.5M [00:02<00:00, 25.4MB/s]\n",
            "Downloading...\n",
            "From: https://maxar-opendata.s3.amazonaws.com/events/WildFires-LosAngeles-Jan-2025/ard/11/031311100233/2025-01-13/103001010B9A1B00-visual.tif\n",
            "To: /content/103001010B9A1B00/031311100233.tif\n"
          ]
        },
        {
          "output_type": "stream",
          "name": "stdout",
          "text": [
            "Downloading 018 out of 400: 103001010B9A1B00/031311100233.tif\n"
          ]
        },
        {
          "output_type": "stream",
          "name": "stderr",
          "text": [
            "100%|██████████| 68.6M/68.6M [00:02<00:00, 29.4MB/s]\n",
            "Downloading...\n",
            "From: https://maxar-opendata.s3.amazonaws.com/events/WildFires-LosAngeles-Jan-2025/ard/11/031311100320/2025-01-13/103001010B9A1B00-visual.tif\n",
            "To: /content/103001010B9A1B00/031311100320.tif\n"
          ]
        },
        {
          "output_type": "stream",
          "name": "stdout",
          "text": [
            "Downloading 019 out of 400: 103001010B9A1B00/031311100320.tif\n"
          ]
        },
        {
          "output_type": "stream",
          "name": "stderr",
          "text": [
            "100%|██████████| 4.39M/4.39M [00:00<00:00, 35.3MB/s]\n",
            "Downloading...\n",
            "From: https://maxar-opendata.s3.amazonaws.com/events/WildFires-LosAngeles-Jan-2025/ard/11/031311100322/2025-01-13/103001010B9A1B00-visual.tif\n",
            "To: /content/103001010B9A1B00/031311100322.tif\n"
          ]
        },
        {
          "output_type": "stream",
          "name": "stdout",
          "text": [
            "Downloading 020 out of 400: 103001010B9A1B00/031311100322.tif\n"
          ]
        },
        {
          "output_type": "stream",
          "name": "stderr",
          "text": [
            "100%|██████████| 39.8M/39.8M [00:01<00:00, 32.1MB/s]\n",
            "Downloading...\n",
            "From: https://maxar-opendata.s3.amazonaws.com/events/WildFires-LosAngeles-Jan-2025/ard/11/031311102001/2025-01-13/103001010B9A1B00-visual.tif\n",
            "To: /content/103001010B9A1B00/031311102001.tif\n"
          ]
        },
        {
          "output_type": "stream",
          "name": "stdout",
          "text": [
            "Downloading 021 out of 400: 103001010B9A1B00/031311102001.tif\n"
          ]
        },
        {
          "output_type": "stream",
          "name": "stderr",
          "text": [
            "100%|██████████| 29.5M/29.5M [00:01<00:00, 27.9MB/s]\n",
            "Downloading...\n",
            "From: https://maxar-opendata.s3.amazonaws.com/events/WildFires-LosAngeles-Jan-2025/ard/11/031311102003/2025-01-13/103001010B9A1B00-visual.tif\n",
            "To: /content/103001010B9A1B00/031311102003.tif\n"
          ]
        },
        {
          "output_type": "stream",
          "name": "stdout",
          "text": [
            "Downloading 022 out of 400: 103001010B9A1B00/031311102003.tif\n"
          ]
        },
        {
          "output_type": "stream",
          "name": "stderr",
          "text": [
            "100%|██████████| 32.0M/32.0M [00:01<00:00, 31.2MB/s]\n",
            "Downloading...\n",
            "From: https://maxar-opendata.s3.amazonaws.com/events/WildFires-LosAngeles-Jan-2025/ard/11/031311102010/2025-01-13/103001010B9A1B00-visual.tif\n",
            "To: /content/103001010B9A1B00/031311102010.tif\n"
          ]
        },
        {
          "output_type": "stream",
          "name": "stdout",
          "text": [
            "Downloading 023 out of 400: 103001010B9A1B00/031311102010.tif\n"
          ]
        },
        {
          "output_type": "stream",
          "name": "stderr",
          "text": [
            "100%|██████████| 69.5M/69.5M [00:03<00:00, 23.0MB/s]\n",
            "Downloading...\n",
            "From: https://maxar-opendata.s3.amazonaws.com/events/WildFires-LosAngeles-Jan-2025/ard/11/031311102011/2025-01-13/103001010B9A1B00-visual.tif\n",
            "To: /content/103001010B9A1B00/031311102011.tif\n"
          ]
        },
        {
          "output_type": "stream",
          "name": "stdout",
          "text": [
            "Downloading 024 out of 400: 103001010B9A1B00/031311102011.tif\n"
          ]
        },
        {
          "output_type": "stream",
          "name": "stderr",
          "text": [
            "100%|██████████| 68.7M/68.7M [00:02<00:00, 26.7MB/s]\n",
            "Downloading...\n",
            "From: https://maxar-opendata.s3.amazonaws.com/events/WildFires-LosAngeles-Jan-2025/ard/11/031311102012/2025-01-13/103001010B9A1B00-visual.tif\n",
            "To: /content/103001010B9A1B00/031311102012.tif\n"
          ]
        },
        {
          "output_type": "stream",
          "name": "stdout",
          "text": [
            "Downloading 025 out of 400: 103001010B9A1B00/031311102012.tif\n"
          ]
        },
        {
          "output_type": "stream",
          "name": "stderr",
          "text": [
            "100%|██████████| 75.5M/75.5M [00:02<00:00, 32.3MB/s]\n",
            "Downloading...\n",
            "From: https://maxar-opendata.s3.amazonaws.com/events/WildFires-LosAngeles-Jan-2025/ard/11/031311102013/2025-01-13/103001010B9A1B00-visual.tif\n",
            "To: /content/103001010B9A1B00/031311102013.tif\n"
          ]
        },
        {
          "output_type": "stream",
          "name": "stdout",
          "text": [
            "Downloading 026 out of 400: 103001010B9A1B00/031311102013.tif\n"
          ]
        },
        {
          "output_type": "stream",
          "name": "stderr",
          "text": [
            "100%|██████████| 77.1M/77.1M [00:02<00:00, 28.1MB/s]\n",
            "Downloading...\n",
            "From: https://maxar-opendata.s3.amazonaws.com/events/WildFires-LosAngeles-Jan-2025/ard/11/031311102021/2025-01-13/103001010B9A1B00-visual.tif\n",
            "To: /content/103001010B9A1B00/031311102021.tif\n"
          ]
        },
        {
          "output_type": "stream",
          "name": "stdout",
          "text": [
            "Downloading 027 out of 400: 103001010B9A1B00/031311102021.tif\n"
          ]
        },
        {
          "output_type": "stream",
          "name": "stderr",
          "text": [
            "100%|██████████| 31.3M/31.3M [00:00<00:00, 36.1MB/s]\n",
            "Downloading...\n",
            "From: https://maxar-opendata.s3.amazonaws.com/events/WildFires-LosAngeles-Jan-2025/ard/11/031311102023/2025-01-13/103001010B9A1B00-visual.tif\n",
            "To: /content/103001010B9A1B00/031311102023.tif\n"
          ]
        },
        {
          "output_type": "stream",
          "name": "stdout",
          "text": [
            "Downloading 028 out of 400: 103001010B9A1B00/031311102023.tif\n"
          ]
        },
        {
          "output_type": "stream",
          "name": "stderr",
          "text": [
            "100%|██████████| 31.9M/31.9M [00:00<00:00, 31.9MB/s]\n",
            "Downloading...\n",
            "From: https://maxar-opendata.s3.amazonaws.com/events/WildFires-LosAngeles-Jan-2025/ard/11/031311102030/2025-01-13/103001010B9A1B00-visual.tif\n",
            "To: /content/103001010B9A1B00/031311102030.tif\n"
          ]
        },
        {
          "output_type": "stream",
          "name": "stdout",
          "text": [
            "Downloading 029 out of 400: 103001010B9A1B00/031311102030.tif\n"
          ]
        },
        {
          "output_type": "stream",
          "name": "stderr",
          "text": [
            "100%|██████████| 77.4M/77.4M [00:02<00:00, 30.1MB/s]\n",
            "Downloading...\n",
            "From: https://maxar-opendata.s3.amazonaws.com/events/WildFires-LosAngeles-Jan-2025/ard/11/031311102031/2025-01-13/103001010B9A1B00-visual.tif\n",
            "To: /content/103001010B9A1B00/031311102031.tif\n"
          ]
        },
        {
          "output_type": "stream",
          "name": "stdout",
          "text": [
            "Downloading 030 out of 400: 103001010B9A1B00/031311102031.tif\n"
          ]
        },
        {
          "output_type": "stream",
          "name": "stderr",
          "text": [
            "100%|██████████| 77.9M/77.9M [00:02<00:00, 26.6MB/s]\n",
            "Downloading...\n",
            "From: https://maxar-opendata.s3.amazonaws.com/events/WildFires-LosAngeles-Jan-2025/ard/11/031311102032/2025-01-13/103001010B9A1B00-visual.tif\n",
            "To: /content/103001010B9A1B00/031311102032.tif\n"
          ]
        },
        {
          "output_type": "stream",
          "name": "stdout",
          "text": [
            "Downloading 031 out of 400: 103001010B9A1B00/031311102032.tif\n"
          ]
        },
        {
          "output_type": "stream",
          "name": "stderr",
          "text": [
            "100%|██████████| 76.8M/76.8M [00:02<00:00, 33.8MB/s]\n",
            "Downloading...\n",
            "From: https://maxar-opendata.s3.amazonaws.com/events/WildFires-LosAngeles-Jan-2025/ard/11/031311102033/2025-01-13/103001010B9A1B00-visual.tif\n",
            "To: /content/103001010B9A1B00/031311102033.tif\n"
          ]
        },
        {
          "output_type": "stream",
          "name": "stdout",
          "text": [
            "Downloading 032 out of 400: 103001010B9A1B00/031311102033.tif\n"
          ]
        },
        {
          "output_type": "stream",
          "name": "stderr",
          "text": [
            "100%|██████████| 77.3M/77.3M [00:03<00:00, 21.5MB/s]\n",
            "Downloading...\n",
            "From: https://maxar-opendata.s3.amazonaws.com/events/WildFires-LosAngeles-Jan-2025/ard/11/031311102100/2025-01-13/103001010B9A1B00-visual.tif\n",
            "To: /content/103001010B9A1B00/031311102100.tif\n"
          ]
        },
        {
          "output_type": "stream",
          "name": "stdout",
          "text": [
            "Downloading 033 out of 400: 103001010B9A1B00/031311102100.tif\n"
          ]
        },
        {
          "output_type": "stream",
          "name": "stderr",
          "text": [
            "100%|██████████| 42.9M/42.9M [00:01<00:00, 32.3MB/s]\n",
            "Downloading...\n",
            "From: https://maxar-opendata.s3.amazonaws.com/events/WildFires-LosAngeles-Jan-2025/ard/11/031311102102/2025-01-13/103001010B9A1B00-visual.tif\n",
            "To: /content/103001010B9A1B00/031311102102.tif\n"
          ]
        },
        {
          "output_type": "stream",
          "name": "stdout",
          "text": [
            "Downloading 034 out of 400: 103001010B9A1B00/031311102102.tif\n"
          ]
        },
        {
          "output_type": "stream",
          "name": "stderr",
          "text": [
            "100%|██████████| 47.9M/47.9M [00:02<00:00, 23.8MB/s]\n",
            "Downloading...\n",
            "From: https://maxar-opendata.s3.amazonaws.com/events/WildFires-LosAngeles-Jan-2025/ard/11/031311102120/2025-01-13/103001010B9A1B00-visual.tif\n",
            "To: /content/103001010B9A1B00/031311102120.tif\n"
          ]
        },
        {
          "output_type": "stream",
          "name": "stdout",
          "text": [
            "Downloading 035 out of 400: 103001010B9A1B00/031311102120.tif\n"
          ]
        },
        {
          "output_type": "stream",
          "name": "stderr",
          "text": [
            "100%|██████████| 45.4M/45.4M [00:01<00:00, 29.1MB/s]\n",
            "Downloading...\n",
            "From: https://maxar-opendata.s3.amazonaws.com/events/WildFires-LosAngeles-Jan-2025/ard/11/031311102122/2025-01-13/103001010B9A1B00-visual.tif\n",
            "To: /content/103001010B9A1B00/031311102122.tif\n"
          ]
        },
        {
          "output_type": "stream",
          "name": "stdout",
          "text": [
            "Downloading 036 out of 400: 103001010B9A1B00/031311102122.tif\n"
          ]
        },
        {
          "output_type": "stream",
          "name": "stderr",
          "text": [
            "100%|██████████| 42.7M/42.7M [00:01<00:00, 27.4MB/s]\n",
            "Downloading...\n",
            "From: https://maxar-opendata.s3.amazonaws.com/events/WildFires-LosAngeles-Jan-2025/ard/11/031311102201/2025-01-13/103001010B9A1B00-visual.tif\n",
            "To: /content/103001010B9A1B00/031311102201.tif\n"
          ]
        },
        {
          "output_type": "stream",
          "name": "stdout",
          "text": [
            "Downloading 037 out of 400: 103001010B9A1B00/031311102201.tif\n"
          ]
        },
        {
          "output_type": "stream",
          "name": "stderr",
          "text": [
            "100%|██████████| 29.3M/29.3M [00:00<00:00, 38.4MB/s]\n",
            "Downloading...\n",
            "From: https://maxar-opendata.s3.amazonaws.com/events/WildFires-LosAngeles-Jan-2025/ard/11/031311102203/2025-01-13/103001010B9A1B00-visual.tif\n",
            "To: /content/103001010B9A1B00/031311102203.tif\n"
          ]
        },
        {
          "output_type": "stream",
          "name": "stdout",
          "text": [
            "Downloading 038 out of 400: 103001010B9A1B00/031311102203.tif\n"
          ]
        },
        {
          "output_type": "stream",
          "name": "stderr",
          "text": [
            "100%|██████████| 26.6M/26.6M [00:00<00:00, 28.0MB/s]\n",
            "Downloading...\n",
            "From: https://maxar-opendata.s3.amazonaws.com/events/WildFires-LosAngeles-Jan-2025/ard/11/031311102210/2025-01-13/103001010B9A1B00-visual.tif\n",
            "To: /content/103001010B9A1B00/031311102210.tif\n"
          ]
        },
        {
          "output_type": "stream",
          "name": "stdout",
          "text": [
            "Downloading 039 out of 400: 103001010B9A1B00/031311102210.tif\n"
          ]
        },
        {
          "output_type": "stream",
          "name": "stderr",
          "text": [
            "100%|██████████| 72.8M/72.8M [00:02<00:00, 24.3MB/s]\n",
            "Downloading...\n",
            "From: https://maxar-opendata.s3.amazonaws.com/events/WildFires-LosAngeles-Jan-2025/ard/11/031311102211/2025-01-13/103001010B9A1B00-visual.tif\n",
            "To: /content/103001010B9A1B00/031311102211.tif\n"
          ]
        },
        {
          "output_type": "stream",
          "name": "stdout",
          "text": [
            "Downloading 040 out of 400: 103001010B9A1B00/031311102211.tif\n"
          ]
        },
        {
          "output_type": "stream",
          "name": "stderr",
          "text": [
            "100%|██████████| 68.1M/68.1M [00:03<00:00, 21.1MB/s]\n",
            "Downloading...\n",
            "From: https://maxar-opendata.s3.amazonaws.com/events/WildFires-LosAngeles-Jan-2025/ard/11/031311102212/2025-01-13/103001010B9A1B00-visual.tif\n",
            "To: /content/103001010B9A1B00/031311102212.tif\n"
          ]
        },
        {
          "output_type": "stream",
          "name": "stdout",
          "text": [
            "Downloading 041 out of 400: 103001010B9A1B00/031311102212.tif\n"
          ]
        },
        {
          "output_type": "stream",
          "name": "stderr",
          "text": [
            "100%|██████████| 65.0M/65.0M [00:02<00:00, 31.2MB/s]\n",
            "Downloading...\n",
            "From: https://maxar-opendata.s3.amazonaws.com/events/WildFires-LosAngeles-Jan-2025/ard/11/031311102213/2025-01-13/103001010B9A1B00-visual.tif\n",
            "To: /content/103001010B9A1B00/031311102213.tif\n"
          ]
        },
        {
          "output_type": "stream",
          "name": "stdout",
          "text": [
            "Downloading 042 out of 400: 103001010B9A1B00/031311102213.tif\n"
          ]
        },
        {
          "output_type": "stream",
          "name": "stderr",
          "text": [
            "100%|██████████| 61.0M/61.0M [00:02<00:00, 26.5MB/s]\n",
            "Downloading...\n",
            "From: https://maxar-opendata.s3.amazonaws.com/events/WildFires-LosAngeles-Jan-2025/ard/11/031311102221/2025-01-13/103001010B9A1B00-visual.tif\n",
            "To: /content/103001010B9A1B00/031311102221.tif\n"
          ]
        },
        {
          "output_type": "stream",
          "name": "stdout",
          "text": [
            "Downloading 043 out of 400: 103001010B9A1B00/031311102221.tif\n"
          ]
        },
        {
          "output_type": "stream",
          "name": "stderr",
          "text": [
            "100%|██████████| 16.2M/16.2M [00:00<00:00, 31.4MB/s]\n",
            "Downloading...\n",
            "From: https://maxar-opendata.s3.amazonaws.com/events/WildFires-LosAngeles-Jan-2025/ard/11/031311102230/2025-01-13/103001010B9A1B00-visual.tif\n",
            "To: /content/103001010B9A1B00/031311102230.tif\n"
          ]
        },
        {
          "output_type": "stream",
          "name": "stdout",
          "text": [
            "Downloading 044 out of 400: 103001010B9A1B00/031311102230.tif\n"
          ]
        },
        {
          "output_type": "stream",
          "name": "stderr",
          "text": [
            "100%|██████████| 46.1M/46.1M [00:01<00:00, 33.5MB/s]\n",
            "Downloading...\n",
            "From: https://maxar-opendata.s3.amazonaws.com/events/WildFires-LosAngeles-Jan-2025/ard/11/031311102231/2025-01-13/103001010B9A1B00-visual.tif\n",
            "To: /content/103001010B9A1B00/031311102231.tif\n"
          ]
        },
        {
          "output_type": "stream",
          "name": "stdout",
          "text": [
            "Downloading 045 out of 400: 103001010B9A1B00/031311102231.tif\n"
          ]
        },
        {
          "output_type": "stream",
          "name": "stderr",
          "text": [
            "100%|██████████| 58.1M/58.1M [00:01<00:00, 29.2MB/s]\n",
            "Downloading...\n",
            "From: https://maxar-opendata.s3.amazonaws.com/events/WildFires-LosAngeles-Jan-2025/ard/11/031311102232/2025-01-13/103001010B9A1B00-visual.tif\n",
            "To: /content/103001010B9A1B00/031311102232.tif\n"
          ]
        },
        {
          "output_type": "stream",
          "name": "stdout",
          "text": [
            "Downloading 046 out of 400: 103001010B9A1B00/031311102232.tif\n"
          ]
        },
        {
          "output_type": "stream",
          "name": "stderr",
          "text": [
            "100%|██████████| 3.37M/3.37M [00:00<00:00, 38.0MB/s]\n",
            "Downloading...\n",
            "From: https://maxar-opendata.s3.amazonaws.com/events/WildFires-LosAngeles-Jan-2025/ard/11/031311102233/2025-01-13/103001010B9A1B00-visual.tif\n",
            "To: /content/103001010B9A1B00/031311102233.tif\n"
          ]
        },
        {
          "output_type": "stream",
          "name": "stdout",
          "text": [
            "Downloading 047 out of 400: 103001010B9A1B00/031311102233.tif\n"
          ]
        },
        {
          "output_type": "stream",
          "name": "stderr",
          "text": [
            "100%|██████████| 13.9M/13.9M [00:00<00:00, 26.6MB/s]\n",
            "Downloading...\n",
            "From: https://maxar-opendata.s3.amazonaws.com/events/WildFires-LosAngeles-Jan-2025/ard/11/031311102300/2025-01-13/103001010B9A1B00-visual.tif\n",
            "To: /content/103001010B9A1B00/031311102300.tif\n"
          ]
        },
        {
          "output_type": "stream",
          "name": "stdout",
          "text": [
            "Downloading 048 out of 400: 103001010B9A1B00/031311102300.tif\n"
          ]
        },
        {
          "output_type": "stream",
          "name": "stderr",
          "text": [
            "100%|██████████| 37.5M/37.5M [00:01<00:00, 26.2MB/s]\n",
            "Downloading...\n",
            "From: https://maxar-opendata.s3.amazonaws.com/events/WildFires-LosAngeles-Jan-2025/ard/11/031311102302/2025-01-13/103001010B9A1B00-visual.tif\n",
            "To: /content/103001010B9A1B00/031311102302.tif\n"
          ]
        },
        {
          "output_type": "stream",
          "name": "stdout",
          "text": [
            "Downloading 049 out of 400: 103001010B9A1B00/031311102302.tif\n"
          ]
        },
        {
          "output_type": "stream",
          "name": "stderr",
          "text": [
            "100%|██████████| 36.5M/36.5M [00:02<00:00, 17.2MB/s]\n",
            "Downloading...\n",
            "From: https://maxar-opendata.s3.amazonaws.com/events/WildFires-LosAngeles-Jan-2025/ard/11/031311102320/2025-01-13/103001010B9A1B00-visual.tif\n",
            "To: /content/103001010B9A1B00/031311102320.tif\n"
          ]
        },
        {
          "output_type": "stream",
          "name": "stdout",
          "text": [
            "Downloading 050 out of 400: 103001010B9A1B00/031311102320.tif\n"
          ]
        },
        {
          "output_type": "stream",
          "name": "stderr",
          "text": [
            "100%|██████████| 43.3M/43.3M [00:01<00:00, 26.0MB/s]\n",
            "Downloading...\n",
            "From: https://maxar-opendata.s3.amazonaws.com/events/WildFires-LosAngeles-Jan-2025/ard/11/031311102322/2025-01-13/103001010B9A1B00-visual.tif\n",
            "To: /content/103001010B9A1B00/031311102322.tif\n"
          ]
        },
        {
          "output_type": "stream",
          "name": "stdout",
          "text": [
            "Downloading 051 out of 400: 103001010B9A1B00/031311102322.tif\n"
          ]
        },
        {
          "output_type": "stream",
          "name": "stderr",
          "text": [
            "100%|██████████| 16.0M/16.0M [00:00<00:00, 45.1MB/s]\n",
            "Downloading...\n",
            "From: https://maxar-opendata.s3.amazonaws.com/events/WildFires-LosAngeles-Jan-2025/ard/11/031311103030/2025-01-14/103001010C360000-visual.tif\n",
            "To: /content/103001010C360000/031311103030.tif\n"
          ]
        },
        {
          "output_type": "stream",
          "name": "stdout",
          "text": [
            "Downloading 052 out of 400: 103001010C360000/031311103030.tif\n"
          ]
        },
        {
          "output_type": "stream",
          "name": "stderr",
          "text": [
            "100%|██████████| 8.30M/8.30M [00:00<00:00, 71.5MB/s]\n",
            "Downloading...\n",
            "From: https://maxar-opendata.s3.amazonaws.com/events/WildFires-LosAngeles-Jan-2025/ard/11/031311103031/2025-01-14/103001010C360000-visual.tif\n",
            "To: /content/103001010C360000/031311103031.tif\n"
          ]
        },
        {
          "output_type": "stream",
          "name": "stdout",
          "text": [
            "Downloading 053 out of 400: 103001010C360000/031311103031.tif\n"
          ]
        },
        {
          "output_type": "stream",
          "name": "stderr",
          "text": [
            "100%|██████████| 47.3M/47.3M [00:01<00:00, 35.5MB/s]\n",
            "Downloading...\n",
            "From: https://maxar-opendata.s3.amazonaws.com/events/WildFires-LosAngeles-Jan-2025/ard/11/031311103032/2025-01-14/103001010C360000-visual.tif\n",
            "To: /content/103001010C360000/031311103032.tif\n"
          ]
        },
        {
          "output_type": "stream",
          "name": "stdout",
          "text": [
            "Downloading 054 out of 400: 103001010C360000/031311103032.tif\n"
          ]
        },
        {
          "output_type": "stream",
          "name": "stderr",
          "text": [
            "100%|██████████| 14.8M/14.8M [00:00<00:00, 35.0MB/s]\n",
            "Downloading...\n",
            "From: https://maxar-opendata.s3.amazonaws.com/events/WildFires-LosAngeles-Jan-2025/ard/11/031311103033/2025-01-14/103001010C360000-visual.tif\n",
            "To: /content/103001010C360000/031311103033.tif\n"
          ]
        },
        {
          "output_type": "stream",
          "name": "stdout",
          "text": [
            "Downloading 055 out of 400: 103001010C360000/031311103033.tif\n"
          ]
        },
        {
          "output_type": "stream",
          "name": "stderr",
          "text": [
            "100%|██████████| 95.0M/95.0M [00:03<00:00, 28.8MB/s]\n"
          ]
        },
        {
          "output_type": "stream",
          "name": "stdout",
          "text": [
            "Downloading 056 out of 400: 103001010C360000/031311103120.tif\n"
          ]
        },
        {
          "output_type": "stream",
          "name": "stderr",
          "text": [
            "Downloading...\n",
            "From: https://maxar-opendata.s3.amazonaws.com/events/WildFires-LosAngeles-Jan-2025/ard/11/031311103120/2025-01-14/103001010C360000-visual.tif\n",
            "To: /content/103001010C360000/031311103120.tif\n",
            "100%|██████████| 39.2M/39.2M [00:00<00:00, 41.1MB/s]\n",
            "Downloading...\n",
            "From: https://maxar-opendata.s3.amazonaws.com/events/WildFires-LosAngeles-Jan-2025/ard/11/031311103122/2025-01-14/103001010C360000-visual.tif\n",
            "To: /content/103001010C360000/031311103122.tif\n"
          ]
        },
        {
          "output_type": "stream",
          "name": "stdout",
          "text": [
            "Downloading 057 out of 400: 103001010C360000/031311103122.tif\n"
          ]
        },
        {
          "output_type": "stream",
          "name": "stderr",
          "text": [
            "100%|██████████| 76.0M/76.0M [00:03<00:00, 22.8MB/s]\n",
            "Downloading...\n",
            "From: https://maxar-opendata.s3.amazonaws.com/events/WildFires-LosAngeles-Jan-2025/ard/11/031311103210/2025-01-14/103001010C360000-visual.tif\n",
            "To: /content/103001010C360000/031311103210.tif\n"
          ]
        },
        {
          "output_type": "stream",
          "name": "stdout",
          "text": [
            "Downloading 058 out of 400: 103001010C360000/031311103210.tif\n"
          ]
        },
        {
          "output_type": "stream",
          "name": "stderr",
          "text": [
            "100%|██████████| 7.95M/7.95M [00:00<00:00, 57.7MB/s]\n",
            "Downloading...\n",
            "From: https://maxar-opendata.s3.amazonaws.com/events/WildFires-LosAngeles-Jan-2025/ard/11/031311103211/2025-01-14/103001010C360000-visual.tif\n",
            "To: /content/103001010C360000/031311103211.tif\n"
          ]
        },
        {
          "output_type": "stream",
          "name": "stdout",
          "text": [
            "Downloading 059 out of 400: 103001010C360000/031311103211.tif\n"
          ]
        },
        {
          "output_type": "stream",
          "name": "stderr",
          "text": [
            "100%|██████████| 45.3M/45.3M [00:01<00:00, 28.3MB/s]\n",
            "Downloading...\n",
            "From: https://maxar-opendata.s3.amazonaws.com/events/WildFires-LosAngeles-Jan-2025/ard/11/031311103300/2025-01-14/103001010C360000-visual.tif\n",
            "To: /content/103001010C360000/031311103300.tif\n"
          ]
        },
        {
          "output_type": "stream",
          "name": "stdout",
          "text": [
            "Downloading 060 out of 400: 103001010C360000/031311103300.tif\n"
          ]
        },
        {
          "output_type": "stream",
          "name": "stderr",
          "text": [
            "100%|██████████| 38.7M/38.7M [00:01<00:00, 26.1MB/s]\n",
            "Downloading...\n",
            "From: https://maxar-opendata.s3.amazonaws.com/events/WildFires-LosAngeles-Jan-2025/ard/11/031311102023/2025-01-14/103001010C7D2D00-visual.tif\n",
            "To: /content/103001010C7D2D00/031311102023.tif\n"
          ]
        },
        {
          "output_type": "stream",
          "name": "stdout",
          "text": [
            "Downloading 061 out of 400: 103001010C7D2D00/031311102023.tif\n"
          ]
        },
        {
          "output_type": "stream",
          "name": "stderr",
          "text": [
            "100%|██████████| 27.4M/27.4M [00:01<00:00, 26.2MB/s]\n",
            "Downloading...\n",
            "From: https://maxar-opendata.s3.amazonaws.com/events/WildFires-LosAngeles-Jan-2025/ard/11/031311102032/2025-01-14/103001010C7D2D00-visual.tif\n",
            "To: /content/103001010C7D2D00/031311102032.tif\n"
          ]
        },
        {
          "output_type": "stream",
          "name": "stdout",
          "text": [
            "Downloading 062 out of 400: 103001010C7D2D00/031311102032.tif\n"
          ]
        },
        {
          "output_type": "stream",
          "name": "stderr",
          "text": [
            "100%|██████████| 59.8M/59.8M [00:02<00:00, 28.4MB/s]\n",
            "Downloading...\n",
            "From: https://maxar-opendata.s3.amazonaws.com/events/WildFires-LosAngeles-Jan-2025/ard/11/031311102033/2025-01-14/103001010C7D2D00-visual.tif\n",
            "To: /content/103001010C7D2D00/031311102033.tif\n"
          ]
        },
        {
          "output_type": "stream",
          "name": "stdout",
          "text": [
            "Downloading 063 out of 400: 103001010C7D2D00/031311102033.tif\n"
          ]
        },
        {
          "output_type": "stream",
          "name": "stderr",
          "text": [
            "100%|██████████| 45.4M/45.4M [00:01<00:00, 27.3MB/s]\n",
            "Downloading...\n",
            "From: https://maxar-opendata.s3.amazonaws.com/events/WildFires-LosAngeles-Jan-2025/ard/11/031311102122/2025-01-14/103001010C7D2D00-visual.tif\n",
            "To: /content/103001010C7D2D00/031311102122.tif\n"
          ]
        },
        {
          "output_type": "stream",
          "name": "stdout",
          "text": [
            "Downloading 064 out of 400: 103001010C7D2D00/031311102122.tif\n"
          ]
        },
        {
          "output_type": "stream",
          "name": "stderr",
          "text": [
            "100%|██████████| 31.5M/31.5M [00:01<00:00, 28.9MB/s]\n",
            "Downloading...\n",
            "From: https://maxar-opendata.s3.amazonaws.com/events/WildFires-LosAngeles-Jan-2025/ard/11/031311102201/2025-01-14/103001010C7D2D00-visual.tif\n",
            "To: /content/103001010C7D2D00/031311102201.tif\n"
          ]
        },
        {
          "output_type": "stream",
          "name": "stdout",
          "text": [
            "Downloading 065 out of 400: 103001010C7D2D00/031311102201.tif\n"
          ]
        },
        {
          "output_type": "stream",
          "name": "stderr",
          "text": [
            "100%|██████████| 35.0M/35.0M [00:01<00:00, 25.9MB/s]\n",
            "Downloading...\n",
            "From: https://maxar-opendata.s3.amazonaws.com/events/WildFires-LosAngeles-Jan-2025/ard/11/031311102203/2025-01-14/103001010C7D2D00-visual.tif\n",
            "To: /content/103001010C7D2D00/031311102203.tif\n"
          ]
        },
        {
          "output_type": "stream",
          "name": "stdout",
          "text": [
            "Downloading 066 out of 400: 103001010C7D2D00/031311102203.tif\n"
          ]
        },
        {
          "output_type": "stream",
          "name": "stderr",
          "text": [
            "100%|██████████| 32.0M/32.0M [00:00<00:00, 34.5MB/s]\n",
            "Downloading...\n",
            "From: https://maxar-opendata.s3.amazonaws.com/events/WildFires-LosAngeles-Jan-2025/ard/11/031311102210/2025-01-14/103001010C7D2D00-visual.tif\n",
            "To: /content/103001010C7D2D00/031311102210.tif\n"
          ]
        },
        {
          "output_type": "stream",
          "name": "stdout",
          "text": [
            "Downloading 067 out of 400: 103001010C7D2D00/031311102210.tif\n"
          ]
        },
        {
          "output_type": "stream",
          "name": "stderr",
          "text": [
            "100%|██████████| 88.6M/88.6M [00:02<00:00, 31.7MB/s]\n",
            "Downloading...\n",
            "From: https://maxar-opendata.s3.amazonaws.com/events/WildFires-LosAngeles-Jan-2025/ard/11/031311102211/2025-01-14/103001010C7D2D00-visual.tif\n",
            "To: /content/103001010C7D2D00/031311102211.tif\n"
          ]
        },
        {
          "output_type": "stream",
          "name": "stdout",
          "text": [
            "Downloading 068 out of 400: 103001010C7D2D00/031311102211.tif\n"
          ]
        },
        {
          "output_type": "stream",
          "name": "stderr",
          "text": [
            "100%|██████████| 82.9M/82.9M [00:02<00:00, 31.9MB/s]\n",
            "Downloading...\n",
            "From: https://maxar-opendata.s3.amazonaws.com/events/WildFires-LosAngeles-Jan-2025/ard/11/031311102212/2025-01-14/103001010C7D2D00-visual.tif\n",
            "To: /content/103001010C7D2D00/031311102212.tif\n"
          ]
        },
        {
          "output_type": "stream",
          "name": "stdout",
          "text": [
            "Downloading 069 out of 400: 103001010C7D2D00/031311102212.tif\n"
          ]
        },
        {
          "output_type": "stream",
          "name": "stderr",
          "text": [
            "100%|██████████| 82.6M/82.6M [00:03<00:00, 24.1MB/s]\n",
            "Downloading...\n",
            "From: https://maxar-opendata.s3.amazonaws.com/events/WildFires-LosAngeles-Jan-2025/ard/11/031311102213/2025-01-14/103001010C7D2D00-visual.tif\n",
            "To: /content/103001010C7D2D00/031311102213.tif\n"
          ]
        },
        {
          "output_type": "stream",
          "name": "stdout",
          "text": [
            "Downloading 070 out of 400: 103001010C7D2D00/031311102213.tif\n"
          ]
        },
        {
          "output_type": "stream",
          "name": "stderr",
          "text": [
            "100%|██████████| 77.2M/77.2M [00:03<00:00, 25.3MB/s]\n",
            "Downloading...\n",
            "From: https://maxar-opendata.s3.amazonaws.com/events/WildFires-LosAngeles-Jan-2025/ard/11/031311102221/2025-01-14/103001010C7D2D00-visual.tif\n",
            "To: /content/103001010C7D2D00/031311102221.tif\n"
          ]
        },
        {
          "output_type": "stream",
          "name": "stdout",
          "text": [
            "Downloading 071 out of 400: 103001010C7D2D00/031311102221.tif\n"
          ]
        },
        {
          "output_type": "stream",
          "name": "stderr",
          "text": [
            "100%|██████████| 18.4M/18.4M [00:00<00:00, 29.5MB/s]\n",
            "Downloading...\n",
            "From: https://maxar-opendata.s3.amazonaws.com/events/WildFires-LosAngeles-Jan-2025/ard/11/031311102230/2025-01-14/103001010C7D2D00-visual.tif\n",
            "To: /content/103001010C7D2D00/031311102230.tif\n"
          ]
        },
        {
          "output_type": "stream",
          "name": "stdout",
          "text": [
            "Downloading 072 out of 400: 103001010C7D2D00/031311102230.tif\n"
          ]
        },
        {
          "output_type": "stream",
          "name": "stderr",
          "text": [
            "100%|██████████| 49.8M/49.8M [00:01<00:00, 28.2MB/s]\n",
            "Downloading...\n",
            "From: https://maxar-opendata.s3.amazonaws.com/events/WildFires-LosAngeles-Jan-2025/ard/11/031311102231/2025-01-14/103001010C7D2D00-visual.tif\n",
            "To: /content/103001010C7D2D00/031311102231.tif\n"
          ]
        },
        {
          "output_type": "stream",
          "name": "stdout",
          "text": [
            "Downloading 073 out of 400: 103001010C7D2D00/031311102231.tif\n"
          ]
        },
        {
          "output_type": "stream",
          "name": "stderr",
          "text": [
            "100%|██████████| 64.8M/64.8M [00:02<00:00, 23.6MB/s]\n",
            "Downloading...\n",
            "From: https://maxar-opendata.s3.amazonaws.com/events/WildFires-LosAngeles-Jan-2025/ard/11/031311102232/2025-01-14/103001010C7D2D00-visual.tif\n",
            "To: /content/103001010C7D2D00/031311102232.tif\n"
          ]
        },
        {
          "output_type": "stream",
          "name": "stdout",
          "text": [
            "Downloading 074 out of 400: 103001010C7D2D00/031311102232.tif\n"
          ]
        },
        {
          "output_type": "stream",
          "name": "stderr",
          "text": [
            "100%|██████████| 3.27M/3.27M [00:00<00:00, 38.5MB/s]\n",
            "Downloading...\n",
            "From: https://maxar-opendata.s3.amazonaws.com/events/WildFires-LosAngeles-Jan-2025/ard/11/031311102233/2025-01-14/103001010C7D2D00-visual.tif\n",
            "To: /content/103001010C7D2D00/031311102233.tif\n"
          ]
        },
        {
          "output_type": "stream",
          "name": "stdout",
          "text": [
            "Downloading 075 out of 400: 103001010C7D2D00/031311102233.tif\n"
          ]
        },
        {
          "output_type": "stream",
          "name": "stderr",
          "text": [
            "100%|██████████| 12.6M/12.6M [00:00<00:00, 44.4MB/s]\n",
            "Downloading...\n",
            "From: https://maxar-opendata.s3.amazonaws.com/events/WildFires-LosAngeles-Jan-2025/ard/11/031311102300/2025-01-14/103001010C7D2D00-visual.tif\n",
            "To: /content/103001010C7D2D00/031311102300.tif\n"
          ]
        },
        {
          "output_type": "stream",
          "name": "stdout",
          "text": [
            "Downloading 076 out of 400: 103001010C7D2D00/031311102300.tif\n"
          ]
        },
        {
          "output_type": "stream",
          "name": "stderr",
          "text": [
            "100%|██████████| 81.1M/81.1M [00:03<00:00, 26.4MB/s]\n",
            "Downloading...\n",
            "From: https://maxar-opendata.s3.amazonaws.com/events/WildFires-LosAngeles-Jan-2025/ard/11/031311102302/2025-01-14/103001010C7D2D00-visual.tif\n",
            "To: /content/103001010C7D2D00/031311102302.tif\n"
          ]
        },
        {
          "output_type": "stream",
          "name": "stdout",
          "text": [
            "Downloading 077 out of 400: 103001010C7D2D00/031311102302.tif\n"
          ]
        },
        {
          "output_type": "stream",
          "name": "stderr",
          "text": [
            "100%|██████████| 81.2M/81.2M [00:03<00:00, 23.2MB/s]\n",
            "Downloading...\n",
            "From: https://maxar-opendata.s3.amazonaws.com/events/WildFires-LosAngeles-Jan-2025/ard/11/031311102320/2025-01-14/103001010C7D2D00-visual.tif\n",
            "To: /content/103001010C7D2D00/031311102320.tif\n"
          ]
        },
        {
          "output_type": "stream",
          "name": "stdout",
          "text": [
            "Downloading 078 out of 400: 103001010C7D2D00/031311102320.tif\n"
          ]
        },
        {
          "output_type": "stream",
          "name": "stderr",
          "text": [
            "100%|██████████| 87.2M/87.2M [00:03<00:00, 25.9MB/s]\n",
            "Downloading...\n",
            "From: https://maxar-opendata.s3.amazonaws.com/events/WildFires-LosAngeles-Jan-2025/ard/11/031311102322/2025-01-14/103001010C7D2D00-visual.tif\n",
            "To: /content/103001010C7D2D00/031311102322.tif\n"
          ]
        },
        {
          "output_type": "stream",
          "name": "stdout",
          "text": [
            "Downloading 079 out of 400: 103001010C7D2D00/031311102322.tif\n"
          ]
        },
        {
          "output_type": "stream",
          "name": "stderr",
          "text": [
            "100%|██████████| 44.1M/44.1M [00:01<00:00, 31.3MB/s]\n",
            "Downloading...\n",
            "From: https://maxar-opendata.s3.amazonaws.com/events/WildFires-LosAngeles-Jan-2025/ard/11/031311103031/2025-01-08/104001009C64B300-visual.tif\n",
            "To: /content/104001009C64B300/031311103031.tif\n"
          ]
        },
        {
          "output_type": "stream",
          "name": "stdout",
          "text": [
            "Downloading 080 out of 400: 104001009C64B300/031311103031.tif\n"
          ]
        },
        {
          "output_type": "stream",
          "name": "stderr",
          "text": [
            "100%|██████████| 42.2M/42.2M [00:00<00:00, 49.3MB/s]\n",
            "Downloading...\n",
            "From: https://maxar-opendata.s3.amazonaws.com/events/WildFires-LosAngeles-Jan-2025/ard/11/031311103120/2025-01-08/104001009C64B300-visual.tif\n",
            "To: /content/104001009C64B300/031311103120.tif\n"
          ]
        },
        {
          "output_type": "stream",
          "name": "stdout",
          "text": [
            "Downloading 081 out of 400: 104001009C64B300/031311103120.tif\n"
          ]
        },
        {
          "output_type": "stream",
          "name": "stderr",
          "text": [
            "100%|██████████| 33.5M/33.5M [00:00<00:00, 49.8MB/s]\n"
          ]
        },
        {
          "output_type": "stream",
          "name": "stdout",
          "text": [
            "Downloading 082 out of 400: 104001009C64B300/031311103300.tif\n"
          ]
        },
        {
          "output_type": "stream",
          "name": "stderr",
          "text": [
            "Downloading...\n",
            "From: https://maxar-opendata.s3.amazonaws.com/events/WildFires-LosAngeles-Jan-2025/ard/11/031311103300/2025-01-08/104001009C64B300-visual.tif\n",
            "To: /content/104001009C64B300/031311103300.tif\n",
            "100%|██████████| 37.5M/37.5M [00:00<00:00, 41.7MB/s]\n",
            "Downloading...\n",
            "From: https://maxar-opendata.s3.amazonaws.com/events/WildFires-LosAngeles-Jan-2025/ard/11/031311100221/2025-01-09/104001009F2ED400-visual.tif\n",
            "To: /content/104001009F2ED400/031311100221.tif\n"
          ]
        },
        {
          "output_type": "stream",
          "name": "stdout",
          "text": [
            "Downloading 083 out of 400: 104001009F2ED400/031311100221.tif\n"
          ]
        },
        {
          "output_type": "stream",
          "name": "stderr",
          "text": [
            "100%|██████████| 7.22M/7.22M [00:00<00:00, 47.1MB/s]\n",
            "Downloading...\n",
            "From: https://maxar-opendata.s3.amazonaws.com/events/WildFires-LosAngeles-Jan-2025/ard/11/031311100230/2025-01-09/104001009F2ED400-visual.tif\n",
            "To: /content/104001009F2ED400/031311100230.tif\n"
          ]
        },
        {
          "output_type": "stream",
          "name": "stdout",
          "text": [
            "Downloading 084 out of 400: 104001009F2ED400/031311100230.tif\n"
          ]
        },
        {
          "output_type": "stream",
          "name": "stderr",
          "text": [
            "100%|██████████| 13.2M/13.2M [00:00<00:00, 30.0MB/s]\n"
          ]
        },
        {
          "output_type": "stream",
          "name": "stdout",
          "text": [
            "Downloading 085 out of 400: 104001009F982A00/031311100233.tif\n"
          ]
        },
        {
          "output_type": "stream",
          "name": "stderr",
          "text": [
            "Downloading...\n",
            "From: https://maxar-opendata.s3.amazonaws.com/events/WildFires-LosAngeles-Jan-2025/ard/11/031311100233/2024-12-14/104001009F982A00-visual.tif\n",
            "To: /content/104001009F982A00/031311100233.tif\n",
            "100%|██████████| 38.5M/38.5M [00:01<00:00, 35.7MB/s]\n",
            "Downloading...\n",
            "From: https://maxar-opendata.s3.amazonaws.com/events/WildFires-LosAngeles-Jan-2025/ard/11/031311102011/2024-12-14/104001009F982A00-visual.tif\n",
            "To: /content/104001009F982A00/031311102011.tif\n"
          ]
        },
        {
          "output_type": "stream",
          "name": "stdout",
          "text": [
            "Downloading 086 out of 400: 104001009F982A00/031311102011.tif\n"
          ]
        },
        {
          "output_type": "stream",
          "name": "stderr",
          "text": [
            "100%|██████████| 45.3M/45.3M [00:01<00:00, 25.2MB/s]\n",
            "Downloading...\n",
            "From: https://maxar-opendata.s3.amazonaws.com/events/WildFires-LosAngeles-Jan-2025/ard/11/031311102013/2024-12-14/104001009F982A00-visual.tif\n",
            "To: /content/104001009F982A00/031311102013.tif\n"
          ]
        },
        {
          "output_type": "stream",
          "name": "stdout",
          "text": [
            "Downloading 087 out of 400: 104001009F982A00/031311102013.tif\n"
          ]
        },
        {
          "output_type": "stream",
          "name": "stderr",
          "text": [
            "100%|██████████| 52.7M/52.7M [00:02<00:00, 23.9MB/s]\n"
          ]
        },
        {
          "output_type": "stream",
          "name": "stdout",
          "text": [
            "Downloading 088 out of 400: 104001009F982A00/031311102100.tif\n"
          ]
        },
        {
          "output_type": "stream",
          "name": "stderr",
          "text": [
            "Downloading...\n",
            "From: https://maxar-opendata.s3.amazonaws.com/events/WildFires-LosAngeles-Jan-2025/ard/11/031311102100/2024-12-14/104001009F982A00-visual.tif\n",
            "To: /content/104001009F982A00/031311102100.tif\n",
            "100%|██████████| 87.2M/87.2M [00:03<00:00, 26.1MB/s]\n"
          ]
        },
        {
          "output_type": "stream",
          "name": "stdout",
          "text": [
            "Downloading 089 out of 400: 104001009F982A00/031311102101.tif\n"
          ]
        },
        {
          "output_type": "stream",
          "name": "stderr",
          "text": [
            "Downloading...\n",
            "From: https://maxar-opendata.s3.amazonaws.com/events/WildFires-LosAngeles-Jan-2025/ard/11/031311102101/2024-12-14/104001009F982A00-visual.tif\n",
            "To: /content/104001009F982A00/031311102101.tif\n",
            "100%|██████████| 99.1M/99.1M [00:04<00:00, 22.5MB/s]\n",
            "Downloading...\n",
            "From: https://maxar-opendata.s3.amazonaws.com/events/WildFires-LosAngeles-Jan-2025/ard/11/031311102102/2024-12-14/104001009F982A00-visual.tif\n",
            "To: /content/104001009F982A00/031311102102.tif\n"
          ]
        },
        {
          "output_type": "stream",
          "name": "stdout",
          "text": [
            "Downloading 090 out of 400: 104001009F982A00/031311102102.tif\n"
          ]
        },
        {
          "output_type": "stream",
          "name": "stderr",
          "text": [
            "100%|██████████| 87.8M/87.8M [00:02<00:00, 32.8MB/s]\n"
          ]
        },
        {
          "output_type": "stream",
          "name": "stdout",
          "text": [
            "Downloading 091 out of 400: 104001009F982A00/031311102103.tif\n"
          ]
        },
        {
          "output_type": "stream",
          "name": "stderr",
          "text": [
            "Downloading...\n",
            "From: https://maxar-opendata.s3.amazonaws.com/events/WildFires-LosAngeles-Jan-2025/ard/11/031311102103/2024-12-14/104001009F982A00-visual.tif\n",
            "To: /content/104001009F982A00/031311102103.tif\n",
            "100%|██████████| 89.8M/89.8M [00:03<00:00, 29.1MB/s]\n",
            "Downloading...\n",
            "From: https://maxar-opendata.s3.amazonaws.com/events/WildFires-LosAngeles-Jan-2025/ard/11/031311100221/2025-01-09/10400100A069A700-visual.tif\n",
            "To: /content/10400100A069A700/031311100221.tif\n"
          ]
        },
        {
          "output_type": "stream",
          "name": "stdout",
          "text": [
            "Downloading 092 out of 400: 10400100A069A700/031311100221.tif\n"
          ]
        },
        {
          "output_type": "stream",
          "name": "stderr",
          "text": [
            "100%|██████████| 7.48M/7.48M [00:00<00:00, 61.7MB/s]\n",
            "Downloading...\n",
            "From: https://maxar-opendata.s3.amazonaws.com/events/WildFires-LosAngeles-Jan-2025/ard/11/031311100223/2025-01-09/10400100A069A700-visual.tif\n",
            "To: /content/10400100A069A700/031311100223.tif\n"
          ]
        },
        {
          "output_type": "stream",
          "name": "stdout",
          "text": [
            "Downloading 093 out of 400: 10400100A069A700/031311100223.tif\n"
          ]
        },
        {
          "output_type": "stream",
          "name": "stderr",
          "text": [
            "100%|██████████| 30.9M/30.9M [00:00<00:00, 38.8MB/s]\n",
            "Downloading...\n",
            "From: https://maxar-opendata.s3.amazonaws.com/events/WildFires-LosAngeles-Jan-2025/ard/11/031311100230/2025-01-09/10400100A069A700-visual.tif\n",
            "To: /content/10400100A069A700/031311100230.tif\n"
          ]
        },
        {
          "output_type": "stream",
          "name": "stdout",
          "text": [
            "Downloading 094 out of 400: 10400100A069A700/031311100230.tif\n"
          ]
        },
        {
          "output_type": "stream",
          "name": "stderr",
          "text": [
            "100%|██████████| 13.8M/13.8M [00:00<00:00, 25.0MB/s]\n",
            "Downloading...\n",
            "From: https://maxar-opendata.s3.amazonaws.com/events/WildFires-LosAngeles-Jan-2025/ard/11/031311100231/2025-01-09/10400100A069A700-visual.tif\n",
            "To: /content/10400100A069A700/031311100231.tif\n"
          ]
        },
        {
          "output_type": "stream",
          "name": "stdout",
          "text": [
            "Downloading 095 out of 400: 10400100A069A700/031311100231.tif\n"
          ]
        },
        {
          "output_type": "stream",
          "name": "stderr",
          "text": [
            "100%|██████████| 10.3M/10.3M [00:00<00:00, 25.3MB/s]\n",
            "Downloading...\n",
            "From: https://maxar-opendata.s3.amazonaws.com/events/WildFires-LosAngeles-Jan-2025/ard/11/031311100232/2025-01-09/10400100A069A700-visual.tif\n",
            "To: /content/10400100A069A700/031311100232.tif\n"
          ]
        },
        {
          "output_type": "stream",
          "name": "stdout",
          "text": [
            "Downloading 096 out of 400: 10400100A069A700/031311100232.tif\n"
          ]
        },
        {
          "output_type": "stream",
          "name": "stderr",
          "text": [
            "100%|██████████| 72.6M/72.6M [00:02<00:00, 24.5MB/s]\n",
            "Downloading...\n",
            "From: https://maxar-opendata.s3.amazonaws.com/events/WildFires-LosAngeles-Jan-2025/ard/11/031311100233/2025-01-09/10400100A069A700-visual.tif\n",
            "To: /content/10400100A069A700/031311100233.tif\n"
          ]
        },
        {
          "output_type": "stream",
          "name": "stdout",
          "text": [
            "Downloading 097 out of 400: 10400100A069A700/031311100233.tif\n"
          ]
        },
        {
          "output_type": "stream",
          "name": "stderr",
          "text": [
            "100%|██████████| 77.7M/77.7M [00:02<00:00, 28.2MB/s]\n",
            "Downloading...\n",
            "From: https://maxar-opendata.s3.amazonaws.com/events/WildFires-LosAngeles-Jan-2025/ard/11/031311102001/2025-01-09/10400100A069A700-visual.tif\n",
            "To: /content/10400100A069A700/031311102001.tif\n"
          ]
        },
        {
          "output_type": "stream",
          "name": "stdout",
          "text": [
            "Downloading 098 out of 400: 10400100A069A700/031311102001.tif\n"
          ]
        },
        {
          "output_type": "stream",
          "name": "stderr",
          "text": [
            "100%|██████████| 32.9M/32.9M [00:00<00:00, 42.3MB/s]\n",
            "Downloading...\n",
            "From: https://maxar-opendata.s3.amazonaws.com/events/WildFires-LosAngeles-Jan-2025/ard/11/031311102003/2025-01-09/10400100A069A700-visual.tif\n",
            "To: /content/10400100A069A700/031311102003.tif\n"
          ]
        },
        {
          "output_type": "stream",
          "name": "stdout",
          "text": [
            "Downloading 099 out of 400: 10400100A069A700/031311102003.tif\n"
          ]
        },
        {
          "output_type": "stream",
          "name": "stderr",
          "text": [
            "100%|██████████| 36.3M/36.3M [00:01<00:00, 24.2MB/s]\n",
            "Downloading...\n",
            "From: https://maxar-opendata.s3.amazonaws.com/events/WildFires-LosAngeles-Jan-2025/ard/11/031311102010/2025-01-09/10400100A069A700-visual.tif\n",
            "To: /content/10400100A069A700/031311102010.tif\n"
          ]
        },
        {
          "output_type": "stream",
          "name": "stdout",
          "text": [
            "Downloading 100 out of 400: 10400100A069A700/031311102010.tif\n"
          ]
        },
        {
          "output_type": "stream",
          "name": "stderr",
          "text": [
            "100%|██████████| 82.4M/82.4M [00:03<00:00, 27.2MB/s]\n",
            "Downloading...\n",
            "From: https://maxar-opendata.s3.amazonaws.com/events/WildFires-LosAngeles-Jan-2025/ard/11/031311102011/2025-01-09/10400100A069A700-visual.tif\n",
            "To: /content/10400100A069A700/031311102011.tif\n"
          ]
        },
        {
          "output_type": "stream",
          "name": "stdout",
          "text": [
            "Downloading 101 out of 400: 10400100A069A700/031311102011.tif\n"
          ]
        },
        {
          "output_type": "stream",
          "name": "stderr",
          "text": [
            "100%|██████████| 82.6M/82.6M [00:02<00:00, 28.6MB/s]\n",
            "Downloading...\n",
            "From: https://maxar-opendata.s3.amazonaws.com/events/WildFires-LosAngeles-Jan-2025/ard/11/031311102012/2025-01-09/10400100A069A700-visual.tif\n",
            "To: /content/10400100A069A700/031311102012.tif\n"
          ]
        },
        {
          "output_type": "stream",
          "name": "stdout",
          "text": [
            "Downloading 102 out of 400: 10400100A069A700/031311102012.tif\n"
          ]
        },
        {
          "output_type": "stream",
          "name": "stderr",
          "text": [
            "100%|██████████| 91.0M/91.0M [00:03<00:00, 22.9MB/s]\n",
            "Downloading...\n",
            "From: https://maxar-opendata.s3.amazonaws.com/events/WildFires-LosAngeles-Jan-2025/ard/11/031311102013/2025-01-09/10400100A069A700-visual.tif\n",
            "To: /content/10400100A069A700/031311102013.tif\n"
          ]
        },
        {
          "output_type": "stream",
          "name": "stdout",
          "text": [
            "Downloading 103 out of 400: 10400100A069A700/031311102013.tif\n"
          ]
        },
        {
          "output_type": "stream",
          "name": "stderr",
          "text": [
            "100%|██████████| 91.5M/91.5M [00:03<00:00, 27.0MB/s]\n",
            "Downloading...\n",
            "From: https://maxar-opendata.s3.amazonaws.com/events/WildFires-LosAngeles-Jan-2025/ard/11/031311102021/2025-01-09/10400100A069A700-visual.tif\n",
            "To: /content/10400100A069A700/031311102021.tif\n"
          ]
        },
        {
          "output_type": "stream",
          "name": "stdout",
          "text": [
            "Downloading 104 out of 400: 10400100A069A700/031311102021.tif\n"
          ]
        },
        {
          "output_type": "stream",
          "name": "stderr",
          "text": [
            "100%|██████████| 36.3M/36.3M [00:01<00:00, 32.4MB/s]\n",
            "Downloading...\n",
            "From: https://maxar-opendata.s3.amazonaws.com/events/WildFires-LosAngeles-Jan-2025/ard/11/031311102023/2025-01-09/10400100A069A700-visual.tif\n",
            "To: /content/10400100A069A700/031311102023.tif\n"
          ]
        },
        {
          "output_type": "stream",
          "name": "stdout",
          "text": [
            "Downloading 105 out of 400: 10400100A069A700/031311102023.tif\n"
          ]
        },
        {
          "output_type": "stream",
          "name": "stderr",
          "text": [
            "100%|██████████| 36.5M/36.5M [00:01<00:00, 25.9MB/s]\n",
            "Downloading...\n",
            "From: https://maxar-opendata.s3.amazonaws.com/events/WildFires-LosAngeles-Jan-2025/ard/11/031311102030/2025-01-09/10400100A069A700-visual.tif\n",
            "To: /content/10400100A069A700/031311102030.tif\n"
          ]
        },
        {
          "output_type": "stream",
          "name": "stdout",
          "text": [
            "Downloading 106 out of 400: 10400100A069A700/031311102030.tif\n"
          ]
        },
        {
          "output_type": "stream",
          "name": "stderr",
          "text": [
            " 35%|███▌      | 32.0M/91.2M [00:00<00:02, 28.7MB/s]"
          ]
        },
        {
          "output_type": "error",
          "ename": "KeyboardInterrupt",
          "evalue": "",
          "traceback": [
            "\u001b[0;31m---------------------------------------------------------------------------\u001b[0m",
            "\u001b[0;31mKeyboardInterrupt\u001b[0m                         Traceback (most recent call last)",
            "\u001b[0;32m<ipython-input-14-629c2acbfe96>\u001b[0m in \u001b[0;36m<cell line: 0>\u001b[0;34m()\u001b[0m\n\u001b[0;32m----> 1\u001b[0;31m \u001b[0mleafmap\u001b[0m\u001b[0;34m.\u001b[0m\u001b[0mmaxar_download\u001b[0m\u001b[0;34m(\u001b[0m\u001b[0mimages\u001b[0m\u001b[0;34m)\u001b[0m\u001b[0;34m\u001b[0m\u001b[0;34m\u001b[0m\u001b[0m\n\u001b[0m",
            "\u001b[0;32m/usr/local/lib/python3.11/dist-packages/leafmap/stac.py\u001b[0m in \u001b[0;36mmaxar_download\u001b[0;34m(images, out_dir, quiet, proxy, speed, use_cookies, verify, id, fuzzy, resume, overwrite)\u001b[0m\n\u001b[1;32m   2092\u001b[0m             )\n\u001b[1;32m   2093\u001b[0m \u001b[0;34m\u001b[0m\u001b[0m\n\u001b[0;32m-> 2094\u001b[0;31m         gdown.download(\n\u001b[0m\u001b[1;32m   2095\u001b[0m             \u001b[0mimage\u001b[0m\u001b[0;34m,\u001b[0m \u001b[0mout_file\u001b[0m\u001b[0;34m,\u001b[0m \u001b[0mquiet\u001b[0m\u001b[0;34m,\u001b[0m \u001b[0mproxy\u001b[0m\u001b[0;34m,\u001b[0m \u001b[0mspeed\u001b[0m\u001b[0;34m,\u001b[0m \u001b[0muse_cookies\u001b[0m\u001b[0;34m,\u001b[0m \u001b[0mverify\u001b[0m\u001b[0;34m,\u001b[0m \u001b[0mid\u001b[0m\u001b[0;34m,\u001b[0m \u001b[0mfuzzy\u001b[0m\u001b[0;34m,\u001b[0m \u001b[0mresume\u001b[0m\u001b[0;34m\u001b[0m\u001b[0;34m\u001b[0m\u001b[0m\n\u001b[1;32m   2096\u001b[0m         )\n",
            "\u001b[0;32m/usr/local/lib/python3.11/dist-packages/gdown/download.py\u001b[0m in \u001b[0;36mdownload\u001b[0;34m(url, output, quiet, proxy, speed, use_cookies, verify, id, fuzzy, resume, format, user_agent, log_messages)\u001b[0m\n\u001b[1;32m    366\u001b[0m             \u001b[0mpbar\u001b[0m \u001b[0;34m=\u001b[0m \u001b[0mtqdm\u001b[0m\u001b[0;34m.\u001b[0m\u001b[0mtqdm\u001b[0m\u001b[0;34m(\u001b[0m\u001b[0mtotal\u001b[0m\u001b[0;34m=\u001b[0m\u001b[0mtotal\u001b[0m\u001b[0;34m,\u001b[0m \u001b[0munit\u001b[0m\u001b[0;34m=\u001b[0m\u001b[0;34m\"B\"\u001b[0m\u001b[0;34m,\u001b[0m \u001b[0minitial\u001b[0m\u001b[0;34m=\u001b[0m\u001b[0mstart_size\u001b[0m\u001b[0;34m,\u001b[0m \u001b[0munit_scale\u001b[0m\u001b[0;34m=\u001b[0m\u001b[0;32mTrue\u001b[0m\u001b[0;34m)\u001b[0m\u001b[0;34m\u001b[0m\u001b[0;34m\u001b[0m\u001b[0m\n\u001b[1;32m    367\u001b[0m         \u001b[0mt_start\u001b[0m \u001b[0;34m=\u001b[0m \u001b[0mtime\u001b[0m\u001b[0;34m.\u001b[0m\u001b[0mtime\u001b[0m\u001b[0;34m(\u001b[0m\u001b[0;34m)\u001b[0m\u001b[0;34m\u001b[0m\u001b[0;34m\u001b[0m\u001b[0m\n\u001b[0;32m--> 368\u001b[0;31m         \u001b[0;32mfor\u001b[0m \u001b[0mchunk\u001b[0m \u001b[0;32min\u001b[0m \u001b[0mres\u001b[0m\u001b[0;34m.\u001b[0m\u001b[0miter_content\u001b[0m\u001b[0;34m(\u001b[0m\u001b[0mchunk_size\u001b[0m\u001b[0;34m=\u001b[0m\u001b[0mCHUNK_SIZE\u001b[0m\u001b[0;34m)\u001b[0m\u001b[0;34m:\u001b[0m\u001b[0;34m\u001b[0m\u001b[0;34m\u001b[0m\u001b[0m\n\u001b[0m\u001b[1;32m    369\u001b[0m             \u001b[0mf\u001b[0m\u001b[0;34m.\u001b[0m\u001b[0mwrite\u001b[0m\u001b[0;34m(\u001b[0m\u001b[0mchunk\u001b[0m\u001b[0;34m)\u001b[0m\u001b[0;34m\u001b[0m\u001b[0;34m\u001b[0m\u001b[0m\n\u001b[1;32m    370\u001b[0m             \u001b[0;32mif\u001b[0m \u001b[0;32mnot\u001b[0m \u001b[0mquiet\u001b[0m\u001b[0;34m:\u001b[0m\u001b[0;34m\u001b[0m\u001b[0;34m\u001b[0m\u001b[0m\n",
            "\u001b[0;32m/usr/local/lib/python3.11/dist-packages/requests/models.py\u001b[0m in \u001b[0;36mgenerate\u001b[0;34m()\u001b[0m\n\u001b[1;32m    818\u001b[0m             \u001b[0;32mif\u001b[0m \u001b[0mhasattr\u001b[0m\u001b[0;34m(\u001b[0m\u001b[0mself\u001b[0m\u001b[0;34m.\u001b[0m\u001b[0mraw\u001b[0m\u001b[0;34m,\u001b[0m \u001b[0;34m\"stream\"\u001b[0m\u001b[0;34m)\u001b[0m\u001b[0;34m:\u001b[0m\u001b[0;34m\u001b[0m\u001b[0;34m\u001b[0m\u001b[0m\n\u001b[1;32m    819\u001b[0m                 \u001b[0;32mtry\u001b[0m\u001b[0;34m:\u001b[0m\u001b[0;34m\u001b[0m\u001b[0;34m\u001b[0m\u001b[0m\n\u001b[0;32m--> 820\u001b[0;31m                     \u001b[0;32myield\u001b[0m \u001b[0;32mfrom\u001b[0m \u001b[0mself\u001b[0m\u001b[0;34m.\u001b[0m\u001b[0mraw\u001b[0m\u001b[0;34m.\u001b[0m\u001b[0mstream\u001b[0m\u001b[0;34m(\u001b[0m\u001b[0mchunk_size\u001b[0m\u001b[0;34m,\u001b[0m \u001b[0mdecode_content\u001b[0m\u001b[0;34m=\u001b[0m\u001b[0;32mTrue\u001b[0m\u001b[0;34m)\u001b[0m\u001b[0;34m\u001b[0m\u001b[0;34m\u001b[0m\u001b[0m\n\u001b[0m\u001b[1;32m    821\u001b[0m                 \u001b[0;32mexcept\u001b[0m \u001b[0mProtocolError\u001b[0m \u001b[0;32mas\u001b[0m \u001b[0me\u001b[0m\u001b[0;34m:\u001b[0m\u001b[0;34m\u001b[0m\u001b[0;34m\u001b[0m\u001b[0m\n\u001b[1;32m    822\u001b[0m                     \u001b[0;32mraise\u001b[0m \u001b[0mChunkedEncodingError\u001b[0m\u001b[0;34m(\u001b[0m\u001b[0me\u001b[0m\u001b[0;34m)\u001b[0m\u001b[0;34m\u001b[0m\u001b[0;34m\u001b[0m\u001b[0m\n",
            "\u001b[0;32m/usr/local/lib/python3.11/dist-packages/urllib3/response.py\u001b[0m in \u001b[0;36mstream\u001b[0;34m(self, amt, decode_content)\u001b[0m\n\u001b[1;32m   1064\u001b[0m         \u001b[0;32melse\u001b[0m\u001b[0;34m:\u001b[0m\u001b[0;34m\u001b[0m\u001b[0;34m\u001b[0m\u001b[0m\n\u001b[1;32m   1065\u001b[0m             \u001b[0;32mwhile\u001b[0m \u001b[0;32mnot\u001b[0m \u001b[0mis_fp_closed\u001b[0m\u001b[0;34m(\u001b[0m\u001b[0mself\u001b[0m\u001b[0;34m.\u001b[0m\u001b[0m_fp\u001b[0m\u001b[0;34m)\u001b[0m \u001b[0;32mor\u001b[0m \u001b[0mlen\u001b[0m\u001b[0;34m(\u001b[0m\u001b[0mself\u001b[0m\u001b[0;34m.\u001b[0m\u001b[0m_decoded_buffer\u001b[0m\u001b[0;34m)\u001b[0m \u001b[0;34m>\u001b[0m \u001b[0;36m0\u001b[0m\u001b[0;34m:\u001b[0m\u001b[0;34m\u001b[0m\u001b[0;34m\u001b[0m\u001b[0m\n\u001b[0;32m-> 1066\u001b[0;31m                 \u001b[0mdata\u001b[0m \u001b[0;34m=\u001b[0m \u001b[0mself\u001b[0m\u001b[0;34m.\u001b[0m\u001b[0mread\u001b[0m\u001b[0;34m(\u001b[0m\u001b[0mamt\u001b[0m\u001b[0;34m=\u001b[0m\u001b[0mamt\u001b[0m\u001b[0;34m,\u001b[0m \u001b[0mdecode_content\u001b[0m\u001b[0;34m=\u001b[0m\u001b[0mdecode_content\u001b[0m\u001b[0;34m)\u001b[0m\u001b[0;34m\u001b[0m\u001b[0;34m\u001b[0m\u001b[0m\n\u001b[0m\u001b[1;32m   1067\u001b[0m \u001b[0;34m\u001b[0m\u001b[0m\n\u001b[1;32m   1068\u001b[0m                 \u001b[0;32mif\u001b[0m \u001b[0mdata\u001b[0m\u001b[0;34m:\u001b[0m\u001b[0;34m\u001b[0m\u001b[0;34m\u001b[0m\u001b[0m\n",
            "\u001b[0;32m/usr/local/lib/python3.11/dist-packages/urllib3/response.py\u001b[0m in \u001b[0;36mread\u001b[0;34m(self, amt, decode_content, cache_content)\u001b[0m\n\u001b[1;32m    953\u001b[0m                 \u001b[0;32mreturn\u001b[0m \u001b[0mself\u001b[0m\u001b[0;34m.\u001b[0m\u001b[0m_decoded_buffer\u001b[0m\u001b[0;34m.\u001b[0m\u001b[0mget\u001b[0m\u001b[0;34m(\u001b[0m\u001b[0mamt\u001b[0m\u001b[0;34m)\u001b[0m\u001b[0;34m\u001b[0m\u001b[0;34m\u001b[0m\u001b[0m\n\u001b[1;32m    954\u001b[0m \u001b[0;34m\u001b[0m\u001b[0m\n\u001b[0;32m--> 955\u001b[0;31m         \u001b[0mdata\u001b[0m \u001b[0;34m=\u001b[0m \u001b[0mself\u001b[0m\u001b[0;34m.\u001b[0m\u001b[0m_raw_read\u001b[0m\u001b[0;34m(\u001b[0m\u001b[0mamt\u001b[0m\u001b[0;34m)\u001b[0m\u001b[0;34m\u001b[0m\u001b[0;34m\u001b[0m\u001b[0m\n\u001b[0m\u001b[1;32m    956\u001b[0m \u001b[0;34m\u001b[0m\u001b[0m\n\u001b[1;32m    957\u001b[0m         \u001b[0mflush_decoder\u001b[0m \u001b[0;34m=\u001b[0m \u001b[0mamt\u001b[0m \u001b[0;32mis\u001b[0m \u001b[0;32mNone\u001b[0m \u001b[0;32mor\u001b[0m \u001b[0;34m(\u001b[0m\u001b[0mamt\u001b[0m \u001b[0;34m!=\u001b[0m \u001b[0;36m0\u001b[0m \u001b[0;32mand\u001b[0m \u001b[0;32mnot\u001b[0m \u001b[0mdata\u001b[0m\u001b[0;34m)\u001b[0m\u001b[0;34m\u001b[0m\u001b[0;34m\u001b[0m\u001b[0m\n",
            "\u001b[0;32m/usr/local/lib/python3.11/dist-packages/urllib3/response.py\u001b[0m in \u001b[0;36m_raw_read\u001b[0;34m(self, amt, read1)\u001b[0m\n\u001b[1;32m    877\u001b[0m \u001b[0;34m\u001b[0m\u001b[0m\n\u001b[1;32m    878\u001b[0m         \u001b[0;32mwith\u001b[0m \u001b[0mself\u001b[0m\u001b[0;34m.\u001b[0m\u001b[0m_error_catcher\u001b[0m\u001b[0;34m(\u001b[0m\u001b[0;34m)\u001b[0m\u001b[0;34m:\u001b[0m\u001b[0;34m\u001b[0m\u001b[0;34m\u001b[0m\u001b[0m\n\u001b[0;32m--> 879\u001b[0;31m             \u001b[0mdata\u001b[0m \u001b[0;34m=\u001b[0m \u001b[0mself\u001b[0m\u001b[0;34m.\u001b[0m\u001b[0m_fp_read\u001b[0m\u001b[0;34m(\u001b[0m\u001b[0mamt\u001b[0m\u001b[0;34m,\u001b[0m \u001b[0mread1\u001b[0m\u001b[0;34m=\u001b[0m\u001b[0mread1\u001b[0m\u001b[0;34m)\u001b[0m \u001b[0;32mif\u001b[0m \u001b[0;32mnot\u001b[0m \u001b[0mfp_closed\u001b[0m \u001b[0;32melse\u001b[0m \u001b[0;34mb\"\"\u001b[0m\u001b[0;34m\u001b[0m\u001b[0;34m\u001b[0m\u001b[0m\n\u001b[0m\u001b[1;32m    880\u001b[0m             \u001b[0;32mif\u001b[0m \u001b[0mamt\u001b[0m \u001b[0;32mis\u001b[0m \u001b[0;32mnot\u001b[0m \u001b[0;32mNone\u001b[0m \u001b[0;32mand\u001b[0m \u001b[0mamt\u001b[0m \u001b[0;34m!=\u001b[0m \u001b[0;36m0\u001b[0m \u001b[0;32mand\u001b[0m \u001b[0;32mnot\u001b[0m \u001b[0mdata\u001b[0m\u001b[0;34m:\u001b[0m\u001b[0;34m\u001b[0m\u001b[0;34m\u001b[0m\u001b[0m\n\u001b[1;32m    881\u001b[0m                 \u001b[0;31m# Platform-specific: Buggy versions of Python.\u001b[0m\u001b[0;34m\u001b[0m\u001b[0;34m\u001b[0m\u001b[0m\n",
            "\u001b[0;32m/usr/local/lib/python3.11/dist-packages/urllib3/response.py\u001b[0m in \u001b[0;36m_fp_read\u001b[0;34m(self, amt, read1)\u001b[0m\n\u001b[1;32m    860\u001b[0m         \u001b[0;32melse\u001b[0m\u001b[0;34m:\u001b[0m\u001b[0;34m\u001b[0m\u001b[0;34m\u001b[0m\u001b[0m\n\u001b[1;32m    861\u001b[0m             \u001b[0;31m# StringIO doesn't like amt=None\u001b[0m\u001b[0;34m\u001b[0m\u001b[0;34m\u001b[0m\u001b[0m\n\u001b[0;32m--> 862\u001b[0;31m             \u001b[0;32mreturn\u001b[0m \u001b[0mself\u001b[0m\u001b[0;34m.\u001b[0m\u001b[0m_fp\u001b[0m\u001b[0;34m.\u001b[0m\u001b[0mread\u001b[0m\u001b[0;34m(\u001b[0m\u001b[0mamt\u001b[0m\u001b[0;34m)\u001b[0m \u001b[0;32mif\u001b[0m \u001b[0mamt\u001b[0m \u001b[0;32mis\u001b[0m \u001b[0;32mnot\u001b[0m \u001b[0;32mNone\u001b[0m \u001b[0;32melse\u001b[0m \u001b[0mself\u001b[0m\u001b[0;34m.\u001b[0m\u001b[0m_fp\u001b[0m\u001b[0;34m.\u001b[0m\u001b[0mread\u001b[0m\u001b[0;34m(\u001b[0m\u001b[0;34m)\u001b[0m\u001b[0;34m\u001b[0m\u001b[0;34m\u001b[0m\u001b[0m\n\u001b[0m\u001b[1;32m    863\u001b[0m \u001b[0;34m\u001b[0m\u001b[0m\n\u001b[1;32m    864\u001b[0m     def _raw_read(\n",
            "\u001b[0;32m/usr/lib/python3.11/http/client.py\u001b[0m in \u001b[0;36mread\u001b[0;34m(self, amt)\u001b[0m\n\u001b[1;32m    471\u001b[0m                 \u001b[0;31m# clip the read to the \"end of response\"\u001b[0m\u001b[0;34m\u001b[0m\u001b[0;34m\u001b[0m\u001b[0m\n\u001b[1;32m    472\u001b[0m                 \u001b[0mamt\u001b[0m \u001b[0;34m=\u001b[0m \u001b[0mself\u001b[0m\u001b[0;34m.\u001b[0m\u001b[0mlength\u001b[0m\u001b[0;34m\u001b[0m\u001b[0;34m\u001b[0m\u001b[0m\n\u001b[0;32m--> 473\u001b[0;31m             \u001b[0ms\u001b[0m \u001b[0;34m=\u001b[0m \u001b[0mself\u001b[0m\u001b[0;34m.\u001b[0m\u001b[0mfp\u001b[0m\u001b[0;34m.\u001b[0m\u001b[0mread\u001b[0m\u001b[0;34m(\u001b[0m\u001b[0mamt\u001b[0m\u001b[0;34m)\u001b[0m\u001b[0;34m\u001b[0m\u001b[0;34m\u001b[0m\u001b[0m\n\u001b[0m\u001b[1;32m    474\u001b[0m             \u001b[0;32mif\u001b[0m \u001b[0;32mnot\u001b[0m \u001b[0ms\u001b[0m \u001b[0;32mand\u001b[0m \u001b[0mamt\u001b[0m\u001b[0;34m:\u001b[0m\u001b[0;34m\u001b[0m\u001b[0;34m\u001b[0m\u001b[0m\n\u001b[1;32m    475\u001b[0m                 \u001b[0;31m# Ideally, we would raise IncompleteRead if the content-length\u001b[0m\u001b[0;34m\u001b[0m\u001b[0;34m\u001b[0m\u001b[0m\n",
            "\u001b[0;32m/usr/lib/python3.11/socket.py\u001b[0m in \u001b[0;36mreadinto\u001b[0;34m(self, b)\u001b[0m\n\u001b[1;32m    716\u001b[0m         \u001b[0;32mwhile\u001b[0m \u001b[0;32mTrue\u001b[0m\u001b[0;34m:\u001b[0m\u001b[0;34m\u001b[0m\u001b[0;34m\u001b[0m\u001b[0m\n\u001b[1;32m    717\u001b[0m             \u001b[0;32mtry\u001b[0m\u001b[0;34m:\u001b[0m\u001b[0;34m\u001b[0m\u001b[0;34m\u001b[0m\u001b[0m\n\u001b[0;32m--> 718\u001b[0;31m                 \u001b[0;32mreturn\u001b[0m \u001b[0mself\u001b[0m\u001b[0;34m.\u001b[0m\u001b[0m_sock\u001b[0m\u001b[0;34m.\u001b[0m\u001b[0mrecv_into\u001b[0m\u001b[0;34m(\u001b[0m\u001b[0mb\u001b[0m\u001b[0;34m)\u001b[0m\u001b[0;34m\u001b[0m\u001b[0;34m\u001b[0m\u001b[0m\n\u001b[0m\u001b[1;32m    719\u001b[0m             \u001b[0;32mexcept\u001b[0m \u001b[0mtimeout\u001b[0m\u001b[0;34m:\u001b[0m\u001b[0;34m\u001b[0m\u001b[0;34m\u001b[0m\u001b[0m\n\u001b[1;32m    720\u001b[0m                 \u001b[0mself\u001b[0m\u001b[0;34m.\u001b[0m\u001b[0m_timeout_occurred\u001b[0m \u001b[0;34m=\u001b[0m \u001b[0;32mTrue\u001b[0m\u001b[0;34m\u001b[0m\u001b[0;34m\u001b[0m\u001b[0m\n",
            "\u001b[0;32m/usr/lib/python3.11/ssl.py\u001b[0m in \u001b[0;36mrecv_into\u001b[0;34m(self, buffer, nbytes, flags)\u001b[0m\n\u001b[1;32m   1312\u001b[0m                   \u001b[0;34m\"non-zero flags not allowed in calls to recv_into() on %s\"\u001b[0m \u001b[0;34m%\u001b[0m\u001b[0;34m\u001b[0m\u001b[0;34m\u001b[0m\u001b[0m\n\u001b[1;32m   1313\u001b[0m                   self.__class__)\n\u001b[0;32m-> 1314\u001b[0;31m             \u001b[0;32mreturn\u001b[0m \u001b[0mself\u001b[0m\u001b[0;34m.\u001b[0m\u001b[0mread\u001b[0m\u001b[0;34m(\u001b[0m\u001b[0mnbytes\u001b[0m\u001b[0;34m,\u001b[0m \u001b[0mbuffer\u001b[0m\u001b[0;34m)\u001b[0m\u001b[0;34m\u001b[0m\u001b[0;34m\u001b[0m\u001b[0m\n\u001b[0m\u001b[1;32m   1315\u001b[0m         \u001b[0;32melse\u001b[0m\u001b[0;34m:\u001b[0m\u001b[0;34m\u001b[0m\u001b[0;34m\u001b[0m\u001b[0m\n\u001b[1;32m   1316\u001b[0m             \u001b[0;32mreturn\u001b[0m \u001b[0msuper\u001b[0m\u001b[0;34m(\u001b[0m\u001b[0;34m)\u001b[0m\u001b[0;34m.\u001b[0m\u001b[0mrecv_into\u001b[0m\u001b[0;34m(\u001b[0m\u001b[0mbuffer\u001b[0m\u001b[0;34m,\u001b[0m \u001b[0mnbytes\u001b[0m\u001b[0;34m,\u001b[0m \u001b[0mflags\u001b[0m\u001b[0;34m)\u001b[0m\u001b[0;34m\u001b[0m\u001b[0;34m\u001b[0m\u001b[0m\n",
            "\u001b[0;32m/usr/lib/python3.11/ssl.py\u001b[0m in \u001b[0;36mread\u001b[0;34m(self, len, buffer)\u001b[0m\n\u001b[1;32m   1164\u001b[0m         \u001b[0;32mtry\u001b[0m\u001b[0;34m:\u001b[0m\u001b[0;34m\u001b[0m\u001b[0;34m\u001b[0m\u001b[0m\n\u001b[1;32m   1165\u001b[0m             \u001b[0;32mif\u001b[0m \u001b[0mbuffer\u001b[0m \u001b[0;32mis\u001b[0m \u001b[0;32mnot\u001b[0m \u001b[0;32mNone\u001b[0m\u001b[0;34m:\u001b[0m\u001b[0;34m\u001b[0m\u001b[0;34m\u001b[0m\u001b[0m\n\u001b[0;32m-> 1166\u001b[0;31m                 \u001b[0;32mreturn\u001b[0m \u001b[0mself\u001b[0m\u001b[0;34m.\u001b[0m\u001b[0m_sslobj\u001b[0m\u001b[0;34m.\u001b[0m\u001b[0mread\u001b[0m\u001b[0;34m(\u001b[0m\u001b[0mlen\u001b[0m\u001b[0;34m,\u001b[0m \u001b[0mbuffer\u001b[0m\u001b[0;34m)\u001b[0m\u001b[0;34m\u001b[0m\u001b[0;34m\u001b[0m\u001b[0m\n\u001b[0m\u001b[1;32m   1167\u001b[0m             \u001b[0;32melse\u001b[0m\u001b[0;34m:\u001b[0m\u001b[0;34m\u001b[0m\u001b[0;34m\u001b[0m\u001b[0m\n\u001b[1;32m   1168\u001b[0m                 \u001b[0;32mreturn\u001b[0m \u001b[0mself\u001b[0m\u001b[0;34m.\u001b[0m\u001b[0m_sslobj\u001b[0m\u001b[0;34m.\u001b[0m\u001b[0mread\u001b[0m\u001b[0;34m(\u001b[0m\u001b[0mlen\u001b[0m\u001b[0;34m)\u001b[0m\u001b[0;34m\u001b[0m\u001b[0;34m\u001b[0m\u001b[0m\n",
            "\u001b[0;31mKeyboardInterrupt\u001b[0m: "
          ]
        }
      ]
    },
    {
      "cell_type": "code",
      "source": [
        "gdf.head()"
      ],
      "metadata": {
        "colab": {
          "base_uri": "https://localhost:8080/",
          "height": 602
        },
        "id": "wZB7fORJ8jQb",
        "outputId": "6fe7643e-9aec-4791-df3a-43848f36fc8f"
      },
      "id": "wZB7fORJ8jQb",
      "execution_count": 24,
      "outputs": [
        {
          "output_type": "execute_result",
          "data": {
            "text/plain": [
              "                                            geometry              datetime  \\\n",
              "0  POLYGON ((-118.62796 34.28399, -118.64954 34.2...  2024-12-14T18:53:50Z   \n",
              "1  POLYGON ((-118.62801 34.2868, -118.62709 34.23...  2024-12-14T18:53:50Z   \n",
              "2  POLYGON ((-118.62593 34.33192, -118.57455 34.3...  2024-12-14T18:53:50Z   \n",
              "3  POLYGON ((-118.57795 34.33254, -118.57705 34.2...  2024-12-14T18:53:50Z   \n",
              "4  POLYGON ((-118.63141 34.28676, -118.63048 34.2...  2024-12-14T18:53:50Z   \n",
              "\n",
              "  platform   gsd ard_metadata_version        catalog_id  utm_zone  \\\n",
              "0     WV02  0.58                0.0.1  103001010A705C00        11   \n",
              "1     WV02  0.58                0.0.1  103001010A705C00        11   \n",
              "2     WV02  0.58                0.0.1  103001010A705C00        11   \n",
              "3     WV02  0.58                0.0.1  103001010A705C00        11   \n",
              "4     WV02  0.58                0.0.1  103001010A705C00        11   \n",
              "\n",
              "        quadkey  view:off_nadir  view:azimuth  ...  view:sun_azimuth  \\\n",
              "0  031311102001            27.5         233.2  ...             165.1   \n",
              "1  031311102003            27.4         233.5  ...             165.1   \n",
              "2  031311102010            27.7         233.6  ...             165.1   \n",
              "3  031311102011            27.9         234.0  ...             165.1   \n",
              "4  031311102012            27.7         233.9  ...             165.1   \n",
              "\n",
              "   view:sun_elevation  proj:epsg  \\\n",
              "0                31.1      32611   \n",
              "1                31.1      32611   \n",
              "2                31.1      32611   \n",
              "3                31.1      32611   \n",
              "4                31.1      32611   \n",
              "\n",
              "                                       proj:geometry              grid:code  \\\n",
              "0  {'type': 'Polygon', 'coordinates': [[[350156.2...  MXRA-Z11-031311102001   \n",
              "1  {'type': 'Polygon', 'coordinates': [[[350156.2...  MXRA-Z11-031311102003   \n",
              "2  {'type': 'Polygon', 'coordinates': [[[350428.1...  MXRA-Z11-031311102010   \n",
              "3  {'type': 'Polygon', 'coordinates': [[[354843.7...  MXRA-Z11-031311102011   \n",
              "4  {'type': 'Polygon', 'coordinates': [[[349843.7...  MXRA-Z11-031311102012   \n",
              "\n",
              "                                           proj:bbox tile:data_area  \\\n",
              "0  348162.7630737268,3794843.75,350156.25,3800135...           10.3   \n",
              "1  348170.20262592233,3789843.75,350156.25,379515...           10.5   \n",
              "2          349843.75,3794843.75,355156.25,3800156.25           28.2   \n",
              "3          354843.75,3794843.75,360156.25,3800156.25           28.2   \n",
              "4          349843.75,3789843.75,355156.25,3795156.25           28.2   \n",
              "\n",
              "   tile:clouds_area  tile:clouds_percent  \\\n",
              "0               0.0                    0   \n",
              "1               1.2                   11   \n",
              "2               0.0                    0   \n",
              "3               1.9                    6   \n",
              "4               0.1                    0   \n",
              "\n",
              "                                              visual  \n",
              "0  https://maxar-opendata.s3.amazonaws.com/events...  \n",
              "1  https://maxar-opendata.s3.amazonaws.com/events...  \n",
              "2  https://maxar-opendata.s3.amazonaws.com/events...  \n",
              "3  https://maxar-opendata.s3.amazonaws.com/events...  \n",
              "4  https://maxar-opendata.s3.amazonaws.com/events...  \n",
              "\n",
              "[5 rows x 21 columns]"
            ],
            "text/html": [
              "\n",
              "  <div id=\"df-c3f20a34-3538-4524-8027-efaab5bf478c\" class=\"colab-df-container\">\n",
              "    <div>\n",
              "<style scoped>\n",
              "    .dataframe tbody tr th:only-of-type {\n",
              "        vertical-align: middle;\n",
              "    }\n",
              "\n",
              "    .dataframe tbody tr th {\n",
              "        vertical-align: top;\n",
              "    }\n",
              "\n",
              "    .dataframe thead th {\n",
              "        text-align: right;\n",
              "    }\n",
              "</style>\n",
              "<table border=\"1\" class=\"dataframe\">\n",
              "  <thead>\n",
              "    <tr style=\"text-align: right;\">\n",
              "      <th></th>\n",
              "      <th>geometry</th>\n",
              "      <th>datetime</th>\n",
              "      <th>platform</th>\n",
              "      <th>gsd</th>\n",
              "      <th>ard_metadata_version</th>\n",
              "      <th>catalog_id</th>\n",
              "      <th>utm_zone</th>\n",
              "      <th>quadkey</th>\n",
              "      <th>view:off_nadir</th>\n",
              "      <th>view:azimuth</th>\n",
              "      <th>...</th>\n",
              "      <th>view:sun_azimuth</th>\n",
              "      <th>view:sun_elevation</th>\n",
              "      <th>proj:epsg</th>\n",
              "      <th>proj:geometry</th>\n",
              "      <th>grid:code</th>\n",
              "      <th>proj:bbox</th>\n",
              "      <th>tile:data_area</th>\n",
              "      <th>tile:clouds_area</th>\n",
              "      <th>tile:clouds_percent</th>\n",
              "      <th>visual</th>\n",
              "    </tr>\n",
              "  </thead>\n",
              "  <tbody>\n",
              "    <tr>\n",
              "      <th>0</th>\n",
              "      <td>POLYGON ((-118.62796 34.28399, -118.64954 34.2...</td>\n",
              "      <td>2024-12-14T18:53:50Z</td>\n",
              "      <td>WV02</td>\n",
              "      <td>0.58</td>\n",
              "      <td>0.0.1</td>\n",
              "      <td>103001010A705C00</td>\n",
              "      <td>11</td>\n",
              "      <td>031311102001</td>\n",
              "      <td>27.5</td>\n",
              "      <td>233.2</td>\n",
              "      <td>...</td>\n",
              "      <td>165.1</td>\n",
              "      <td>31.1</td>\n",
              "      <td>32611</td>\n",
              "      <td>{'type': 'Polygon', 'coordinates': [[[350156.2...</td>\n",
              "      <td>MXRA-Z11-031311102001</td>\n",
              "      <td>348162.7630737268,3794843.75,350156.25,3800135...</td>\n",
              "      <td>10.3</td>\n",
              "      <td>0.0</td>\n",
              "      <td>0</td>\n",
              "      <td>https://maxar-opendata.s3.amazonaws.com/events...</td>\n",
              "    </tr>\n",
              "    <tr>\n",
              "      <th>1</th>\n",
              "      <td>POLYGON ((-118.62801 34.2868, -118.62709 34.23...</td>\n",
              "      <td>2024-12-14T18:53:50Z</td>\n",
              "      <td>WV02</td>\n",
              "      <td>0.58</td>\n",
              "      <td>0.0.1</td>\n",
              "      <td>103001010A705C00</td>\n",
              "      <td>11</td>\n",
              "      <td>031311102003</td>\n",
              "      <td>27.4</td>\n",
              "      <td>233.5</td>\n",
              "      <td>...</td>\n",
              "      <td>165.1</td>\n",
              "      <td>31.1</td>\n",
              "      <td>32611</td>\n",
              "      <td>{'type': 'Polygon', 'coordinates': [[[350156.2...</td>\n",
              "      <td>MXRA-Z11-031311102003</td>\n",
              "      <td>348170.20262592233,3789843.75,350156.25,379515...</td>\n",
              "      <td>10.5</td>\n",
              "      <td>1.2</td>\n",
              "      <td>11</td>\n",
              "      <td>https://maxar-opendata.s3.amazonaws.com/events...</td>\n",
              "    </tr>\n",
              "    <tr>\n",
              "      <th>2</th>\n",
              "      <td>POLYGON ((-118.62593 34.33192, -118.57455 34.3...</td>\n",
              "      <td>2024-12-14T18:53:50Z</td>\n",
              "      <td>WV02</td>\n",
              "      <td>0.58</td>\n",
              "      <td>0.0.1</td>\n",
              "      <td>103001010A705C00</td>\n",
              "      <td>11</td>\n",
              "      <td>031311102010</td>\n",
              "      <td>27.7</td>\n",
              "      <td>233.6</td>\n",
              "      <td>...</td>\n",
              "      <td>165.1</td>\n",
              "      <td>31.1</td>\n",
              "      <td>32611</td>\n",
              "      <td>{'type': 'Polygon', 'coordinates': [[[350428.1...</td>\n",
              "      <td>MXRA-Z11-031311102010</td>\n",
              "      <td>349843.75,3794843.75,355156.25,3800156.25</td>\n",
              "      <td>28.2</td>\n",
              "      <td>0.0</td>\n",
              "      <td>0</td>\n",
              "      <td>https://maxar-opendata.s3.amazonaws.com/events...</td>\n",
              "    </tr>\n",
              "    <tr>\n",
              "      <th>3</th>\n",
              "      <td>POLYGON ((-118.57795 34.33254, -118.57705 34.2...</td>\n",
              "      <td>2024-12-14T18:53:50Z</td>\n",
              "      <td>WV02</td>\n",
              "      <td>0.58</td>\n",
              "      <td>0.0.1</td>\n",
              "      <td>103001010A705C00</td>\n",
              "      <td>11</td>\n",
              "      <td>031311102011</td>\n",
              "      <td>27.9</td>\n",
              "      <td>234.0</td>\n",
              "      <td>...</td>\n",
              "      <td>165.1</td>\n",
              "      <td>31.1</td>\n",
              "      <td>32611</td>\n",
              "      <td>{'type': 'Polygon', 'coordinates': [[[354843.7...</td>\n",
              "      <td>MXRA-Z11-031311102011</td>\n",
              "      <td>354843.75,3794843.75,360156.25,3800156.25</td>\n",
              "      <td>28.2</td>\n",
              "      <td>1.9</td>\n",
              "      <td>6</td>\n",
              "      <td>https://maxar-opendata.s3.amazonaws.com/events...</td>\n",
              "    </tr>\n",
              "    <tr>\n",
              "      <th>4</th>\n",
              "      <td>POLYGON ((-118.63141 34.28676, -118.63048 34.2...</td>\n",
              "      <td>2024-12-14T18:53:50Z</td>\n",
              "      <td>WV02</td>\n",
              "      <td>0.58</td>\n",
              "      <td>0.0.1</td>\n",
              "      <td>103001010A705C00</td>\n",
              "      <td>11</td>\n",
              "      <td>031311102012</td>\n",
              "      <td>27.7</td>\n",
              "      <td>233.9</td>\n",
              "      <td>...</td>\n",
              "      <td>165.1</td>\n",
              "      <td>31.1</td>\n",
              "      <td>32611</td>\n",
              "      <td>{'type': 'Polygon', 'coordinates': [[[349843.7...</td>\n",
              "      <td>MXRA-Z11-031311102012</td>\n",
              "      <td>349843.75,3789843.75,355156.25,3795156.25</td>\n",
              "      <td>28.2</td>\n",
              "      <td>0.1</td>\n",
              "      <td>0</td>\n",
              "      <td>https://maxar-opendata.s3.amazonaws.com/events...</td>\n",
              "    </tr>\n",
              "  </tbody>\n",
              "</table>\n",
              "<p>5 rows × 21 columns</p>\n",
              "</div>\n",
              "    <div class=\"colab-df-buttons\">\n",
              "\n",
              "  <div class=\"colab-df-container\">\n",
              "    <button class=\"colab-df-convert\" onclick=\"convertToInteractive('df-c3f20a34-3538-4524-8027-efaab5bf478c')\"\n",
              "            title=\"Convert this dataframe to an interactive table.\"\n",
              "            style=\"display:none;\">\n",
              "\n",
              "  <svg xmlns=\"http://www.w3.org/2000/svg\" height=\"24px\" viewBox=\"0 -960 960 960\">\n",
              "    <path d=\"M120-120v-720h720v720H120Zm60-500h600v-160H180v160Zm220 220h160v-160H400v160Zm0 220h160v-160H400v160ZM180-400h160v-160H180v160Zm440 0h160v-160H620v160ZM180-180h160v-160H180v160Zm440 0h160v-160H620v160Z\"/>\n",
              "  </svg>\n",
              "    </button>\n",
              "\n",
              "  <style>\n",
              "    .colab-df-container {\n",
              "      display:flex;\n",
              "      gap: 12px;\n",
              "    }\n",
              "\n",
              "    .colab-df-convert {\n",
              "      background-color: #E8F0FE;\n",
              "      border: none;\n",
              "      border-radius: 50%;\n",
              "      cursor: pointer;\n",
              "      display: none;\n",
              "      fill: #1967D2;\n",
              "      height: 32px;\n",
              "      padding: 0 0 0 0;\n",
              "      width: 32px;\n",
              "    }\n",
              "\n",
              "    .colab-df-convert:hover {\n",
              "      background-color: #E2EBFA;\n",
              "      box-shadow: 0px 1px 2px rgba(60, 64, 67, 0.3), 0px 1px 3px 1px rgba(60, 64, 67, 0.15);\n",
              "      fill: #174EA6;\n",
              "    }\n",
              "\n",
              "    .colab-df-buttons div {\n",
              "      margin-bottom: 4px;\n",
              "    }\n",
              "\n",
              "    [theme=dark] .colab-df-convert {\n",
              "      background-color: #3B4455;\n",
              "      fill: #D2E3FC;\n",
              "    }\n",
              "\n",
              "    [theme=dark] .colab-df-convert:hover {\n",
              "      background-color: #434B5C;\n",
              "      box-shadow: 0px 1px 3px 1px rgba(0, 0, 0, 0.15);\n",
              "      filter: drop-shadow(0px 1px 2px rgba(0, 0, 0, 0.3));\n",
              "      fill: #FFFFFF;\n",
              "    }\n",
              "  </style>\n",
              "\n",
              "    <script>\n",
              "      const buttonEl =\n",
              "        document.querySelector('#df-c3f20a34-3538-4524-8027-efaab5bf478c button.colab-df-convert');\n",
              "      buttonEl.style.display =\n",
              "        google.colab.kernel.accessAllowed ? 'block' : 'none';\n",
              "\n",
              "      async function convertToInteractive(key) {\n",
              "        const element = document.querySelector('#df-c3f20a34-3538-4524-8027-efaab5bf478c');\n",
              "        const dataTable =\n",
              "          await google.colab.kernel.invokeFunction('convertToInteractive',\n",
              "                                                    [key], {});\n",
              "        if (!dataTable) return;\n",
              "\n",
              "        const docLinkHtml = 'Like what you see? Visit the ' +\n",
              "          '<a target=\"_blank\" href=https://colab.research.google.com/notebooks/data_table.ipynb>data table notebook</a>'\n",
              "          + ' to learn more about interactive tables.';\n",
              "        element.innerHTML = '';\n",
              "        dataTable['output_type'] = 'display_data';\n",
              "        await google.colab.output.renderOutput(dataTable, element);\n",
              "        const docLink = document.createElement('div');\n",
              "        docLink.innerHTML = docLinkHtml;\n",
              "        element.appendChild(docLink);\n",
              "      }\n",
              "    </script>\n",
              "  </div>\n",
              "\n",
              "\n",
              "<div id=\"df-d51db17a-7441-4de3-91c8-98979a609677\">\n",
              "  <button class=\"colab-df-quickchart\" onclick=\"quickchart('df-d51db17a-7441-4de3-91c8-98979a609677')\"\n",
              "            title=\"Suggest charts\"\n",
              "            style=\"display:none;\">\n",
              "\n",
              "<svg xmlns=\"http://www.w3.org/2000/svg\" height=\"24px\"viewBox=\"0 0 24 24\"\n",
              "     width=\"24px\">\n",
              "    <g>\n",
              "        <path d=\"M19 3H5c-1.1 0-2 .9-2 2v14c0 1.1.9 2 2 2h14c1.1 0 2-.9 2-2V5c0-1.1-.9-2-2-2zM9 17H7v-7h2v7zm4 0h-2V7h2v10zm4 0h-2v-4h2v4z\"/>\n",
              "    </g>\n",
              "</svg>\n",
              "  </button>\n",
              "\n",
              "<style>\n",
              "  .colab-df-quickchart {\n",
              "      --bg-color: #E8F0FE;\n",
              "      --fill-color: #1967D2;\n",
              "      --hover-bg-color: #E2EBFA;\n",
              "      --hover-fill-color: #174EA6;\n",
              "      --disabled-fill-color: #AAA;\n",
              "      --disabled-bg-color: #DDD;\n",
              "  }\n",
              "\n",
              "  [theme=dark] .colab-df-quickchart {\n",
              "      --bg-color: #3B4455;\n",
              "      --fill-color: #D2E3FC;\n",
              "      --hover-bg-color: #434B5C;\n",
              "      --hover-fill-color: #FFFFFF;\n",
              "      --disabled-bg-color: #3B4455;\n",
              "      --disabled-fill-color: #666;\n",
              "  }\n",
              "\n",
              "  .colab-df-quickchart {\n",
              "    background-color: var(--bg-color);\n",
              "    border: none;\n",
              "    border-radius: 50%;\n",
              "    cursor: pointer;\n",
              "    display: none;\n",
              "    fill: var(--fill-color);\n",
              "    height: 32px;\n",
              "    padding: 0;\n",
              "    width: 32px;\n",
              "  }\n",
              "\n",
              "  .colab-df-quickchart:hover {\n",
              "    background-color: var(--hover-bg-color);\n",
              "    box-shadow: 0 1px 2px rgba(60, 64, 67, 0.3), 0 1px 3px 1px rgba(60, 64, 67, 0.15);\n",
              "    fill: var(--button-hover-fill-color);\n",
              "  }\n",
              "\n",
              "  .colab-df-quickchart-complete:disabled,\n",
              "  .colab-df-quickchart-complete:disabled:hover {\n",
              "    background-color: var(--disabled-bg-color);\n",
              "    fill: var(--disabled-fill-color);\n",
              "    box-shadow: none;\n",
              "  }\n",
              "\n",
              "  .colab-df-spinner {\n",
              "    border: 2px solid var(--fill-color);\n",
              "    border-color: transparent;\n",
              "    border-bottom-color: var(--fill-color);\n",
              "    animation:\n",
              "      spin 1s steps(1) infinite;\n",
              "  }\n",
              "\n",
              "  @keyframes spin {\n",
              "    0% {\n",
              "      border-color: transparent;\n",
              "      border-bottom-color: var(--fill-color);\n",
              "      border-left-color: var(--fill-color);\n",
              "    }\n",
              "    20% {\n",
              "      border-color: transparent;\n",
              "      border-left-color: var(--fill-color);\n",
              "      border-top-color: var(--fill-color);\n",
              "    }\n",
              "    30% {\n",
              "      border-color: transparent;\n",
              "      border-left-color: var(--fill-color);\n",
              "      border-top-color: var(--fill-color);\n",
              "      border-right-color: var(--fill-color);\n",
              "    }\n",
              "    40% {\n",
              "      border-color: transparent;\n",
              "      border-right-color: var(--fill-color);\n",
              "      border-top-color: var(--fill-color);\n",
              "    }\n",
              "    60% {\n",
              "      border-color: transparent;\n",
              "      border-right-color: var(--fill-color);\n",
              "    }\n",
              "    80% {\n",
              "      border-color: transparent;\n",
              "      border-right-color: var(--fill-color);\n",
              "      border-bottom-color: var(--fill-color);\n",
              "    }\n",
              "    90% {\n",
              "      border-color: transparent;\n",
              "      border-bottom-color: var(--fill-color);\n",
              "    }\n",
              "  }\n",
              "</style>\n",
              "\n",
              "  <script>\n",
              "    async function quickchart(key) {\n",
              "      const quickchartButtonEl =\n",
              "        document.querySelector('#' + key + ' button');\n",
              "      quickchartButtonEl.disabled = true;  // To prevent multiple clicks.\n",
              "      quickchartButtonEl.classList.add('colab-df-spinner');\n",
              "      try {\n",
              "        const charts = await google.colab.kernel.invokeFunction(\n",
              "            'suggestCharts', [key], {});\n",
              "      } catch (error) {\n",
              "        console.error('Error during call to suggestCharts:', error);\n",
              "      }\n",
              "      quickchartButtonEl.classList.remove('colab-df-spinner');\n",
              "      quickchartButtonEl.classList.add('colab-df-quickchart-complete');\n",
              "    }\n",
              "    (() => {\n",
              "      let quickchartButtonEl =\n",
              "        document.querySelector('#df-d51db17a-7441-4de3-91c8-98979a609677 button');\n",
              "      quickchartButtonEl.style.display =\n",
              "        google.colab.kernel.accessAllowed ? 'block' : 'none';\n",
              "    })();\n",
              "  </script>\n",
              "</div>\n",
              "\n",
              "    </div>\n",
              "  </div>\n"
            ],
            "application/vnd.google.colaboratory.intrinsic+json": {
              "type": "dataframe",
              "variable_name": "gdf"
            }
          },
          "metadata": {},
          "execution_count": 24
        }
      ]
    },
    {
      "cell_type": "code",
      "source": [
        "import pandas as pd\n",
        "\n",
        "# Assuming 'gdf' is your DataFrame\n",
        "# Create a new column 'ms' by replacing 'visual.tif' with 'ms.tif' in the 'visual' column\n",
        "gdf['ms'] = gdf['visual'].str.replace('visual.tif', 'ms.tif')\n",
        "\n",
        "# Display the updated DataFrame\n",
        "print(gdf.head())\n"
      ],
      "metadata": {
        "colab": {
          "base_uri": "https://localhost:8080/"
        },
        "id": "R5s2m01M__Vl",
        "outputId": "ef79ee2d-b84b-4ca8-96f6-9f2127db5b2f"
      },
      "id": "R5s2m01M__Vl",
      "execution_count": 25,
      "outputs": [
        {
          "output_type": "stream",
          "name": "stdout",
          "text": [
            "                                            geometry              datetime  \\\n",
            "0  POLYGON ((-118.62796 34.28399, -118.64954 34.2...  2024-12-14T18:53:50Z   \n",
            "1  POLYGON ((-118.62801 34.2868, -118.62709 34.23...  2024-12-14T18:53:50Z   \n",
            "2  POLYGON ((-118.62593 34.33192, -118.57455 34.3...  2024-12-14T18:53:50Z   \n",
            "3  POLYGON ((-118.57795 34.33254, -118.57705 34.2...  2024-12-14T18:53:50Z   \n",
            "4  POLYGON ((-118.63141 34.28676, -118.63048 34.2...  2024-12-14T18:53:50Z   \n",
            "\n",
            "  platform   gsd ard_metadata_version        catalog_id  utm_zone  \\\n",
            "0     WV02  0.58                0.0.1  103001010A705C00        11   \n",
            "1     WV02  0.58                0.0.1  103001010A705C00        11   \n",
            "2     WV02  0.58                0.0.1  103001010A705C00        11   \n",
            "3     WV02  0.58                0.0.1  103001010A705C00        11   \n",
            "4     WV02  0.58                0.0.1  103001010A705C00        11   \n",
            "\n",
            "        quadkey  view:off_nadir  view:azimuth  ...  view:sun_elevation  \\\n",
            "0  031311102001            27.5         233.2  ...                31.1   \n",
            "1  031311102003            27.4         233.5  ...                31.1   \n",
            "2  031311102010            27.7         233.6  ...                31.1   \n",
            "3  031311102011            27.9         234.0  ...                31.1   \n",
            "4  031311102012            27.7         233.9  ...                31.1   \n",
            "\n",
            "   proj:epsg                                      proj:geometry  \\\n",
            "0      32611  {'type': 'Polygon', 'coordinates': [[[350156.2...   \n",
            "1      32611  {'type': 'Polygon', 'coordinates': [[[350156.2...   \n",
            "2      32611  {'type': 'Polygon', 'coordinates': [[[350428.1...   \n",
            "3      32611  {'type': 'Polygon', 'coordinates': [[[354843.7...   \n",
            "4      32611  {'type': 'Polygon', 'coordinates': [[[349843.7...   \n",
            "\n",
            "               grid:code                                          proj:bbox  \\\n",
            "0  MXRA-Z11-031311102001  348162.7630737268,3794843.75,350156.25,3800135...   \n",
            "1  MXRA-Z11-031311102003  348170.20262592233,3789843.75,350156.25,379515...   \n",
            "2  MXRA-Z11-031311102010          349843.75,3794843.75,355156.25,3800156.25   \n",
            "3  MXRA-Z11-031311102011          354843.75,3794843.75,360156.25,3800156.25   \n",
            "4  MXRA-Z11-031311102012          349843.75,3789843.75,355156.25,3795156.25   \n",
            "\n",
            "  tile:data_area tile:clouds_area  tile:clouds_percent  \\\n",
            "0           10.3              0.0                    0   \n",
            "1           10.5              1.2                   11   \n",
            "2           28.2              0.0                    0   \n",
            "3           28.2              1.9                    6   \n",
            "4           28.2              0.1                    0   \n",
            "\n",
            "                                              visual  \\\n",
            "0  https://maxar-opendata.s3.amazonaws.com/events...   \n",
            "1  https://maxar-opendata.s3.amazonaws.com/events...   \n",
            "2  https://maxar-opendata.s3.amazonaws.com/events...   \n",
            "3  https://maxar-opendata.s3.amazonaws.com/events...   \n",
            "4  https://maxar-opendata.s3.amazonaws.com/events...   \n",
            "\n",
            "                                                  ms  \n",
            "0  https://maxar-opendata.s3.amazonaws.com/events...  \n",
            "1  https://maxar-opendata.s3.amazonaws.com/events...  \n",
            "2  https://maxar-opendata.s3.amazonaws.com/events...  \n",
            "3  https://maxar-opendata.s3.amazonaws.com/events...  \n",
            "4  https://maxar-opendata.s3.amazonaws.com/events...  \n",
            "\n",
            "[5 rows x 22 columns]\n"
          ]
        }
      ]
    },
    {
      "cell_type": "code",
      "source": [
        "gdf.head()"
      ],
      "metadata": {
        "colab": {
          "base_uri": "https://localhost:8080/",
          "height": 602
        },
        "id": "WRQr3mzZAEsu",
        "outputId": "03551010-356c-4d02-a50b-3f8003f9f0e6"
      },
      "id": "WRQr3mzZAEsu",
      "execution_count": 26,
      "outputs": [
        {
          "output_type": "execute_result",
          "data": {
            "text/plain": [
              "                                            geometry              datetime  \\\n",
              "0  POLYGON ((-118.62796 34.28399, -118.64954 34.2...  2024-12-14T18:53:50Z   \n",
              "1  POLYGON ((-118.62801 34.2868, -118.62709 34.23...  2024-12-14T18:53:50Z   \n",
              "2  POLYGON ((-118.62593 34.33192, -118.57455 34.3...  2024-12-14T18:53:50Z   \n",
              "3  POLYGON ((-118.57795 34.33254, -118.57705 34.2...  2024-12-14T18:53:50Z   \n",
              "4  POLYGON ((-118.63141 34.28676, -118.63048 34.2...  2024-12-14T18:53:50Z   \n",
              "\n",
              "  platform   gsd ard_metadata_version        catalog_id  utm_zone  \\\n",
              "0     WV02  0.58                0.0.1  103001010A705C00        11   \n",
              "1     WV02  0.58                0.0.1  103001010A705C00        11   \n",
              "2     WV02  0.58                0.0.1  103001010A705C00        11   \n",
              "3     WV02  0.58                0.0.1  103001010A705C00        11   \n",
              "4     WV02  0.58                0.0.1  103001010A705C00        11   \n",
              "\n",
              "        quadkey  view:off_nadir  view:azimuth  ...  view:sun_elevation  \\\n",
              "0  031311102001            27.5         233.2  ...                31.1   \n",
              "1  031311102003            27.4         233.5  ...                31.1   \n",
              "2  031311102010            27.7         233.6  ...                31.1   \n",
              "3  031311102011            27.9         234.0  ...                31.1   \n",
              "4  031311102012            27.7         233.9  ...                31.1   \n",
              "\n",
              "   proj:epsg                                      proj:geometry  \\\n",
              "0      32611  {'type': 'Polygon', 'coordinates': [[[350156.2...   \n",
              "1      32611  {'type': 'Polygon', 'coordinates': [[[350156.2...   \n",
              "2      32611  {'type': 'Polygon', 'coordinates': [[[350428.1...   \n",
              "3      32611  {'type': 'Polygon', 'coordinates': [[[354843.7...   \n",
              "4      32611  {'type': 'Polygon', 'coordinates': [[[349843.7...   \n",
              "\n",
              "               grid:code                                          proj:bbox  \\\n",
              "0  MXRA-Z11-031311102001  348162.7630737268,3794843.75,350156.25,3800135...   \n",
              "1  MXRA-Z11-031311102003  348170.20262592233,3789843.75,350156.25,379515...   \n",
              "2  MXRA-Z11-031311102010          349843.75,3794843.75,355156.25,3800156.25   \n",
              "3  MXRA-Z11-031311102011          354843.75,3794843.75,360156.25,3800156.25   \n",
              "4  MXRA-Z11-031311102012          349843.75,3789843.75,355156.25,3795156.25   \n",
              "\n",
              "  tile:data_area tile:clouds_area  tile:clouds_percent  \\\n",
              "0           10.3              0.0                    0   \n",
              "1           10.5              1.2                   11   \n",
              "2           28.2              0.0                    0   \n",
              "3           28.2              1.9                    6   \n",
              "4           28.2              0.1                    0   \n",
              "\n",
              "                                              visual  \\\n",
              "0  https://maxar-opendata.s3.amazonaws.com/events...   \n",
              "1  https://maxar-opendata.s3.amazonaws.com/events...   \n",
              "2  https://maxar-opendata.s3.amazonaws.com/events...   \n",
              "3  https://maxar-opendata.s3.amazonaws.com/events...   \n",
              "4  https://maxar-opendata.s3.amazonaws.com/events...   \n",
              "\n",
              "                                                  ms  \n",
              "0  https://maxar-opendata.s3.amazonaws.com/events...  \n",
              "1  https://maxar-opendata.s3.amazonaws.com/events...  \n",
              "2  https://maxar-opendata.s3.amazonaws.com/events...  \n",
              "3  https://maxar-opendata.s3.amazonaws.com/events...  \n",
              "4  https://maxar-opendata.s3.amazonaws.com/events...  \n",
              "\n",
              "[5 rows x 22 columns]"
            ],
            "text/html": [
              "\n",
              "  <div id=\"df-63c7abe6-1230-4569-891e-ae137b814dd8\" class=\"colab-df-container\">\n",
              "    <div>\n",
              "<style scoped>\n",
              "    .dataframe tbody tr th:only-of-type {\n",
              "        vertical-align: middle;\n",
              "    }\n",
              "\n",
              "    .dataframe tbody tr th {\n",
              "        vertical-align: top;\n",
              "    }\n",
              "\n",
              "    .dataframe thead th {\n",
              "        text-align: right;\n",
              "    }\n",
              "</style>\n",
              "<table border=\"1\" class=\"dataframe\">\n",
              "  <thead>\n",
              "    <tr style=\"text-align: right;\">\n",
              "      <th></th>\n",
              "      <th>geometry</th>\n",
              "      <th>datetime</th>\n",
              "      <th>platform</th>\n",
              "      <th>gsd</th>\n",
              "      <th>ard_metadata_version</th>\n",
              "      <th>catalog_id</th>\n",
              "      <th>utm_zone</th>\n",
              "      <th>quadkey</th>\n",
              "      <th>view:off_nadir</th>\n",
              "      <th>view:azimuth</th>\n",
              "      <th>...</th>\n",
              "      <th>view:sun_elevation</th>\n",
              "      <th>proj:epsg</th>\n",
              "      <th>proj:geometry</th>\n",
              "      <th>grid:code</th>\n",
              "      <th>proj:bbox</th>\n",
              "      <th>tile:data_area</th>\n",
              "      <th>tile:clouds_area</th>\n",
              "      <th>tile:clouds_percent</th>\n",
              "      <th>visual</th>\n",
              "      <th>ms</th>\n",
              "    </tr>\n",
              "  </thead>\n",
              "  <tbody>\n",
              "    <tr>\n",
              "      <th>0</th>\n",
              "      <td>POLYGON ((-118.62796 34.28399, -118.64954 34.2...</td>\n",
              "      <td>2024-12-14T18:53:50Z</td>\n",
              "      <td>WV02</td>\n",
              "      <td>0.58</td>\n",
              "      <td>0.0.1</td>\n",
              "      <td>103001010A705C00</td>\n",
              "      <td>11</td>\n",
              "      <td>031311102001</td>\n",
              "      <td>27.5</td>\n",
              "      <td>233.2</td>\n",
              "      <td>...</td>\n",
              "      <td>31.1</td>\n",
              "      <td>32611</td>\n",
              "      <td>{'type': 'Polygon', 'coordinates': [[[350156.2...</td>\n",
              "      <td>MXRA-Z11-031311102001</td>\n",
              "      <td>348162.7630737268,3794843.75,350156.25,3800135...</td>\n",
              "      <td>10.3</td>\n",
              "      <td>0.0</td>\n",
              "      <td>0</td>\n",
              "      <td>https://maxar-opendata.s3.amazonaws.com/events...</td>\n",
              "      <td>https://maxar-opendata.s3.amazonaws.com/events...</td>\n",
              "    </tr>\n",
              "    <tr>\n",
              "      <th>1</th>\n",
              "      <td>POLYGON ((-118.62801 34.2868, -118.62709 34.23...</td>\n",
              "      <td>2024-12-14T18:53:50Z</td>\n",
              "      <td>WV02</td>\n",
              "      <td>0.58</td>\n",
              "      <td>0.0.1</td>\n",
              "      <td>103001010A705C00</td>\n",
              "      <td>11</td>\n",
              "      <td>031311102003</td>\n",
              "      <td>27.4</td>\n",
              "      <td>233.5</td>\n",
              "      <td>...</td>\n",
              "      <td>31.1</td>\n",
              "      <td>32611</td>\n",
              "      <td>{'type': 'Polygon', 'coordinates': [[[350156.2...</td>\n",
              "      <td>MXRA-Z11-031311102003</td>\n",
              "      <td>348170.20262592233,3789843.75,350156.25,379515...</td>\n",
              "      <td>10.5</td>\n",
              "      <td>1.2</td>\n",
              "      <td>11</td>\n",
              "      <td>https://maxar-opendata.s3.amazonaws.com/events...</td>\n",
              "      <td>https://maxar-opendata.s3.amazonaws.com/events...</td>\n",
              "    </tr>\n",
              "    <tr>\n",
              "      <th>2</th>\n",
              "      <td>POLYGON ((-118.62593 34.33192, -118.57455 34.3...</td>\n",
              "      <td>2024-12-14T18:53:50Z</td>\n",
              "      <td>WV02</td>\n",
              "      <td>0.58</td>\n",
              "      <td>0.0.1</td>\n",
              "      <td>103001010A705C00</td>\n",
              "      <td>11</td>\n",
              "      <td>031311102010</td>\n",
              "      <td>27.7</td>\n",
              "      <td>233.6</td>\n",
              "      <td>...</td>\n",
              "      <td>31.1</td>\n",
              "      <td>32611</td>\n",
              "      <td>{'type': 'Polygon', 'coordinates': [[[350428.1...</td>\n",
              "      <td>MXRA-Z11-031311102010</td>\n",
              "      <td>349843.75,3794843.75,355156.25,3800156.25</td>\n",
              "      <td>28.2</td>\n",
              "      <td>0.0</td>\n",
              "      <td>0</td>\n",
              "      <td>https://maxar-opendata.s3.amazonaws.com/events...</td>\n",
              "      <td>https://maxar-opendata.s3.amazonaws.com/events...</td>\n",
              "    </tr>\n",
              "    <tr>\n",
              "      <th>3</th>\n",
              "      <td>POLYGON ((-118.57795 34.33254, -118.57705 34.2...</td>\n",
              "      <td>2024-12-14T18:53:50Z</td>\n",
              "      <td>WV02</td>\n",
              "      <td>0.58</td>\n",
              "      <td>0.0.1</td>\n",
              "      <td>103001010A705C00</td>\n",
              "      <td>11</td>\n",
              "      <td>031311102011</td>\n",
              "      <td>27.9</td>\n",
              "      <td>234.0</td>\n",
              "      <td>...</td>\n",
              "      <td>31.1</td>\n",
              "      <td>32611</td>\n",
              "      <td>{'type': 'Polygon', 'coordinates': [[[354843.7...</td>\n",
              "      <td>MXRA-Z11-031311102011</td>\n",
              "      <td>354843.75,3794843.75,360156.25,3800156.25</td>\n",
              "      <td>28.2</td>\n",
              "      <td>1.9</td>\n",
              "      <td>6</td>\n",
              "      <td>https://maxar-opendata.s3.amazonaws.com/events...</td>\n",
              "      <td>https://maxar-opendata.s3.amazonaws.com/events...</td>\n",
              "    </tr>\n",
              "    <tr>\n",
              "      <th>4</th>\n",
              "      <td>POLYGON ((-118.63141 34.28676, -118.63048 34.2...</td>\n",
              "      <td>2024-12-14T18:53:50Z</td>\n",
              "      <td>WV02</td>\n",
              "      <td>0.58</td>\n",
              "      <td>0.0.1</td>\n",
              "      <td>103001010A705C00</td>\n",
              "      <td>11</td>\n",
              "      <td>031311102012</td>\n",
              "      <td>27.7</td>\n",
              "      <td>233.9</td>\n",
              "      <td>...</td>\n",
              "      <td>31.1</td>\n",
              "      <td>32611</td>\n",
              "      <td>{'type': 'Polygon', 'coordinates': [[[349843.7...</td>\n",
              "      <td>MXRA-Z11-031311102012</td>\n",
              "      <td>349843.75,3789843.75,355156.25,3795156.25</td>\n",
              "      <td>28.2</td>\n",
              "      <td>0.1</td>\n",
              "      <td>0</td>\n",
              "      <td>https://maxar-opendata.s3.amazonaws.com/events...</td>\n",
              "      <td>https://maxar-opendata.s3.amazonaws.com/events...</td>\n",
              "    </tr>\n",
              "  </tbody>\n",
              "</table>\n",
              "<p>5 rows × 22 columns</p>\n",
              "</div>\n",
              "    <div class=\"colab-df-buttons\">\n",
              "\n",
              "  <div class=\"colab-df-container\">\n",
              "    <button class=\"colab-df-convert\" onclick=\"convertToInteractive('df-63c7abe6-1230-4569-891e-ae137b814dd8')\"\n",
              "            title=\"Convert this dataframe to an interactive table.\"\n",
              "            style=\"display:none;\">\n",
              "\n",
              "  <svg xmlns=\"http://www.w3.org/2000/svg\" height=\"24px\" viewBox=\"0 -960 960 960\">\n",
              "    <path d=\"M120-120v-720h720v720H120Zm60-500h600v-160H180v160Zm220 220h160v-160H400v160Zm0 220h160v-160H400v160ZM180-400h160v-160H180v160Zm440 0h160v-160H620v160ZM180-180h160v-160H180v160Zm440 0h160v-160H620v160Z\"/>\n",
              "  </svg>\n",
              "    </button>\n",
              "\n",
              "  <style>\n",
              "    .colab-df-container {\n",
              "      display:flex;\n",
              "      gap: 12px;\n",
              "    }\n",
              "\n",
              "    .colab-df-convert {\n",
              "      background-color: #E8F0FE;\n",
              "      border: none;\n",
              "      border-radius: 50%;\n",
              "      cursor: pointer;\n",
              "      display: none;\n",
              "      fill: #1967D2;\n",
              "      height: 32px;\n",
              "      padding: 0 0 0 0;\n",
              "      width: 32px;\n",
              "    }\n",
              "\n",
              "    .colab-df-convert:hover {\n",
              "      background-color: #E2EBFA;\n",
              "      box-shadow: 0px 1px 2px rgba(60, 64, 67, 0.3), 0px 1px 3px 1px rgba(60, 64, 67, 0.15);\n",
              "      fill: #174EA6;\n",
              "    }\n",
              "\n",
              "    .colab-df-buttons div {\n",
              "      margin-bottom: 4px;\n",
              "    }\n",
              "\n",
              "    [theme=dark] .colab-df-convert {\n",
              "      background-color: #3B4455;\n",
              "      fill: #D2E3FC;\n",
              "    }\n",
              "\n",
              "    [theme=dark] .colab-df-convert:hover {\n",
              "      background-color: #434B5C;\n",
              "      box-shadow: 0px 1px 3px 1px rgba(0, 0, 0, 0.15);\n",
              "      filter: drop-shadow(0px 1px 2px rgba(0, 0, 0, 0.3));\n",
              "      fill: #FFFFFF;\n",
              "    }\n",
              "  </style>\n",
              "\n",
              "    <script>\n",
              "      const buttonEl =\n",
              "        document.querySelector('#df-63c7abe6-1230-4569-891e-ae137b814dd8 button.colab-df-convert');\n",
              "      buttonEl.style.display =\n",
              "        google.colab.kernel.accessAllowed ? 'block' : 'none';\n",
              "\n",
              "      async function convertToInteractive(key) {\n",
              "        const element = document.querySelector('#df-63c7abe6-1230-4569-891e-ae137b814dd8');\n",
              "        const dataTable =\n",
              "          await google.colab.kernel.invokeFunction('convertToInteractive',\n",
              "                                                    [key], {});\n",
              "        if (!dataTable) return;\n",
              "\n",
              "        const docLinkHtml = 'Like what you see? Visit the ' +\n",
              "          '<a target=\"_blank\" href=https://colab.research.google.com/notebooks/data_table.ipynb>data table notebook</a>'\n",
              "          + ' to learn more about interactive tables.';\n",
              "        element.innerHTML = '';\n",
              "        dataTable['output_type'] = 'display_data';\n",
              "        await google.colab.output.renderOutput(dataTable, element);\n",
              "        const docLink = document.createElement('div');\n",
              "        docLink.innerHTML = docLinkHtml;\n",
              "        element.appendChild(docLink);\n",
              "      }\n",
              "    </script>\n",
              "  </div>\n",
              "\n",
              "\n",
              "<div id=\"df-a8c0b803-09f3-4a86-a4af-dc3a9d76f4c7\">\n",
              "  <button class=\"colab-df-quickchart\" onclick=\"quickchart('df-a8c0b803-09f3-4a86-a4af-dc3a9d76f4c7')\"\n",
              "            title=\"Suggest charts\"\n",
              "            style=\"display:none;\">\n",
              "\n",
              "<svg xmlns=\"http://www.w3.org/2000/svg\" height=\"24px\"viewBox=\"0 0 24 24\"\n",
              "     width=\"24px\">\n",
              "    <g>\n",
              "        <path d=\"M19 3H5c-1.1 0-2 .9-2 2v14c0 1.1.9 2 2 2h14c1.1 0 2-.9 2-2V5c0-1.1-.9-2-2-2zM9 17H7v-7h2v7zm4 0h-2V7h2v10zm4 0h-2v-4h2v4z\"/>\n",
              "    </g>\n",
              "</svg>\n",
              "  </button>\n",
              "\n",
              "<style>\n",
              "  .colab-df-quickchart {\n",
              "      --bg-color: #E8F0FE;\n",
              "      --fill-color: #1967D2;\n",
              "      --hover-bg-color: #E2EBFA;\n",
              "      --hover-fill-color: #174EA6;\n",
              "      --disabled-fill-color: #AAA;\n",
              "      --disabled-bg-color: #DDD;\n",
              "  }\n",
              "\n",
              "  [theme=dark] .colab-df-quickchart {\n",
              "      --bg-color: #3B4455;\n",
              "      --fill-color: #D2E3FC;\n",
              "      --hover-bg-color: #434B5C;\n",
              "      --hover-fill-color: #FFFFFF;\n",
              "      --disabled-bg-color: #3B4455;\n",
              "      --disabled-fill-color: #666;\n",
              "  }\n",
              "\n",
              "  .colab-df-quickchart {\n",
              "    background-color: var(--bg-color);\n",
              "    border: none;\n",
              "    border-radius: 50%;\n",
              "    cursor: pointer;\n",
              "    display: none;\n",
              "    fill: var(--fill-color);\n",
              "    height: 32px;\n",
              "    padding: 0;\n",
              "    width: 32px;\n",
              "  }\n",
              "\n",
              "  .colab-df-quickchart:hover {\n",
              "    background-color: var(--hover-bg-color);\n",
              "    box-shadow: 0 1px 2px rgba(60, 64, 67, 0.3), 0 1px 3px 1px rgba(60, 64, 67, 0.15);\n",
              "    fill: var(--button-hover-fill-color);\n",
              "  }\n",
              "\n",
              "  .colab-df-quickchart-complete:disabled,\n",
              "  .colab-df-quickchart-complete:disabled:hover {\n",
              "    background-color: var(--disabled-bg-color);\n",
              "    fill: var(--disabled-fill-color);\n",
              "    box-shadow: none;\n",
              "  }\n",
              "\n",
              "  .colab-df-spinner {\n",
              "    border: 2px solid var(--fill-color);\n",
              "    border-color: transparent;\n",
              "    border-bottom-color: var(--fill-color);\n",
              "    animation:\n",
              "      spin 1s steps(1) infinite;\n",
              "  }\n",
              "\n",
              "  @keyframes spin {\n",
              "    0% {\n",
              "      border-color: transparent;\n",
              "      border-bottom-color: var(--fill-color);\n",
              "      border-left-color: var(--fill-color);\n",
              "    }\n",
              "    20% {\n",
              "      border-color: transparent;\n",
              "      border-left-color: var(--fill-color);\n",
              "      border-top-color: var(--fill-color);\n",
              "    }\n",
              "    30% {\n",
              "      border-color: transparent;\n",
              "      border-left-color: var(--fill-color);\n",
              "      border-top-color: var(--fill-color);\n",
              "      border-right-color: var(--fill-color);\n",
              "    }\n",
              "    40% {\n",
              "      border-color: transparent;\n",
              "      border-right-color: var(--fill-color);\n",
              "      border-top-color: var(--fill-color);\n",
              "    }\n",
              "    60% {\n",
              "      border-color: transparent;\n",
              "      border-right-color: var(--fill-color);\n",
              "    }\n",
              "    80% {\n",
              "      border-color: transparent;\n",
              "      border-right-color: var(--fill-color);\n",
              "      border-bottom-color: var(--fill-color);\n",
              "    }\n",
              "    90% {\n",
              "      border-color: transparent;\n",
              "      border-bottom-color: var(--fill-color);\n",
              "    }\n",
              "  }\n",
              "</style>\n",
              "\n",
              "  <script>\n",
              "    async function quickchart(key) {\n",
              "      const quickchartButtonEl =\n",
              "        document.querySelector('#' + key + ' button');\n",
              "      quickchartButtonEl.disabled = true;  // To prevent multiple clicks.\n",
              "      quickchartButtonEl.classList.add('colab-df-spinner');\n",
              "      try {\n",
              "        const charts = await google.colab.kernel.invokeFunction(\n",
              "            'suggestCharts', [key], {});\n",
              "      } catch (error) {\n",
              "        console.error('Error during call to suggestCharts:', error);\n",
              "      }\n",
              "      quickchartButtonEl.classList.remove('colab-df-spinner');\n",
              "      quickchartButtonEl.classList.add('colab-df-quickchart-complete');\n",
              "    }\n",
              "    (() => {\n",
              "      let quickchartButtonEl =\n",
              "        document.querySelector('#df-a8c0b803-09f3-4a86-a4af-dc3a9d76f4c7 button');\n",
              "      quickchartButtonEl.style.display =\n",
              "        google.colab.kernel.accessAllowed ? 'block' : 'none';\n",
              "    })();\n",
              "  </script>\n",
              "</div>\n",
              "\n",
              "    </div>\n",
              "  </div>\n"
            ],
            "application/vnd.google.colaboratory.intrinsic+json": {
              "type": "dataframe",
              "variable_name": "gdf"
            }
          },
          "metadata": {},
          "execution_count": 26
        }
      ]
    }
  ],
  "metadata": {
    "kernelspec": {
      "display_name": "Python 3",
      "language": "python",
      "name": "python3"
    },
    "colab": {
      "provenance": []
    },
    "widgets": {
      "application/vnd.jupyter.widget-state+json": {
        "9a23dfa33f1b403cb9fd6dca466d5754": {
          "model_module": "@jupyter-widgets/controls",
          "model_name": "CheckboxModel",
          "model_module_version": "1.5.0",
          "state": {
            "_dom_classes": [],
            "_model_module": "@jupyter-widgets/controls",
            "_model_module_version": "1.5.0",
            "_model_name": "CheckboxModel",
            "_view_count": null,
            "_view_module": "@jupyter-widgets/controls",
            "_view_module_version": "1.5.0",
            "_view_name": "CheckboxView",
            "description": "OpenStreetMap.Mapnik",
            "description_tooltip": null,
            "disabled": false,
            "indent": false,
            "layout": "IPY_MODEL_f3092d4b630042b29b4310050323c05d",
            "style": "IPY_MODEL_3d735a60707e4dcd8d978df77f92ee44",
            "value": true
          }
        },
        "b9e8a2c56e994ea28441843beed27e26": {
          "model_module": "jupyter-leaflet",
          "model_name": "LeafletTileLayerModel",
          "model_module_version": "^0.19",
          "state": {
            "_model_module": "jupyter-leaflet",
            "_model_module_version": "^0.19",
            "_model_name": "LeafletTileLayerModel",
            "_view_count": null,
            "_view_module": "jupyter-leaflet",
            "_view_module_version": "^0.19",
            "_view_name": "LeafletTileLayerView",
            "attribution": "&copy; <a href=\"https://www.openstreetmap.org/copyright\">OpenStreetMap</a> contributors",
            "base": true,
            "bottom": true,
            "bounds": null,
            "detect_retina": false,
            "loading": false,
            "max_native_zoom": null,
            "max_zoom": 19,
            "min_native_zoom": null,
            "min_zoom": 1,
            "name": "OpenStreetMap",
            "no_wrap": false,
            "opacity": 1,
            "options": [
              "attribution",
              "bounds",
              "detect_retina",
              "max_native_zoom",
              "max_zoom",
              "min_native_zoom",
              "min_zoom",
              "no_wrap",
              "tile_size",
              "tms",
              "zoom_offset"
            ],
            "pane": "",
            "popup": null,
            "popup_max_height": null,
            "popup_max_width": 300,
            "popup_min_width": 50,
            "show_loading": false,
            "subitems": [],
            "tile_size": 256,
            "tms": false,
            "url": "https://tile.openstreetmap.org/{z}/{x}/{y}.png",
            "visible": true,
            "zoom_offset": 0
          }
        },
        "a5851f2d59c3427ba5356e96e536226d": {
          "model_module": "@jupyter-widgets/controls",
          "model_name": "CheckboxModel",
          "model_module_version": "1.5.0",
          "state": {
            "_dom_classes": [],
            "_model_module": "@jupyter-widgets/controls",
            "_model_module_version": "1.5.0",
            "_model_name": "CheckboxModel",
            "_view_count": null,
            "_view_module": "@jupyter-widgets/controls",
            "_view_module_version": "1.5.0",
            "_view_name": "CheckboxView",
            "description": "OpenStreetMap.Mapnik",
            "description_tooltip": null,
            "disabled": false,
            "indent": false,
            "layout": "IPY_MODEL_73d5b86b0d1c456ea09442c3f5bc2524",
            "style": "IPY_MODEL_a070c93945544a5bba9ee863041aaf8a",
            "value": true
          }
        },
        "b70d628e9bc845a69134470c9144e61a": {
          "model_module": "@jupyter-widgets/controls",
          "model_name": "CheckboxModel",
          "model_module_version": "1.5.0",
          "state": {
            "_dom_classes": [],
            "_model_module": "@jupyter-widgets/controls",
            "_model_module_version": "1.5.0",
            "_model_name": "CheckboxModel",
            "_view_count": null,
            "_view_module": "@jupyter-widgets/controls",
            "_view_module_version": "1.5.0",
            "_view_name": "CheckboxView",
            "description": "OpenStreetMap.Mapnik",
            "description_tooltip": null,
            "disabled": false,
            "indent": false,
            "layout": "IPY_MODEL_4d701bd67c2c45fa9b7f65af4c0e007b",
            "style": "IPY_MODEL_af731385ff6e4a69826fc648e0b649a2",
            "value": true
          }
        },
        "760145efab4d4b179737242a740ed208": {
          "model_module": "@jupyter-widgets/controls",
          "model_name": "CheckboxModel",
          "model_module_version": "1.5.0",
          "state": {
            "_dom_classes": [],
            "_model_module": "@jupyter-widgets/controls",
            "_model_module_version": "1.5.0",
            "_model_name": "CheckboxModel",
            "_view_count": null,
            "_view_module": "@jupyter-widgets/controls",
            "_view_module_version": "1.5.0",
            "_view_name": "CheckboxView",
            "description": "OpenStreetMap",
            "description_tooltip": null,
            "disabled": false,
            "indent": false,
            "layout": "IPY_MODEL_74c39a19005145e9805cb9c8d90903db",
            "style": "IPY_MODEL_20d7011dbe4f432d9aeeb67a64e3175b",
            "value": true
          }
        },
        "e21985442564419d87138d907203db8a": {
          "model_module": "@jupyter-widgets/controls",
          "model_name": "CheckboxModel",
          "model_module_version": "1.5.0",
          "state": {
            "_dom_classes": [],
            "_model_module": "@jupyter-widgets/controls",
            "_model_module_version": "1.5.0",
            "_model_name": "CheckboxModel",
            "_view_count": null,
            "_view_module": "@jupyter-widgets/controls",
            "_view_module_version": "1.5.0",
            "_view_name": "CheckboxView",
            "description": "OpenStreetMap",
            "description_tooltip": null,
            "disabled": false,
            "indent": false,
            "layout": "IPY_MODEL_072a6a69e6aa4d508addd4a36376fcf5",
            "style": "IPY_MODEL_59480228e84243599b4f14b5aaa3b9f1",
            "value": true
          }
        },
        "0b7a63d5fd64414ebf840c52f3f3d8ee": {
          "model_module": "@jupyter-widgets/controls",
          "model_name": "CheckboxModel",
          "model_module_version": "1.5.0",
          "state": {
            "_dom_classes": [],
            "_model_module": "@jupyter-widgets/controls",
            "_model_module_version": "1.5.0",
            "_model_name": "CheckboxModel",
            "_view_count": null,
            "_view_module": "@jupyter-widgets/controls",
            "_view_module_version": "1.5.0",
            "_view_name": "CheckboxView",
            "description": "OpenStreetMap",
            "description_tooltip": null,
            "disabled": false,
            "indent": false,
            "layout": "IPY_MODEL_a1aa0c07dc6349f0ad04d3a6284527d9",
            "style": "IPY_MODEL_ab47577eb5ae4948b9cb63d357bae530",
            "value": true
          }
        },
        "2e66186e345f48ce83c3aded65768f28": {
          "model_module": "@jupyter-widgets/controls",
          "model_name": "CheckboxModel",
          "model_module_version": "1.5.0",
          "state": {
            "_dom_classes": [],
            "_model_module": "@jupyter-widgets/controls",
            "_model_module_version": "1.5.0",
            "_model_name": "CheckboxModel",
            "_view_count": null,
            "_view_module": "@jupyter-widgets/controls",
            "_view_module_version": "1.5.0",
            "_view_name": "CheckboxView",
            "description": "Footprints",
            "description_tooltip": null,
            "disabled": false,
            "indent": false,
            "layout": "IPY_MODEL_746fb49456234b7b892726d7401ad58d",
            "style": "IPY_MODEL_dcc751d7d3834dd5890e060f264d70fe",
            "value": true
          }
        },
        "4705a0df5cf449ccb1eb662aa430d5a1": {
          "model_module": "jupyter-leaflet",
          "model_name": "LeafletGeoJSONModel",
          "model_module_version": "^0.19",
          "state": {
            "_model_module": "jupyter-leaflet",
            "_model_module_version": "^0.19",
            "_model_name": "LeafletGeoJSONModel",
            "_view_count": null,
            "_view_module": "jupyter-leaflet",
            "_view_module_version": "^0.19",
            "_view_name": "LeafletGeoJSONView",
            "base": false,
            "bottom": false,
            "data": {
              "type": "FeatureCollection",
              "features": [
                {
                  "id": "0",
                  "type": "Feature",
                  "properties": {
                    "datetime": "2025-01-14T18:30:58Z",
                    "platform": "WV02",
                    "gsd": 0.59,
                    "ard_metadata_version": "0.0.1",
                    "catalog_id": "103001010C7D2D00",
                    "utm_zone": 11,
                    "quadkey": "031311102023",
                    "view:off_nadir": 28,
                    "view:azimuth": 152.7,
                    "view:incidence_angle": 58.2,
                    "view:sun_azimuth": 154.8,
                    "view:sun_elevation": 30.7,
                    "proj:epsg": 32611,
                    "proj:geometry": {
                      "type": "Polygon",
                      "coordinates": [
                        [
                          [
                            350156.25,
                            3783554.0771484375
                          ],
                          [
                            350156.25,
                            3779843.75
                          ],
                          [
                            348194.2020719683,
                            3779843.75
                          ],
                          [
                            348187.91462223046,
                            3783855.3665150953
                          ],
                          [
                            350156.25,
                            3783554.0771484375
                          ]
                        ]
                      ]
                    },
                    "grid:code": "MXRA-Z11-031311102023",
                    "proj:bbox": "348187.91462223046,3779843.75,350156.25,3783855.3665150953",
                    "tile:data_area": 7.5,
                    "tile:clouds_area": 0,
                    "tile:clouds_percent": 0,
                    "visual": "https://maxar-opendata.s3.amazonaws.com/events/WildFires-LosAngeles-Jan-2025/ard/11/031311102023/2025-01-14/103001010C7D2D00-visual.tif",
                    "style": {
                      "weight": 1
                    }
                  },
                  "geometry": {
                    "type": "Polygon",
                    "coordinates": [
                      [
                        [
                          -118.64728029909766,
                          34.18468036481823
                        ],
                        [
                          -118.62600072343959,
                          34.182209653302415
                        ],
                        [
                          -118.62535936534675,
                          34.14876092229483
                        ],
                        [
                          -118.64664743476415,
                          34.148475695308406
                        ],
                        [
                          -118.64742094659279,
                          34.184695409118206
                        ],
                        [
                          -118.64728029909766,
                          34.18468036481823
                        ]
                      ]
                    ]
                  },
                  "bbox": [
                    -118.64742094659279,
                    34.148475695308406,
                    -118.62535936534675,
                    34.184695409118206
                  ]
                },
                {
                  "id": "1",
                  "type": "Feature",
                  "properties": {
                    "datetime": "2025-01-14T18:30:58Z",
                    "platform": "WV02",
                    "gsd": 0.59,
                    "ard_metadata_version": "0.0.1",
                    "catalog_id": "103001010C7D2D00",
                    "utm_zone": 11,
                    "quadkey": "031311102032",
                    "view:off_nadir": 27.9,
                    "view:azimuth": 153.2,
                    "view:incidence_angle": 58.3,
                    "view:sun_azimuth": 154.8,
                    "view:sun_elevation": 30.7,
                    "proj:epsg": 32611,
                    "proj:geometry": {
                      "type": "Polygon",
                      "coordinates": [
                        [
                          [
                            349843.75,
                            3783602.294921875
                          ],
                          [
                            349843.75,
                            3779843.75
                          ],
                          [
                            355156.25,
                            3779843.75
                          ],
                          [
                            355156.25,
                            3782775.2685546875
                          ],
                          [
                            354316.40625,
                            3782882.080078125
                          ],
                          [
                            353823.54736328125,
                            3782958.984375
                          ],
                          [
                            353479.6142578125,
                            3783035.888671875
                          ],
                          [
                            349843.75,
                            3783602.294921875
                          ]
                        ]
                      ]
                    },
                    "grid:code": "MXRA-Z11-031311102032",
                    "proj:bbox": "349843.75,3779843.75,355156.25,3783602.294921875",
                    "tile:data_area": 17.7,
                    "tile:clouds_area": 0,
                    "tile:clouds_percent": 0,
                    "visual": "https://maxar-opendata.s3.amazonaws.com/events/WildFires-LosAngeles-Jan-2025/ard/11/031311102032/2025-01-14/103001010C7D2D00-visual.tif",
                    "style": {
                      "weight": 1
                    }
                  },
                  "geometry": {
                    "type": "Polygon",
                    "coordinates": [
                      [
                        [
                          -118.62939891208447,
                          34.18259935966578
                        ],
                        [
                          -118.62874785920887,
                          34.14871600186457
                        ],
                        [
                          -118.57114245468084,
                          34.149466936129826
                        ],
                        [
                          -118.57163221918476,
                          34.175895393177726
                        ],
                        [
                          -118.58075989353297,
                          34.1767412909125
                        ],
                        [
                          -118.58611890393763,
                          34.17736560143314
                        ],
                        [
                          -118.58986256871086,
                          34.17801061998989
                        ],
                        [
                          -118.62939891208447,
                          34.18259935966578
                        ]
                      ]
                    ]
                  },
                  "bbox": [
                    -118.62939891208447,
                    34.14871600186457,
                    -118.57114245468084,
                    34.18259935966578
                  ]
                },
                {
                  "id": "2",
                  "type": "Feature",
                  "properties": {
                    "datetime": "2025-01-14T18:30:58Z",
                    "platform": "WV02",
                    "gsd": 0.58,
                    "ard_metadata_version": "0.0.1",
                    "catalog_id": "103001010C7D2D00",
                    "utm_zone": 11,
                    "quadkey": "031311102033",
                    "view:off_nadir": 27.8,
                    "view:azimuth": 153.8,
                    "view:incidence_angle": 58.5,
                    "view:sun_azimuth": 154.8,
                    "view:sun_elevation": 30.7,
                    "proj:epsg": 32611,
                    "proj:geometry": {
                      "type": "Polygon",
                      "coordinates": [
                        [
                          [
                            354843.75,
                            3782820.1293945312
                          ],
                          [
                            354843.75,
                            3779843.75
                          ],
                          [
                            360156.25,
                            3779843.75
                          ],
                          [
                            360156.25,
                            3782002.5634765625
                          ],
                          [
                            354843.75,
                            3782820.1293945312
                          ]
                        ]
                      ]
                    },
                    "grid:code": "MXRA-Z11-031311102033",
                    "proj:bbox": "354843.75,3779843.75,360156.25,3782820.1293945312",
                    "tile:data_area": 13.6,
                    "tile:clouds_area": 0,
                    "tile:clouds_percent": 0,
                    "visual": "https://maxar-opendata.s3.amazonaws.com/events/WildFires-LosAngeles-Jan-2025/ard/11/031311102033/2025-01-14/103001010C7D2D00-visual.tif",
                    "style": {
                      "weight": 1
                    }
                  },
                  "geometry": {
                    "type": "Polygon",
                    "coordinates": [
                      [
                        [
                          -118.57502940231787,
                          34.17625635693528
                        ],
                        [
                          -118.57453106660975,
                          34.14942351137935
                        ],
                        [
                          -118.51692368889532,
                          34.1501490176398
                        ],
                        [
                          -118.51727186433835,
                          34.169611830606044
                        ],
                        [
                          -118.57502940231787,
                          34.17625635693528
                        ]
                      ]
                    ]
                  },
                  "bbox": [
                    -118.57502940231787,
                    34.14942351137935,
                    -118.51692368889532,
                    34.17625635693528
                  ]
                },
                {
                  "id": "3",
                  "type": "Feature",
                  "properties": {
                    "datetime": "2025-01-14T18:30:58Z",
                    "platform": "WV02",
                    "gsd": 0.58,
                    "ard_metadata_version": "0.0.1",
                    "catalog_id": "103001010C7D2D00",
                    "utm_zone": 11,
                    "quadkey": "031311102122",
                    "view:off_nadir": 27.6,
                    "view:azimuth": 154.4,
                    "view:incidence_angle": 58.7,
                    "view:sun_azimuth": 154.8,
                    "view:sun_elevation": 30.7,
                    "proj:epsg": 32611,
                    "proj:geometry": {
                      "type": "Polygon",
                      "coordinates": [
                        [
                          [
                            359843.75,
                            3782050.78125
                          ],
                          [
                            359843.75,
                            3779843.75
                          ],
                          [
                            365156.25,
                            3779843.75
                          ],
                          [
                            365155.6396484375,
                            3781240.5395507812
                          ],
                          [
                            359843.75,
                            3782050.78125
                          ]
                        ]
                      ]
                    },
                    "grid:code": "MXRA-Z11-031311102122",
                    "proj:bbox": "359843.75,3779843.75,365156.25,3782050.78125",
                    "tile:data_area": 9.5,
                    "tile:clouds_area": 0,
                    "tile:clouds_percent": 0,
                    "visual": "https://maxar-opendata.s3.amazonaws.com/events/WildFires-LosAngeles-Jan-2025/ard/11/031311102122/2025-01-14/103001010C7D2D00-visual.tif",
                    "style": {
                      "weight": 1
                    }
                  },
                  "geometry": {
                    "type": "Polygon",
                    "coordinates": [
                      [
                        [
                          -118.52066916520214,
                          34.170004577802615
                        ],
                        [
                          -118.52031241489686,
                          34.15010708873862
                        ],
                        [
                          -118.46270313190415,
                          34.150807164161975
                        ],
                        [
                          -118.46292694537746,
                          34.16340017792351
                        ],
                        [
                          -118.52066916520214,
                          34.170004577802615
                        ]
                      ]
                    ]
                  },
                  "bbox": [
                    -118.52066916520214,
                    34.15010708873862,
                    -118.46270313190415,
                    34.170004577802615
                  ]
                },
                {
                  "id": "4",
                  "type": "Feature",
                  "properties": {
                    "datetime": "2025-01-14T18:30:58Z",
                    "platform": "WV02",
                    "gsd": 0.58,
                    "ard_metadata_version": "0.0.1",
                    "catalog_id": "103001010C7D2D00",
                    "utm_zone": 11,
                    "quadkey": "031311102201",
                    "view:off_nadir": 27.7,
                    "view:azimuth": 152.2,
                    "view:incidence_angle": 58.6,
                    "view:sun_azimuth": 154.8,
                    "view:sun_elevation": 30.7,
                    "proj:epsg": 32611,
                    "proj:geometry": {
                      "type": "Polygon",
                      "coordinates": [
                        [
                          [
                            350156.25,
                            3780156.25
                          ],
                          [
                            350156.25,
                            3774843.75
                          ],
                          [
                            348202.03862577927,
                            3774843.75
                          ],
                          [
                            348193.71228735516,
                            3780156.25
                          ],
                          [
                            350156.25,
                            3780156.25
                          ]
                        ]
                      ]
                    },
                    "grid:code": "MXRA-Z11-031311102201",
                    "proj:bbox": "348193.71228735516,3774843.75,350156.25,3780156.25",
                    "tile:data_area": 10.4,
                    "tile:clouds_area": 0,
                    "tile:clouds_percent": 0,
                    "visual": "https://maxar-opendata.s3.amazonaws.com/events/WildFires-LosAngeles-Jan-2025/ard/11/031311102201/2025-01-14/103001010C7D2D00-visual.tif",
                    "style": {
                      "weight": 1
                    }
                  },
                  "geometry": {
                    "type": "Polygon",
                    "coordinates": [
                      [
                        [
                          -118.62541334255727,
                          34.151578128343004
                        ],
                        [
                          -118.62449674877642,
                          34.10368543922424
                        ],
                        [
                          -118.64568483310596,
                          34.103401844745136
                        ],
                        [
                          -118.64670759716897,
                          34.15129280165913
                        ],
                        [
                          -118.62541334255727,
                          34.151578128343004
                        ]
                      ]
                    ]
                  },
                  "bbox": [
                    -118.64670759716897,
                    34.103401844745136,
                    -118.62449674877642,
                    34.151578128343004
                  ]
                },
                {
                  "id": "5",
                  "type": "Feature",
                  "properties": {
                    "datetime": "2025-01-14T18:30:58Z",
                    "platform": "WV02",
                    "gsd": 0.58,
                    "ard_metadata_version": "0.0.1",
                    "catalog_id": "103001010C7D2D00",
                    "utm_zone": 11,
                    "quadkey": "031311102203",
                    "view:off_nadir": 27.3,
                    "view:azimuth": 151.6,
                    "view:incidence_angle": 59,
                    "view:sun_azimuth": 154.8,
                    "view:sun_elevation": 30.8,
                    "proj:epsg": 32611,
                    "proj:geometry": {
                      "type": "Polygon",
                      "coordinates": [
                        [
                          [
                            350156.25,
                            3775156.25
                          ],
                          [
                            350156.25,
                            3769843.75
                          ],
                          [
                            348209.8751795902,
                            3769843.75
                          ],
                          [
                            348201.5488411661,
                            3775156.25
                          ],
                          [
                            350156.25,
                            3775156.25
                          ]
                        ]
                      ]
                    },
                    "grid:code": "MXRA-Z11-031311102203",
                    "proj:bbox": "348201.5488411661,3769843.75,350156.25,3775156.25",
                    "tile:data_area": 10.3,
                    "tile:clouds_area": 0,
                    "tile:clouds_percent": 0,
                    "visual": "https://maxar-opendata.s3.amazonaws.com/events/WildFires-LosAngeles-Jan-2025/ard/11/031311102203/2025-01-14/103001010C7D2D00-visual.tif",
                    "style": {
                      "weight": 1
                    }
                  },
                  "geometry": {
                    "type": "Polygon",
                    "coordinates": [
                      [
                        [
                          -118.62455060616843,
                          34.106502667187506
                        ],
                        [
                          -118.62363604712404,
                          34.05860960564869
                        ],
                        [
                          -118.64472222417913,
                          34.05832765382761
                        ],
                        [
                          -118.64574499579518,
                          34.106218964412754
                        ],
                        [
                          -118.62455060616843,
                          34.106502667187506
                        ]
                      ]
                    ]
                  },
                  "bbox": [
                    -118.64574499579518,
                    34.05832765382761,
                    -118.62363604712404,
                    34.106502667187506
                  ]
                },
                {
                  "id": "6",
                  "type": "Feature",
                  "properties": {
                    "datetime": "2025-01-14T18:30:58Z",
                    "platform": "WV02",
                    "gsd": 0.58,
                    "ard_metadata_version": "0.0.1",
                    "catalog_id": "103001010C7D2D00",
                    "utm_zone": 11,
                    "quadkey": "031311102210",
                    "view:off_nadir": 27.6,
                    "view:azimuth": 152.8,
                    "view:incidence_angle": 58.6,
                    "view:sun_azimuth": 154.8,
                    "view:sun_elevation": 30.7,
                    "proj:epsg": 32611,
                    "proj:geometry": {
                      "type": "Polygon",
                      "coordinates": [
                        [
                          [
                            349843.75,
                            3780156.25
                          ],
                          [
                            349843.75,
                            3774843.75
                          ],
                          [
                            355156.25,
                            3774843.75
                          ],
                          [
                            355156.25,
                            3780156.25
                          ],
                          [
                            349843.75,
                            3780156.25
                          ]
                        ]
                      ]
                    },
                    "grid:code": "MXRA-Z11-031311102210",
                    "proj:bbox": "349843.75,3774843.75,355156.25,3780156.25",
                    "tile:data_area": 28.2,
                    "tile:clouds_area": 0,
                    "tile:clouds_percent": 0,
                    "visual": "https://maxar-opendata.s3.amazonaws.com/events/WildFires-LosAngeles-Jan-2025/ard/11/031311102210/2025-01-14/103001010C7D2D00-visual.tif",
                    "style": {
                      "weight": 1
                    }
                  },
                  "geometry": {
                    "type": "Polygon",
                    "coordinates": [
                      [
                        [
                          -118.6288019488281,
                          34.15153320318569
                        ],
                        [
                          -118.62788344621936,
                          34.10364059438513
                        ],
                        [
                          -118.57030858297502,
                          34.10439026498374
                        ],
                        [
                          -118.57119463321706,
                          34.15228421647384
                        ],
                        [
                          -118.6288019488281,
                          34.15153320318569
                        ]
                      ]
                    ]
                  },
                  "bbox": [
                    -118.6288019488281,
                    34.10364059438513,
                    -118.57030858297502,
                    34.15228421647384
                  ]
                },
                {
                  "id": "7",
                  "type": "Feature",
                  "properties": {
                    "datetime": "2025-01-14T18:30:58Z",
                    "platform": "WV02",
                    "gsd": 0.58,
                    "ard_metadata_version": "0.0.1",
                    "catalog_id": "103001010C7D2D00",
                    "utm_zone": 11,
                    "quadkey": "031311102211",
                    "view:off_nadir": 27.5,
                    "view:azimuth": 153.4,
                    "view:incidence_angle": 58.8,
                    "view:sun_azimuth": 154.8,
                    "view:sun_elevation": 30.7,
                    "proj:epsg": 32611,
                    "proj:geometry": {
                      "type": "Polygon",
                      "coordinates": [
                        [
                          [
                            354843.75,
                            3780156.25
                          ],
                          [
                            354843.75,
                            3774843.75
                          ],
                          [
                            360156.25,
                            3774843.75
                          ],
                          [
                            360156.25,
                            3780156.25
                          ],
                          [
                            354843.75,
                            3780156.25
                          ]
                        ]
                      ]
                    },
                    "grid:code": "MXRA-Z11-031311102211",
                    "proj:bbox": "354843.75,3774843.75,360156.25,3780156.25",
                    "tile:data_area": 28.2,
                    "tile:clouds_area": 0,
                    "tile:clouds_percent": 0,
                    "visual": "https://maxar-opendata.s3.amazonaws.com/events/WildFires-LosAngeles-Jan-2025/ard/11/031311102211/2025-01-14/103001010C7D2D00-visual.tif",
                    "style": {
                      "weight": 1
                    }
                  },
                  "geometry": {
                    "type": "Polygon",
                    "coordinates": [
                      [
                        [
                          -118.57458335757049,
                          34.15224078715361
                        ],
                        [
                          -118.57369539823225,
                          34.1043469133087
                        ],
                        [
                          -118.51611856602194,
                          34.10507119867286
                        ],
                        [
                          -118.51697406850877,
                          34.15296636976233
                        ],
                        [
                          -118.57458335757049,
                          34.15224078715361
                        ]
                      ]
                    ]
                  },
                  "bbox": [
                    -118.57458335757049,
                    34.1043469133087,
                    -118.51611856602194,
                    34.15296636976233
                  ]
                },
                {
                  "id": "8",
                  "type": "Feature",
                  "properties": {
                    "datetime": "2025-01-14T18:30:58Z",
                    "platform": "WV02",
                    "gsd": 0.58,
                    "ard_metadata_version": "0.0.1",
                    "catalog_id": "103001010C7D2D00",
                    "utm_zone": 11,
                    "quadkey": "031311102212",
                    "view:off_nadir": 27.3,
                    "view:azimuth": 152.2,
                    "view:incidence_angle": 59.1,
                    "view:sun_azimuth": 154.8,
                    "view:sun_elevation": 30.8,
                    "proj:epsg": 32611,
                    "proj:geometry": {
                      "type": "Polygon",
                      "coordinates": [
                        [
                          [
                            349843.75,
                            3775156.25
                          ],
                          [
                            349843.75,
                            3769843.75
                          ],
                          [
                            355156.25,
                            3769843.75
                          ],
                          [
                            355156.25,
                            3775156.25
                          ],
                          [
                            349843.75,
                            3775156.25
                          ]
                        ]
                      ]
                    },
                    "grid:code": "MXRA-Z11-031311102212",
                    "proj:bbox": "349843.75,3769843.75,355156.25,3775156.25",
                    "tile:data_area": 28.2,
                    "tile:clouds_area": 0,
                    "tile:clouds_percent": 0,
                    "visual": "https://maxar-opendata.s3.amazonaws.com/events/WildFires-LosAngeles-Jan-2025/ard/11/031311102212/2025-01-14/103001010C7D2D00-visual.tif",
                    "style": {
                      "weight": 1
                    }
                  },
                  "geometry": {
                    "type": "Polygon",
                    "coordinates": [
                      [
                        [
                          -118.62793741577075,
                          34.10645781762627
                        ],
                        [
                          -118.6270209521326,
                          34.05856483632212
                        ],
                        [
                          -118.56947656242312,
                          34.05931324456832
                        ],
                        [
                          -118.5703606456825,
                          34.1072075671655
                        ],
                        [
                          -118.62793741577075,
                          34.10645781762627
                        ]
                      ]
                    ]
                  },
                  "bbox": [
                    -118.62793741577075,
                    34.05856483632212,
                    -118.56947656242312,
                    34.1072075671655
                  ]
                },
                {
                  "id": "9",
                  "type": "Feature",
                  "properties": {
                    "datetime": "2025-01-14T18:30:58Z",
                    "platform": "WV02",
                    "gsd": 0.58,
                    "ard_metadata_version": "0.0.1",
                    "catalog_id": "103001010C7D2D00",
                    "utm_zone": 11,
                    "quadkey": "031311102213",
                    "view:off_nadir": 27.2,
                    "view:azimuth": 152.9,
                    "view:incidence_angle": 59.2,
                    "view:sun_azimuth": 154.8,
                    "view:sun_elevation": 30.8,
                    "proj:epsg": 32611,
                    "proj:geometry": {
                      "type": "Polygon",
                      "coordinates": [
                        [
                          [
                            354843.75,
                            3775156.25
                          ],
                          [
                            354843.75,
                            3769843.75
                          ],
                          [
                            360156.25,
                            3769843.75
                          ],
                          [
                            360156.25,
                            3775156.25
                          ],
                          [
                            354843.75,
                            3775156.25
                          ]
                        ]
                      ]
                    },
                    "grid:code": "MXRA-Z11-031311102213",
                    "proj:bbox": "354843.75,3769843.75,360156.25,3775156.25",
                    "tile:data_area": 28.2,
                    "tile:clouds_area": 0,
                    "tile:clouds_percent": 0,
                    "visual": "https://maxar-opendata.s3.amazonaws.com/events/WildFires-LosAngeles-Jan-2025/ard/11/031311102213/2025-01-14/103001010C7D2D00-visual.tif",
                    "style": {
                      "weight": 1
                    }
                  },
                  "geometry": {
                    "type": "Polygon",
                    "coordinates": [
                      [
                        [
                          -118.57374757311484,
                          34.10716421092549
                        ],
                        [
                          -118.57286158499433,
                          34.059269965892746
                        ],
                        [
                          -118.51531523052493,
                          34.05999303163045
                        ],
                        [
                          -118.5161688337973,
                          34.10788857255842
                        ],
                        [
                          -118.57374757311484,
                          34.10716421092549
                        ]
                      ]
                    ]
                  },
                  "bbox": [
                    -118.57374757311484,
                    34.059269965892746,
                    -118.51531523052493,
                    34.10788857255842
                  ]
                },
                {
                  "id": "10",
                  "type": "Feature",
                  "properties": {
                    "datetime": "2025-01-14T18:30:57Z",
                    "platform": "WV02",
                    "gsd": 0.58,
                    "ard_metadata_version": "0.0.1",
                    "catalog_id": "103001010C7D2D00",
                    "utm_zone": 11,
                    "quadkey": "031311102221",
                    "view:off_nadir": 27,
                    "view:azimuth": 151,
                    "view:incidence_angle": 59.4,
                    "view:sun_azimuth": 154.8,
                    "view:sun_elevation": 30.8,
                    "proj:epsg": 32611,
                    "proj:geometry": {
                      "type": "Polygon",
                      "coordinates": [
                        [
                          [
                            350156.25,
                            3770156.25
                          ],
                          [
                            350156.25,
                            3766521.169002945
                          ],
                          [
                            348213.91459748335,
                            3767266.457742061
                          ],
                          [
                            348209.385394977,
                            3770156.25
                          ],
                          [
                            350156.25,
                            3770156.25
                          ]
                        ]
                      ]
                    },
                    "grid:code": "MXRA-Z11-031311102221",
                    "proj:bbox": "348209.385394977,3766521.169002945,350156.25,3770156.25",
                    "tile:data_area": 6.3,
                    "tile:clouds_area": 0,
                    "tile:clouds_percent": 0,
                    "visual": "https://maxar-opendata.s3.amazonaws.com/events/WildFires-LosAngeles-Jan-2025/ard/11/031311102221/2025-01-14/103001010C7D2D00-visual.tif",
                    "style": {
                      "weight": 1
                    }
                  },
                  "geometry": {
                    "type": "Polygon",
                    "coordinates": [
                      [
                        [
                          -118.62368978495365,
                          34.06142685551099
                        ],
                        [
                          -118.6230649833205,
                          34.028634575028654
                        ],
                        [
                          -118.64422607,
                          34.03509522
                        ],
                        [
                          -118.6447823877238,
                          34.06114481355162
                        ],
                        [
                          -118.62368978495365,
                          34.06142685551099
                        ]
                      ]
                    ]
                  },
                  "bbox": [
                    -118.6447823877238,
                    34.028634575028654,
                    -118.6230649833205,
                    34.06142685551099
                  ]
                },
                {
                  "id": "11",
                  "type": "Feature",
                  "properties": {
                    "datetime": "2025-01-14T18:30:57Z",
                    "platform": "WV02",
                    "gsd": 0.58,
                    "ard_metadata_version": "0.0.1",
                    "catalog_id": "103001010C7D2D00",
                    "utm_zone": 11,
                    "quadkey": "031311102230",
                    "view:off_nadir": 26.9,
                    "view:azimuth": 151.6,
                    "view:incidence_angle": 59.5,
                    "view:sun_azimuth": 154.8,
                    "view:sun_elevation": 30.8,
                    "proj:epsg": 32611,
                    "proj:geometry": {
                      "type": "Polygon",
                      "coordinates": [
                        [
                          [
                            349843.75,
                            3770156.25
                          ],
                          [
                            355156.25,
                            3770156.25
                          ],
                          [
                            355156.25,
                            3764843.75
                          ],
                          [
                            354527.8581342358,
                            3764843.75
                          ],
                          [
                            349843.75,
                            3766641.077609189
                          ],
                          [
                            349843.75,
                            3770156.25
                          ]
                        ]
                      ]
                    },
                    "grid:code": "MXRA-Z11-031311102230",
                    "proj:bbox": "349843.75,3764843.75,355156.25,3770156.25",
                    "tile:data_area": 24,
                    "tile:clouds_area": 0,
                    "tile:clouds_percent": 0,
                    "visual": "https://maxar-opendata.s3.amazonaws.com/events/WildFires-LosAngeles-Jan-2025/ard/11/031311102230/2025-01-14/103001010C7D2D00-visual.tif",
                    "style": {
                      "weight": 1
                    }
                  },
                  "geometry": {
                    "type": "Polygon",
                    "coordinates": [
                      [
                        [
                          -118.62707480187281,
                          34.06138208146718
                        ],
                        [
                          -118.56952850954949,
                          34.06213056857197
                        ],
                        [
                          -118.56864638907078,
                          34.01423587513815
                        ],
                        [
                          -118.57560753310148,
                          34.01414544496865
                        ],
                        [
                          -118.62646939807934,
                          34.029673969433354
                        ],
                        [
                          -118.62707480187281,
                          34.06138208146718
                        ]
                      ]
                    ]
                  },
                  "bbox": [
                    -118.62707480187281,
                    34.01414544496865,
                    -118.56864638907078,
                    34.06213056857197
                  ]
                },
                {
                  "id": "12",
                  "type": "Feature",
                  "properties": {
                    "datetime": "2025-01-14T18:30:58Z",
                    "platform": "WV02",
                    "gsd": 0.57,
                    "ard_metadata_version": "0.0.1",
                    "catalog_id": "103001010C7D2D00",
                    "utm_zone": 11,
                    "quadkey": "031311102231",
                    "view:off_nadir": 26.8,
                    "view:azimuth": 152.3,
                    "view:incidence_angle": 59.6,
                    "view:sun_azimuth": 154.8,
                    "view:sun_elevation": 30.8,
                    "proj:epsg": 32611,
                    "proj:geometry": {
                      "type": "Polygon",
                      "coordinates": [
                        [
                          [
                            354843.75,
                            3770156.25
                          ],
                          [
                            354843.75,
                            3764843.75
                          ],
                          [
                            360156.25,
                            3764843.75
                          ],
                          [
                            360156.25,
                            3770156.25
                          ],
                          [
                            354843.75,
                            3770156.25
                          ]
                        ]
                      ]
                    },
                    "grid:code": "MXRA-Z11-031311102231",
                    "proj:bbox": "354843.75,3764843.75,360156.25,3770156.25",
                    "tile:data_area": 28.2,
                    "tile:clouds_area": 0,
                    "tile:clouds_percent": 0,
                    "visual": "https://maxar-opendata.s3.amazonaws.com/events/WildFires-LosAngeles-Jan-2025/ard/11/031311102231/2025-01-14/103001010C7D2D00-visual.tif",
                    "style": {
                      "weight": 1
                    }
                  },
                  "geometry": {
                    "type": "Polygon",
                    "coordinates": [
                      [
                        [
                          -118.57291364404695,
                          34.06208728533614
                        ],
                        [
                          -118.57202962293307,
                          34.01419266938623
                        ],
                        [
                          -118.51451367858594,
                          34.01491451676382
                        ],
                        [
                          -118.51536538670128,
                          34.062810427263365
                        ],
                        [
                          -118.57291364404695,
                          34.06208728533614
                        ]
                      ]
                    ]
                  },
                  "bbox": [
                    -118.57291364404695,
                    34.01419266938623,
                    -118.51451367858594,
                    34.062810427263365
                  ]
                },
                {
                  "id": "13",
                  "type": "Feature",
                  "properties": {
                    "datetime": "2025-01-14T18:30:57Z",
                    "platform": "WV02",
                    "gsd": 0.57,
                    "ard_metadata_version": "0.0.1",
                    "catalog_id": "103001010C7D2D00",
                    "utm_zone": 11,
                    "quadkey": "031311102232",
                    "view:off_nadir": 26.6,
                    "view:azimuth": 151.2,
                    "view:incidence_angle": 59.8,
                    "view:sun_azimuth": 154.8,
                    "view:sun_elevation": 30.8,
                    "proj:epsg": 32611,
                    "proj:geometry": {
                      "type": "Polygon",
                      "coordinates": [
                        [
                          [
                            355156.25,
                            3765156.25
                          ],
                          [
                            355156.25,
                            3764602.631303044
                          ],
                          [
                            353713.4357749145,
                            3765156.25
                          ],
                          [
                            355156.25,
                            3765156.25
                          ]
                        ]
                      ]
                    },
                    "grid:code": "MXRA-Z11-031311102232",
                    "proj:bbox": "353713.4357749145,3764602.631303044,355156.25,3765156.25",
                    "tile:data_area": 0.3,
                    "tile:clouds_area": 0,
                    "tile:clouds_percent": 0,
                    "visual": "https://maxar-opendata.s3.amazonaws.com/events/WildFires-LosAngeles-Jan-2025/ard/11/031311102232/2025-01-14/103001010C7D2D00-visual.tif",
                    "style": {
                      "weight": 1
                    }
                  },
                  "geometry": {
                    "type": "Polygon",
                    "coordinates": [
                      [
                        [
                          -118.56869822086276,
                          34.01705322094775
                        ],
                        [
                          -118.56860546219671,
                          34.012007658055104
                        ],
                        [
                          -118.58446087108938,
                          34.01684843817582
                        ],
                        [
                          -118.56869822086276,
                          34.01705322094775
                        ]
                      ]
                    ]
                  },
                  "bbox": [
                    -118.58446087108938,
                    34.012007658055104,
                    -118.56860546219671,
                    34.01705322094775
                  ]
                },
                {
                  "id": "14",
                  "type": "Feature",
                  "properties": {
                    "datetime": "2025-01-14T18:30:57Z",
                    "platform": "WV02",
                    "gsd": 0.57,
                    "ard_metadata_version": "0.0.1",
                    "catalog_id": "103001010C7D2D00",
                    "utm_zone": 11,
                    "quadkey": "031311102233",
                    "view:off_nadir": 26.5,
                    "view:azimuth": 151.8,
                    "view:incidence_angle": 60,
                    "view:sun_azimuth": 154.8,
                    "view:sun_elevation": 30.8,
                    "proj:epsg": 32611,
                    "proj:geometry": {
                      "type": "Polygon",
                      "coordinates": [
                        [
                          [
                            354843.75,
                            3765156.25
                          ],
                          [
                            360156.25,
                            3765156.25
                          ],
                          [
                            360156.25,
                            3762684.093603143
                          ],
                          [
                            354843.75,
                            3764722.539909288
                          ],
                          [
                            354843.75,
                            3765156.25
                          ]
                        ]
                      ]
                    },
                    "grid:code": "MXRA-Z11-031311102233",
                    "proj:bbox": "354843.75,3762684.093603143,360156.25,3765156.25",
                    "tile:data_area": 7.7,
                    "tile:clouds_area": 0,
                    "tile:clouds_percent": 0,
                    "visual": "https://maxar-opendata.s3.amazonaws.com/events/WildFires-LosAngeles-Jan-2025/ard/11/031311102233/2025-01-14/103001010C7D2D00-visual.tif",
                    "style": {
                      "weight": 1
                    }
                  },
                  "geometry": {
                    "type": "Polygon",
                    "coordinates": [
                      [
                        [
                          -118.57208156640299,
                          34.01701001064032
                        ],
                        [
                          -118.5145637234015,
                          34.01773193412838
                        ],
                        [
                          -118.51416717016215,
                          33.995387222488226
                        ],
                        [
                          -118.57200854524343,
                          34.0130466458777
                        ],
                        [
                          -118.57208156640299,
                          34.01701001064032
                        ]
                      ]
                    ]
                  },
                  "bbox": [
                    -118.57208156640299,
                    33.995387222488226,
                    -118.51416717016215,
                    34.01773193412838
                  ]
                },
                {
                  "id": "15",
                  "type": "Feature",
                  "properties": {
                    "datetime": "2025-01-14T18:30:58Z",
                    "platform": "WV02",
                    "gsd": 0.58,
                    "ard_metadata_version": "0.0.1",
                    "catalog_id": "103001010C7D2D00",
                    "utm_zone": 11,
                    "quadkey": "031311102300",
                    "view:off_nadir": 27.4,
                    "view:azimuth": 154.1,
                    "view:incidence_angle": 58.9,
                    "view:sun_azimuth": 154.8,
                    "view:sun_elevation": 30.7,
                    "proj:epsg": 32611,
                    "proj:geometry": {
                      "type": "Polygon",
                      "coordinates": [
                        [
                          [
                            359843.75,
                            3780156.25
                          ],
                          [
                            359843.75,
                            3774843.75
                          ],
                          [
                            365156.25,
                            3774843.75
                          ],
                          [
                            365156.25,
                            3780156.25
                          ],
                          [
                            359843.75,
                            3780156.25
                          ]
                        ]
                      ]
                    },
                    "grid:code": "MXRA-Z11-031311102300",
                    "proj:bbox": "359843.75,3774843.75,365156.25,3780156.25",
                    "tile:data_area": 28.2,
                    "tile:clouds_area": 0,
                    "tile:clouds_percent": 0,
                    "visual": "https://maxar-opendata.s3.amazonaws.com/events/WildFires-LosAngeles-Jan-2025/ard/11/031311102300/2025-01-14/103001010C7D2D00-visual.tif",
                    "style": {
                      "weight": 1
                    }
                  },
                  "geometry": {
                    "type": "Polygon",
                    "coordinates": [
                      [
                        [
                          -118.52036290695011,
                          34.15292443644874
                        ],
                        [
                          -118.51950549510782,
                          34.10502934033102
                        ],
                        [
                          -118.4619267616947,
                          34.10572823763521
                        ],
                        [
                          -118.46275171235496,
                          34.15362458554531
                        ],
                        [
                          -118.52036290695011,
                          34.15292443644874
                        ]
                      ]
                    ]
                  },
                  "bbox": [
                    -118.52036290695011,
                    34.10502934033102,
                    -118.4619267616947,
                    34.15362458554531
                  ]
                },
                {
                  "id": "16",
                  "type": "Feature",
                  "properties": {
                    "datetime": "2025-01-14T18:30:58Z",
                    "platform": "WV02",
                    "gsd": 0.58,
                    "ard_metadata_version": "0.0.1",
                    "catalog_id": "103001010C7D2D00",
                    "utm_zone": 11,
                    "quadkey": "031311102302",
                    "view:off_nadir": 27.1,
                    "view:azimuth": 153.6,
                    "view:incidence_angle": 59.3,
                    "view:sun_azimuth": 154.8,
                    "view:sun_elevation": 30.7,
                    "proj:epsg": 32611,
                    "proj:geometry": {
                      "type": "Polygon",
                      "coordinates": [
                        [
                          [
                            359843.75,
                            3775156.25
                          ],
                          [
                            359843.75,
                            3769843.75
                          ],
                          [
                            365156.25,
                            3769843.75
                          ],
                          [
                            365156.25,
                            3775156.25
                          ],
                          [
                            359843.75,
                            3775156.25
                          ]
                        ]
                      ]
                    },
                    "grid:code": "MXRA-Z11-031311102302",
                    "proj:bbox": "359843.75,3769843.75,365156.25,3775156.25",
                    "tile:data_area": 28.2,
                    "tile:clouds_area": 0,
                    "tile:clouds_percent": 0,
                    "visual": "https://maxar-opendata.s3.amazonaws.com/events/WildFires-LosAngeles-Jan-2025/ard/11/031311102302/2025-01-14/103001010C7D2D00-visual.tif",
                    "style": {
                      "weight": 1
                    }
                  },
                  "geometry": {
                    "type": "Polygon",
                    "coordinates": [
                      [
                        [
                          -118.51955587507352,
                          34.107846709808776
                        ],
                        [
                          -118.5187003666816,
                          34.059951243774556
                        ],
                        [
                          -118.46115211507093,
                          34.06064896418505
                        ],
                        [
                          -118.46197523429882,
                          34.10854568070948
                        ],
                        [
                          -118.51955587507352,
                          34.107846709808776
                        ]
                      ]
                    ]
                  },
                  "bbox": [
                    -118.51955587507352,
                    34.059951243774556,
                    -118.46115211507093,
                    34.10854568070948
                  ]
                },
                {
                  "id": "17",
                  "type": "Feature",
                  "properties": {
                    "datetime": "2025-01-14T18:30:58Z",
                    "platform": "WV02",
                    "gsd": 0.57,
                    "ard_metadata_version": "0.0.1",
                    "catalog_id": "103001010C7D2D00",
                    "utm_zone": 11,
                    "quadkey": "031311102320",
                    "view:off_nadir": 26.7,
                    "view:azimuth": 153,
                    "view:incidence_angle": 59.8,
                    "view:sun_azimuth": 154.8,
                    "view:sun_elevation": 30.8,
                    "proj:epsg": 32611,
                    "proj:geometry": {
                      "type": "Polygon",
                      "coordinates": [
                        [
                          [
                            359843.75,
                            3770156.25
                          ],
                          [
                            359843.75,
                            3764843.75
                          ],
                          [
                            365156.25,
                            3764843.75
                          ],
                          [
                            365156.25,
                            3770156.25
                          ],
                          [
                            359843.75,
                            3770156.25
                          ]
                        ]
                      ]
                    },
                    "grid:code": "MXRA-Z11-031311102320",
                    "proj:bbox": "359843.75,3764843.75,365156.25,3770156.25",
                    "tile:data_area": 28.2,
                    "tile:clouds_area": 0,
                    "tile:clouds_percent": 0,
                    "visual": "https://maxar-opendata.s3.amazonaws.com/events/WildFires-LosAngeles-Jan-2025/ard/11/031311102320/2025-01-14/103001010C7D2D00-visual.tif",
                    "style": {
                      "weight": 1
                    }
                  },
                  "geometry": {
                    "type": "Polygon",
                    "coordinates": [
                      [
                        [
                          -118.51875063479937,
                          34.06276863500426
                        ],
                        [
                          -118.51789702579136,
                          34.01487279932069
                        ],
                        [
                          -118.4603791883506,
                          34.01556934405954
                        ],
                        [
                          -118.46120048005898,
                          34.06346642893476
                        ],
                        [
                          -118.51875063479937,
                          34.06276863500426
                        ]
                      ]
                    ]
                  },
                  "bbox": [
                    -118.51875063479937,
                    34.01487279932069,
                    -118.4603791883506,
                    34.06346642893476
                  ]
                },
                {
                  "id": "18",
                  "type": "Feature",
                  "properties": {
                    "datetime": "2025-01-14T18:30:57Z",
                    "platform": "WV02",
                    "gsd": 0.57,
                    "ard_metadata_version": "0.0.1",
                    "catalog_id": "103001010C7D2D00",
                    "utm_zone": 11,
                    "quadkey": "031311102322",
                    "view:off_nadir": 26.3,
                    "view:azimuth": 152.5,
                    "view:incidence_angle": 60.1,
                    "view:sun_azimuth": 154.8,
                    "view:sun_elevation": 30.8,
                    "proj:epsg": 32611,
                    "proj:geometry": {
                      "type": "Polygon",
                      "coordinates": [
                        [
                          [
                            359843.75,
                            3765156.25
                          ],
                          [
                            365156.25,
                            3765156.25
                          ],
                          [
                            365156.25,
                            3760765.5559032424
                          ],
                          [
                            359843.75,
                            3762804.002209387
                          ],
                          [
                            359843.75,
                            3765156.25
                          ]
                        ]
                      ]
                    },
                    "grid:code": "MXRA-Z11-031311102322",
                    "proj:bbox": "359843.75,3760765.5559032424,365156.25,3765156.25",
                    "tile:data_area": 17.9,
                    "tile:clouds_area": 0,
                    "tile:clouds_percent": 0,
                    "visual": "https://maxar-opendata.s3.amazonaws.com/events/WildFires-LosAngeles-Jan-2025/ard/11/031311102322/2025-01-14/103001010C7D2D00-visual.tif",
                    "style": {
                      "weight": 1
                    }
                  },
                  "geometry": {
                    "type": "Polygon",
                    "coordinates": [
                      [
                        [
                          -118.5179471823,
                          34.017690212286595
                        ],
                        [
                          -118.46042744595233,
                          34.01838683046918
                        ],
                        [
                          -118.4597496512356,
                          33.9787731291134
                        ],
                        [
                          -118.51756895482342,
                          33.996425813903606
                        ],
                        [
                          -118.5179471823,
                          34.017690212286595
                        ]
                      ]
                    ]
                  },
                  "bbox": [
                    -118.5179471823,
                    33.9787731291134,
                    -118.4597496512356,
                    34.01838683046918
                  ]
                }
              ],
              "bbox": [
                -118.64742094659279,
                33.9787731291134,
                -118.4597496512356,
                34.184695409118206
              ]
            },
            "hover_style": {
              "weight": 3,
              "fillOpacity": 0,
              "color": "yellow"
            },
            "layers": [],
            "name": "Footprints",
            "options": [],
            "pane": "",
            "point_style": {},
            "popup": null,
            "popup_max_height": null,
            "popup_max_width": 300,
            "popup_min_width": 50,
            "style": {
              "weight": 1
            },
            "subitems": [],
            "visible": true
          }
        },
        "f3092d4b630042b29b4310050323c05d": {
          "model_module": "@jupyter-widgets/base",
          "model_name": "LayoutModel",
          "model_module_version": "1.2.0",
          "state": {
            "_model_module": "@jupyter-widgets/base",
            "_model_module_version": "1.2.0",
            "_model_name": "LayoutModel",
            "_view_count": null,
            "_view_module": "@jupyter-widgets/base",
            "_view_module_version": "1.2.0",
            "_view_name": "LayoutView",
            "align_content": null,
            "align_items": null,
            "align_self": null,
            "border": null,
            "bottom": null,
            "display": null,
            "flex": null,
            "flex_flow": null,
            "grid_area": null,
            "grid_auto_columns": null,
            "grid_auto_flow": null,
            "grid_auto_rows": null,
            "grid_column": null,
            "grid_gap": null,
            "grid_row": null,
            "grid_template_areas": null,
            "grid_template_columns": null,
            "grid_template_rows": null,
            "height": "18px",
            "justify_content": null,
            "justify_items": null,
            "left": null,
            "margin": null,
            "max_height": null,
            "max_width": null,
            "min_height": null,
            "min_width": null,
            "object_fit": null,
            "object_position": null,
            "order": null,
            "overflow": null,
            "overflow_x": null,
            "overflow_y": null,
            "padding": null,
            "right": null,
            "top": null,
            "visibility": null,
            "width": "25ex"
          }
        },
        "3d735a60707e4dcd8d978df77f92ee44": {
          "model_module": "@jupyter-widgets/controls",
          "model_name": "DescriptionStyleModel",
          "model_module_version": "1.5.0",
          "state": {
            "_model_module": "@jupyter-widgets/controls",
            "_model_module_version": "1.5.0",
            "_model_name": "DescriptionStyleModel",
            "_view_count": null,
            "_view_module": "@jupyter-widgets/base",
            "_view_module_version": "1.2.0",
            "_view_name": "StyleView",
            "description_width": ""
          }
        },
        "73d5b86b0d1c456ea09442c3f5bc2524": {
          "model_module": "@jupyter-widgets/base",
          "model_name": "LayoutModel",
          "model_module_version": "1.2.0",
          "state": {
            "_model_module": "@jupyter-widgets/base",
            "_model_module_version": "1.2.0",
            "_model_name": "LayoutModel",
            "_view_count": null,
            "_view_module": "@jupyter-widgets/base",
            "_view_module_version": "1.2.0",
            "_view_name": "LayoutView",
            "align_content": null,
            "align_items": null,
            "align_self": null,
            "border": null,
            "bottom": null,
            "display": null,
            "flex": null,
            "flex_flow": null,
            "grid_area": null,
            "grid_auto_columns": null,
            "grid_auto_flow": null,
            "grid_auto_rows": null,
            "grid_column": null,
            "grid_gap": null,
            "grid_row": null,
            "grid_template_areas": null,
            "grid_template_columns": null,
            "grid_template_rows": null,
            "height": "18px",
            "justify_content": null,
            "justify_items": null,
            "left": null,
            "margin": null,
            "max_height": null,
            "max_width": null,
            "min_height": null,
            "min_width": null,
            "object_fit": null,
            "object_position": null,
            "order": null,
            "overflow": null,
            "overflow_x": null,
            "overflow_y": null,
            "padding": null,
            "right": null,
            "top": null,
            "visibility": null,
            "width": "25ex"
          }
        },
        "a070c93945544a5bba9ee863041aaf8a": {
          "model_module": "@jupyter-widgets/controls",
          "model_name": "DescriptionStyleModel",
          "model_module_version": "1.5.0",
          "state": {
            "_model_module": "@jupyter-widgets/controls",
            "_model_module_version": "1.5.0",
            "_model_name": "DescriptionStyleModel",
            "_view_count": null,
            "_view_module": "@jupyter-widgets/base",
            "_view_module_version": "1.2.0",
            "_view_name": "StyleView",
            "description_width": ""
          }
        },
        "4d701bd67c2c45fa9b7f65af4c0e007b": {
          "model_module": "@jupyter-widgets/base",
          "model_name": "LayoutModel",
          "model_module_version": "1.2.0",
          "state": {
            "_model_module": "@jupyter-widgets/base",
            "_model_module_version": "1.2.0",
            "_model_name": "LayoutModel",
            "_view_count": null,
            "_view_module": "@jupyter-widgets/base",
            "_view_module_version": "1.2.0",
            "_view_name": "LayoutView",
            "align_content": null,
            "align_items": null,
            "align_self": null,
            "border": null,
            "bottom": null,
            "display": null,
            "flex": null,
            "flex_flow": null,
            "grid_area": null,
            "grid_auto_columns": null,
            "grid_auto_flow": null,
            "grid_auto_rows": null,
            "grid_column": null,
            "grid_gap": null,
            "grid_row": null,
            "grid_template_areas": null,
            "grid_template_columns": null,
            "grid_template_rows": null,
            "height": "18px",
            "justify_content": null,
            "justify_items": null,
            "left": null,
            "margin": null,
            "max_height": null,
            "max_width": null,
            "min_height": null,
            "min_width": null,
            "object_fit": null,
            "object_position": null,
            "order": null,
            "overflow": null,
            "overflow_x": null,
            "overflow_y": null,
            "padding": null,
            "right": null,
            "top": null,
            "visibility": null,
            "width": "25ex"
          }
        },
        "af731385ff6e4a69826fc648e0b649a2": {
          "model_module": "@jupyter-widgets/controls",
          "model_name": "DescriptionStyleModel",
          "model_module_version": "1.5.0",
          "state": {
            "_model_module": "@jupyter-widgets/controls",
            "_model_module_version": "1.5.0",
            "_model_name": "DescriptionStyleModel",
            "_view_count": null,
            "_view_module": "@jupyter-widgets/base",
            "_view_module_version": "1.2.0",
            "_view_name": "StyleView",
            "description_width": ""
          }
        },
        "74c39a19005145e9805cb9c8d90903db": {
          "model_module": "@jupyter-widgets/base",
          "model_name": "LayoutModel",
          "model_module_version": "1.2.0",
          "state": {
            "_model_module": "@jupyter-widgets/base",
            "_model_module_version": "1.2.0",
            "_model_name": "LayoutModel",
            "_view_count": null,
            "_view_module": "@jupyter-widgets/base",
            "_view_module_version": "1.2.0",
            "_view_name": "LayoutView",
            "align_content": null,
            "align_items": null,
            "align_self": null,
            "border": null,
            "bottom": null,
            "display": null,
            "flex": null,
            "flex_flow": null,
            "grid_area": null,
            "grid_auto_columns": null,
            "grid_auto_flow": null,
            "grid_auto_rows": null,
            "grid_column": null,
            "grid_gap": null,
            "grid_row": null,
            "grid_template_areas": null,
            "grid_template_columns": null,
            "grid_template_rows": null,
            "height": "18px",
            "justify_content": null,
            "justify_items": null,
            "left": null,
            "margin": null,
            "max_height": null,
            "max_width": null,
            "min_height": null,
            "min_width": null,
            "object_fit": null,
            "object_position": null,
            "order": null,
            "overflow": null,
            "overflow_x": null,
            "overflow_y": null,
            "padding": null,
            "right": null,
            "top": null,
            "visibility": null,
            "width": "25ex"
          }
        },
        "20d7011dbe4f432d9aeeb67a64e3175b": {
          "model_module": "@jupyter-widgets/controls",
          "model_name": "DescriptionStyleModel",
          "model_module_version": "1.5.0",
          "state": {
            "_model_module": "@jupyter-widgets/controls",
            "_model_module_version": "1.5.0",
            "_model_name": "DescriptionStyleModel",
            "_view_count": null,
            "_view_module": "@jupyter-widgets/base",
            "_view_module_version": "1.2.0",
            "_view_name": "StyleView",
            "description_width": ""
          }
        },
        "072a6a69e6aa4d508addd4a36376fcf5": {
          "model_module": "@jupyter-widgets/base",
          "model_name": "LayoutModel",
          "model_module_version": "1.2.0",
          "state": {
            "_model_module": "@jupyter-widgets/base",
            "_model_module_version": "1.2.0",
            "_model_name": "LayoutModel",
            "_view_count": null,
            "_view_module": "@jupyter-widgets/base",
            "_view_module_version": "1.2.0",
            "_view_name": "LayoutView",
            "align_content": null,
            "align_items": null,
            "align_self": null,
            "border": null,
            "bottom": null,
            "display": null,
            "flex": null,
            "flex_flow": null,
            "grid_area": null,
            "grid_auto_columns": null,
            "grid_auto_flow": null,
            "grid_auto_rows": null,
            "grid_column": null,
            "grid_gap": null,
            "grid_row": null,
            "grid_template_areas": null,
            "grid_template_columns": null,
            "grid_template_rows": null,
            "height": "18px",
            "justify_content": null,
            "justify_items": null,
            "left": null,
            "margin": null,
            "max_height": null,
            "max_width": null,
            "min_height": null,
            "min_width": null,
            "object_fit": null,
            "object_position": null,
            "order": null,
            "overflow": null,
            "overflow_x": null,
            "overflow_y": null,
            "padding": null,
            "right": null,
            "top": null,
            "visibility": null,
            "width": "25ex"
          }
        },
        "59480228e84243599b4f14b5aaa3b9f1": {
          "model_module": "@jupyter-widgets/controls",
          "model_name": "DescriptionStyleModel",
          "model_module_version": "1.5.0",
          "state": {
            "_model_module": "@jupyter-widgets/controls",
            "_model_module_version": "1.5.0",
            "_model_name": "DescriptionStyleModel",
            "_view_count": null,
            "_view_module": "@jupyter-widgets/base",
            "_view_module_version": "1.2.0",
            "_view_name": "StyleView",
            "description_width": ""
          }
        },
        "a1aa0c07dc6349f0ad04d3a6284527d9": {
          "model_module": "@jupyter-widgets/base",
          "model_name": "LayoutModel",
          "model_module_version": "1.2.0",
          "state": {
            "_model_module": "@jupyter-widgets/base",
            "_model_module_version": "1.2.0",
            "_model_name": "LayoutModel",
            "_view_count": null,
            "_view_module": "@jupyter-widgets/base",
            "_view_module_version": "1.2.0",
            "_view_name": "LayoutView",
            "align_content": null,
            "align_items": null,
            "align_self": null,
            "border": null,
            "bottom": null,
            "display": null,
            "flex": null,
            "flex_flow": null,
            "grid_area": null,
            "grid_auto_columns": null,
            "grid_auto_flow": null,
            "grid_auto_rows": null,
            "grid_column": null,
            "grid_gap": null,
            "grid_row": null,
            "grid_template_areas": null,
            "grid_template_columns": null,
            "grid_template_rows": null,
            "height": "18px",
            "justify_content": null,
            "justify_items": null,
            "left": null,
            "margin": null,
            "max_height": null,
            "max_width": null,
            "min_height": null,
            "min_width": null,
            "object_fit": null,
            "object_position": null,
            "order": null,
            "overflow": null,
            "overflow_x": null,
            "overflow_y": null,
            "padding": null,
            "right": null,
            "top": null,
            "visibility": null,
            "width": "25ex"
          }
        },
        "ab47577eb5ae4948b9cb63d357bae530": {
          "model_module": "@jupyter-widgets/controls",
          "model_name": "DescriptionStyleModel",
          "model_module_version": "1.5.0",
          "state": {
            "_model_module": "@jupyter-widgets/controls",
            "_model_module_version": "1.5.0",
            "_model_name": "DescriptionStyleModel",
            "_view_count": null,
            "_view_module": "@jupyter-widgets/base",
            "_view_module_version": "1.2.0",
            "_view_name": "StyleView",
            "description_width": ""
          }
        },
        "746fb49456234b7b892726d7401ad58d": {
          "model_module": "@jupyter-widgets/base",
          "model_name": "LayoutModel",
          "model_module_version": "1.2.0",
          "state": {
            "_model_module": "@jupyter-widgets/base",
            "_model_module_version": "1.2.0",
            "_model_name": "LayoutModel",
            "_view_count": null,
            "_view_module": "@jupyter-widgets/base",
            "_view_module_version": "1.2.0",
            "_view_name": "LayoutView",
            "align_content": null,
            "align_items": null,
            "align_self": null,
            "border": null,
            "bottom": null,
            "display": null,
            "flex": null,
            "flex_flow": null,
            "grid_area": null,
            "grid_auto_columns": null,
            "grid_auto_flow": null,
            "grid_auto_rows": null,
            "grid_column": null,
            "grid_gap": null,
            "grid_row": null,
            "grid_template_areas": null,
            "grid_template_columns": null,
            "grid_template_rows": null,
            "height": "18px",
            "justify_content": null,
            "justify_items": null,
            "left": null,
            "margin": null,
            "max_height": null,
            "max_width": null,
            "min_height": null,
            "min_width": null,
            "object_fit": null,
            "object_position": null,
            "order": null,
            "overflow": null,
            "overflow_x": null,
            "overflow_y": null,
            "padding": null,
            "right": null,
            "top": null,
            "visibility": null,
            "width": "25ex"
          }
        },
        "dcc751d7d3834dd5890e060f264d70fe": {
          "model_module": "@jupyter-widgets/controls",
          "model_name": "DescriptionStyleModel",
          "model_module_version": "1.5.0",
          "state": {
            "_model_module": "@jupyter-widgets/controls",
            "_model_module_version": "1.5.0",
            "_model_name": "DescriptionStyleModel",
            "_view_count": null,
            "_view_module": "@jupyter-widgets/base",
            "_view_module_version": "1.2.0",
            "_view_name": "StyleView",
            "description_width": ""
          }
        },
        "ad8a25602abe4d5b9cf7dc359d593430": {
          "model_module": "jupyter-leaflet",
          "model_name": "LeafletMapModel",
          "model_module_version": "^0.19",
          "state": {
            "_dom_classes": [],
            "_model_module": "jupyter-leaflet",
            "_model_module_version": "^0.19",
            "_model_name": "LeafletMapModel",
            "_view_count": null,
            "_view_module": "jupyter-leaflet",
            "_view_module_version": "^0.19",
            "_view_name": "LeafletMapView",
            "bottom": 209578,
            "bounce_at_zoom_limits": true,
            "box_zoom": true,
            "center": [
              34.09019862299803,
              -118.41786266959369
            ],
            "close_popup_on_click": true,
            "controls": [
              "IPY_MODEL_e3e7a72767894ab29a644fd430d3eb39",
              "IPY_MODEL_98a04519364f4952a63bdd65f11f5fe9",
              "IPY_MODEL_78c0e0a22c004a91b4642782fc929272",
              "IPY_MODEL_e18f9ca1eefd4e63bf16bcac90b94bf8",
              "IPY_MODEL_7c4ff0c1291a44d4949f1a424172151f",
              "IPY_MODEL_c979db1b6f834e43a153b1b8baa48312",
              "IPY_MODEL_b9683d808af54b1996bf28105aaa82f1"
            ],
            "crs": {
              "name": "EPSG3857",
              "custom": false
            },
            "default_style": "IPY_MODEL_2a544da12ce54632b3fa9261e508f9e8",
            "double_click_zoom": true,
            "dragging": true,
            "dragging_style": "IPY_MODEL_da15240614c84ead8a8e613ef5073391",
            "east": -117.93412090933978,
            "fullscreen": false,
            "inertia": true,
            "inertia_deceleration": 3000,
            "inertia_max_speed": 1500,
            "interpolation": "bilinear",
            "keyboard": true,
            "keyboard_pan_offset": 80,
            "keyboard_zoom_offset": 1,
            "layers": [
              "IPY_MODEL_b9e8a2c56e994ea28441843beed27e26",
              "IPY_MODEL_4705a0df5cf449ccb1eb662aa430d5a1"
            ],
            "layout": "IPY_MODEL_b712fcc0271e412494e47938e28cf5f1",
            "left": 88980.98782412244,
            "max_zoom": 24,
            "min_zoom": null,
            "modisdate": "2025-01-19",
            "north": 34.26062152714047,
            "options": [
              "bounce_at_zoom_limits",
              "box_zoom",
              "center",
              "close_popup_on_click",
              "double_click_zoom",
              "dragging",
              "fullscreen",
              "inertia",
              "inertia_deceleration",
              "inertia_max_speed",
              "interpolation",
              "keyboard",
              "keyboard_pan_offset",
              "keyboard_zoom_offset",
              "max_zoom",
              "min_zoom",
              "prefer_canvas",
              "scroll_wheel_zoom",
              "tap",
              "tap_tolerance",
              "touch_zoom",
              "world_copy_jump",
              "zoom",
              "zoom_animation_threshold",
              "zoom_delta",
              "zoom_snap"
            ],
            "panes": {},
            "prefer_canvas": false,
            "right": 90389.98782412244,
            "scroll_wheel_zoom": true,
            "south": 33.91943194771954,
            "style": "IPY_MODEL_2a544da12ce54632b3fa9261e508f9e8",
            "tap": true,
            "tap_tolerance": 15,
            "top": 208978,
            "touch_zoom": true,
            "west": -118.9016044298476,
            "window_url": "https://jcohp55r74h-496ff2e9c6d22116-0-colab.googleusercontent.com/outputframe.html?vrz=colab_20250116-060142_RC00_716191869",
            "world_copy_jump": false,
            "zoom": 11,
            "zoom_animation_threshold": 4,
            "zoom_delta": 1,
            "zoom_snap": 1
          }
        },
        "e3e7a72767894ab29a644fd430d3eb39": {
          "model_module": "jupyter-leaflet",
          "model_name": "LeafletZoomControlModel",
          "model_module_version": "^0.19",
          "state": {
            "_model_module": "jupyter-leaflet",
            "_model_module_version": "^0.19",
            "_model_name": "LeafletZoomControlModel",
            "_view_count": null,
            "_view_module": "jupyter-leaflet",
            "_view_module_version": "^0.19",
            "_view_name": "LeafletZoomControlView",
            "options": [
              "position",
              "zoom_in_text",
              "zoom_in_title",
              "zoom_out_text",
              "zoom_out_title"
            ],
            "position": "topleft",
            "zoom_in_text": "+",
            "zoom_in_title": "Zoom in",
            "zoom_out_text": "-",
            "zoom_out_title": "Zoom out"
          }
        },
        "98a04519364f4952a63bdd65f11f5fe9": {
          "model_module": "jupyter-leaflet",
          "model_name": "LeafletAttributionControlModel",
          "model_module_version": "^0.19",
          "state": {
            "_model_module": "jupyter-leaflet",
            "_model_module_version": "^0.19",
            "_model_name": "LeafletAttributionControlModel",
            "_view_count": null,
            "_view_module": "jupyter-leaflet",
            "_view_module_version": "^0.19",
            "_view_name": "LeafletAttributionControlView",
            "options": [
              "position",
              "prefix"
            ],
            "position": "bottomright",
            "prefix": "ipyleaflet"
          }
        },
        "78c0e0a22c004a91b4642782fc929272": {
          "model_module": "jupyter-leaflet",
          "model_name": "LeafletFullScreenControlModel",
          "model_module_version": "^0.19",
          "state": {
            "_model_module": "jupyter-leaflet",
            "_model_module_version": "^0.19",
            "_model_name": "LeafletFullScreenControlModel",
            "_view_count": null,
            "_view_module": "jupyter-leaflet",
            "_view_module_version": "^0.19",
            "_view_name": "LeafletFullScreenControlView",
            "options": [
              "position"
            ],
            "position": "topleft"
          }
        },
        "e18f9ca1eefd4e63bf16bcac90b94bf8": {
          "model_module": "jupyter-leaflet",
          "model_name": "LeafletDrawControlModel",
          "model_module_version": "^0.19",
          "state": {
            "_model_module": "jupyter-leaflet",
            "_model_module_version": "^0.19",
            "_model_name": "LeafletDrawControlModel",
            "_view_count": null,
            "_view_module": "jupyter-leaflet",
            "_view_module_version": "^0.19",
            "_view_name": "LeafletDrawControlView",
            "circle": {
              "shapeOptions": {
                "color": "#3388ff"
              },
              "repeatMode": false
            },
            "circlemarker": {},
            "data": [],
            "edit": true,
            "marker": {
              "shapeOptions": {
                "color": "#3388ff"
              },
              "repeatMode": false
            },
            "options": [
              "position"
            ],
            "polygon": {
              "repeatMode": false
            },
            "polyline": {
              "repeatMode": false
            },
            "position": "topleft",
            "rectangle": {
              "shapeOptions": {
                "color": "#3388ff"
              },
              "repeatMode": false
            },
            "remove": true
          }
        },
        "7c4ff0c1291a44d4949f1a424172151f": {
          "model_module": "jupyter-leaflet",
          "model_name": "LeafletScaleControlModel",
          "model_module_version": "^0.19",
          "state": {
            "_model_module": "jupyter-leaflet",
            "_model_module_version": "^0.19",
            "_model_name": "LeafletScaleControlModel",
            "_view_count": null,
            "_view_module": "jupyter-leaflet",
            "_view_module_version": "^0.19",
            "_view_name": "LeafletScaleControlView",
            "imperial": true,
            "max_width": 100,
            "metric": true,
            "options": [
              "imperial",
              "max_width",
              "metric",
              "position",
              "update_when_idle"
            ],
            "position": "bottomleft",
            "update_when_idle": false
          }
        },
        "c979db1b6f834e43a153b1b8baa48312": {
          "model_module": "jupyter-leaflet",
          "model_name": "LeafletWidgetControlModel",
          "model_module_version": "^0.19",
          "state": {
            "_model_module": "jupyter-leaflet",
            "_model_module_version": "^0.19",
            "_model_name": "LeafletWidgetControlModel",
            "_view_count": null,
            "_view_module": "jupyter-leaflet",
            "_view_module_version": "^0.19",
            "_view_name": "LeafletWidgetControlView",
            "max_height": null,
            "max_width": null,
            "min_height": null,
            "min_width": null,
            "options": [
              "position",
              "transparent_bg"
            ],
            "position": "topright",
            "transparent_bg": false,
            "widget": "IPY_MODEL_1713ea5d1aa14776a2b8ab0d37f17b7d"
          }
        },
        "b9683d808af54b1996bf28105aaa82f1": {
          "model_module": "jupyter-leaflet",
          "model_name": "LeafletWidgetControlModel",
          "model_module_version": "^0.19",
          "state": {
            "_model_module": "jupyter-leaflet",
            "_model_module_version": "^0.19",
            "_model_name": "LeafletWidgetControlModel",
            "_view_count": null,
            "_view_module": "jupyter-leaflet",
            "_view_module_version": "^0.19",
            "_view_name": "LeafletWidgetControlView",
            "max_height": null,
            "max_width": null,
            "min_height": null,
            "min_width": null,
            "options": [
              "position",
              "transparent_bg"
            ],
            "position": "bottomright",
            "transparent_bg": false,
            "widget": "IPY_MODEL_dc3f8414867149e185b01e0f2bc9cc0d"
          }
        },
        "2a544da12ce54632b3fa9261e508f9e8": {
          "model_module": "jupyter-leaflet",
          "model_name": "LeafletMapStyleModel",
          "model_module_version": "^0.19",
          "state": {
            "_model_module": "jupyter-leaflet",
            "_model_module_version": "^0.19",
            "_model_name": "LeafletMapStyleModel",
            "_view_count": null,
            "_view_module": "@jupyter-widgets/base",
            "_view_module_version": "1.2.0",
            "_view_name": "StyleView",
            "cursor": "grab"
          }
        },
        "da15240614c84ead8a8e613ef5073391": {
          "model_module": "jupyter-leaflet",
          "model_name": "LeafletMapStyleModel",
          "model_module_version": "^0.19",
          "state": {
            "_model_module": "jupyter-leaflet",
            "_model_module_version": "^0.19",
            "_model_name": "LeafletMapStyleModel",
            "_view_count": null,
            "_view_module": "@jupyter-widgets/base",
            "_view_module_version": "1.2.0",
            "_view_name": "StyleView",
            "cursor": "move"
          }
        },
        "b712fcc0271e412494e47938e28cf5f1": {
          "model_module": "@jupyter-widgets/base",
          "model_name": "LayoutModel",
          "model_module_version": "1.2.0",
          "state": {
            "_model_module": "@jupyter-widgets/base",
            "_model_module_version": "1.2.0",
            "_model_name": "LayoutModel",
            "_view_count": null,
            "_view_module": "@jupyter-widgets/base",
            "_view_module_version": "1.2.0",
            "_view_name": "LayoutView",
            "align_content": null,
            "align_items": null,
            "align_self": null,
            "border": null,
            "bottom": null,
            "display": null,
            "flex": null,
            "flex_flow": null,
            "grid_area": null,
            "grid_auto_columns": null,
            "grid_auto_flow": null,
            "grid_auto_rows": null,
            "grid_column": null,
            "grid_gap": null,
            "grid_row": null,
            "grid_template_areas": null,
            "grid_template_columns": null,
            "grid_template_rows": null,
            "height": "600px",
            "justify_content": null,
            "justify_items": null,
            "left": null,
            "margin": null,
            "max_height": null,
            "max_width": null,
            "min_height": null,
            "min_width": null,
            "object_fit": null,
            "object_position": null,
            "order": null,
            "overflow": null,
            "overflow_x": null,
            "overflow_y": null,
            "padding": null,
            "right": null,
            "top": null,
            "visibility": null,
            "width": null
          }
        },
        "4f8f2f95e1204c6f870443aef93720a1": {
          "model_module": "jupyter-leaflet",
          "model_name": "LeafletMapStyleModel",
          "model_module_version": "^0.19",
          "state": {
            "_model_module": "jupyter-leaflet",
            "_model_module_version": "^0.19",
            "_model_name": "LeafletMapStyleModel",
            "_view_count": null,
            "_view_module": "@jupyter-widgets/base",
            "_view_module_version": "1.2.0",
            "_view_name": "StyleView",
            "cursor": "grab"
          }
        },
        "1713ea5d1aa14776a2b8ab0d37f17b7d": {
          "model_module": "@jupyter-widgets/controls",
          "model_name": "VBoxModel",
          "model_module_version": "1.5.0",
          "state": {
            "_dom_classes": [],
            "_model_module": "@jupyter-widgets/controls",
            "_model_module_version": "1.5.0",
            "_model_name": "VBoxModel",
            "_view_count": null,
            "_view_module": "@jupyter-widgets/controls",
            "_view_module_version": "1.5.0",
            "_view_name": "VBoxView",
            "box_style": "",
            "children": [
              "IPY_MODEL_3f2a9c000a7740ee96279296640dd84a",
              "IPY_MODEL_c0f515ed4b7246f68f1bb3530dc6e950"
            ],
            "layout": "IPY_MODEL_15319f929fc040e984a12bc12d8dd02f"
          }
        },
        "dc3f8414867149e185b01e0f2bc9cc0d": {
          "model_module": "@jupyter-widgets/controls",
          "model_name": "VBoxModel",
          "model_module_version": "1.5.0",
          "state": {
            "_dom_classes": [],
            "_model_module": "@jupyter-widgets/controls",
            "_model_module_version": "1.5.0",
            "_model_name": "VBoxModel",
            "_view_count": null,
            "_view_module": "@jupyter-widgets/controls",
            "_view_module_version": "1.5.0",
            "_view_name": "VBoxView",
            "box_style": "",
            "children": [
              "IPY_MODEL_b1e30bc24ba24cf1a293b70c0301b75a",
              "IPY_MODEL_20f610e719d048a680304620241e2946"
            ],
            "layout": "IPY_MODEL_44f24f00311d48bd81f62b9091805b59"
          }
        },
        "d62824e5723742d5b9f0fb1f83e2090c": {
          "model_module": "@jupyter-widgets/controls",
          "model_name": "ToggleButtonModel",
          "model_module_version": "1.5.0",
          "state": {
            "_dom_classes": [],
            "_model_module": "@jupyter-widgets/controls",
            "_model_module_version": "1.5.0",
            "_model_name": "ToggleButtonModel",
            "_view_count": null,
            "_view_module": "@jupyter-widgets/controls",
            "_view_module_version": "1.5.0",
            "_view_name": "ToggleButtonView",
            "button_style": "",
            "description": "",
            "description_tooltip": null,
            "disabled": false,
            "icon": "wrench",
            "layout": "IPY_MODEL_77df3993ec6d4d6a92a7a16a54a6604a",
            "style": "IPY_MODEL_59cd2f33a11d43e7a8d923ec6511da78",
            "tooltip": "Toolbar",
            "value": true
          }
        },
        "15319f929fc040e984a12bc12d8dd02f": {
          "model_module": "@jupyter-widgets/base",
          "model_name": "LayoutModel",
          "model_module_version": "1.2.0",
          "state": {
            "_model_module": "@jupyter-widgets/base",
            "_model_module_version": "1.2.0",
            "_model_name": "LayoutModel",
            "_view_count": null,
            "_view_module": "@jupyter-widgets/base",
            "_view_module_version": "1.2.0",
            "_view_name": "LayoutView",
            "align_content": null,
            "align_items": null,
            "align_self": null,
            "border": null,
            "bottom": null,
            "display": null,
            "flex": null,
            "flex_flow": null,
            "grid_area": null,
            "grid_auto_columns": null,
            "grid_auto_flow": null,
            "grid_auto_rows": null,
            "grid_column": null,
            "grid_gap": null,
            "grid_row": null,
            "grid_template_areas": null,
            "grid_template_columns": null,
            "grid_template_rows": null,
            "height": null,
            "justify_content": null,
            "justify_items": null,
            "left": null,
            "margin": null,
            "max_height": null,
            "max_width": null,
            "min_height": null,
            "min_width": null,
            "object_fit": null,
            "object_position": null,
            "order": null,
            "overflow": null,
            "overflow_x": null,
            "overflow_y": null,
            "padding": null,
            "right": null,
            "top": null,
            "visibility": null,
            "width": null
          }
        },
        "b1e30bc24ba24cf1a293b70c0301b75a": {
          "model_module": "@jupyter-widgets/controls",
          "model_name": "HBoxModel",
          "model_module_version": "1.5.0",
          "state": {
            "_dom_classes": [],
            "_model_module": "@jupyter-widgets/controls",
            "_model_module_version": "1.5.0",
            "_model_name": "HBoxModel",
            "_view_count": null,
            "_view_module": "@jupyter-widgets/controls",
            "_view_module_version": "1.5.0",
            "_view_name": "HBoxView",
            "box_style": "",
            "children": [
              "IPY_MODEL_13bfdfc5013e46758c4650df1036dd53",
              "IPY_MODEL_a4e4ae03f8874a0abb9680c35037c964"
            ],
            "layout": "IPY_MODEL_66285d52920b459ab76e0411d72201be"
          }
        },
        "20f610e719d048a680304620241e2946": {
          "model_module": "@jupyter-widgets/controls",
          "model_name": "HTMLModel",
          "model_module_version": "1.5.0",
          "state": {
            "_dom_classes": [],
            "_model_module": "@jupyter-widgets/controls",
            "_model_module_version": "1.5.0",
            "_model_name": "HTMLModel",
            "_view_count": null,
            "_view_module": "@jupyter-widgets/controls",
            "_view_module_version": "1.5.0",
            "_view_name": "HTMLView",
            "description": "",
            "description_tooltip": null,
            "layout": "IPY_MODEL_9983b0c9d75a4f93959fa235cdb9d194",
            "placeholder": "​",
            "style": "IPY_MODEL_2f40bf7a01dc44578b86ede73e57590c",
            "value": "<b>datetime: </b>2025-01-14T18:30:58Z<br><b>platform: </b>WV02<br><b>gsd: </b>0.57<br><b>ard_metadata_version: </b>0.0.1<br><b>catalog_id: </b>103001010C7D2D00<br><b>utm_zone: </b>11<br><b>quadkey: </b>031311102231<br><b>view:off_nadir: </b>26.8<br><b>view:azimuth: </b>152.3<br><b>view:incidence_angle: </b>59.6<br><b>view:sun_azimuth: </b>154.8<br><b>view:sun_elevation: </b>30.8<br><b>proj:epsg: </b>32611<br><b>proj:geometry: </b>{'type': 'Polygon', 'coordinates': [[[354843.75, 3770156.25], [354843.75, 3764843.75], [360156.25, 3764843.75], [360156.25, 3770156.25], [354843.75, 3770156.25]]]}<br><b>grid:code: </b>MXRA-Z11-031311102231<br><b>proj:bbox: </b>354843.75,3764843.75,360156.25,3770156.25<br><b>tile:data_area: </b>28.2<br><b>tile:clouds_area: </b>0<br><b>tile:clouds_percent: </b>0<br><b>visual: </b>https://maxar-opendata.s3.amazonaws.com/events/WildFires-LosAngeles-Jan-2025/ard/11/031311102231/2025-01-14/103001010C7D2D00-visual.tif<br>"
          }
        },
        "44f24f00311d48bd81f62b9091805b59": {
          "model_module": "@jupyter-widgets/base",
          "model_name": "LayoutModel",
          "model_module_version": "1.2.0",
          "state": {
            "_model_module": "@jupyter-widgets/base",
            "_model_module_version": "1.2.0",
            "_model_name": "LayoutModel",
            "_view_count": null,
            "_view_module": "@jupyter-widgets/base",
            "_view_module_version": "1.2.0",
            "_view_name": "LayoutView",
            "align_content": null,
            "align_items": null,
            "align_self": null,
            "border": null,
            "bottom": null,
            "display": null,
            "flex": null,
            "flex_flow": null,
            "grid_area": null,
            "grid_auto_columns": null,
            "grid_auto_flow": null,
            "grid_auto_rows": null,
            "grid_column": null,
            "grid_gap": null,
            "grid_row": null,
            "grid_template_areas": null,
            "grid_template_columns": null,
            "grid_template_rows": null,
            "height": null,
            "justify_content": null,
            "justify_items": null,
            "left": null,
            "margin": null,
            "max_height": null,
            "max_width": null,
            "min_height": null,
            "min_width": null,
            "object_fit": null,
            "object_position": null,
            "order": null,
            "overflow": null,
            "overflow_x": null,
            "overflow_y": null,
            "padding": null,
            "right": null,
            "top": null,
            "visibility": null,
            "width": null
          }
        },
        "77df3993ec6d4d6a92a7a16a54a6604a": {
          "model_module": "@jupyter-widgets/base",
          "model_name": "LayoutModel",
          "model_module_version": "1.2.0",
          "state": {
            "_model_module": "@jupyter-widgets/base",
            "_model_module_version": "1.2.0",
            "_model_name": "LayoutModel",
            "_view_count": null,
            "_view_module": "@jupyter-widgets/base",
            "_view_module_version": "1.2.0",
            "_view_name": "LayoutView",
            "align_content": null,
            "align_items": null,
            "align_self": null,
            "border": null,
            "bottom": null,
            "display": null,
            "flex": null,
            "flex_flow": null,
            "grid_area": null,
            "grid_auto_columns": null,
            "grid_auto_flow": null,
            "grid_auto_rows": null,
            "grid_column": null,
            "grid_gap": null,
            "grid_row": null,
            "grid_template_areas": null,
            "grid_template_columns": null,
            "grid_template_rows": null,
            "height": "28px",
            "justify_content": null,
            "justify_items": null,
            "left": null,
            "margin": null,
            "max_height": null,
            "max_width": null,
            "min_height": null,
            "min_width": null,
            "object_fit": null,
            "object_position": null,
            "order": null,
            "overflow": null,
            "overflow_x": null,
            "overflow_y": null,
            "padding": "0px 0px 0px 4px",
            "right": null,
            "top": null,
            "visibility": null,
            "width": "28px"
          }
        },
        "59cd2f33a11d43e7a8d923ec6511da78": {
          "model_module": "@jupyter-widgets/controls",
          "model_name": "DescriptionStyleModel",
          "model_module_version": "1.5.0",
          "state": {
            "_model_module": "@jupyter-widgets/controls",
            "_model_module_version": "1.5.0",
            "_model_name": "DescriptionStyleModel",
            "_view_count": null,
            "_view_module": "@jupyter-widgets/base",
            "_view_module_version": "1.2.0",
            "_view_name": "StyleView",
            "description_width": ""
          }
        },
        "13bfdfc5013e46758c4650df1036dd53": {
          "model_module": "@jupyter-widgets/controls",
          "model_name": "ToggleButtonModel",
          "model_module_version": "1.5.0",
          "state": {
            "_dom_classes": [],
            "_model_module": "@jupyter-widgets/controls",
            "_model_module_version": "1.5.0",
            "_model_name": "ToggleButtonModel",
            "_view_count": null,
            "_view_module": "@jupyter-widgets/controls",
            "_view_module_version": "1.5.0",
            "_view_name": "ToggleButtonView",
            "button_style": "",
            "description": "",
            "description_tooltip": null,
            "disabled": false,
            "icon": "info",
            "layout": "IPY_MODEL_4e74b899871147fc8c4b71e8bde3a9e0",
            "style": "IPY_MODEL_ff6bdc184797496b8f6aed86bbf226f2",
            "tooltip": "Toolbar",
            "value": true
          }
        },
        "a4e4ae03f8874a0abb9680c35037c964": {
          "model_module": "@jupyter-widgets/controls",
          "model_name": "ToggleButtonModel",
          "model_module_version": "1.5.0",
          "state": {
            "_dom_classes": [],
            "_model_module": "@jupyter-widgets/controls",
            "_model_module_version": "1.5.0",
            "_model_name": "ToggleButtonModel",
            "_view_count": null,
            "_view_module": "@jupyter-widgets/controls",
            "_view_module_version": "1.5.0",
            "_view_name": "ToggleButtonView",
            "button_style": "",
            "description": "",
            "description_tooltip": null,
            "disabled": false,
            "icon": "times",
            "layout": "IPY_MODEL_adaaafa6c4c4475882754b933446c4c7",
            "style": "IPY_MODEL_741ff8ebe7294a9eb949351d7dfc3f34",
            "tooltip": "Close the tool",
            "value": false
          }
        },
        "66285d52920b459ab76e0411d72201be": {
          "model_module": "@jupyter-widgets/base",
          "model_name": "LayoutModel",
          "model_module_version": "1.2.0",
          "state": {
            "_model_module": "@jupyter-widgets/base",
            "_model_module_version": "1.2.0",
            "_model_name": "LayoutModel",
            "_view_count": null,
            "_view_module": "@jupyter-widgets/base",
            "_view_module_version": "1.2.0",
            "_view_name": "LayoutView",
            "align_content": null,
            "align_items": null,
            "align_self": null,
            "border": null,
            "bottom": null,
            "display": null,
            "flex": null,
            "flex_flow": null,
            "grid_area": null,
            "grid_auto_columns": null,
            "grid_auto_flow": null,
            "grid_auto_rows": null,
            "grid_column": null,
            "grid_gap": null,
            "grid_row": null,
            "grid_template_areas": null,
            "grid_template_columns": null,
            "grid_template_rows": null,
            "height": null,
            "justify_content": null,
            "justify_items": null,
            "left": null,
            "margin": null,
            "max_height": null,
            "max_width": null,
            "min_height": null,
            "min_width": null,
            "object_fit": null,
            "object_position": null,
            "order": null,
            "overflow": null,
            "overflow_x": null,
            "overflow_y": null,
            "padding": null,
            "right": null,
            "top": null,
            "visibility": null,
            "width": null
          }
        },
        "9983b0c9d75a4f93959fa235cdb9d194": {
          "model_module": "@jupyter-widgets/base",
          "model_name": "LayoutModel",
          "model_module_version": "1.2.0",
          "state": {
            "_model_module": "@jupyter-widgets/base",
            "_model_module_version": "1.2.0",
            "_model_name": "LayoutModel",
            "_view_count": null,
            "_view_module": "@jupyter-widgets/base",
            "_view_module_version": "1.2.0",
            "_view_name": "LayoutView",
            "align_content": null,
            "align_items": null,
            "align_self": null,
            "border": null,
            "bottom": null,
            "display": null,
            "flex": null,
            "flex_flow": null,
            "grid_area": null,
            "grid_auto_columns": null,
            "grid_auto_flow": null,
            "grid_auto_rows": null,
            "grid_column": null,
            "grid_gap": null,
            "grid_row": null,
            "grid_template_areas": null,
            "grid_template_columns": null,
            "grid_template_rows": null,
            "height": null,
            "justify_content": null,
            "justify_items": null,
            "left": null,
            "margin": "0px 10px 0px 10px",
            "max_height": "250px",
            "max_width": "250px",
            "min_height": null,
            "min_width": null,
            "object_fit": null,
            "object_position": null,
            "order": null,
            "overflow": null,
            "overflow_x": null,
            "overflow_y": null,
            "padding": null,
            "right": null,
            "top": null,
            "visibility": null,
            "width": null
          }
        },
        "2f40bf7a01dc44578b86ede73e57590c": {
          "model_module": "@jupyter-widgets/controls",
          "model_name": "DescriptionStyleModel",
          "model_module_version": "1.5.0",
          "state": {
            "_model_module": "@jupyter-widgets/controls",
            "_model_module_version": "1.5.0",
            "_model_name": "DescriptionStyleModel",
            "_view_count": null,
            "_view_module": "@jupyter-widgets/base",
            "_view_module_version": "1.2.0",
            "_view_name": "StyleView",
            "description_width": ""
          }
        },
        "4e74b899871147fc8c4b71e8bde3a9e0": {
          "model_module": "@jupyter-widgets/base",
          "model_name": "LayoutModel",
          "model_module_version": "1.2.0",
          "state": {
            "_model_module": "@jupyter-widgets/base",
            "_model_module_version": "1.2.0",
            "_model_name": "LayoutModel",
            "_view_count": null,
            "_view_module": "@jupyter-widgets/base",
            "_view_module_version": "1.2.0",
            "_view_name": "LayoutView",
            "align_content": null,
            "align_items": null,
            "align_self": null,
            "border": null,
            "bottom": null,
            "display": null,
            "flex": null,
            "flex_flow": null,
            "grid_area": null,
            "grid_auto_columns": null,
            "grid_auto_flow": null,
            "grid_auto_rows": null,
            "grid_column": null,
            "grid_gap": null,
            "grid_row": null,
            "grid_template_areas": null,
            "grid_template_columns": null,
            "grid_template_rows": null,
            "height": "28px",
            "justify_content": null,
            "justify_items": null,
            "left": null,
            "margin": null,
            "max_height": null,
            "max_width": null,
            "min_height": null,
            "min_width": null,
            "object_fit": null,
            "object_position": null,
            "order": null,
            "overflow": null,
            "overflow_x": null,
            "overflow_y": null,
            "padding": "0px 0px 0px 4px",
            "right": null,
            "top": null,
            "visibility": null,
            "width": "28px"
          }
        },
        "ff6bdc184797496b8f6aed86bbf226f2": {
          "model_module": "@jupyter-widgets/controls",
          "model_name": "DescriptionStyleModel",
          "model_module_version": "1.5.0",
          "state": {
            "_model_module": "@jupyter-widgets/controls",
            "_model_module_version": "1.5.0",
            "_model_name": "DescriptionStyleModel",
            "_view_count": null,
            "_view_module": "@jupyter-widgets/base",
            "_view_module_version": "1.2.0",
            "_view_name": "StyleView",
            "description_width": ""
          }
        },
        "adaaafa6c4c4475882754b933446c4c7": {
          "model_module": "@jupyter-widgets/base",
          "model_name": "LayoutModel",
          "model_module_version": "1.2.0",
          "state": {
            "_model_module": "@jupyter-widgets/base",
            "_model_module_version": "1.2.0",
            "_model_name": "LayoutModel",
            "_view_count": null,
            "_view_module": "@jupyter-widgets/base",
            "_view_module_version": "1.2.0",
            "_view_name": "LayoutView",
            "align_content": null,
            "align_items": null,
            "align_self": null,
            "border": null,
            "bottom": null,
            "display": null,
            "flex": null,
            "flex_flow": null,
            "grid_area": null,
            "grid_auto_columns": null,
            "grid_auto_flow": null,
            "grid_auto_rows": null,
            "grid_column": null,
            "grid_gap": null,
            "grid_row": null,
            "grid_template_areas": null,
            "grid_template_columns": null,
            "grid_template_rows": null,
            "height": "28px",
            "justify_content": null,
            "justify_items": null,
            "left": null,
            "margin": null,
            "max_height": null,
            "max_width": null,
            "min_height": null,
            "min_width": null,
            "object_fit": null,
            "object_position": null,
            "order": null,
            "overflow": null,
            "overflow_x": null,
            "overflow_y": null,
            "padding": "0px 0px 0px 4px",
            "right": null,
            "top": null,
            "visibility": null,
            "width": "28px"
          }
        },
        "741ff8ebe7294a9eb949351d7dfc3f34": {
          "model_module": "@jupyter-widgets/controls",
          "model_name": "DescriptionStyleModel",
          "model_module_version": "1.5.0",
          "state": {
            "_model_module": "@jupyter-widgets/controls",
            "_model_module_version": "1.5.0",
            "_model_name": "DescriptionStyleModel",
            "_view_count": null,
            "_view_module": "@jupyter-widgets/base",
            "_view_module_version": "1.2.0",
            "_view_name": "StyleView",
            "description_width": ""
          }
        },
        "3f2a9c000a7740ee96279296640dd84a": {
          "model_module": "@jupyter-widgets/controls",
          "model_name": "HBoxModel",
          "model_module_version": "1.5.0",
          "state": {
            "_dom_classes": [],
            "_model_module": "@jupyter-widgets/controls",
            "_model_module_version": "1.5.0",
            "_model_name": "HBoxModel",
            "_view_count": null,
            "_view_module": "@jupyter-widgets/controls",
            "_view_module_version": "1.5.0",
            "_view_name": "HBoxView",
            "box_style": "",
            "children": [
              "IPY_MODEL_1855406424ac40fda6a5fd376484cef3",
              "IPY_MODEL_d62824e5723742d5b9f0fb1f83e2090c"
            ],
            "layout": "IPY_MODEL_6f63940771b34dfd81ff275708bbc4f5"
          }
        },
        "c0f515ed4b7246f68f1bb3530dc6e950": {
          "model_module": "@jupyter-widgets/controls",
          "model_name": "VBoxModel",
          "model_module_version": "1.5.0",
          "state": {
            "_dom_classes": [],
            "_model_module": "@jupyter-widgets/controls",
            "_model_module_version": "1.5.0",
            "_model_name": "VBoxModel",
            "_view_count": null,
            "_view_module": "@jupyter-widgets/controls",
            "_view_module_version": "1.5.0",
            "_view_name": "VBoxView",
            "box_style": "",
            "children": [
              "IPY_MODEL_48eb693999bd4d3985cdca93f1e2ed66"
            ],
            "layout": "IPY_MODEL_b053784dcc2241b18f721e39a3a48b52"
          }
        },
        "1855406424ac40fda6a5fd376484cef3": {
          "model_module": "@jupyter-widgets/controls",
          "model_name": "ToggleButtonModel",
          "model_module_version": "1.5.0",
          "state": {
            "_dom_classes": [],
            "_model_module": "@jupyter-widgets/controls",
            "_model_module_version": "1.5.0",
            "_model_name": "ToggleButtonModel",
            "_view_count": null,
            "_view_module": "@jupyter-widgets/controls",
            "_view_module_version": "1.5.0",
            "_view_name": "ToggleButtonView",
            "button_style": "",
            "description": "",
            "description_tooltip": null,
            "disabled": false,
            "icon": "server",
            "layout": "IPY_MODEL_14b8ccdec9364c28bba7f45c3ee37589",
            "style": "IPY_MODEL_05593233bcfa4f2cb75308862db69e73",
            "tooltip": "Layers",
            "value": false
          }
        },
        "6f63940771b34dfd81ff275708bbc4f5": {
          "model_module": "@jupyter-widgets/base",
          "model_name": "LayoutModel",
          "model_module_version": "1.2.0",
          "state": {
            "_model_module": "@jupyter-widgets/base",
            "_model_module_version": "1.2.0",
            "_model_name": "LayoutModel",
            "_view_count": null,
            "_view_module": "@jupyter-widgets/base",
            "_view_module_version": "1.2.0",
            "_view_name": "LayoutView",
            "align_content": null,
            "align_items": null,
            "align_self": null,
            "border": null,
            "bottom": null,
            "display": null,
            "flex": null,
            "flex_flow": null,
            "grid_area": null,
            "grid_auto_columns": null,
            "grid_auto_flow": null,
            "grid_auto_rows": null,
            "grid_column": null,
            "grid_gap": null,
            "grid_row": null,
            "grid_template_areas": null,
            "grid_template_columns": null,
            "grid_template_rows": null,
            "height": null,
            "justify_content": null,
            "justify_items": null,
            "left": null,
            "margin": null,
            "max_height": null,
            "max_width": null,
            "min_height": null,
            "min_width": null,
            "object_fit": null,
            "object_position": null,
            "order": null,
            "overflow": null,
            "overflow_x": null,
            "overflow_y": null,
            "padding": null,
            "right": null,
            "top": null,
            "visibility": null,
            "width": null
          }
        },
        "48eb693999bd4d3985cdca93f1e2ed66": {
          "model_module": "@jupyter-widgets/controls",
          "model_name": "GridBoxModel",
          "model_module_version": "1.5.0",
          "state": {
            "_dom_classes": [],
            "_model_module": "@jupyter-widgets/controls",
            "_model_module_version": "1.5.0",
            "_model_name": "GridBoxModel",
            "_view_count": null,
            "_view_module": "@jupyter-widgets/controls",
            "_view_module_version": "1.5.0",
            "_view_name": "GridBoxView",
            "box_style": "",
            "children": [
              "IPY_MODEL_a6aa941ffbd646dea569b9173fa81774",
              "IPY_MODEL_cb46a77bceb846b897f5f5f0ececa9ef",
              "IPY_MODEL_daf8994d0a364e9297facf86cf2376f9",
              "IPY_MODEL_31c0a54692a64faa947a1a93d7c9ed14",
              "IPY_MODEL_b8ca94cb8e59485e9b5fb1795b302687",
              "IPY_MODEL_ba3146858fab4504bea22138e8daf9f7",
              "IPY_MODEL_f0b3f6202adb4afeb03ec99013cf4b31",
              "IPY_MODEL_710f7fad090241eb8d2577d62be2b6a2",
              "IPY_MODEL_7949743405174b42ac340132885d56d8",
              "IPY_MODEL_1ce62c26b7b449bea30515dd4c0639d4",
              "IPY_MODEL_b17c7547cdb844a8b8df2738388dc47d",
              "IPY_MODEL_b9415efa48f6441b854b167bd8aca502",
              "IPY_MODEL_cfd5ef936e314af59162069891498f48",
              "IPY_MODEL_d891c8fbf29c4720b87d113d2b66716f",
              "IPY_MODEL_1c6a0755852246edbe3683d96c1c58d4",
              "IPY_MODEL_dd17f444793f4cb28464ab01cceda076",
              "IPY_MODEL_d6b3cbb85b284dedb2057aeef73b77d9",
              "IPY_MODEL_8dd0e62c766e4e20880ce5a5a0faa704"
            ],
            "layout": "IPY_MODEL_97b5220027934a4e9a09ffa862da35d0"
          }
        },
        "b053784dcc2241b18f721e39a3a48b52": {
          "model_module": "@jupyter-widgets/base",
          "model_name": "LayoutModel",
          "model_module_version": "1.2.0",
          "state": {
            "_model_module": "@jupyter-widgets/base",
            "_model_module_version": "1.2.0",
            "_model_name": "LayoutModel",
            "_view_count": null,
            "_view_module": "@jupyter-widgets/base",
            "_view_module_version": "1.2.0",
            "_view_name": "LayoutView",
            "align_content": null,
            "align_items": null,
            "align_self": null,
            "border": null,
            "bottom": null,
            "display": null,
            "flex": null,
            "flex_flow": null,
            "grid_area": null,
            "grid_auto_columns": null,
            "grid_auto_flow": null,
            "grid_auto_rows": null,
            "grid_column": null,
            "grid_gap": null,
            "grid_row": null,
            "grid_template_areas": null,
            "grid_template_columns": null,
            "grid_template_rows": null,
            "height": null,
            "justify_content": null,
            "justify_items": null,
            "left": null,
            "margin": null,
            "max_height": null,
            "max_width": null,
            "min_height": null,
            "min_width": null,
            "object_fit": null,
            "object_position": null,
            "order": null,
            "overflow": null,
            "overflow_x": null,
            "overflow_y": null,
            "padding": null,
            "right": null,
            "top": null,
            "visibility": null,
            "width": null
          }
        },
        "14b8ccdec9364c28bba7f45c3ee37589": {
          "model_module": "@jupyter-widgets/base",
          "model_name": "LayoutModel",
          "model_module_version": "1.2.0",
          "state": {
            "_model_module": "@jupyter-widgets/base",
            "_model_module_version": "1.2.0",
            "_model_name": "LayoutModel",
            "_view_count": null,
            "_view_module": "@jupyter-widgets/base",
            "_view_module_version": "1.2.0",
            "_view_name": "LayoutView",
            "align_content": null,
            "align_items": null,
            "align_self": null,
            "border": null,
            "bottom": null,
            "display": null,
            "flex": null,
            "flex_flow": null,
            "grid_area": null,
            "grid_auto_columns": null,
            "grid_auto_flow": null,
            "grid_auto_rows": null,
            "grid_column": null,
            "grid_gap": null,
            "grid_row": null,
            "grid_template_areas": null,
            "grid_template_columns": null,
            "grid_template_rows": null,
            "height": "28px",
            "justify_content": null,
            "justify_items": null,
            "left": null,
            "margin": null,
            "max_height": null,
            "max_width": null,
            "min_height": null,
            "min_width": null,
            "object_fit": null,
            "object_position": null,
            "order": null,
            "overflow": null,
            "overflow_x": null,
            "overflow_y": null,
            "padding": null,
            "right": null,
            "top": null,
            "visibility": null,
            "width": "72px"
          }
        },
        "05593233bcfa4f2cb75308862db69e73": {
          "model_module": "@jupyter-widgets/controls",
          "model_name": "DescriptionStyleModel",
          "model_module_version": "1.5.0",
          "state": {
            "_model_module": "@jupyter-widgets/controls",
            "_model_module_version": "1.5.0",
            "_model_name": "DescriptionStyleModel",
            "_view_count": null,
            "_view_module": "@jupyter-widgets/base",
            "_view_module_version": "1.2.0",
            "_view_name": "StyleView",
            "description_width": ""
          }
        },
        "a6aa941ffbd646dea569b9173fa81774": {
          "model_module": "@jupyter-widgets/controls",
          "model_name": "ToggleButtonModel",
          "model_module_version": "1.5.0",
          "state": {
            "_dom_classes": [],
            "_model_module": "@jupyter-widgets/controls",
            "_model_module_version": "1.5.0",
            "_model_name": "ToggleButtonModel",
            "_view_count": null,
            "_view_module": "@jupyter-widgets/controls",
            "_view_module_version": "1.5.0",
            "_view_name": "ToggleButtonView",
            "button_style": "primary",
            "description": "",
            "description_tooltip": null,
            "disabled": false,
            "icon": "map",
            "layout": "IPY_MODEL_d31b3893bf64492abe8ed74b6526805f",
            "style": "IPY_MODEL_a462527d487a4ac78848e9603526d37c",
            "tooltip": "Change basemap",
            "value": false
          }
        },
        "cb46a77bceb846b897f5f5f0ececa9ef": {
          "model_module": "@jupyter-widgets/controls",
          "model_name": "ToggleButtonModel",
          "model_module_version": "1.5.0",
          "state": {
            "_dom_classes": [],
            "_model_module": "@jupyter-widgets/controls",
            "_model_module_version": "1.5.0",
            "_model_name": "ToggleButtonModel",
            "_view_count": null,
            "_view_module": "@jupyter-widgets/controls",
            "_view_module_version": "1.5.0",
            "_view_name": "ToggleButtonView",
            "button_style": "primary",
            "description": "",
            "description_tooltip": null,
            "disabled": false,
            "icon": "globe",
            "layout": "IPY_MODEL_b31a3e1529e149b2a110fa0b60b66ecb",
            "style": "IPY_MODEL_934d2b8fb1a645459a986d105c50a5de",
            "tooltip": "Split-panel map",
            "value": false
          }
        },
        "daf8994d0a364e9297facf86cf2376f9": {
          "model_module": "@jupyter-widgets/controls",
          "model_name": "ToggleButtonModel",
          "model_module_version": "1.5.0",
          "state": {
            "_dom_classes": [],
            "_model_module": "@jupyter-widgets/controls",
            "_model_module_version": "1.5.0",
            "_model_name": "ToggleButtonModel",
            "_view_count": null,
            "_view_module": "@jupyter-widgets/controls",
            "_view_module_version": "1.5.0",
            "_view_name": "ToggleButtonView",
            "button_style": "primary",
            "description": "",
            "description_tooltip": null,
            "disabled": false,
            "icon": "adjust",
            "layout": "IPY_MODEL_2bc676b68ea9454da5a2156fc6ab81a6",
            "style": "IPY_MODEL_a0b8855fe3ac4e40ac54a19b94d78fc7",
            "tooltip": "Planet imagery",
            "value": false
          }
        },
        "31c0a54692a64faa947a1a93d7c9ed14": {
          "model_module": "@jupyter-widgets/controls",
          "model_name": "ToggleButtonModel",
          "model_module_version": "1.5.0",
          "state": {
            "_dom_classes": [],
            "_model_module": "@jupyter-widgets/controls",
            "_model_module_version": "1.5.0",
            "_model_name": "ToggleButtonModel",
            "_view_count": null,
            "_view_module": "@jupyter-widgets/controls",
            "_view_module_version": "1.5.0",
            "_view_name": "ToggleButtonView",
            "button_style": "primary",
            "description": "",
            "description_tooltip": null,
            "disabled": false,
            "icon": "folder-open",
            "layout": "IPY_MODEL_65e42d5ab66d4a5e92fef0afddd65a2d",
            "style": "IPY_MODEL_2812a7d976d747a5b5a5ead655678e3e",
            "tooltip": "Open local vector/raster data",
            "value": false
          }
        },
        "b8ca94cb8e59485e9b5fb1795b302687": {
          "model_module": "@jupyter-widgets/controls",
          "model_name": "ToggleButtonModel",
          "model_module_version": "1.5.0",
          "state": {
            "_dom_classes": [],
            "_model_module": "@jupyter-widgets/controls",
            "_model_module_version": "1.5.0",
            "_model_name": "ToggleButtonModel",
            "_view_count": null,
            "_view_module": "@jupyter-widgets/controls",
            "_view_module_version": "1.5.0",
            "_view_name": "ToggleButtonView",
            "button_style": "primary",
            "description": "",
            "description_tooltip": null,
            "disabled": false,
            "icon": "gears",
            "layout": "IPY_MODEL_7fc3106a86294b898d474bbce101bb33",
            "style": "IPY_MODEL_6a013ca600cb4ed993680b00ac1bac01",
            "tooltip": "WhiteboxTools for local geoprocessing",
            "value": false
          }
        },
        "ba3146858fab4504bea22138e8daf9f7": {
          "model_module": "@jupyter-widgets/controls",
          "model_name": "ToggleButtonModel",
          "model_module_version": "1.5.0",
          "state": {
            "_dom_classes": [],
            "_model_module": "@jupyter-widgets/controls",
            "_model_module_version": "1.5.0",
            "_model_name": "ToggleButtonModel",
            "_view_count": null,
            "_view_module": "@jupyter-widgets/controls",
            "_view_module_version": "1.5.0",
            "_view_name": "ToggleButtonView",
            "button_style": "primary",
            "description": "",
            "description_tooltip": null,
            "disabled": false,
            "icon": "fast-forward",
            "layout": "IPY_MODEL_f7b8f6430e0f4697a12f36d3469341e7",
            "style": "IPY_MODEL_f0be7276ca314440b83eb77584781a5f",
            "tooltip": "Activate the time slider",
            "value": false
          }
        },
        "f0b3f6202adb4afeb03ec99013cf4b31": {
          "model_module": "@jupyter-widgets/controls",
          "model_name": "ToggleButtonModel",
          "model_module_version": "1.5.0",
          "state": {
            "_dom_classes": [],
            "_model_module": "@jupyter-widgets/controls",
            "_model_module_version": "1.5.0",
            "_model_name": "ToggleButtonModel",
            "_view_count": null,
            "_view_module": "@jupyter-widgets/controls",
            "_view_module_version": "1.5.0",
            "_view_name": "ToggleButtonView",
            "button_style": "primary",
            "description": "",
            "description_tooltip": null,
            "disabled": false,
            "icon": "eraser",
            "layout": "IPY_MODEL_d8cba0f5f4354aee9031dbd7b1319016",
            "style": "IPY_MODEL_305cc77771dc404a975211a625dc523c",
            "tooltip": "Remove all drawn features",
            "value": false
          }
        },
        "710f7fad090241eb8d2577d62be2b6a2": {
          "model_module": "@jupyter-widgets/controls",
          "model_name": "ToggleButtonModel",
          "model_module_version": "1.5.0",
          "state": {
            "_dom_classes": [],
            "_model_module": "@jupyter-widgets/controls",
            "_model_module_version": "1.5.0",
            "_model_name": "ToggleButtonModel",
            "_view_count": null,
            "_view_module": "@jupyter-widgets/controls",
            "_view_module_version": "1.5.0",
            "_view_name": "ToggleButtonView",
            "button_style": "primary",
            "description": "",
            "description_tooltip": null,
            "disabled": false,
            "icon": "camera",
            "layout": "IPY_MODEL_799c92b95cfe42d18229bf0033278229",
            "style": "IPY_MODEL_8c0d4e75c2af43ecb381a818b4408dcf",
            "tooltip": "Save map as HTML or image",
            "value": false
          }
        },
        "7949743405174b42ac340132885d56d8": {
          "model_module": "@jupyter-widgets/controls",
          "model_name": "ToggleButtonModel",
          "model_module_version": "1.5.0",
          "state": {
            "_dom_classes": [],
            "_model_module": "@jupyter-widgets/controls",
            "_model_module_version": "1.5.0",
            "_model_name": "ToggleButtonModel",
            "_view_count": null,
            "_view_module": "@jupyter-widgets/controls",
            "_view_module_version": "1.5.0",
            "_view_name": "ToggleButtonView",
            "button_style": "primary",
            "description": "",
            "description_tooltip": null,
            "disabled": false,
            "icon": "filter",
            "layout": "IPY_MODEL_67f7095da74d4b8d897d5699dcfcd347",
            "style": "IPY_MODEL_027b36a766b846fdb7f342bebc6343f1",
            "tooltip": "Get US Census data",
            "value": false
          }
        },
        "1ce62c26b7b449bea30515dd4c0639d4": {
          "model_module": "@jupyter-widgets/controls",
          "model_name": "ToggleButtonModel",
          "model_module_version": "1.5.0",
          "state": {
            "_dom_classes": [],
            "_model_module": "@jupyter-widgets/controls",
            "_model_module_version": "1.5.0",
            "_model_name": "ToggleButtonModel",
            "_view_count": null,
            "_view_module": "@jupyter-widgets/controls",
            "_view_module_version": "1.5.0",
            "_view_name": "ToggleButtonView",
            "button_style": "primary",
            "description": "",
            "description_tooltip": null,
            "disabled": false,
            "icon": "info",
            "layout": "IPY_MODEL_330532c3ba6944889fbf1daa5dc2f81b",
            "style": "IPY_MODEL_8df2a4ab1e2a4ef28f44fc44e3357340",
            "tooltip": "Get COG/STAC pixel value",
            "value": false
          }
        },
        "b17c7547cdb844a8b8df2738388dc47d": {
          "model_module": "@jupyter-widgets/controls",
          "model_name": "ToggleButtonModel",
          "model_module_version": "1.5.0",
          "state": {
            "_dom_classes": [],
            "_model_module": "@jupyter-widgets/controls",
            "_model_module_version": "1.5.0",
            "_model_name": "ToggleButtonModel",
            "_view_count": null,
            "_view_module": "@jupyter-widgets/controls",
            "_view_module_version": "1.5.0",
            "_view_name": "ToggleButtonView",
            "button_style": "primary",
            "description": "",
            "description_tooltip": null,
            "disabled": false,
            "icon": "search",
            "layout": "IPY_MODEL_84fce7e7d5b9440e99728e1947901e31",
            "style": "IPY_MODEL_b222571be5da48ae8d94d1bfc21c7da8",
            "tooltip": "Search XYZ tile services",
            "value": false
          }
        },
        "b9415efa48f6441b854b167bd8aca502": {
          "model_module": "@jupyter-widgets/controls",
          "model_name": "ToggleButtonModel",
          "model_module_version": "1.5.0",
          "state": {
            "_dom_classes": [],
            "_model_module": "@jupyter-widgets/controls",
            "_model_module_version": "1.5.0",
            "_model_name": "ToggleButtonModel",
            "_view_count": null,
            "_view_module": "@jupyter-widgets/controls",
            "_view_module_version": "1.5.0",
            "_view_name": "ToggleButtonView",
            "button_style": "primary",
            "description": "",
            "description_tooltip": null,
            "disabled": false,
            "icon": "download",
            "layout": "IPY_MODEL_9d7d3bc06ae840ac9c75fdcd8697da13",
            "style": "IPY_MODEL_c3ff7bf343f143f2bcb59e903f431a0d",
            "tooltip": "Download OSM data",
            "value": false
          }
        },
        "cfd5ef936e314af59162069891498f48": {
          "model_module": "@jupyter-widgets/controls",
          "model_name": "ToggleButtonModel",
          "model_module_version": "1.5.0",
          "state": {
            "_dom_classes": [],
            "_model_module": "@jupyter-widgets/controls",
            "_model_module_version": "1.5.0",
            "_model_name": "ToggleButtonModel",
            "_view_count": null,
            "_view_module": "@jupyter-widgets/controls",
            "_view_module_version": "1.5.0",
            "_view_name": "ToggleButtonView",
            "button_style": "primary",
            "description": "",
            "description_tooltip": null,
            "disabled": false,
            "icon": "picture-o",
            "layout": "IPY_MODEL_fd15571a440a4013bb6df7f0d5a07673",
            "style": "IPY_MODEL_db13ab16f6c042feba5f73a2e4ac3118",
            "tooltip": "Open COG/STAC dataset",
            "value": false
          }
        },
        "d891c8fbf29c4720b87d113d2b66716f": {
          "model_module": "@jupyter-widgets/controls",
          "model_name": "ToggleButtonModel",
          "model_module_version": "1.5.0",
          "state": {
            "_dom_classes": [],
            "_model_module": "@jupyter-widgets/controls",
            "_model_module_version": "1.5.0",
            "_model_name": "ToggleButtonModel",
            "_view_count": null,
            "_view_module": "@jupyter-widgets/controls",
            "_view_module_version": "1.5.0",
            "_view_name": "ToggleButtonView",
            "button_style": "primary",
            "description": "",
            "description_tooltip": null,
            "disabled": false,
            "icon": "search-plus",
            "layout": "IPY_MODEL_a583908a964b45439c62297a5909964f",
            "style": "IPY_MODEL_e152405d890840b686cfb1e08850d949",
            "tooltip": "Search features in GeoJSON layer",
            "value": false
          }
        },
        "1c6a0755852246edbe3683d96c1c58d4": {
          "model_module": "@jupyter-widgets/controls",
          "model_name": "ToggleButtonModel",
          "model_module_version": "1.5.0",
          "state": {
            "_dom_classes": [],
            "_model_module": "@jupyter-widgets/controls",
            "_model_module_version": "1.5.0",
            "_model_name": "ToggleButtonModel",
            "_view_count": null,
            "_view_module": "@jupyter-widgets/controls",
            "_view_module_version": "1.5.0",
            "_view_name": "ToggleButtonView",
            "button_style": "primary",
            "description": "",
            "description_tooltip": null,
            "disabled": false,
            "icon": "table",
            "layout": "IPY_MODEL_dc62cf6260a44f97ba4f8677730c61d7",
            "style": "IPY_MODEL_fcf22a58228f4384af0aadd5a98fd063",
            "tooltip": "Open attribute table",
            "value": false
          }
        },
        "dd17f444793f4cb28464ab01cceda076": {
          "model_module": "@jupyter-widgets/controls",
          "model_name": "ToggleButtonModel",
          "model_module_version": "1.5.0",
          "state": {
            "_dom_classes": [],
            "_model_module": "@jupyter-widgets/controls",
            "_model_module_version": "1.5.0",
            "_model_name": "ToggleButtonModel",
            "_view_count": null,
            "_view_module": "@jupyter-widgets/controls",
            "_view_module_version": "1.5.0",
            "_view_name": "ToggleButtonView",
            "button_style": "primary",
            "description": "",
            "description_tooltip": null,
            "disabled": false,
            "icon": "pencil-square-o",
            "layout": "IPY_MODEL_99650b89c632410c9453de7c4289ddef",
            "style": "IPY_MODEL_378a7aeb3b1146668fbde1b294d985e9",
            "tooltip": "Create vector data",
            "value": false
          }
        },
        "d6b3cbb85b284dedb2057aeef73b77d9": {
          "model_module": "@jupyter-widgets/controls",
          "model_name": "ToggleButtonModel",
          "model_module_version": "1.5.0",
          "state": {
            "_dom_classes": [],
            "_model_module": "@jupyter-widgets/controls",
            "_model_module_version": "1.5.0",
            "_model_name": "ToggleButtonModel",
            "_view_count": null,
            "_view_module": "@jupyter-widgets/controls",
            "_view_module_version": "1.5.0",
            "_view_name": "ToggleButtonView",
            "button_style": "primary",
            "description": "",
            "description_tooltip": null,
            "disabled": false,
            "icon": "stack-exchange",
            "layout": "IPY_MODEL_5a4b173fa1094ea0a8cd30fc565ffe26",
            "style": "IPY_MODEL_914bb695c80740eab0b61a7fea3f94eb",
            "tooltip": "Discover STAC Catalog",
            "value": false
          }
        },
        "8dd0e62c766e4e20880ce5a5a0faa704": {
          "model_module": "@jupyter-widgets/controls",
          "model_name": "ToggleButtonModel",
          "model_module_version": "1.5.0",
          "state": {
            "_dom_classes": [],
            "_model_module": "@jupyter-widgets/controls",
            "_model_module_version": "1.5.0",
            "_model_name": "ToggleButtonModel",
            "_view_count": null,
            "_view_module": "@jupyter-widgets/controls",
            "_view_module_version": "1.5.0",
            "_view_name": "ToggleButtonView",
            "button_style": "primary",
            "description": "",
            "description_tooltip": null,
            "disabled": false,
            "icon": "plane",
            "layout": "IPY_MODEL_1d63e20e860f44dfbe4877c93e0b8546",
            "style": "IPY_MODEL_0b9398ee9dec46c8a0d582da6ec89bc1",
            "tooltip": "Search OpenAerialMap",
            "value": false
          }
        },
        "97b5220027934a4e9a09ffa862da35d0": {
          "model_module": "@jupyter-widgets/base",
          "model_name": "LayoutModel",
          "model_module_version": "1.2.0",
          "state": {
            "_model_module": "@jupyter-widgets/base",
            "_model_module_version": "1.2.0",
            "_model_name": "LayoutModel",
            "_view_count": null,
            "_view_module": "@jupyter-widgets/base",
            "_view_module_version": "1.2.0",
            "_view_name": "LayoutView",
            "align_content": null,
            "align_items": null,
            "align_self": null,
            "border": null,
            "bottom": null,
            "display": null,
            "flex": null,
            "flex_flow": null,
            "grid_area": null,
            "grid_auto_columns": null,
            "grid_auto_flow": null,
            "grid_auto_rows": null,
            "grid_column": null,
            "grid_gap": "1px 1px",
            "grid_row": null,
            "grid_template_areas": null,
            "grid_template_columns": "32px 32px 32px ",
            "grid_template_rows": "32px 32px 32px 32px 32px 32px ",
            "height": null,
            "justify_content": null,
            "justify_items": null,
            "left": null,
            "margin": null,
            "max_height": null,
            "max_width": null,
            "min_height": null,
            "min_width": null,
            "object_fit": null,
            "object_position": null,
            "order": null,
            "overflow": null,
            "overflow_x": null,
            "overflow_y": null,
            "padding": "5px",
            "right": null,
            "top": null,
            "visibility": null,
            "width": "109px"
          }
        },
        "d31b3893bf64492abe8ed74b6526805f": {
          "model_module": "@jupyter-widgets/base",
          "model_name": "LayoutModel",
          "model_module_version": "1.2.0",
          "state": {
            "_model_module": "@jupyter-widgets/base",
            "_model_module_version": "1.2.0",
            "_model_name": "LayoutModel",
            "_view_count": null,
            "_view_module": "@jupyter-widgets/base",
            "_view_module_version": "1.2.0",
            "_view_name": "LayoutView",
            "align_content": null,
            "align_items": null,
            "align_self": null,
            "border": null,
            "bottom": null,
            "display": null,
            "flex": null,
            "flex_flow": null,
            "grid_area": null,
            "grid_auto_columns": null,
            "grid_auto_flow": null,
            "grid_auto_rows": null,
            "grid_column": null,
            "grid_gap": null,
            "grid_row": null,
            "grid_template_areas": null,
            "grid_template_columns": null,
            "grid_template_rows": null,
            "height": "auto",
            "justify_content": null,
            "justify_items": null,
            "left": null,
            "margin": null,
            "max_height": null,
            "max_width": null,
            "min_height": null,
            "min_width": null,
            "object_fit": null,
            "object_position": null,
            "order": null,
            "overflow": null,
            "overflow_x": null,
            "overflow_y": null,
            "padding": "0px 0px 0px 4px",
            "right": null,
            "top": null,
            "visibility": null,
            "width": "auto"
          }
        },
        "a462527d487a4ac78848e9603526d37c": {
          "model_module": "@jupyter-widgets/controls",
          "model_name": "DescriptionStyleModel",
          "model_module_version": "1.5.0",
          "state": {
            "_model_module": "@jupyter-widgets/controls",
            "_model_module_version": "1.5.0",
            "_model_name": "DescriptionStyleModel",
            "_view_count": null,
            "_view_module": "@jupyter-widgets/base",
            "_view_module_version": "1.2.0",
            "_view_name": "StyleView",
            "description_width": ""
          }
        },
        "b31a3e1529e149b2a110fa0b60b66ecb": {
          "model_module": "@jupyter-widgets/base",
          "model_name": "LayoutModel",
          "model_module_version": "1.2.0",
          "state": {
            "_model_module": "@jupyter-widgets/base",
            "_model_module_version": "1.2.0",
            "_model_name": "LayoutModel",
            "_view_count": null,
            "_view_module": "@jupyter-widgets/base",
            "_view_module_version": "1.2.0",
            "_view_name": "LayoutView",
            "align_content": null,
            "align_items": null,
            "align_self": null,
            "border": null,
            "bottom": null,
            "display": null,
            "flex": null,
            "flex_flow": null,
            "grid_area": null,
            "grid_auto_columns": null,
            "grid_auto_flow": null,
            "grid_auto_rows": null,
            "grid_column": null,
            "grid_gap": null,
            "grid_row": null,
            "grid_template_areas": null,
            "grid_template_columns": null,
            "grid_template_rows": null,
            "height": "auto",
            "justify_content": null,
            "justify_items": null,
            "left": null,
            "margin": null,
            "max_height": null,
            "max_width": null,
            "min_height": null,
            "min_width": null,
            "object_fit": null,
            "object_position": null,
            "order": null,
            "overflow": null,
            "overflow_x": null,
            "overflow_y": null,
            "padding": "0px 0px 0px 4px",
            "right": null,
            "top": null,
            "visibility": null,
            "width": "auto"
          }
        },
        "934d2b8fb1a645459a986d105c50a5de": {
          "model_module": "@jupyter-widgets/controls",
          "model_name": "DescriptionStyleModel",
          "model_module_version": "1.5.0",
          "state": {
            "_model_module": "@jupyter-widgets/controls",
            "_model_module_version": "1.5.0",
            "_model_name": "DescriptionStyleModel",
            "_view_count": null,
            "_view_module": "@jupyter-widgets/base",
            "_view_module_version": "1.2.0",
            "_view_name": "StyleView",
            "description_width": ""
          }
        },
        "2bc676b68ea9454da5a2156fc6ab81a6": {
          "model_module": "@jupyter-widgets/base",
          "model_name": "LayoutModel",
          "model_module_version": "1.2.0",
          "state": {
            "_model_module": "@jupyter-widgets/base",
            "_model_module_version": "1.2.0",
            "_model_name": "LayoutModel",
            "_view_count": null,
            "_view_module": "@jupyter-widgets/base",
            "_view_module_version": "1.2.0",
            "_view_name": "LayoutView",
            "align_content": null,
            "align_items": null,
            "align_self": null,
            "border": null,
            "bottom": null,
            "display": null,
            "flex": null,
            "flex_flow": null,
            "grid_area": null,
            "grid_auto_columns": null,
            "grid_auto_flow": null,
            "grid_auto_rows": null,
            "grid_column": null,
            "grid_gap": null,
            "grid_row": null,
            "grid_template_areas": null,
            "grid_template_columns": null,
            "grid_template_rows": null,
            "height": "auto",
            "justify_content": null,
            "justify_items": null,
            "left": null,
            "margin": null,
            "max_height": null,
            "max_width": null,
            "min_height": null,
            "min_width": null,
            "object_fit": null,
            "object_position": null,
            "order": null,
            "overflow": null,
            "overflow_x": null,
            "overflow_y": null,
            "padding": "0px 0px 0px 4px",
            "right": null,
            "top": null,
            "visibility": null,
            "width": "auto"
          }
        },
        "a0b8855fe3ac4e40ac54a19b94d78fc7": {
          "model_module": "@jupyter-widgets/controls",
          "model_name": "DescriptionStyleModel",
          "model_module_version": "1.5.0",
          "state": {
            "_model_module": "@jupyter-widgets/controls",
            "_model_module_version": "1.5.0",
            "_model_name": "DescriptionStyleModel",
            "_view_count": null,
            "_view_module": "@jupyter-widgets/base",
            "_view_module_version": "1.2.0",
            "_view_name": "StyleView",
            "description_width": ""
          }
        },
        "65e42d5ab66d4a5e92fef0afddd65a2d": {
          "model_module": "@jupyter-widgets/base",
          "model_name": "LayoutModel",
          "model_module_version": "1.2.0",
          "state": {
            "_model_module": "@jupyter-widgets/base",
            "_model_module_version": "1.2.0",
            "_model_name": "LayoutModel",
            "_view_count": null,
            "_view_module": "@jupyter-widgets/base",
            "_view_module_version": "1.2.0",
            "_view_name": "LayoutView",
            "align_content": null,
            "align_items": null,
            "align_self": null,
            "border": null,
            "bottom": null,
            "display": null,
            "flex": null,
            "flex_flow": null,
            "grid_area": null,
            "grid_auto_columns": null,
            "grid_auto_flow": null,
            "grid_auto_rows": null,
            "grid_column": null,
            "grid_gap": null,
            "grid_row": null,
            "grid_template_areas": null,
            "grid_template_columns": null,
            "grid_template_rows": null,
            "height": "auto",
            "justify_content": null,
            "justify_items": null,
            "left": null,
            "margin": null,
            "max_height": null,
            "max_width": null,
            "min_height": null,
            "min_width": null,
            "object_fit": null,
            "object_position": null,
            "order": null,
            "overflow": null,
            "overflow_x": null,
            "overflow_y": null,
            "padding": "0px 0px 0px 4px",
            "right": null,
            "top": null,
            "visibility": null,
            "width": "auto"
          }
        },
        "2812a7d976d747a5b5a5ead655678e3e": {
          "model_module": "@jupyter-widgets/controls",
          "model_name": "DescriptionStyleModel",
          "model_module_version": "1.5.0",
          "state": {
            "_model_module": "@jupyter-widgets/controls",
            "_model_module_version": "1.5.0",
            "_model_name": "DescriptionStyleModel",
            "_view_count": null,
            "_view_module": "@jupyter-widgets/base",
            "_view_module_version": "1.2.0",
            "_view_name": "StyleView",
            "description_width": ""
          }
        },
        "7fc3106a86294b898d474bbce101bb33": {
          "model_module": "@jupyter-widgets/base",
          "model_name": "LayoutModel",
          "model_module_version": "1.2.0",
          "state": {
            "_model_module": "@jupyter-widgets/base",
            "_model_module_version": "1.2.0",
            "_model_name": "LayoutModel",
            "_view_count": null,
            "_view_module": "@jupyter-widgets/base",
            "_view_module_version": "1.2.0",
            "_view_name": "LayoutView",
            "align_content": null,
            "align_items": null,
            "align_self": null,
            "border": null,
            "bottom": null,
            "display": null,
            "flex": null,
            "flex_flow": null,
            "grid_area": null,
            "grid_auto_columns": null,
            "grid_auto_flow": null,
            "grid_auto_rows": null,
            "grid_column": null,
            "grid_gap": null,
            "grid_row": null,
            "grid_template_areas": null,
            "grid_template_columns": null,
            "grid_template_rows": null,
            "height": "auto",
            "justify_content": null,
            "justify_items": null,
            "left": null,
            "margin": null,
            "max_height": null,
            "max_width": null,
            "min_height": null,
            "min_width": null,
            "object_fit": null,
            "object_position": null,
            "order": null,
            "overflow": null,
            "overflow_x": null,
            "overflow_y": null,
            "padding": "0px 0px 0px 4px",
            "right": null,
            "top": null,
            "visibility": null,
            "width": "auto"
          }
        },
        "6a013ca600cb4ed993680b00ac1bac01": {
          "model_module": "@jupyter-widgets/controls",
          "model_name": "DescriptionStyleModel",
          "model_module_version": "1.5.0",
          "state": {
            "_model_module": "@jupyter-widgets/controls",
            "_model_module_version": "1.5.0",
            "_model_name": "DescriptionStyleModel",
            "_view_count": null,
            "_view_module": "@jupyter-widgets/base",
            "_view_module_version": "1.2.0",
            "_view_name": "StyleView",
            "description_width": ""
          }
        },
        "f7b8f6430e0f4697a12f36d3469341e7": {
          "model_module": "@jupyter-widgets/base",
          "model_name": "LayoutModel",
          "model_module_version": "1.2.0",
          "state": {
            "_model_module": "@jupyter-widgets/base",
            "_model_module_version": "1.2.0",
            "_model_name": "LayoutModel",
            "_view_count": null,
            "_view_module": "@jupyter-widgets/base",
            "_view_module_version": "1.2.0",
            "_view_name": "LayoutView",
            "align_content": null,
            "align_items": null,
            "align_self": null,
            "border": null,
            "bottom": null,
            "display": null,
            "flex": null,
            "flex_flow": null,
            "grid_area": null,
            "grid_auto_columns": null,
            "grid_auto_flow": null,
            "grid_auto_rows": null,
            "grid_column": null,
            "grid_gap": null,
            "grid_row": null,
            "grid_template_areas": null,
            "grid_template_columns": null,
            "grid_template_rows": null,
            "height": "auto",
            "justify_content": null,
            "justify_items": null,
            "left": null,
            "margin": null,
            "max_height": null,
            "max_width": null,
            "min_height": null,
            "min_width": null,
            "object_fit": null,
            "object_position": null,
            "order": null,
            "overflow": null,
            "overflow_x": null,
            "overflow_y": null,
            "padding": "0px 0px 0px 4px",
            "right": null,
            "top": null,
            "visibility": null,
            "width": "auto"
          }
        },
        "f0be7276ca314440b83eb77584781a5f": {
          "model_module": "@jupyter-widgets/controls",
          "model_name": "DescriptionStyleModel",
          "model_module_version": "1.5.0",
          "state": {
            "_model_module": "@jupyter-widgets/controls",
            "_model_module_version": "1.5.0",
            "_model_name": "DescriptionStyleModel",
            "_view_count": null,
            "_view_module": "@jupyter-widgets/base",
            "_view_module_version": "1.2.0",
            "_view_name": "StyleView",
            "description_width": ""
          }
        },
        "d8cba0f5f4354aee9031dbd7b1319016": {
          "model_module": "@jupyter-widgets/base",
          "model_name": "LayoutModel",
          "model_module_version": "1.2.0",
          "state": {
            "_model_module": "@jupyter-widgets/base",
            "_model_module_version": "1.2.0",
            "_model_name": "LayoutModel",
            "_view_count": null,
            "_view_module": "@jupyter-widgets/base",
            "_view_module_version": "1.2.0",
            "_view_name": "LayoutView",
            "align_content": null,
            "align_items": null,
            "align_self": null,
            "border": null,
            "bottom": null,
            "display": null,
            "flex": null,
            "flex_flow": null,
            "grid_area": null,
            "grid_auto_columns": null,
            "grid_auto_flow": null,
            "grid_auto_rows": null,
            "grid_column": null,
            "grid_gap": null,
            "grid_row": null,
            "grid_template_areas": null,
            "grid_template_columns": null,
            "grid_template_rows": null,
            "height": "auto",
            "justify_content": null,
            "justify_items": null,
            "left": null,
            "margin": null,
            "max_height": null,
            "max_width": null,
            "min_height": null,
            "min_width": null,
            "object_fit": null,
            "object_position": null,
            "order": null,
            "overflow": null,
            "overflow_x": null,
            "overflow_y": null,
            "padding": "0px 0px 0px 4px",
            "right": null,
            "top": null,
            "visibility": null,
            "width": "auto"
          }
        },
        "305cc77771dc404a975211a625dc523c": {
          "model_module": "@jupyter-widgets/controls",
          "model_name": "DescriptionStyleModel",
          "model_module_version": "1.5.0",
          "state": {
            "_model_module": "@jupyter-widgets/controls",
            "_model_module_version": "1.5.0",
            "_model_name": "DescriptionStyleModel",
            "_view_count": null,
            "_view_module": "@jupyter-widgets/base",
            "_view_module_version": "1.2.0",
            "_view_name": "StyleView",
            "description_width": ""
          }
        },
        "799c92b95cfe42d18229bf0033278229": {
          "model_module": "@jupyter-widgets/base",
          "model_name": "LayoutModel",
          "model_module_version": "1.2.0",
          "state": {
            "_model_module": "@jupyter-widgets/base",
            "_model_module_version": "1.2.0",
            "_model_name": "LayoutModel",
            "_view_count": null,
            "_view_module": "@jupyter-widgets/base",
            "_view_module_version": "1.2.0",
            "_view_name": "LayoutView",
            "align_content": null,
            "align_items": null,
            "align_self": null,
            "border": null,
            "bottom": null,
            "display": null,
            "flex": null,
            "flex_flow": null,
            "grid_area": null,
            "grid_auto_columns": null,
            "grid_auto_flow": null,
            "grid_auto_rows": null,
            "grid_column": null,
            "grid_gap": null,
            "grid_row": null,
            "grid_template_areas": null,
            "grid_template_columns": null,
            "grid_template_rows": null,
            "height": "auto",
            "justify_content": null,
            "justify_items": null,
            "left": null,
            "margin": null,
            "max_height": null,
            "max_width": null,
            "min_height": null,
            "min_width": null,
            "object_fit": null,
            "object_position": null,
            "order": null,
            "overflow": null,
            "overflow_x": null,
            "overflow_y": null,
            "padding": "0px 0px 0px 4px",
            "right": null,
            "top": null,
            "visibility": null,
            "width": "auto"
          }
        },
        "8c0d4e75c2af43ecb381a818b4408dcf": {
          "model_module": "@jupyter-widgets/controls",
          "model_name": "DescriptionStyleModel",
          "model_module_version": "1.5.0",
          "state": {
            "_model_module": "@jupyter-widgets/controls",
            "_model_module_version": "1.5.0",
            "_model_name": "DescriptionStyleModel",
            "_view_count": null,
            "_view_module": "@jupyter-widgets/base",
            "_view_module_version": "1.2.0",
            "_view_name": "StyleView",
            "description_width": ""
          }
        },
        "67f7095da74d4b8d897d5699dcfcd347": {
          "model_module": "@jupyter-widgets/base",
          "model_name": "LayoutModel",
          "model_module_version": "1.2.0",
          "state": {
            "_model_module": "@jupyter-widgets/base",
            "_model_module_version": "1.2.0",
            "_model_name": "LayoutModel",
            "_view_count": null,
            "_view_module": "@jupyter-widgets/base",
            "_view_module_version": "1.2.0",
            "_view_name": "LayoutView",
            "align_content": null,
            "align_items": null,
            "align_self": null,
            "border": null,
            "bottom": null,
            "display": null,
            "flex": null,
            "flex_flow": null,
            "grid_area": null,
            "grid_auto_columns": null,
            "grid_auto_flow": null,
            "grid_auto_rows": null,
            "grid_column": null,
            "grid_gap": null,
            "grid_row": null,
            "grid_template_areas": null,
            "grid_template_columns": null,
            "grid_template_rows": null,
            "height": "auto",
            "justify_content": null,
            "justify_items": null,
            "left": null,
            "margin": null,
            "max_height": null,
            "max_width": null,
            "min_height": null,
            "min_width": null,
            "object_fit": null,
            "object_position": null,
            "order": null,
            "overflow": null,
            "overflow_x": null,
            "overflow_y": null,
            "padding": "0px 0px 0px 4px",
            "right": null,
            "top": null,
            "visibility": null,
            "width": "auto"
          }
        },
        "027b36a766b846fdb7f342bebc6343f1": {
          "model_module": "@jupyter-widgets/controls",
          "model_name": "DescriptionStyleModel",
          "model_module_version": "1.5.0",
          "state": {
            "_model_module": "@jupyter-widgets/controls",
            "_model_module_version": "1.5.0",
            "_model_name": "DescriptionStyleModel",
            "_view_count": null,
            "_view_module": "@jupyter-widgets/base",
            "_view_module_version": "1.2.0",
            "_view_name": "StyleView",
            "description_width": ""
          }
        },
        "330532c3ba6944889fbf1daa5dc2f81b": {
          "model_module": "@jupyter-widgets/base",
          "model_name": "LayoutModel",
          "model_module_version": "1.2.0",
          "state": {
            "_model_module": "@jupyter-widgets/base",
            "_model_module_version": "1.2.0",
            "_model_name": "LayoutModel",
            "_view_count": null,
            "_view_module": "@jupyter-widgets/base",
            "_view_module_version": "1.2.0",
            "_view_name": "LayoutView",
            "align_content": null,
            "align_items": null,
            "align_self": null,
            "border": null,
            "bottom": null,
            "display": null,
            "flex": null,
            "flex_flow": null,
            "grid_area": null,
            "grid_auto_columns": null,
            "grid_auto_flow": null,
            "grid_auto_rows": null,
            "grid_column": null,
            "grid_gap": null,
            "grid_row": null,
            "grid_template_areas": null,
            "grid_template_columns": null,
            "grid_template_rows": null,
            "height": "auto",
            "justify_content": null,
            "justify_items": null,
            "left": null,
            "margin": null,
            "max_height": null,
            "max_width": null,
            "min_height": null,
            "min_width": null,
            "object_fit": null,
            "object_position": null,
            "order": null,
            "overflow": null,
            "overflow_x": null,
            "overflow_y": null,
            "padding": "0px 0px 0px 4px",
            "right": null,
            "top": null,
            "visibility": null,
            "width": "auto"
          }
        },
        "8df2a4ab1e2a4ef28f44fc44e3357340": {
          "model_module": "@jupyter-widgets/controls",
          "model_name": "DescriptionStyleModel",
          "model_module_version": "1.5.0",
          "state": {
            "_model_module": "@jupyter-widgets/controls",
            "_model_module_version": "1.5.0",
            "_model_name": "DescriptionStyleModel",
            "_view_count": null,
            "_view_module": "@jupyter-widgets/base",
            "_view_module_version": "1.2.0",
            "_view_name": "StyleView",
            "description_width": ""
          }
        },
        "84fce7e7d5b9440e99728e1947901e31": {
          "model_module": "@jupyter-widgets/base",
          "model_name": "LayoutModel",
          "model_module_version": "1.2.0",
          "state": {
            "_model_module": "@jupyter-widgets/base",
            "_model_module_version": "1.2.0",
            "_model_name": "LayoutModel",
            "_view_count": null,
            "_view_module": "@jupyter-widgets/base",
            "_view_module_version": "1.2.0",
            "_view_name": "LayoutView",
            "align_content": null,
            "align_items": null,
            "align_self": null,
            "border": null,
            "bottom": null,
            "display": null,
            "flex": null,
            "flex_flow": null,
            "grid_area": null,
            "grid_auto_columns": null,
            "grid_auto_flow": null,
            "grid_auto_rows": null,
            "grid_column": null,
            "grid_gap": null,
            "grid_row": null,
            "grid_template_areas": null,
            "grid_template_columns": null,
            "grid_template_rows": null,
            "height": "auto",
            "justify_content": null,
            "justify_items": null,
            "left": null,
            "margin": null,
            "max_height": null,
            "max_width": null,
            "min_height": null,
            "min_width": null,
            "object_fit": null,
            "object_position": null,
            "order": null,
            "overflow": null,
            "overflow_x": null,
            "overflow_y": null,
            "padding": "0px 0px 0px 4px",
            "right": null,
            "top": null,
            "visibility": null,
            "width": "auto"
          }
        },
        "b222571be5da48ae8d94d1bfc21c7da8": {
          "model_module": "@jupyter-widgets/controls",
          "model_name": "DescriptionStyleModel",
          "model_module_version": "1.5.0",
          "state": {
            "_model_module": "@jupyter-widgets/controls",
            "_model_module_version": "1.5.0",
            "_model_name": "DescriptionStyleModel",
            "_view_count": null,
            "_view_module": "@jupyter-widgets/base",
            "_view_module_version": "1.2.0",
            "_view_name": "StyleView",
            "description_width": ""
          }
        },
        "9d7d3bc06ae840ac9c75fdcd8697da13": {
          "model_module": "@jupyter-widgets/base",
          "model_name": "LayoutModel",
          "model_module_version": "1.2.0",
          "state": {
            "_model_module": "@jupyter-widgets/base",
            "_model_module_version": "1.2.0",
            "_model_name": "LayoutModel",
            "_view_count": null,
            "_view_module": "@jupyter-widgets/base",
            "_view_module_version": "1.2.0",
            "_view_name": "LayoutView",
            "align_content": null,
            "align_items": null,
            "align_self": null,
            "border": null,
            "bottom": null,
            "display": null,
            "flex": null,
            "flex_flow": null,
            "grid_area": null,
            "grid_auto_columns": null,
            "grid_auto_flow": null,
            "grid_auto_rows": null,
            "grid_column": null,
            "grid_gap": null,
            "grid_row": null,
            "grid_template_areas": null,
            "grid_template_columns": null,
            "grid_template_rows": null,
            "height": "auto",
            "justify_content": null,
            "justify_items": null,
            "left": null,
            "margin": null,
            "max_height": null,
            "max_width": null,
            "min_height": null,
            "min_width": null,
            "object_fit": null,
            "object_position": null,
            "order": null,
            "overflow": null,
            "overflow_x": null,
            "overflow_y": null,
            "padding": "0px 0px 0px 4px",
            "right": null,
            "top": null,
            "visibility": null,
            "width": "auto"
          }
        },
        "c3ff7bf343f143f2bcb59e903f431a0d": {
          "model_module": "@jupyter-widgets/controls",
          "model_name": "DescriptionStyleModel",
          "model_module_version": "1.5.0",
          "state": {
            "_model_module": "@jupyter-widgets/controls",
            "_model_module_version": "1.5.0",
            "_model_name": "DescriptionStyleModel",
            "_view_count": null,
            "_view_module": "@jupyter-widgets/base",
            "_view_module_version": "1.2.0",
            "_view_name": "StyleView",
            "description_width": ""
          }
        },
        "fd15571a440a4013bb6df7f0d5a07673": {
          "model_module": "@jupyter-widgets/base",
          "model_name": "LayoutModel",
          "model_module_version": "1.2.0",
          "state": {
            "_model_module": "@jupyter-widgets/base",
            "_model_module_version": "1.2.0",
            "_model_name": "LayoutModel",
            "_view_count": null,
            "_view_module": "@jupyter-widgets/base",
            "_view_module_version": "1.2.0",
            "_view_name": "LayoutView",
            "align_content": null,
            "align_items": null,
            "align_self": null,
            "border": null,
            "bottom": null,
            "display": null,
            "flex": null,
            "flex_flow": null,
            "grid_area": null,
            "grid_auto_columns": null,
            "grid_auto_flow": null,
            "grid_auto_rows": null,
            "grid_column": null,
            "grid_gap": null,
            "grid_row": null,
            "grid_template_areas": null,
            "grid_template_columns": null,
            "grid_template_rows": null,
            "height": "auto",
            "justify_content": null,
            "justify_items": null,
            "left": null,
            "margin": null,
            "max_height": null,
            "max_width": null,
            "min_height": null,
            "min_width": null,
            "object_fit": null,
            "object_position": null,
            "order": null,
            "overflow": null,
            "overflow_x": null,
            "overflow_y": null,
            "padding": "0px 0px 0px 4px",
            "right": null,
            "top": null,
            "visibility": null,
            "width": "auto"
          }
        },
        "db13ab16f6c042feba5f73a2e4ac3118": {
          "model_module": "@jupyter-widgets/controls",
          "model_name": "DescriptionStyleModel",
          "model_module_version": "1.5.0",
          "state": {
            "_model_module": "@jupyter-widgets/controls",
            "_model_module_version": "1.5.0",
            "_model_name": "DescriptionStyleModel",
            "_view_count": null,
            "_view_module": "@jupyter-widgets/base",
            "_view_module_version": "1.2.0",
            "_view_name": "StyleView",
            "description_width": ""
          }
        },
        "a583908a964b45439c62297a5909964f": {
          "model_module": "@jupyter-widgets/base",
          "model_name": "LayoutModel",
          "model_module_version": "1.2.0",
          "state": {
            "_model_module": "@jupyter-widgets/base",
            "_model_module_version": "1.2.0",
            "_model_name": "LayoutModel",
            "_view_count": null,
            "_view_module": "@jupyter-widgets/base",
            "_view_module_version": "1.2.0",
            "_view_name": "LayoutView",
            "align_content": null,
            "align_items": null,
            "align_self": null,
            "border": null,
            "bottom": null,
            "display": null,
            "flex": null,
            "flex_flow": null,
            "grid_area": null,
            "grid_auto_columns": null,
            "grid_auto_flow": null,
            "grid_auto_rows": null,
            "grid_column": null,
            "grid_gap": null,
            "grid_row": null,
            "grid_template_areas": null,
            "grid_template_columns": null,
            "grid_template_rows": null,
            "height": "auto",
            "justify_content": null,
            "justify_items": null,
            "left": null,
            "margin": null,
            "max_height": null,
            "max_width": null,
            "min_height": null,
            "min_width": null,
            "object_fit": null,
            "object_position": null,
            "order": null,
            "overflow": null,
            "overflow_x": null,
            "overflow_y": null,
            "padding": "0px 0px 0px 4px",
            "right": null,
            "top": null,
            "visibility": null,
            "width": "auto"
          }
        },
        "e152405d890840b686cfb1e08850d949": {
          "model_module": "@jupyter-widgets/controls",
          "model_name": "DescriptionStyleModel",
          "model_module_version": "1.5.0",
          "state": {
            "_model_module": "@jupyter-widgets/controls",
            "_model_module_version": "1.5.0",
            "_model_name": "DescriptionStyleModel",
            "_view_count": null,
            "_view_module": "@jupyter-widgets/base",
            "_view_module_version": "1.2.0",
            "_view_name": "StyleView",
            "description_width": ""
          }
        },
        "dc62cf6260a44f97ba4f8677730c61d7": {
          "model_module": "@jupyter-widgets/base",
          "model_name": "LayoutModel",
          "model_module_version": "1.2.0",
          "state": {
            "_model_module": "@jupyter-widgets/base",
            "_model_module_version": "1.2.0",
            "_model_name": "LayoutModel",
            "_view_count": null,
            "_view_module": "@jupyter-widgets/base",
            "_view_module_version": "1.2.0",
            "_view_name": "LayoutView",
            "align_content": null,
            "align_items": null,
            "align_self": null,
            "border": null,
            "bottom": null,
            "display": null,
            "flex": null,
            "flex_flow": null,
            "grid_area": null,
            "grid_auto_columns": null,
            "grid_auto_flow": null,
            "grid_auto_rows": null,
            "grid_column": null,
            "grid_gap": null,
            "grid_row": null,
            "grid_template_areas": null,
            "grid_template_columns": null,
            "grid_template_rows": null,
            "height": "auto",
            "justify_content": null,
            "justify_items": null,
            "left": null,
            "margin": null,
            "max_height": null,
            "max_width": null,
            "min_height": null,
            "min_width": null,
            "object_fit": null,
            "object_position": null,
            "order": null,
            "overflow": null,
            "overflow_x": null,
            "overflow_y": null,
            "padding": "0px 0px 0px 4px",
            "right": null,
            "top": null,
            "visibility": null,
            "width": "auto"
          }
        },
        "fcf22a58228f4384af0aadd5a98fd063": {
          "model_module": "@jupyter-widgets/controls",
          "model_name": "DescriptionStyleModel",
          "model_module_version": "1.5.0",
          "state": {
            "_model_module": "@jupyter-widgets/controls",
            "_model_module_version": "1.5.0",
            "_model_name": "DescriptionStyleModel",
            "_view_count": null,
            "_view_module": "@jupyter-widgets/base",
            "_view_module_version": "1.2.0",
            "_view_name": "StyleView",
            "description_width": ""
          }
        },
        "99650b89c632410c9453de7c4289ddef": {
          "model_module": "@jupyter-widgets/base",
          "model_name": "LayoutModel",
          "model_module_version": "1.2.0",
          "state": {
            "_model_module": "@jupyter-widgets/base",
            "_model_module_version": "1.2.0",
            "_model_name": "LayoutModel",
            "_view_count": null,
            "_view_module": "@jupyter-widgets/base",
            "_view_module_version": "1.2.0",
            "_view_name": "LayoutView",
            "align_content": null,
            "align_items": null,
            "align_self": null,
            "border": null,
            "bottom": null,
            "display": null,
            "flex": null,
            "flex_flow": null,
            "grid_area": null,
            "grid_auto_columns": null,
            "grid_auto_flow": null,
            "grid_auto_rows": null,
            "grid_column": null,
            "grid_gap": null,
            "grid_row": null,
            "grid_template_areas": null,
            "grid_template_columns": null,
            "grid_template_rows": null,
            "height": "auto",
            "justify_content": null,
            "justify_items": null,
            "left": null,
            "margin": null,
            "max_height": null,
            "max_width": null,
            "min_height": null,
            "min_width": null,
            "object_fit": null,
            "object_position": null,
            "order": null,
            "overflow": null,
            "overflow_x": null,
            "overflow_y": null,
            "padding": "0px 0px 0px 4px",
            "right": null,
            "top": null,
            "visibility": null,
            "width": "auto"
          }
        },
        "378a7aeb3b1146668fbde1b294d985e9": {
          "model_module": "@jupyter-widgets/controls",
          "model_name": "DescriptionStyleModel",
          "model_module_version": "1.5.0",
          "state": {
            "_model_module": "@jupyter-widgets/controls",
            "_model_module_version": "1.5.0",
            "_model_name": "DescriptionStyleModel",
            "_view_count": null,
            "_view_module": "@jupyter-widgets/base",
            "_view_module_version": "1.2.0",
            "_view_name": "StyleView",
            "description_width": ""
          }
        },
        "5a4b173fa1094ea0a8cd30fc565ffe26": {
          "model_module": "@jupyter-widgets/base",
          "model_name": "LayoutModel",
          "model_module_version": "1.2.0",
          "state": {
            "_model_module": "@jupyter-widgets/base",
            "_model_module_version": "1.2.0",
            "_model_name": "LayoutModel",
            "_view_count": null,
            "_view_module": "@jupyter-widgets/base",
            "_view_module_version": "1.2.0",
            "_view_name": "LayoutView",
            "align_content": null,
            "align_items": null,
            "align_self": null,
            "border": null,
            "bottom": null,
            "display": null,
            "flex": null,
            "flex_flow": null,
            "grid_area": null,
            "grid_auto_columns": null,
            "grid_auto_flow": null,
            "grid_auto_rows": null,
            "grid_column": null,
            "grid_gap": null,
            "grid_row": null,
            "grid_template_areas": null,
            "grid_template_columns": null,
            "grid_template_rows": null,
            "height": "auto",
            "justify_content": null,
            "justify_items": null,
            "left": null,
            "margin": null,
            "max_height": null,
            "max_width": null,
            "min_height": null,
            "min_width": null,
            "object_fit": null,
            "object_position": null,
            "order": null,
            "overflow": null,
            "overflow_x": null,
            "overflow_y": null,
            "padding": "0px 0px 0px 4px",
            "right": null,
            "top": null,
            "visibility": null,
            "width": "auto"
          }
        },
        "914bb695c80740eab0b61a7fea3f94eb": {
          "model_module": "@jupyter-widgets/controls",
          "model_name": "DescriptionStyleModel",
          "model_module_version": "1.5.0",
          "state": {
            "_model_module": "@jupyter-widgets/controls",
            "_model_module_version": "1.5.0",
            "_model_name": "DescriptionStyleModel",
            "_view_count": null,
            "_view_module": "@jupyter-widgets/base",
            "_view_module_version": "1.2.0",
            "_view_name": "StyleView",
            "description_width": ""
          }
        },
        "1d63e20e860f44dfbe4877c93e0b8546": {
          "model_module": "@jupyter-widgets/base",
          "model_name": "LayoutModel",
          "model_module_version": "1.2.0",
          "state": {
            "_model_module": "@jupyter-widgets/base",
            "_model_module_version": "1.2.0",
            "_model_name": "LayoutModel",
            "_view_count": null,
            "_view_module": "@jupyter-widgets/base",
            "_view_module_version": "1.2.0",
            "_view_name": "LayoutView",
            "align_content": null,
            "align_items": null,
            "align_self": null,
            "border": null,
            "bottom": null,
            "display": null,
            "flex": null,
            "flex_flow": null,
            "grid_area": null,
            "grid_auto_columns": null,
            "grid_auto_flow": null,
            "grid_auto_rows": null,
            "grid_column": null,
            "grid_gap": null,
            "grid_row": null,
            "grid_template_areas": null,
            "grid_template_columns": null,
            "grid_template_rows": null,
            "height": "auto",
            "justify_content": null,
            "justify_items": null,
            "left": null,
            "margin": null,
            "max_height": null,
            "max_width": null,
            "min_height": null,
            "min_width": null,
            "object_fit": null,
            "object_position": null,
            "order": null,
            "overflow": null,
            "overflow_x": null,
            "overflow_y": null,
            "padding": "0px 0px 0px 4px",
            "right": null,
            "top": null,
            "visibility": null,
            "width": "auto"
          }
        },
        "0b9398ee9dec46c8a0d582da6ec89bc1": {
          "model_module": "@jupyter-widgets/controls",
          "model_name": "DescriptionStyleModel",
          "model_module_version": "1.5.0",
          "state": {
            "_model_module": "@jupyter-widgets/controls",
            "_model_module_version": "1.5.0",
            "_model_name": "DescriptionStyleModel",
            "_view_count": null,
            "_view_module": "@jupyter-widgets/base",
            "_view_module_version": "1.2.0",
            "_view_name": "StyleView",
            "description_width": ""
          }
        },
        "6273fa92acbc47d4be61906e1947a044": {
          "model_module": "@jupyter-widgets/base",
          "model_name": "LayoutModel",
          "model_module_version": "1.2.0",
          "state": {
            "_model_module": "@jupyter-widgets/base",
            "_model_module_version": "1.2.0",
            "_model_name": "LayoutModel",
            "_view_count": null,
            "_view_module": "@jupyter-widgets/base",
            "_view_module_version": "1.2.0",
            "_view_name": "LayoutView",
            "align_content": null,
            "align_items": null,
            "align_self": null,
            "border": null,
            "bottom": null,
            "display": null,
            "flex": null,
            "flex_flow": null,
            "grid_area": null,
            "grid_auto_columns": null,
            "grid_auto_flow": null,
            "grid_auto_rows": null,
            "grid_column": null,
            "grid_gap": null,
            "grid_row": null,
            "grid_template_areas": null,
            "grid_template_columns": null,
            "grid_template_rows": null,
            "height": "28px",
            "justify_content": null,
            "justify_items": null,
            "left": null,
            "margin": null,
            "max_height": null,
            "max_width": null,
            "min_height": null,
            "min_width": null,
            "object_fit": null,
            "object_position": null,
            "order": null,
            "overflow": null,
            "overflow_x": null,
            "overflow_y": null,
            "padding": "0px 0px 0px 4px",
            "right": null,
            "top": null,
            "visibility": null,
            "width": "28px"
          }
        },
        "6a84e6e08a3c4bfc8721f17a2642e108": {
          "model_module": "@jupyter-widgets/controls",
          "model_name": "DescriptionStyleModel",
          "model_module_version": "1.5.0",
          "state": {
            "_model_module": "@jupyter-widgets/controls",
            "_model_module_version": "1.5.0",
            "_model_name": "DescriptionStyleModel",
            "_view_count": null,
            "_view_module": "@jupyter-widgets/base",
            "_view_module_version": "1.2.0",
            "_view_name": "StyleView",
            "description_width": ""
          }
        },
        "2ee6a1821c5140639005346e1ceb16d6": {
          "model_module": "@jupyter-widgets/base",
          "model_name": "LayoutModel",
          "model_module_version": "1.2.0",
          "state": {
            "_model_module": "@jupyter-widgets/base",
            "_model_module_version": "1.2.0",
            "_model_name": "LayoutModel",
            "_view_count": null,
            "_view_module": "@jupyter-widgets/base",
            "_view_module_version": "1.2.0",
            "_view_name": "LayoutView",
            "align_content": null,
            "align_items": null,
            "align_self": null,
            "border": null,
            "bottom": null,
            "display": null,
            "flex": null,
            "flex_flow": null,
            "grid_area": null,
            "grid_auto_columns": null,
            "grid_auto_flow": null,
            "grid_auto_rows": null,
            "grid_column": null,
            "grid_gap": null,
            "grid_row": null,
            "grid_template_areas": null,
            "grid_template_columns": null,
            "grid_template_rows": null,
            "height": "28px",
            "justify_content": null,
            "justify_items": null,
            "left": null,
            "margin": null,
            "max_height": null,
            "max_width": null,
            "min_height": null,
            "min_width": null,
            "object_fit": null,
            "object_position": null,
            "order": null,
            "overflow": null,
            "overflow_x": null,
            "overflow_y": null,
            "padding": "0px 0px 0px 4px",
            "right": null,
            "top": null,
            "visibility": null,
            "width": "28px"
          }
        },
        "ffc9a8c78e344c3e9b2adef9a8a64252": {
          "model_module": "@jupyter-widgets/controls",
          "model_name": "DescriptionStyleModel",
          "model_module_version": "1.5.0",
          "state": {
            "_model_module": "@jupyter-widgets/controls",
            "_model_module_version": "1.5.0",
            "_model_name": "DescriptionStyleModel",
            "_view_count": null,
            "_view_module": "@jupyter-widgets/base",
            "_view_module_version": "1.2.0",
            "_view_name": "StyleView",
            "description_width": ""
          }
        },
        "d31a4baec9d8446f8c94199dd9ab11d0": {
          "model_module": "@jupyter-widgets/base",
          "model_name": "LayoutModel",
          "model_module_version": "1.2.0",
          "state": {
            "_model_module": "@jupyter-widgets/base",
            "_model_module_version": "1.2.0",
            "_model_name": "LayoutModel",
            "_view_count": null,
            "_view_module": "@jupyter-widgets/base",
            "_view_module_version": "1.2.0",
            "_view_name": "LayoutView",
            "align_content": null,
            "align_items": null,
            "align_self": null,
            "border": null,
            "bottom": null,
            "display": null,
            "flex": null,
            "flex_flow": null,
            "grid_area": null,
            "grid_auto_columns": null,
            "grid_auto_flow": null,
            "grid_auto_rows": null,
            "grid_column": null,
            "grid_gap": null,
            "grid_row": null,
            "grid_template_areas": null,
            "grid_template_columns": null,
            "grid_template_rows": null,
            "height": null,
            "justify_content": null,
            "justify_items": null,
            "left": null,
            "margin": null,
            "max_height": null,
            "max_width": null,
            "min_height": null,
            "min_width": null,
            "object_fit": null,
            "object_position": null,
            "order": null,
            "overflow": null,
            "overflow_x": null,
            "overflow_y": null,
            "padding": null,
            "right": null,
            "top": null,
            "visibility": null,
            "width": null
          }
        },
        "2495567883a044659b598dbbdbfe4aaa": {
          "model_module": "@jupyter-widgets/base",
          "model_name": "LayoutModel",
          "model_module_version": "1.2.0",
          "state": {
            "_model_module": "@jupyter-widgets/base",
            "_model_module_version": "1.2.0",
            "_model_name": "LayoutModel",
            "_view_count": null,
            "_view_module": "@jupyter-widgets/base",
            "_view_module_version": "1.2.0",
            "_view_name": "LayoutView",
            "align_content": null,
            "align_items": null,
            "align_self": null,
            "border": null,
            "bottom": null,
            "display": null,
            "flex": null,
            "flex_flow": null,
            "grid_area": null,
            "grid_auto_columns": null,
            "grid_auto_flow": null,
            "grid_auto_rows": null,
            "grid_column": null,
            "grid_gap": null,
            "grid_row": null,
            "grid_template_areas": null,
            "grid_template_columns": null,
            "grid_template_rows": null,
            "height": null,
            "justify_content": null,
            "justify_items": null,
            "left": null,
            "margin": null,
            "max_height": null,
            "max_width": null,
            "min_height": null,
            "min_width": null,
            "object_fit": null,
            "object_position": null,
            "order": null,
            "overflow": null,
            "overflow_x": null,
            "overflow_y": null,
            "padding": null,
            "right": null,
            "top": null,
            "visibility": null,
            "width": null
          }
        },
        "2ab5da94a7b74f0ab7f9a7960cde08ca": {
          "model_module": "@jupyter-widgets/base",
          "model_name": "LayoutModel",
          "model_module_version": "1.2.0",
          "state": {
            "_model_module": "@jupyter-widgets/base",
            "_model_module_version": "1.2.0",
            "_model_name": "LayoutModel",
            "_view_count": null,
            "_view_module": "@jupyter-widgets/base",
            "_view_module_version": "1.2.0",
            "_view_name": "LayoutView",
            "align_content": null,
            "align_items": null,
            "align_self": null,
            "border": null,
            "bottom": null,
            "display": null,
            "flex": null,
            "flex_flow": null,
            "grid_area": null,
            "grid_auto_columns": null,
            "grid_auto_flow": null,
            "grid_auto_rows": null,
            "grid_column": null,
            "grid_gap": null,
            "grid_row": null,
            "grid_template_areas": null,
            "grid_template_columns": null,
            "grid_template_rows": null,
            "height": null,
            "justify_content": null,
            "justify_items": null,
            "left": null,
            "margin": null,
            "max_height": null,
            "max_width": null,
            "min_height": null,
            "min_width": null,
            "object_fit": null,
            "object_position": null,
            "order": null,
            "overflow": null,
            "overflow_x": null,
            "overflow_y": null,
            "padding": null,
            "right": null,
            "top": null,
            "visibility": null,
            "width": null
          }
        },
        "03a6b7635a5d412ca4e466775b3e7684": {
          "model_module": "@jupyter-widgets/base",
          "model_name": "LayoutModel",
          "model_module_version": "1.2.0",
          "state": {
            "_model_module": "@jupyter-widgets/base",
            "_model_module_version": "1.2.0",
            "_model_name": "LayoutModel",
            "_view_count": null,
            "_view_module": "@jupyter-widgets/base",
            "_view_module_version": "1.2.0",
            "_view_name": "LayoutView",
            "align_content": null,
            "align_items": null,
            "align_self": null,
            "border": null,
            "bottom": null,
            "display": null,
            "flex": null,
            "flex_flow": null,
            "grid_area": null,
            "grid_auto_columns": null,
            "grid_auto_flow": null,
            "grid_auto_rows": null,
            "grid_column": null,
            "grid_gap": null,
            "grid_row": null,
            "grid_template_areas": null,
            "grid_template_columns": null,
            "grid_template_rows": null,
            "height": "18px",
            "justify_content": null,
            "justify_items": null,
            "left": null,
            "margin": null,
            "max_height": null,
            "max_width": null,
            "min_height": null,
            "min_width": null,
            "object_fit": null,
            "object_position": null,
            "order": null,
            "overflow": null,
            "overflow_x": null,
            "overflow_y": null,
            "padding": "0px 8px 25px 8px",
            "right": null,
            "top": null,
            "visibility": null,
            "width": "30ex"
          }
        },
        "6152a4cb1c074045abdb0074e6250429": {
          "model_module": "@jupyter-widgets/controls",
          "model_name": "DescriptionStyleModel",
          "model_module_version": "1.5.0",
          "state": {
            "_model_module": "@jupyter-widgets/controls",
            "_model_module_version": "1.5.0",
            "_model_name": "DescriptionStyleModel",
            "_view_count": null,
            "_view_module": "@jupyter-widgets/base",
            "_view_module_version": "1.2.0",
            "_view_name": "StyleView",
            "description_width": ""
          }
        },
        "520b73896f8a4cf9af558fb9e2949fa6": {
          "model_module": "@jupyter-widgets/base",
          "model_name": "LayoutModel",
          "model_module_version": "1.2.0",
          "state": {
            "_model_module": "@jupyter-widgets/base",
            "_model_module_version": "1.2.0",
            "_model_name": "LayoutModel",
            "_view_count": null,
            "_view_module": "@jupyter-widgets/base",
            "_view_module_version": "1.2.0",
            "_view_name": "LayoutView",
            "align_content": null,
            "align_items": null,
            "align_self": null,
            "border": null,
            "bottom": null,
            "display": null,
            "flex": null,
            "flex_flow": null,
            "grid_area": null,
            "grid_auto_columns": null,
            "grid_auto_flow": null,
            "grid_auto_rows": null,
            "grid_column": null,
            "grid_gap": null,
            "grid_row": null,
            "grid_template_areas": null,
            "grid_template_columns": null,
            "grid_template_rows": null,
            "height": "18px",
            "justify_content": null,
            "justify_items": null,
            "left": null,
            "margin": null,
            "max_height": null,
            "max_width": null,
            "min_height": null,
            "min_width": null,
            "object_fit": null,
            "object_position": null,
            "order": null,
            "overflow": null,
            "overflow_x": null,
            "overflow_y": null,
            "padding": null,
            "right": null,
            "top": null,
            "visibility": null,
            "width": "25ex"
          }
        },
        "f185b2d886704a65aa0880263a0312a2": {
          "model_module": "@jupyter-widgets/controls",
          "model_name": "DescriptionStyleModel",
          "model_module_version": "1.5.0",
          "state": {
            "_model_module": "@jupyter-widgets/controls",
            "_model_module_version": "1.5.0",
            "_model_name": "DescriptionStyleModel",
            "_view_count": null,
            "_view_module": "@jupyter-widgets/base",
            "_view_module_version": "1.2.0",
            "_view_name": "StyleView",
            "description_width": ""
          }
        },
        "845dab4c410f438e938a076da44d853e": {
          "model_module": "@jupyter-widgets/base",
          "model_name": "LayoutModel",
          "model_module_version": "1.2.0",
          "state": {
            "_model_module": "@jupyter-widgets/base",
            "_model_module_version": "1.2.0",
            "_model_name": "LayoutModel",
            "_view_count": null,
            "_view_module": "@jupyter-widgets/base",
            "_view_module_version": "1.2.0",
            "_view_name": "LayoutView",
            "align_content": null,
            "align_items": null,
            "align_self": null,
            "border": null,
            "bottom": null,
            "display": null,
            "flex": null,
            "flex_flow": null,
            "grid_area": null,
            "grid_auto_columns": null,
            "grid_auto_flow": null,
            "grid_auto_rows": null,
            "grid_column": null,
            "grid_gap": null,
            "grid_row": null,
            "grid_template_areas": null,
            "grid_template_columns": null,
            "grid_template_rows": null,
            "height": null,
            "justify_content": null,
            "justify_items": null,
            "left": null,
            "margin": null,
            "max_height": null,
            "max_width": null,
            "min_height": null,
            "min_width": null,
            "object_fit": null,
            "object_position": null,
            "order": null,
            "overflow": null,
            "overflow_x": null,
            "overflow_y": null,
            "padding": null,
            "right": null,
            "top": null,
            "visibility": null,
            "width": "80px"
          }
        },
        "0a907c6fdc694541a52cedda6e052823": {
          "model_module": "@jupyter-widgets/controls",
          "model_name": "SliderStyleModel",
          "model_module_version": "1.5.0",
          "state": {
            "_model_module": "@jupyter-widgets/controls",
            "_model_module_version": "1.5.0",
            "_model_name": "SliderStyleModel",
            "_view_count": null,
            "_view_module": "@jupyter-widgets/base",
            "_view_module_version": "1.2.0",
            "_view_name": "StyleView",
            "description_width": "",
            "handle_color": null
          }
        },
        "55c4f45e9ee64107b42d7b972cfcabb2": {
          "model_module": "@jupyter-widgets/base",
          "model_name": "LayoutModel",
          "model_module_version": "1.2.0",
          "state": {
            "_model_module": "@jupyter-widgets/base",
            "_model_module_version": "1.2.0",
            "_model_name": "LayoutModel",
            "_view_count": null,
            "_view_module": "@jupyter-widgets/base",
            "_view_module_version": "1.2.0",
            "_view_name": "LayoutView",
            "align_content": null,
            "align_items": null,
            "align_self": null,
            "border": null,
            "bottom": null,
            "display": null,
            "flex": null,
            "flex_flow": null,
            "grid_area": null,
            "grid_auto_columns": null,
            "grid_auto_flow": null,
            "grid_auto_rows": null,
            "grid_column": null,
            "grid_gap": null,
            "grid_row": null,
            "grid_template_areas": null,
            "grid_template_columns": null,
            "grid_template_rows": null,
            "height": "25px",
            "justify_content": null,
            "justify_items": null,
            "left": null,
            "margin": null,
            "max_height": null,
            "max_width": null,
            "min_height": null,
            "min_width": null,
            "object_fit": null,
            "object_position": null,
            "order": null,
            "overflow": null,
            "overflow_x": null,
            "overflow_y": null,
            "padding": "0px 0px 0px 0px",
            "right": null,
            "top": null,
            "visibility": null,
            "width": "25px"
          }
        },
        "37a99deb11d1443d9de80b7aca58a075": {
          "model_module": "@jupyter-widgets/controls",
          "model_name": "ButtonStyleModel",
          "model_module_version": "1.5.0",
          "state": {
            "_model_module": "@jupyter-widgets/controls",
            "_model_module_version": "1.5.0",
            "_model_name": "ButtonStyleModel",
            "_view_count": null,
            "_view_module": "@jupyter-widgets/base",
            "_view_module_version": "1.2.0",
            "_view_name": "StyleView",
            "button_color": null,
            "font_weight": ""
          }
        },
        "d9bc9f3120944540b9655105e9406d81": {
          "model_module": "@jupyter-widgets/controls",
          "model_name": "CheckboxModel",
          "model_module_version": "1.5.0",
          "state": {
            "_dom_classes": [],
            "_model_module": "@jupyter-widgets/controls",
            "_model_module_version": "1.5.0",
            "_model_name": "CheckboxModel",
            "_view_count": null,
            "_view_module": "@jupyter-widgets/controls",
            "_view_module_version": "1.5.0",
            "_view_name": "CheckboxView",
            "description": "OpenStreetMap",
            "description_tooltip": null,
            "disabled": false,
            "indent": false,
            "layout": "IPY_MODEL_520b73896f8a4cf9af558fb9e2949fa6",
            "style": "IPY_MODEL_f185b2d886704a65aa0880263a0312a2",
            "value": true
          }
        },
        "30f165daa88149469fb4e87212b51e8c": {
          "model_module": "@jupyter-widgets/controls",
          "model_name": "FloatSliderModel",
          "model_module_version": "1.5.0",
          "state": {
            "_dom_classes": [],
            "_model_module": "@jupyter-widgets/controls",
            "_model_module_version": "1.5.0",
            "_model_name": "FloatSliderModel",
            "_view_count": null,
            "_view_module": "@jupyter-widgets/controls",
            "_view_module_version": "1.5.0",
            "_view_name": "FloatSliderView",
            "continuous_update": true,
            "description": "",
            "description_tooltip": null,
            "disabled": false,
            "layout": "IPY_MODEL_845dab4c410f438e938a076da44d853e",
            "max": 1,
            "min": 0,
            "orientation": "horizontal",
            "readout": false,
            "readout_format": ".2f",
            "step": 0.01,
            "style": "IPY_MODEL_0a907c6fdc694541a52cedda6e052823",
            "value": 1
          }
        },
        "6ca3e1a1486e460e9705faedaad1210a": {
          "model_module": "@jupyter-widgets/controls",
          "model_name": "ButtonModel",
          "model_module_version": "1.5.0",
          "state": {
            "_dom_classes": [],
            "_model_module": "@jupyter-widgets/controls",
            "_model_module_version": "1.5.0",
            "_model_name": "ButtonModel",
            "_view_count": null,
            "_view_module": "@jupyter-widgets/controls",
            "_view_module_version": "1.5.0",
            "_view_name": "ButtonView",
            "button_style": "",
            "description": "",
            "disabled": false,
            "icon": "gear",
            "layout": "IPY_MODEL_55c4f45e9ee64107b42d7b972cfcabb2",
            "style": "IPY_MODEL_37a99deb11d1443d9de80b7aca58a075",
            "tooltip": "OpenStreetMap"
          }
        },
        "638bdb05cb1a426fb2c255b1f64c5ca1": {
          "model_module": "@jupyter-widgets/base",
          "model_name": "LayoutModel",
          "model_module_version": "1.2.0",
          "state": {
            "_model_module": "@jupyter-widgets/base",
            "_model_module_version": "1.2.0",
            "_model_name": "LayoutModel",
            "_view_count": null,
            "_view_module": "@jupyter-widgets/base",
            "_view_module_version": "1.2.0",
            "_view_name": "LayoutView",
            "align_content": null,
            "align_items": null,
            "align_self": null,
            "border": null,
            "bottom": null,
            "display": null,
            "flex": null,
            "flex_flow": null,
            "grid_area": null,
            "grid_auto_columns": null,
            "grid_auto_flow": null,
            "grid_auto_rows": null,
            "grid_column": null,
            "grid_gap": null,
            "grid_row": null,
            "grid_template_areas": null,
            "grid_template_columns": null,
            "grid_template_rows": null,
            "height": null,
            "justify_content": null,
            "justify_items": null,
            "left": null,
            "margin": null,
            "max_height": null,
            "max_width": null,
            "min_height": null,
            "min_width": null,
            "object_fit": null,
            "object_position": null,
            "order": null,
            "overflow": null,
            "overflow_x": null,
            "overflow_y": null,
            "padding": "0px 8px 0px 8px",
            "right": null,
            "top": null,
            "visibility": null,
            "width": null
          }
        },
        "1133c3fda9b14e0d9a8b876ca2c6249b": {
          "model_module": "@jupyter-widgets/base",
          "model_name": "LayoutModel",
          "model_module_version": "1.2.0",
          "state": {
            "_model_module": "@jupyter-widgets/base",
            "_model_module_version": "1.2.0",
            "_model_name": "LayoutModel",
            "_view_count": null,
            "_view_module": "@jupyter-widgets/base",
            "_view_module_version": "1.2.0",
            "_view_name": "LayoutView",
            "align_content": null,
            "align_items": null,
            "align_self": null,
            "border": null,
            "bottom": null,
            "display": null,
            "flex": null,
            "flex_flow": null,
            "grid_area": null,
            "grid_auto_columns": null,
            "grid_auto_flow": null,
            "grid_auto_rows": null,
            "grid_column": null,
            "grid_gap": null,
            "grid_row": null,
            "grid_template_areas": null,
            "grid_template_columns": null,
            "grid_template_rows": null,
            "height": "18px",
            "justify_content": null,
            "justify_items": null,
            "left": null,
            "margin": null,
            "max_height": null,
            "max_width": null,
            "min_height": null,
            "min_width": null,
            "object_fit": null,
            "object_position": null,
            "order": null,
            "overflow": null,
            "overflow_x": null,
            "overflow_y": null,
            "padding": null,
            "right": null,
            "top": null,
            "visibility": null,
            "width": "25ex"
          }
        },
        "d629724a35ab44fc83b43c8679fea904": {
          "model_module": "@jupyter-widgets/controls",
          "model_name": "DescriptionStyleModel",
          "model_module_version": "1.5.0",
          "state": {
            "_model_module": "@jupyter-widgets/controls",
            "_model_module_version": "1.5.0",
            "_model_name": "DescriptionStyleModel",
            "_view_count": null,
            "_view_module": "@jupyter-widgets/base",
            "_view_module_version": "1.2.0",
            "_view_name": "StyleView",
            "description_width": ""
          }
        },
        "2aa1c731af9e423ea858c09eb16fd171": {
          "model_module": "@jupyter-widgets/base",
          "model_name": "LayoutModel",
          "model_module_version": "1.2.0",
          "state": {
            "_model_module": "@jupyter-widgets/base",
            "_model_module_version": "1.2.0",
            "_model_name": "LayoutModel",
            "_view_count": null,
            "_view_module": "@jupyter-widgets/base",
            "_view_module_version": "1.2.0",
            "_view_name": "LayoutView",
            "align_content": null,
            "align_items": null,
            "align_self": null,
            "border": null,
            "bottom": null,
            "display": null,
            "flex": null,
            "flex_flow": null,
            "grid_area": null,
            "grid_auto_columns": null,
            "grid_auto_flow": null,
            "grid_auto_rows": null,
            "grid_column": null,
            "grid_gap": null,
            "grid_row": null,
            "grid_template_areas": null,
            "grid_template_columns": null,
            "grid_template_rows": null,
            "height": null,
            "justify_content": null,
            "justify_items": null,
            "left": null,
            "margin": null,
            "max_height": null,
            "max_width": null,
            "min_height": null,
            "min_width": null,
            "object_fit": null,
            "object_position": null,
            "order": null,
            "overflow": null,
            "overflow_x": null,
            "overflow_y": null,
            "padding": null,
            "right": null,
            "top": null,
            "visibility": null,
            "width": "80px"
          }
        },
        "6b30e12db41148148c3b481f5afd1c8c": {
          "model_module": "@jupyter-widgets/controls",
          "model_name": "SliderStyleModel",
          "model_module_version": "1.5.0",
          "state": {
            "_model_module": "@jupyter-widgets/controls",
            "_model_module_version": "1.5.0",
            "_model_name": "SliderStyleModel",
            "_view_count": null,
            "_view_module": "@jupyter-widgets/base",
            "_view_module_version": "1.2.0",
            "_view_name": "StyleView",
            "description_width": "",
            "handle_color": null
          }
        },
        "b411fe26ccee480582afbbb908858352": {
          "model_module": "@jupyter-widgets/base",
          "model_name": "LayoutModel",
          "model_module_version": "1.2.0",
          "state": {
            "_model_module": "@jupyter-widgets/base",
            "_model_module_version": "1.2.0",
            "_model_name": "LayoutModel",
            "_view_count": null,
            "_view_module": "@jupyter-widgets/base",
            "_view_module_version": "1.2.0",
            "_view_name": "LayoutView",
            "align_content": null,
            "align_items": null,
            "align_self": null,
            "border": null,
            "bottom": null,
            "display": null,
            "flex": null,
            "flex_flow": null,
            "grid_area": null,
            "grid_auto_columns": null,
            "grid_auto_flow": null,
            "grid_auto_rows": null,
            "grid_column": null,
            "grid_gap": null,
            "grid_row": null,
            "grid_template_areas": null,
            "grid_template_columns": null,
            "grid_template_rows": null,
            "height": "25px",
            "justify_content": null,
            "justify_items": null,
            "left": null,
            "margin": null,
            "max_height": null,
            "max_width": null,
            "min_height": null,
            "min_width": null,
            "object_fit": null,
            "object_position": null,
            "order": null,
            "overflow": null,
            "overflow_x": null,
            "overflow_y": null,
            "padding": "0px 0px 0px 0px",
            "right": null,
            "top": null,
            "visibility": null,
            "width": "25px"
          }
        },
        "a04955d4552b431da31865efd93610e1": {
          "model_module": "@jupyter-widgets/controls",
          "model_name": "ButtonStyleModel",
          "model_module_version": "1.5.0",
          "state": {
            "_model_module": "@jupyter-widgets/controls",
            "_model_module_version": "1.5.0",
            "_model_name": "ButtonStyleModel",
            "_view_count": null,
            "_view_module": "@jupyter-widgets/base",
            "_view_module_version": "1.2.0",
            "_view_name": "StyleView",
            "button_color": null,
            "font_weight": ""
          }
        },
        "6272c895251744959e229a7a0164ac02": {
          "model_module": "@jupyter-widgets/controls",
          "model_name": "CheckboxModel",
          "model_module_version": "1.5.0",
          "state": {
            "_dom_classes": [],
            "_model_module": "@jupyter-widgets/controls",
            "_model_module_version": "1.5.0",
            "_model_name": "CheckboxModel",
            "_view_count": null,
            "_view_module": "@jupyter-widgets/controls",
            "_view_module_version": "1.5.0",
            "_view_name": "CheckboxView",
            "description": "Footprints",
            "description_tooltip": null,
            "disabled": false,
            "indent": false,
            "layout": "IPY_MODEL_1133c3fda9b14e0d9a8b876ca2c6249b",
            "style": "IPY_MODEL_d629724a35ab44fc83b43c8679fea904",
            "value": true
          }
        },
        "6a9dba54e60c49479db33129bc02fb63": {
          "model_module": "@jupyter-widgets/controls",
          "model_name": "ButtonModel",
          "model_module_version": "1.5.0",
          "state": {
            "_dom_classes": [],
            "_model_module": "@jupyter-widgets/controls",
            "_model_module_version": "1.5.0",
            "_model_name": "ButtonModel",
            "_view_count": null,
            "_view_module": "@jupyter-widgets/controls",
            "_view_module_version": "1.5.0",
            "_view_name": "ButtonView",
            "button_style": "",
            "description": "",
            "disabled": false,
            "icon": "gear",
            "layout": "IPY_MODEL_b411fe26ccee480582afbbb908858352",
            "style": "IPY_MODEL_a04955d4552b431da31865efd93610e1",
            "tooltip": "Footprints"
          }
        },
        "ca7f79be66a44a009407287e1ef6dece": {
          "model_module": "@jupyter-widgets/controls",
          "model_name": "FloatSliderModel",
          "model_module_version": "1.5.0",
          "state": {
            "_dom_classes": [],
            "_model_module": "@jupyter-widgets/controls",
            "_model_module_version": "1.5.0",
            "_model_name": "FloatSliderModel",
            "_view_count": null,
            "_view_module": "@jupyter-widgets/controls",
            "_view_module_version": "1.5.0",
            "_view_name": "FloatSliderView",
            "continuous_update": true,
            "description": "",
            "description_tooltip": null,
            "disabled": false,
            "layout": "IPY_MODEL_2aa1c731af9e423ea858c09eb16fd171",
            "max": 1,
            "min": 0,
            "orientation": "horizontal",
            "readout": false,
            "readout_format": ".2f",
            "step": 0.01,
            "style": "IPY_MODEL_6b30e12db41148148c3b481f5afd1c8c",
            "value": 1
          }
        },
        "161a170201d042728b5d3c7e27b341d4": {
          "model_module": "@jupyter-widgets/base",
          "model_name": "LayoutModel",
          "model_module_version": "1.2.0",
          "state": {
            "_model_module": "@jupyter-widgets/base",
            "_model_module_version": "1.2.0",
            "_model_name": "LayoutModel",
            "_view_count": null,
            "_view_module": "@jupyter-widgets/base",
            "_view_module_version": "1.2.0",
            "_view_name": "LayoutView",
            "align_content": null,
            "align_items": null,
            "align_self": null,
            "border": null,
            "bottom": null,
            "display": null,
            "flex": null,
            "flex_flow": null,
            "grid_area": null,
            "grid_auto_columns": null,
            "grid_auto_flow": null,
            "grid_auto_rows": null,
            "grid_column": null,
            "grid_gap": null,
            "grid_row": null,
            "grid_template_areas": null,
            "grid_template_columns": null,
            "grid_template_rows": null,
            "height": null,
            "justify_content": null,
            "justify_items": null,
            "left": null,
            "margin": null,
            "max_height": null,
            "max_width": null,
            "min_height": null,
            "min_width": null,
            "object_fit": null,
            "object_position": null,
            "order": null,
            "overflow": null,
            "overflow_x": null,
            "overflow_y": null,
            "padding": "0px 8px 0px 8px",
            "right": null,
            "top": null,
            "visibility": null,
            "width": null
          }
        },
        "ebd18ac9e857494f92ac3242e3859e29": {
          "model_module": "@jupyter-widgets/controls",
          "model_name": "CheckboxModel",
          "model_module_version": "1.5.0",
          "state": {
            "_dom_classes": [],
            "_model_module": "@jupyter-widgets/controls",
            "_model_module_version": "1.5.0",
            "_model_name": "CheckboxModel",
            "_view_count": null,
            "_view_module": "@jupyter-widgets/controls",
            "_view_module_version": "1.5.0",
            "_view_name": "CheckboxView",
            "description": "All layers on/off",
            "description_tooltip": null,
            "disabled": false,
            "indent": false,
            "layout": "IPY_MODEL_03a6b7635a5d412ca4e466775b3e7684",
            "style": "IPY_MODEL_6152a4cb1c074045abdb0074e6250429",
            "value": false
          }
        },
        "a3e0c00eeb704308a284c009983985fa": {
          "model_module": "@jupyter-widgets/controls",
          "model_name": "HBoxModel",
          "model_module_version": "1.5.0",
          "state": {
            "_dom_classes": [],
            "_model_module": "@jupyter-widgets/controls",
            "_model_module_version": "1.5.0",
            "_model_name": "HBoxModel",
            "_view_count": null,
            "_view_module": "@jupyter-widgets/controls",
            "_view_module_version": "1.5.0",
            "_view_name": "HBoxView",
            "box_style": "",
            "children": [
              "IPY_MODEL_d9bc9f3120944540b9655105e9406d81",
              "IPY_MODEL_6ca3e1a1486e460e9705faedaad1210a",
              "IPY_MODEL_30f165daa88149469fb4e87212b51e8c"
            ],
            "layout": "IPY_MODEL_638bdb05cb1a426fb2c255b1f64c5ca1"
          }
        },
        "72076bf73e04403d99ea07a9311694f8": {
          "model_module": "@jupyter-widgets/controls",
          "model_name": "HBoxModel",
          "model_module_version": "1.5.0",
          "state": {
            "_dom_classes": [],
            "_model_module": "@jupyter-widgets/controls",
            "_model_module_version": "1.5.0",
            "_model_name": "HBoxModel",
            "_view_count": null,
            "_view_module": "@jupyter-widgets/controls",
            "_view_module_version": "1.5.0",
            "_view_name": "HBoxView",
            "box_style": "",
            "children": [
              "IPY_MODEL_6272c895251744959e229a7a0164ac02",
              "IPY_MODEL_6a9dba54e60c49479db33129bc02fb63",
              "IPY_MODEL_ca7f79be66a44a009407287e1ef6dece"
            ],
            "layout": "IPY_MODEL_161a170201d042728b5d3c7e27b341d4"
          }
        },
        "e294fb39451343aeaee9ef740676d4c6": {
          "model_module": "@jupyter-widgets/controls",
          "model_name": "ToggleButtonModel",
          "model_module_version": "1.5.0",
          "state": {
            "_dom_classes": [],
            "_model_module": "@jupyter-widgets/controls",
            "_model_module_version": "1.5.0",
            "_model_name": "ToggleButtonModel",
            "_view_count": null,
            "_view_module": "@jupyter-widgets/controls",
            "_view_module_version": "1.5.0",
            "_view_name": "ToggleButtonView",
            "button_style": "",
            "description": "",
            "description_tooltip": null,
            "disabled": false,
            "icon": "server",
            "layout": "IPY_MODEL_6273fa92acbc47d4be61906e1947a044",
            "style": "IPY_MODEL_6a84e6e08a3c4bfc8721f17a2642e108",
            "tooltip": "Layer Manager",
            "value": true
          }
        },
        "b532e10251b14d1ab0b9133afe9b3397": {
          "model_module": "@jupyter-widgets/controls",
          "model_name": "HBoxModel",
          "model_module_version": "1.5.0",
          "state": {
            "_dom_classes": [],
            "_model_module": "@jupyter-widgets/controls",
            "_model_module_version": "1.5.0",
            "_model_name": "HBoxModel",
            "_view_count": null,
            "_view_module": "@jupyter-widgets/controls",
            "_view_module_version": "1.5.0",
            "_view_name": "HBoxView",
            "box_style": "",
            "children": [
              "IPY_MODEL_c5377c4e9dcf4a4b980ed3eb7c4eefc7",
              "IPY_MODEL_e294fb39451343aeaee9ef740676d4c6"
            ],
            "layout": "IPY_MODEL_d31a4baec9d8446f8c94199dd9ab11d0"
          }
        },
        "c5377c4e9dcf4a4b980ed3eb7c4eefc7": {
          "model_module": "@jupyter-widgets/controls",
          "model_name": "ToggleButtonModel",
          "model_module_version": "1.5.0",
          "state": {
            "_dom_classes": [],
            "_model_module": "@jupyter-widgets/controls",
            "_model_module_version": "1.5.0",
            "_model_name": "ToggleButtonModel",
            "_view_count": null,
            "_view_module": "@jupyter-widgets/controls",
            "_view_module_version": "1.5.0",
            "_view_name": "ToggleButtonView",
            "button_style": "primary",
            "description": "",
            "description_tooltip": null,
            "disabled": false,
            "icon": "times",
            "layout": "IPY_MODEL_2ee6a1821c5140639005346e1ceb16d6",
            "style": "IPY_MODEL_ffc9a8c78e344c3e9b2adef9a8a64252",
            "tooltip": "Close the tool",
            "value": false
          }
        },
        "4528afb032d8420aa3c5bc3a49058ba0": {
          "model_module": "@jupyter-widgets/controls",
          "model_name": "VBoxModel",
          "model_module_version": "1.5.0",
          "state": {
            "_dom_classes": [],
            "_model_module": "@jupyter-widgets/controls",
            "_model_module_version": "1.5.0",
            "_model_name": "VBoxModel",
            "_view_count": null,
            "_view_module": "@jupyter-widgets/controls",
            "_view_module_version": "1.5.0",
            "_view_name": "VBoxView",
            "box_style": "",
            "children": [
              "IPY_MODEL_ebd18ac9e857494f92ac3242e3859e29",
              "IPY_MODEL_a3e0c00eeb704308a284c009983985fa",
              "IPY_MODEL_72076bf73e04403d99ea07a9311694f8"
            ],
            "layout": "IPY_MODEL_2495567883a044659b598dbbdbfe4aaa"
          }
        }
      }
    }
  },
  "nbformat": 4,
  "nbformat_minor": 5
}